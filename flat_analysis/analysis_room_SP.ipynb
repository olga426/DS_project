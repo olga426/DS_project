{
 "cells": [
  {
   "cell_type": "markdown",
   "metadata": {},
   "source": [
    "# Исследование объявлений о продаже квартир\n",
    "\n",
    "В вашем распоряжении данные сервиса Яндекс.Недвижимость — архив объявлений о продаже квартир в Санкт-Петербурге и соседних населённых пунктов за несколько лет. Нужно научиться определять рыночную стоимость объектов недвижимости. Ваша задача — установить параметры. Это позволит построить автоматизированную систему: она отследит аномалии и мошенническую деятельность. \n",
    "\n",
    "По каждой квартире на продажу доступны два вида данных. Первые вписаны пользователем, вторые — получены автоматически на основе картографических данных. Например, расстояние до центра, аэропорта, ближайшего парка и водоёма. "
   ]
  },
  {
   "cell_type": "markdown",
   "metadata": {},
   "source": [
    "### Откройте файл с данными и изучите общую информацию. "
   ]
  },
  {
   "cell_type": "code",
   "execution_count": 1,
   "metadata": {},
   "outputs": [],
   "source": [
    "import pandas as pd\n",
    "\n",
    "data = pd.read_csv('/datasets/real_estate_data.csv',sep='\\t')#открыла файл с датами\n"
   ]
  },
  {
   "cell_type": "markdown",
   "metadata": {},
   "source": [
    "### Предобработка данных"
   ]
  },
  {
   "cell_type": "code",
   "execution_count": 2,
   "metadata": {},
   "outputs": [
    {
     "data": {
      "text/html": [
       "<div>\n",
       "<style scoped>\n",
       "    .dataframe tbody tr th:only-of-type {\n",
       "        vertical-align: middle;\n",
       "    }\n",
       "\n",
       "    .dataframe tbody tr th {\n",
       "        vertical-align: top;\n",
       "    }\n",
       "\n",
       "    .dataframe thead th {\n",
       "        text-align: right;\n",
       "    }\n",
       "</style>\n",
       "<table border=\"1\" class=\"dataframe\">\n",
       "  <thead>\n",
       "    <tr style=\"text-align: right;\">\n",
       "      <th></th>\n",
       "      <th>total_images</th>\n",
       "      <th>last_price</th>\n",
       "      <th>total_area</th>\n",
       "      <th>first_day_exposition</th>\n",
       "      <th>rooms</th>\n",
       "      <th>ceiling_height</th>\n",
       "      <th>floors_total</th>\n",
       "      <th>living_area</th>\n",
       "      <th>floor</th>\n",
       "      <th>is_apartment</th>\n",
       "      <th>...</th>\n",
       "      <th>kitchen_area</th>\n",
       "      <th>balcony</th>\n",
       "      <th>locality_name</th>\n",
       "      <th>airports_nearest</th>\n",
       "      <th>cityCenters_nearest</th>\n",
       "      <th>parks_around3000</th>\n",
       "      <th>parks_nearest</th>\n",
       "      <th>ponds_around3000</th>\n",
       "      <th>ponds_nearest</th>\n",
       "      <th>days_exposition</th>\n",
       "    </tr>\n",
       "  </thead>\n",
       "  <tbody>\n",
       "    <tr>\n",
       "      <th>0</th>\n",
       "      <td>20</td>\n",
       "      <td>13000000.0</td>\n",
       "      <td>108.00</td>\n",
       "      <td>2019-03-07T00:00:00</td>\n",
       "      <td>3</td>\n",
       "      <td>2.70</td>\n",
       "      <td>16.0</td>\n",
       "      <td>51.00</td>\n",
       "      <td>8</td>\n",
       "      <td>NaN</td>\n",
       "      <td>...</td>\n",
       "      <td>25.00</td>\n",
       "      <td>NaN</td>\n",
       "      <td>Санкт-Петербург</td>\n",
       "      <td>18863.0</td>\n",
       "      <td>16028.0</td>\n",
       "      <td>1.0</td>\n",
       "      <td>482.0</td>\n",
       "      <td>2.0</td>\n",
       "      <td>755.0</td>\n",
       "      <td>NaN</td>\n",
       "    </tr>\n",
       "    <tr>\n",
       "      <th>1</th>\n",
       "      <td>7</td>\n",
       "      <td>3350000.0</td>\n",
       "      <td>40.40</td>\n",
       "      <td>2018-12-04T00:00:00</td>\n",
       "      <td>1</td>\n",
       "      <td>NaN</td>\n",
       "      <td>11.0</td>\n",
       "      <td>18.60</td>\n",
       "      <td>1</td>\n",
       "      <td>NaN</td>\n",
       "      <td>...</td>\n",
       "      <td>11.00</td>\n",
       "      <td>2.0</td>\n",
       "      <td>посёлок Шушары</td>\n",
       "      <td>12817.0</td>\n",
       "      <td>18603.0</td>\n",
       "      <td>0.0</td>\n",
       "      <td>NaN</td>\n",
       "      <td>0.0</td>\n",
       "      <td>NaN</td>\n",
       "      <td>81.0</td>\n",
       "    </tr>\n",
       "    <tr>\n",
       "      <th>2</th>\n",
       "      <td>10</td>\n",
       "      <td>5196000.0</td>\n",
       "      <td>56.00</td>\n",
       "      <td>2015-08-20T00:00:00</td>\n",
       "      <td>2</td>\n",
       "      <td>NaN</td>\n",
       "      <td>5.0</td>\n",
       "      <td>34.30</td>\n",
       "      <td>4</td>\n",
       "      <td>NaN</td>\n",
       "      <td>...</td>\n",
       "      <td>8.30</td>\n",
       "      <td>0.0</td>\n",
       "      <td>Санкт-Петербург</td>\n",
       "      <td>21741.0</td>\n",
       "      <td>13933.0</td>\n",
       "      <td>1.0</td>\n",
       "      <td>90.0</td>\n",
       "      <td>2.0</td>\n",
       "      <td>574.0</td>\n",
       "      <td>558.0</td>\n",
       "    </tr>\n",
       "    <tr>\n",
       "      <th>3</th>\n",
       "      <td>0</td>\n",
       "      <td>64900000.0</td>\n",
       "      <td>159.00</td>\n",
       "      <td>2015-07-24T00:00:00</td>\n",
       "      <td>3</td>\n",
       "      <td>NaN</td>\n",
       "      <td>14.0</td>\n",
       "      <td>NaN</td>\n",
       "      <td>9</td>\n",
       "      <td>NaN</td>\n",
       "      <td>...</td>\n",
       "      <td>NaN</td>\n",
       "      <td>0.0</td>\n",
       "      <td>Санкт-Петербург</td>\n",
       "      <td>28098.0</td>\n",
       "      <td>6800.0</td>\n",
       "      <td>2.0</td>\n",
       "      <td>84.0</td>\n",
       "      <td>3.0</td>\n",
       "      <td>234.0</td>\n",
       "      <td>424.0</td>\n",
       "    </tr>\n",
       "    <tr>\n",
       "      <th>4</th>\n",
       "      <td>2</td>\n",
       "      <td>10000000.0</td>\n",
       "      <td>100.00</td>\n",
       "      <td>2018-06-19T00:00:00</td>\n",
       "      <td>2</td>\n",
       "      <td>3.03</td>\n",
       "      <td>14.0</td>\n",
       "      <td>32.00</td>\n",
       "      <td>13</td>\n",
       "      <td>NaN</td>\n",
       "      <td>...</td>\n",
       "      <td>41.00</td>\n",
       "      <td>NaN</td>\n",
       "      <td>Санкт-Петербург</td>\n",
       "      <td>31856.0</td>\n",
       "      <td>8098.0</td>\n",
       "      <td>2.0</td>\n",
       "      <td>112.0</td>\n",
       "      <td>1.0</td>\n",
       "      <td>48.0</td>\n",
       "      <td>121.0</td>\n",
       "    </tr>\n",
       "    <tr>\n",
       "      <th>5</th>\n",
       "      <td>10</td>\n",
       "      <td>2890000.0</td>\n",
       "      <td>30.40</td>\n",
       "      <td>2018-09-10T00:00:00</td>\n",
       "      <td>1</td>\n",
       "      <td>NaN</td>\n",
       "      <td>12.0</td>\n",
       "      <td>14.40</td>\n",
       "      <td>5</td>\n",
       "      <td>NaN</td>\n",
       "      <td>...</td>\n",
       "      <td>9.10</td>\n",
       "      <td>NaN</td>\n",
       "      <td>городской посёлок Янино-1</td>\n",
       "      <td>NaN</td>\n",
       "      <td>NaN</td>\n",
       "      <td>NaN</td>\n",
       "      <td>NaN</td>\n",
       "      <td>NaN</td>\n",
       "      <td>NaN</td>\n",
       "      <td>55.0</td>\n",
       "    </tr>\n",
       "    <tr>\n",
       "      <th>6</th>\n",
       "      <td>6</td>\n",
       "      <td>3700000.0</td>\n",
       "      <td>37.30</td>\n",
       "      <td>2017-11-02T00:00:00</td>\n",
       "      <td>1</td>\n",
       "      <td>NaN</td>\n",
       "      <td>26.0</td>\n",
       "      <td>10.60</td>\n",
       "      <td>6</td>\n",
       "      <td>NaN</td>\n",
       "      <td>...</td>\n",
       "      <td>14.40</td>\n",
       "      <td>1.0</td>\n",
       "      <td>посёлок Парголово</td>\n",
       "      <td>52996.0</td>\n",
       "      <td>19143.0</td>\n",
       "      <td>0.0</td>\n",
       "      <td>NaN</td>\n",
       "      <td>0.0</td>\n",
       "      <td>NaN</td>\n",
       "      <td>155.0</td>\n",
       "    </tr>\n",
       "    <tr>\n",
       "      <th>7</th>\n",
       "      <td>5</td>\n",
       "      <td>7915000.0</td>\n",
       "      <td>71.60</td>\n",
       "      <td>2019-04-18T00:00:00</td>\n",
       "      <td>2</td>\n",
       "      <td>NaN</td>\n",
       "      <td>24.0</td>\n",
       "      <td>NaN</td>\n",
       "      <td>22</td>\n",
       "      <td>NaN</td>\n",
       "      <td>...</td>\n",
       "      <td>18.90</td>\n",
       "      <td>2.0</td>\n",
       "      <td>Санкт-Петербург</td>\n",
       "      <td>23982.0</td>\n",
       "      <td>11634.0</td>\n",
       "      <td>0.0</td>\n",
       "      <td>NaN</td>\n",
       "      <td>0.0</td>\n",
       "      <td>NaN</td>\n",
       "      <td>NaN</td>\n",
       "    </tr>\n",
       "    <tr>\n",
       "      <th>8</th>\n",
       "      <td>20</td>\n",
       "      <td>2900000.0</td>\n",
       "      <td>33.16</td>\n",
       "      <td>2018-05-23T00:00:00</td>\n",
       "      <td>1</td>\n",
       "      <td>NaN</td>\n",
       "      <td>27.0</td>\n",
       "      <td>15.43</td>\n",
       "      <td>26</td>\n",
       "      <td>NaN</td>\n",
       "      <td>...</td>\n",
       "      <td>8.81</td>\n",
       "      <td>NaN</td>\n",
       "      <td>посёлок Мурино</td>\n",
       "      <td>NaN</td>\n",
       "      <td>NaN</td>\n",
       "      <td>NaN</td>\n",
       "      <td>NaN</td>\n",
       "      <td>NaN</td>\n",
       "      <td>NaN</td>\n",
       "      <td>189.0</td>\n",
       "    </tr>\n",
       "    <tr>\n",
       "      <th>9</th>\n",
       "      <td>18</td>\n",
       "      <td>5400000.0</td>\n",
       "      <td>61.00</td>\n",
       "      <td>2017-02-26T00:00:00</td>\n",
       "      <td>3</td>\n",
       "      <td>2.50</td>\n",
       "      <td>9.0</td>\n",
       "      <td>43.60</td>\n",
       "      <td>7</td>\n",
       "      <td>NaN</td>\n",
       "      <td>...</td>\n",
       "      <td>6.50</td>\n",
       "      <td>2.0</td>\n",
       "      <td>Санкт-Петербург</td>\n",
       "      <td>50898.0</td>\n",
       "      <td>15008.0</td>\n",
       "      <td>0.0</td>\n",
       "      <td>NaN</td>\n",
       "      <td>0.0</td>\n",
       "      <td>NaN</td>\n",
       "      <td>289.0</td>\n",
       "    </tr>\n",
       "    <tr>\n",
       "      <th>10</th>\n",
       "      <td>5</td>\n",
       "      <td>5050000.0</td>\n",
       "      <td>39.60</td>\n",
       "      <td>2017-11-16T00:00:00</td>\n",
       "      <td>1</td>\n",
       "      <td>2.67</td>\n",
       "      <td>12.0</td>\n",
       "      <td>20.30</td>\n",
       "      <td>3</td>\n",
       "      <td>NaN</td>\n",
       "      <td>...</td>\n",
       "      <td>8.50</td>\n",
       "      <td>NaN</td>\n",
       "      <td>Санкт-Петербург</td>\n",
       "      <td>38357.0</td>\n",
       "      <td>13878.0</td>\n",
       "      <td>1.0</td>\n",
       "      <td>310.0</td>\n",
       "      <td>2.0</td>\n",
       "      <td>553.0</td>\n",
       "      <td>137.0</td>\n",
       "    </tr>\n",
       "    <tr>\n",
       "      <th>11</th>\n",
       "      <td>9</td>\n",
       "      <td>3300000.0</td>\n",
       "      <td>44.00</td>\n",
       "      <td>2018-08-27T00:00:00</td>\n",
       "      <td>2</td>\n",
       "      <td>NaN</td>\n",
       "      <td>5.0</td>\n",
       "      <td>31.00</td>\n",
       "      <td>4</td>\n",
       "      <td>False</td>\n",
       "      <td>...</td>\n",
       "      <td>6.00</td>\n",
       "      <td>1.0</td>\n",
       "      <td>Ломоносов</td>\n",
       "      <td>48252.0</td>\n",
       "      <td>51677.0</td>\n",
       "      <td>0.0</td>\n",
       "      <td>NaN</td>\n",
       "      <td>0.0</td>\n",
       "      <td>NaN</td>\n",
       "      <td>7.0</td>\n",
       "    </tr>\n",
       "    <tr>\n",
       "      <th>12</th>\n",
       "      <td>10</td>\n",
       "      <td>3890000.0</td>\n",
       "      <td>54.00</td>\n",
       "      <td>2016-06-30T00:00:00</td>\n",
       "      <td>2</td>\n",
       "      <td>NaN</td>\n",
       "      <td>5.0</td>\n",
       "      <td>30.00</td>\n",
       "      <td>5</td>\n",
       "      <td>NaN</td>\n",
       "      <td>...</td>\n",
       "      <td>9.00</td>\n",
       "      <td>0.0</td>\n",
       "      <td>Сертолово</td>\n",
       "      <td>NaN</td>\n",
       "      <td>NaN</td>\n",
       "      <td>NaN</td>\n",
       "      <td>NaN</td>\n",
       "      <td>NaN</td>\n",
       "      <td>NaN</td>\n",
       "      <td>90.0</td>\n",
       "    </tr>\n",
       "    <tr>\n",
       "      <th>13</th>\n",
       "      <td>20</td>\n",
       "      <td>3550000.0</td>\n",
       "      <td>42.80</td>\n",
       "      <td>2017-07-01T00:00:00</td>\n",
       "      <td>2</td>\n",
       "      <td>2.56</td>\n",
       "      <td>5.0</td>\n",
       "      <td>27.00</td>\n",
       "      <td>5</td>\n",
       "      <td>NaN</td>\n",
       "      <td>...</td>\n",
       "      <td>5.20</td>\n",
       "      <td>1.0</td>\n",
       "      <td>Петергоф</td>\n",
       "      <td>37868.0</td>\n",
       "      <td>33058.0</td>\n",
       "      <td>1.0</td>\n",
       "      <td>294.0</td>\n",
       "      <td>3.0</td>\n",
       "      <td>298.0</td>\n",
       "      <td>366.0</td>\n",
       "    </tr>\n",
       "    <tr>\n",
       "      <th>14</th>\n",
       "      <td>1</td>\n",
       "      <td>4400000.0</td>\n",
       "      <td>36.00</td>\n",
       "      <td>2016-06-23T00:00:00</td>\n",
       "      <td>1</td>\n",
       "      <td>NaN</td>\n",
       "      <td>6.0</td>\n",
       "      <td>17.00</td>\n",
       "      <td>1</td>\n",
       "      <td>NaN</td>\n",
       "      <td>...</td>\n",
       "      <td>8.00</td>\n",
       "      <td>0.0</td>\n",
       "      <td>Пушкин</td>\n",
       "      <td>20782.0</td>\n",
       "      <td>30759.0</td>\n",
       "      <td>0.0</td>\n",
       "      <td>NaN</td>\n",
       "      <td>1.0</td>\n",
       "      <td>96.0</td>\n",
       "      <td>203.0</td>\n",
       "    </tr>\n",
       "    <tr>\n",
       "      <th>15</th>\n",
       "      <td>16</td>\n",
       "      <td>4650000.0</td>\n",
       "      <td>39.00</td>\n",
       "      <td>2017-11-18T00:00:00</td>\n",
       "      <td>1</td>\n",
       "      <td>NaN</td>\n",
       "      <td>14.0</td>\n",
       "      <td>20.50</td>\n",
       "      <td>5</td>\n",
       "      <td>NaN</td>\n",
       "      <td>...</td>\n",
       "      <td>7.60</td>\n",
       "      <td>1.0</td>\n",
       "      <td>Санкт-Петербург</td>\n",
       "      <td>12900.0</td>\n",
       "      <td>14259.0</td>\n",
       "      <td>1.0</td>\n",
       "      <td>590.0</td>\n",
       "      <td>1.0</td>\n",
       "      <td>296.0</td>\n",
       "      <td>19.0</td>\n",
       "    </tr>\n",
       "    <tr>\n",
       "      <th>16</th>\n",
       "      <td>11</td>\n",
       "      <td>6700000.0</td>\n",
       "      <td>82.00</td>\n",
       "      <td>2017-11-23T00:00:00</td>\n",
       "      <td>3</td>\n",
       "      <td>3.05</td>\n",
       "      <td>5.0</td>\n",
       "      <td>55.60</td>\n",
       "      <td>1</td>\n",
       "      <td>NaN</td>\n",
       "      <td>...</td>\n",
       "      <td>9.00</td>\n",
       "      <td>NaN</td>\n",
       "      <td>Санкт-Петербург</td>\n",
       "      <td>22108.0</td>\n",
       "      <td>10698.0</td>\n",
       "      <td>3.0</td>\n",
       "      <td>420.0</td>\n",
       "      <td>0.0</td>\n",
       "      <td>NaN</td>\n",
       "      <td>397.0</td>\n",
       "    </tr>\n",
       "    <tr>\n",
       "      <th>17</th>\n",
       "      <td>6</td>\n",
       "      <td>4180000.0</td>\n",
       "      <td>36.00</td>\n",
       "      <td>2016-09-09T00:00:00</td>\n",
       "      <td>1</td>\n",
       "      <td>NaN</td>\n",
       "      <td>17.0</td>\n",
       "      <td>16.50</td>\n",
       "      <td>7</td>\n",
       "      <td>NaN</td>\n",
       "      <td>...</td>\n",
       "      <td>11.00</td>\n",
       "      <td>1.0</td>\n",
       "      <td>Санкт-Петербург</td>\n",
       "      <td>33564.0</td>\n",
       "      <td>14616.0</td>\n",
       "      <td>0.0</td>\n",
       "      <td>NaN</td>\n",
       "      <td>1.0</td>\n",
       "      <td>859.0</td>\n",
       "      <td>571.0</td>\n",
       "    </tr>\n",
       "    <tr>\n",
       "      <th>18</th>\n",
       "      <td>8</td>\n",
       "      <td>3250000.0</td>\n",
       "      <td>31.00</td>\n",
       "      <td>2017-01-27T00:00:00</td>\n",
       "      <td>1</td>\n",
       "      <td>2.50</td>\n",
       "      <td>5.0</td>\n",
       "      <td>19.40</td>\n",
       "      <td>2</td>\n",
       "      <td>NaN</td>\n",
       "      <td>...</td>\n",
       "      <td>5.60</td>\n",
       "      <td>1.0</td>\n",
       "      <td>Санкт-Петербург</td>\n",
       "      <td>44060.0</td>\n",
       "      <td>10842.0</td>\n",
       "      <td>1.0</td>\n",
       "      <td>759.0</td>\n",
       "      <td>0.0</td>\n",
       "      <td>NaN</td>\n",
       "      <td>168.0</td>\n",
       "    </tr>\n",
       "    <tr>\n",
       "      <th>19</th>\n",
       "      <td>16</td>\n",
       "      <td>14200000.0</td>\n",
       "      <td>121.00</td>\n",
       "      <td>2019-01-09T00:00:00</td>\n",
       "      <td>3</td>\n",
       "      <td>2.75</td>\n",
       "      <td>16.0</td>\n",
       "      <td>76.00</td>\n",
       "      <td>8</td>\n",
       "      <td>NaN</td>\n",
       "      <td>...</td>\n",
       "      <td>12.00</td>\n",
       "      <td>NaN</td>\n",
       "      <td>Санкт-Петербург</td>\n",
       "      <td>38900.0</td>\n",
       "      <td>12843.0</td>\n",
       "      <td>0.0</td>\n",
       "      <td>NaN</td>\n",
       "      <td>0.0</td>\n",
       "      <td>NaN</td>\n",
       "      <td>97.0</td>\n",
       "    </tr>\n",
       "  </tbody>\n",
       "</table>\n",
       "<p>20 rows × 22 columns</p>\n",
       "</div>"
      ],
      "text/plain": [
       "    total_images  last_price  total_area first_day_exposition  rooms  \\\n",
       "0             20  13000000.0      108.00  2019-03-07T00:00:00      3   \n",
       "1              7   3350000.0       40.40  2018-12-04T00:00:00      1   \n",
       "2             10   5196000.0       56.00  2015-08-20T00:00:00      2   \n",
       "3              0  64900000.0      159.00  2015-07-24T00:00:00      3   \n",
       "4              2  10000000.0      100.00  2018-06-19T00:00:00      2   \n",
       "5             10   2890000.0       30.40  2018-09-10T00:00:00      1   \n",
       "6              6   3700000.0       37.30  2017-11-02T00:00:00      1   \n",
       "7              5   7915000.0       71.60  2019-04-18T00:00:00      2   \n",
       "8             20   2900000.0       33.16  2018-05-23T00:00:00      1   \n",
       "9             18   5400000.0       61.00  2017-02-26T00:00:00      3   \n",
       "10             5   5050000.0       39.60  2017-11-16T00:00:00      1   \n",
       "11             9   3300000.0       44.00  2018-08-27T00:00:00      2   \n",
       "12            10   3890000.0       54.00  2016-06-30T00:00:00      2   \n",
       "13            20   3550000.0       42.80  2017-07-01T00:00:00      2   \n",
       "14             1   4400000.0       36.00  2016-06-23T00:00:00      1   \n",
       "15            16   4650000.0       39.00  2017-11-18T00:00:00      1   \n",
       "16            11   6700000.0       82.00  2017-11-23T00:00:00      3   \n",
       "17             6   4180000.0       36.00  2016-09-09T00:00:00      1   \n",
       "18             8   3250000.0       31.00  2017-01-27T00:00:00      1   \n",
       "19            16  14200000.0      121.00  2019-01-09T00:00:00      3   \n",
       "\n",
       "    ceiling_height  floors_total  living_area  floor is_apartment  ...  \\\n",
       "0             2.70          16.0        51.00      8          NaN  ...   \n",
       "1              NaN          11.0        18.60      1          NaN  ...   \n",
       "2              NaN           5.0        34.30      4          NaN  ...   \n",
       "3              NaN          14.0          NaN      9          NaN  ...   \n",
       "4             3.03          14.0        32.00     13          NaN  ...   \n",
       "5              NaN          12.0        14.40      5          NaN  ...   \n",
       "6              NaN          26.0        10.60      6          NaN  ...   \n",
       "7              NaN          24.0          NaN     22          NaN  ...   \n",
       "8              NaN          27.0        15.43     26          NaN  ...   \n",
       "9             2.50           9.0        43.60      7          NaN  ...   \n",
       "10            2.67          12.0        20.30      3          NaN  ...   \n",
       "11             NaN           5.0        31.00      4        False  ...   \n",
       "12             NaN           5.0        30.00      5          NaN  ...   \n",
       "13            2.56           5.0        27.00      5          NaN  ...   \n",
       "14             NaN           6.0        17.00      1          NaN  ...   \n",
       "15             NaN          14.0        20.50      5          NaN  ...   \n",
       "16            3.05           5.0        55.60      1          NaN  ...   \n",
       "17             NaN          17.0        16.50      7          NaN  ...   \n",
       "18            2.50           5.0        19.40      2          NaN  ...   \n",
       "19            2.75          16.0        76.00      8          NaN  ...   \n",
       "\n",
       "    kitchen_area  balcony              locality_name  airports_nearest  \\\n",
       "0          25.00      NaN            Санкт-Петербург           18863.0   \n",
       "1          11.00      2.0             посёлок Шушары           12817.0   \n",
       "2           8.30      0.0            Санкт-Петербург           21741.0   \n",
       "3            NaN      0.0            Санкт-Петербург           28098.0   \n",
       "4          41.00      NaN            Санкт-Петербург           31856.0   \n",
       "5           9.10      NaN  городской посёлок Янино-1               NaN   \n",
       "6          14.40      1.0          посёлок Парголово           52996.0   \n",
       "7          18.90      2.0            Санкт-Петербург           23982.0   \n",
       "8           8.81      NaN             посёлок Мурино               NaN   \n",
       "9           6.50      2.0            Санкт-Петербург           50898.0   \n",
       "10          8.50      NaN            Санкт-Петербург           38357.0   \n",
       "11          6.00      1.0                  Ломоносов           48252.0   \n",
       "12          9.00      0.0                  Сертолово               NaN   \n",
       "13          5.20      1.0                   Петергоф           37868.0   \n",
       "14          8.00      0.0                     Пушкин           20782.0   \n",
       "15          7.60      1.0            Санкт-Петербург           12900.0   \n",
       "16          9.00      NaN            Санкт-Петербург           22108.0   \n",
       "17         11.00      1.0            Санкт-Петербург           33564.0   \n",
       "18          5.60      1.0            Санкт-Петербург           44060.0   \n",
       "19         12.00      NaN            Санкт-Петербург           38900.0   \n",
       "\n",
       "   cityCenters_nearest  parks_around3000  parks_nearest  ponds_around3000  \\\n",
       "0              16028.0               1.0          482.0               2.0   \n",
       "1              18603.0               0.0            NaN               0.0   \n",
       "2              13933.0               1.0           90.0               2.0   \n",
       "3               6800.0               2.0           84.0               3.0   \n",
       "4               8098.0               2.0          112.0               1.0   \n",
       "5                  NaN               NaN            NaN               NaN   \n",
       "6              19143.0               0.0            NaN               0.0   \n",
       "7              11634.0               0.0            NaN               0.0   \n",
       "8                  NaN               NaN            NaN               NaN   \n",
       "9              15008.0               0.0            NaN               0.0   \n",
       "10             13878.0               1.0          310.0               2.0   \n",
       "11             51677.0               0.0            NaN               0.0   \n",
       "12                 NaN               NaN            NaN               NaN   \n",
       "13             33058.0               1.0          294.0               3.0   \n",
       "14             30759.0               0.0            NaN               1.0   \n",
       "15             14259.0               1.0          590.0               1.0   \n",
       "16             10698.0               3.0          420.0               0.0   \n",
       "17             14616.0               0.0            NaN               1.0   \n",
       "18             10842.0               1.0          759.0               0.0   \n",
       "19             12843.0               0.0            NaN               0.0   \n",
       "\n",
       "    ponds_nearest  days_exposition  \n",
       "0           755.0              NaN  \n",
       "1             NaN             81.0  \n",
       "2           574.0            558.0  \n",
       "3           234.0            424.0  \n",
       "4            48.0            121.0  \n",
       "5             NaN             55.0  \n",
       "6             NaN            155.0  \n",
       "7             NaN              NaN  \n",
       "8             NaN            189.0  \n",
       "9             NaN            289.0  \n",
       "10          553.0            137.0  \n",
       "11            NaN              7.0  \n",
       "12            NaN             90.0  \n",
       "13          298.0            366.0  \n",
       "14           96.0            203.0  \n",
       "15          296.0             19.0  \n",
       "16            NaN            397.0  \n",
       "17          859.0            571.0  \n",
       "18            NaN            168.0  \n",
       "19            NaN             97.0  \n",
       "\n",
       "[20 rows x 22 columns]"
      ]
     },
     "execution_count": 2,
     "metadata": {},
     "output_type": "execute_result"
    }
   ],
   "source": [
    "data.head(20)"
   ]
  },
  {
   "cell_type": "code",
   "execution_count": 3,
   "metadata": {},
   "outputs": [
    {
     "data": {
      "text/plain": [
       "total_images            0.000000\n",
       "last_price              0.000000\n",
       "total_area              0.000000\n",
       "first_day_exposition    0.000000\n",
       "rooms                   0.000000\n",
       "ceiling_height          0.387991\n",
       "floors_total            0.003629\n",
       "living_area             0.080299\n",
       "floor                   0.000000\n",
       "is_apartment            0.882906\n",
       "studio                  0.000000\n",
       "open_plan               0.000000\n",
       "kitchen_area            0.096122\n",
       "balcony                 0.486054\n",
       "locality_name           0.002068\n",
       "airports_nearest        0.233850\n",
       "cityCenters_nearest     0.232879\n",
       "parks_around3000        0.232837\n",
       "parks_nearest           0.659100\n",
       "ponds_around3000        0.232837\n",
       "ponds_nearest           0.615596\n",
       "days_exposition         0.134225\n",
       "dtype: float64"
      ]
     },
     "execution_count": 3,
     "metadata": {},
     "output_type": "execute_result"
    }
   ],
   "source": [
    "data.isna().mean()#изучаю насколько загружена таблица, в каких колонках больше всех проусков. в колонка\n",
    "#ceiling_height,is_apartment ,airports_nearest, cityCenters_nearest, parks_around3000, airports_nearest\n",
    "#parks_nearest, ponds_around3000, ponds_nearest,  days_exposition  критичное количество пропусков на мой\n",
    "# взгляд.\n",
    "\n",
    "     \n"
   ]
  },
  {
   "cell_type": "code",
   "execution_count": 4,
   "metadata": {},
   "outputs": [
    {
     "name": "stdout",
     "output_type": "stream",
     "text": [
      "<class 'pandas.core.frame.DataFrame'>\n",
      "RangeIndex: 23699 entries, 0 to 23698\n",
      "Data columns (total 22 columns):\n",
      " #   Column                Non-Null Count  Dtype  \n",
      "---  ------                --------------  -----  \n",
      " 0   total_images          23699 non-null  int64  \n",
      " 1   last_price            23699 non-null  float64\n",
      " 2   total_area            23699 non-null  float64\n",
      " 3   first_day_exposition  23699 non-null  object \n",
      " 4   rooms                 23699 non-null  int64  \n",
      " 5   ceiling_height        14504 non-null  float64\n",
      " 6   floors_total          23613 non-null  float64\n",
      " 7   living_area           21796 non-null  float64\n",
      " 8   floor                 23699 non-null  int64  \n",
      " 9   is_apartment          2775 non-null   object \n",
      " 10  studio                23699 non-null  bool   \n",
      " 11  open_plan             23699 non-null  bool   \n",
      " 12  kitchen_area          21421 non-null  float64\n",
      " 13  balcony               12180 non-null  float64\n",
      " 14  locality_name         23650 non-null  object \n",
      " 15  airports_nearest      18157 non-null  float64\n",
      " 16  cityCenters_nearest   18180 non-null  float64\n",
      " 17  parks_around3000      18181 non-null  float64\n",
      " 18  parks_nearest         8079 non-null   float64\n",
      " 19  ponds_around3000      18181 non-null  float64\n",
      " 20  ponds_nearest         9110 non-null   float64\n",
      " 21  days_exposition       20518 non-null  float64\n",
      "dtypes: bool(2), float64(14), int64(3), object(3)\n",
      "memory usage: 3.7+ MB\n"
     ]
    }
   ],
   "source": [
    "data.info()#проверяю данные в таблице. некоторые столбцы содержат не числовые значения, хотя площадь и цена \n",
    "#должны быть в формате int на мой взгляд"
   ]
  },
  {
   "cell_type": "code",
   "execution_count": 5,
   "metadata": {},
   "outputs": [
    {
     "name": "stdout",
     "output_type": "stream",
     "text": [
      "0\n"
     ]
    }
   ],
   "source": [
    "print(data.duplicated().sum())"
   ]
  },
  {
   "cell_type": "code",
   "execution_count": 6,
   "metadata": {},
   "outputs": [
    {
     "data": {
      "text/plain": [
       "array([[<AxesSubplot:title={'center':'total_images'}>,\n",
       "        <AxesSubplot:title={'center':'last_price'}>,\n",
       "        <AxesSubplot:title={'center':'total_area'}>,\n",
       "        <AxesSubplot:title={'center':'rooms'}>],\n",
       "       [<AxesSubplot:title={'center':'ceiling_height'}>,\n",
       "        <AxesSubplot:title={'center':'floors_total'}>,\n",
       "        <AxesSubplot:title={'center':'living_area'}>,\n",
       "        <AxesSubplot:title={'center':'floor'}>],\n",
       "       [<AxesSubplot:title={'center':'kitchen_area'}>,\n",
       "        <AxesSubplot:title={'center':'balcony'}>,\n",
       "        <AxesSubplot:title={'center':'airports_nearest'}>,\n",
       "        <AxesSubplot:title={'center':'cityCenters_nearest'}>],\n",
       "       [<AxesSubplot:title={'center':'parks_around3000'}>,\n",
       "        <AxesSubplot:title={'center':'parks_nearest'}>,\n",
       "        <AxesSubplot:title={'center':'ponds_around3000'}>,\n",
       "        <AxesSubplot:title={'center':'ponds_nearest'}>],\n",
       "       [<AxesSubplot:title={'center':'days_exposition'}>, <AxesSubplot:>,\n",
       "        <AxesSubplot:>, <AxesSubplot:>]], dtype=object)"
      ]
     },
     "execution_count": 6,
     "metadata": {},
     "output_type": "execute_result"
    },
    {
     "data": {
      "image/png": "[encoded data removed]",
      "text/plain": [
       "<Figure size 1080x1440 with 20 Axes>"
      ]
     },
     "metadata": {
      "needs_background": "light"
     },
     "output_type": "display_data"
    }
   ],
   "source": [
    "data.hist(figsize=(15, 20))"
   ]
  },
  {
   "cell_type": "code",
   "execution_count": 7,
   "metadata": {},
   "outputs": [],
   "source": [
    "data['parks_nearest'] = data['parks_nearest'].fillna(0)# расстояние до парка обнулила ячейки где нет значений"
   ]
  },
  {
   "cell_type": "markdown",
   "metadata": {},
   "source": [
    "построила гистограммы по 17 параметрам. некоторые данные на первый взгляд вообще не понятны, такие как высота потолка (очень высокий потолок). и цена продажи, видимо где то в данных есть ошибки."
   ]
  },
  {
   "cell_type": "code",
   "execution_count": 8,
   "metadata": {},
   "outputs": [],
   "source": [
    "data['ponds_around3000'] = data['ponds_around3000'].fillna(0)"
   ]
  },
  {
   "cell_type": "code",
   "execution_count": 9,
   "metadata": {},
   "outputs": [],
   "source": [
    "data['ponds_nearest'] = data['ponds_nearest'].fillna(0)\n"
   ]
  },
  {
   "cell_type": "code",
   "execution_count": 10,
   "metadata": {},
   "outputs": [],
   "source": [
    "data['balcony'] = data['balcony'].fillna(0)# данные где нет балкона, обнулим. "
   ]
  },
  {
   "cell_type": "markdown",
   "metadata": {},
   "source": [
    "если нет данных балкона скорее всего люди не заполняли, потому что его нет."
   ]
  },
  {
   "cell_type": "code",
   "execution_count": 11,
   "metadata": {},
   "outputs": [
    {
     "data": {
      "text/plain": [
       "total_images            0.000000\n",
       "last_price              0.000000\n",
       "total_area              0.000000\n",
       "first_day_exposition    0.000000\n",
       "rooms                   0.000000\n",
       "ceiling_height          0.387991\n",
       "floors_total            0.003629\n",
       "living_area             0.080299\n",
       "floor                   0.000000\n",
       "is_apartment            0.882906\n",
       "studio                  0.000000\n",
       "open_plan               0.000000\n",
       "kitchen_area            0.096122\n",
       "balcony                 0.000000\n",
       "locality_name           0.002068\n",
       "airports_nearest        0.233850\n",
       "cityCenters_nearest     0.232879\n",
       "parks_around3000        0.232837\n",
       "parks_nearest           0.000000\n",
       "ponds_around3000        0.000000\n",
       "ponds_nearest           0.000000\n",
       "days_exposition         0.134225\n",
       "dtype: float64"
      ]
     },
     "execution_count": 11,
     "metadata": {},
     "output_type": "execute_result"
    }
   ],
   "source": [
    "data.isna().mean()#незаполненных ячеек стало меньше"
   ]
  },
  {
   "cell_type": "code",
   "execution_count": 12,
   "metadata": {},
   "outputs": [
    {
     "data": {
      "text/html": [
       "<div>\n",
       "<style scoped>\n",
       "    .dataframe tbody tr th:only-of-type {\n",
       "        vertical-align: middle;\n",
       "    }\n",
       "\n",
       "    .dataframe tbody tr th {\n",
       "        vertical-align: top;\n",
       "    }\n",
       "\n",
       "    .dataframe thead th {\n",
       "        text-align: right;\n",
       "    }\n",
       "</style>\n",
       "<table border=\"1\" class=\"dataframe\">\n",
       "  <thead>\n",
       "    <tr style=\"text-align: right;\">\n",
       "      <th></th>\n",
       "      <th>total_images</th>\n",
       "      <th>last_price</th>\n",
       "      <th>total_area</th>\n",
       "      <th>first_day_exposition</th>\n",
       "      <th>rooms</th>\n",
       "      <th>ceiling_height</th>\n",
       "      <th>floors_total</th>\n",
       "      <th>living_area</th>\n",
       "      <th>floor</th>\n",
       "      <th>is_apartment</th>\n",
       "      <th>...</th>\n",
       "      <th>kitchen_area</th>\n",
       "      <th>balcony</th>\n",
       "      <th>locality_name</th>\n",
       "      <th>airports_nearest</th>\n",
       "      <th>cityCenters_nearest</th>\n",
       "      <th>parks_around3000</th>\n",
       "      <th>parks_nearest</th>\n",
       "      <th>ponds_around3000</th>\n",
       "      <th>ponds_nearest</th>\n",
       "      <th>days_exposition</th>\n",
       "    </tr>\n",
       "  </thead>\n",
       "  <tbody>\n",
       "    <tr>\n",
       "      <th>0</th>\n",
       "      <td>20</td>\n",
       "      <td>13000000.0</td>\n",
       "      <td>108.0</td>\n",
       "      <td>2019-03-07T00:00:00</td>\n",
       "      <td>3</td>\n",
       "      <td>2.70</td>\n",
       "      <td>16.0</td>\n",
       "      <td>51.0</td>\n",
       "      <td>8</td>\n",
       "      <td>NaN</td>\n",
       "      <td>...</td>\n",
       "      <td>25.0</td>\n",
       "      <td>0</td>\n",
       "      <td>Санкт-Петербург</td>\n",
       "      <td>18863.0</td>\n",
       "      <td>16028.0</td>\n",
       "      <td>1.0</td>\n",
       "      <td>482</td>\n",
       "      <td>2</td>\n",
       "      <td>755</td>\n",
       "      <td>NaN</td>\n",
       "    </tr>\n",
       "    <tr>\n",
       "      <th>1</th>\n",
       "      <td>7</td>\n",
       "      <td>3350000.0</td>\n",
       "      <td>40.4</td>\n",
       "      <td>2018-12-04T00:00:00</td>\n",
       "      <td>1</td>\n",
       "      <td>NaN</td>\n",
       "      <td>11.0</td>\n",
       "      <td>18.6</td>\n",
       "      <td>1</td>\n",
       "      <td>NaN</td>\n",
       "      <td>...</td>\n",
       "      <td>11.0</td>\n",
       "      <td>2</td>\n",
       "      <td>посёлок Шушары</td>\n",
       "      <td>12817.0</td>\n",
       "      <td>18603.0</td>\n",
       "      <td>0.0</td>\n",
       "      <td>0</td>\n",
       "      <td>0</td>\n",
       "      <td>0</td>\n",
       "      <td>81.0</td>\n",
       "    </tr>\n",
       "    <tr>\n",
       "      <th>2</th>\n",
       "      <td>10</td>\n",
       "      <td>5196000.0</td>\n",
       "      <td>56.0</td>\n",
       "      <td>2015-08-20T00:00:00</td>\n",
       "      <td>2</td>\n",
       "      <td>NaN</td>\n",
       "      <td>5.0</td>\n",
       "      <td>34.3</td>\n",
       "      <td>4</td>\n",
       "      <td>NaN</td>\n",
       "      <td>...</td>\n",
       "      <td>8.3</td>\n",
       "      <td>0</td>\n",
       "      <td>Санкт-Петербург</td>\n",
       "      <td>21741.0</td>\n",
       "      <td>13933.0</td>\n",
       "      <td>1.0</td>\n",
       "      <td>90</td>\n",
       "      <td>2</td>\n",
       "      <td>574</td>\n",
       "      <td>558.0</td>\n",
       "    </tr>\n",
       "    <tr>\n",
       "      <th>3</th>\n",
       "      <td>0</td>\n",
       "      <td>64900000.0</td>\n",
       "      <td>159.0</td>\n",
       "      <td>2015-07-24T00:00:00</td>\n",
       "      <td>3</td>\n",
       "      <td>NaN</td>\n",
       "      <td>14.0</td>\n",
       "      <td>NaN</td>\n",
       "      <td>9</td>\n",
       "      <td>NaN</td>\n",
       "      <td>...</td>\n",
       "      <td>NaN</td>\n",
       "      <td>0</td>\n",
       "      <td>Санкт-Петербург</td>\n",
       "      <td>28098.0</td>\n",
       "      <td>6800.0</td>\n",
       "      <td>2.0</td>\n",
       "      <td>84</td>\n",
       "      <td>3</td>\n",
       "      <td>234</td>\n",
       "      <td>424.0</td>\n",
       "    </tr>\n",
       "    <tr>\n",
       "      <th>4</th>\n",
       "      <td>2</td>\n",
       "      <td>10000000.0</td>\n",
       "      <td>100.0</td>\n",
       "      <td>2018-06-19T00:00:00</td>\n",
       "      <td>2</td>\n",
       "      <td>3.03</td>\n",
       "      <td>14.0</td>\n",
       "      <td>32.0</td>\n",
       "      <td>13</td>\n",
       "      <td>NaN</td>\n",
       "      <td>...</td>\n",
       "      <td>41.0</td>\n",
       "      <td>0</td>\n",
       "      <td>Санкт-Петербург</td>\n",
       "      <td>31856.0</td>\n",
       "      <td>8098.0</td>\n",
       "      <td>2.0</td>\n",
       "      <td>112</td>\n",
       "      <td>1</td>\n",
       "      <td>48</td>\n",
       "      <td>121.0</td>\n",
       "    </tr>\n",
       "  </tbody>\n",
       "</table>\n",
       "<p>5 rows × 22 columns</p>\n",
       "</div>"
      ],
      "text/plain": [
       "   total_images  last_price  total_area first_day_exposition  rooms  \\\n",
       "0            20  13000000.0       108.0  2019-03-07T00:00:00      3   \n",
       "1             7   3350000.0        40.4  2018-12-04T00:00:00      1   \n",
       "2            10   5196000.0        56.0  2015-08-20T00:00:00      2   \n",
       "3             0  64900000.0       159.0  2015-07-24T00:00:00      3   \n",
       "4             2  10000000.0       100.0  2018-06-19T00:00:00      2   \n",
       "\n",
       "   ceiling_height  floors_total  living_area  floor is_apartment  ...  \\\n",
       "0            2.70          16.0         51.0      8          NaN  ...   \n",
       "1             NaN          11.0         18.6      1          NaN  ...   \n",
       "2             NaN           5.0         34.3      4          NaN  ...   \n",
       "3             NaN          14.0          NaN      9          NaN  ...   \n",
       "4            3.03          14.0         32.0     13          NaN  ...   \n",
       "\n",
       "   kitchen_area  balcony    locality_name  airports_nearest  \\\n",
       "0          25.0        0  Санкт-Петербург           18863.0   \n",
       "1          11.0        2   посёлок Шушары           12817.0   \n",
       "2           8.3        0  Санкт-Петербург           21741.0   \n",
       "3           NaN        0  Санкт-Петербург           28098.0   \n",
       "4          41.0        0  Санкт-Петербург           31856.0   \n",
       "\n",
       "  cityCenters_nearest  parks_around3000  parks_nearest  ponds_around3000  \\\n",
       "0             16028.0               1.0            482                 2   \n",
       "1             18603.0               0.0              0                 0   \n",
       "2             13933.0               1.0             90                 2   \n",
       "3              6800.0               2.0             84                 3   \n",
       "4              8098.0               2.0            112                 1   \n",
       "\n",
       "   ponds_nearest  days_exposition  \n",
       "0            755              NaN  \n",
       "1              0             81.0  \n",
       "2            574            558.0  \n",
       "3            234            424.0  \n",
       "4             48            121.0  \n",
       "\n",
       "[5 rows x 22 columns]"
      ]
     },
     "execution_count": 12,
     "metadata": {},
     "output_type": "execute_result"
    }
   ],
   "source": [
    "list_to_int = ['rooms',\"floor\", 'floors_total', 'balcony', 'airports_nearest', 'cityCenters_nearest', 'parks_around3000',\n",
    "               'parks_nearest', 'ponds_around3000', 'ponds_nearest', 'days_exposition']\n",
    "for column in list_to_int:\n",
    "    data[column] = data[data[column].notnull()][column].astype('int')\n",
    "data.head(5)# собрала столбцы и привела их к целым числам"
   ]
  },
  {
   "cell_type": "markdown",
   "metadata": {},
   "source": [
    "уникальные значения в столбце с названиями и устраните неявные дубликаты. \n",
    "Например, «поселок Рябово» и «поселок городского типа Рябово», «поселок Тельмана» \n",
    "и «посёлок Тельмана» — это обозначения одних и тех же населённых пунктов. Вы можете \n",
    "заменить названия в существующем столбце или создать новый с названиями без дубликатов."
   ]
  },
  {
   "cell_type": "code",
   "execution_count": 13,
   "metadata": {},
   "outputs": [
    {
     "data": {
      "text/plain": [
       "array(['Бокситогорск', 'Волосово', 'Волхов', 'Всеволожск', 'Выборг',\n",
       "       'Высоцк', 'Гатчина', 'Зеленогорск', 'Ивангород', 'Каменногорск',\n",
       "       'Кингисепп', 'Кириши', 'Кировск', 'Колпино', 'Коммунар',\n",
       "       'Красное Село', 'Кронштадт', 'Кудрово', 'Лодейное Поле',\n",
       "       'Ломоносов', 'Луга', 'Любань', 'Мурино', 'Никольское',\n",
       "       'Новая Ладога', 'Отрадное', 'Павловск', 'Петергоф', 'Пикалёво',\n",
       "       'Подпорожье', 'Приморск', 'Приозерск', 'Пушкин', 'Санкт-Петербург',\n",
       "       'Светогорск', 'Сертолово', 'Сестрорецк', 'Сланцы', 'Сосновый Бор',\n",
       "       'Сясьстрой', 'Тихвин', 'Тосно', 'Шлиссельбург',\n",
       "       'городской поселок Большая Ижора', 'городской поселок Янино-1',\n",
       "       'городской посёлок Будогощь', 'городской посёлок Виллози',\n",
       "       'городской посёлок Лесогорский', 'городской посёлок Мга',\n",
       "       'городской посёлок Назия', 'городской посёлок Новоселье',\n",
       "       'городской посёлок Павлово', 'городской посёлок Рощино',\n",
       "       'городской посёлок Свирьстрой', 'городской посёлок Советский',\n",
       "       'городской посёлок Фёдоровское', 'городской посёлок Янино-1',\n",
       "       'деревня Агалатово', 'деревня Аро', 'деревня Батово',\n",
       "       'деревня Бегуницы', 'деревня Белогорка', 'деревня Большая Вруда',\n",
       "       'деревня Большая Пустомержа', 'деревня Большие Колпаны',\n",
       "       'деревня Большое Рейзино', 'деревня Большой Сабск', 'деревня Бор',\n",
       "       'деревня Борисова Грива', 'деревня Ваганово', 'деревня Вартемяги',\n",
       "       'деревня Вахнова Кара', 'деревня Выскатка', 'деревня Гарболово',\n",
       "       'деревня Глинка', 'деревня Горбунки', 'деревня Гостилицы',\n",
       "       'деревня Заклинье', 'деревня Заневка', 'деревня Зимитицы',\n",
       "       'деревня Извара', 'деревня Иссад', 'деревня Калитино',\n",
       "       'деревня Кальтино', 'деревня Камышовка', 'деревня Каськово',\n",
       "       'деревня Келози', 'деревня Кипень', 'деревня Кисельня',\n",
       "       'деревня Колтуши', 'деревня Коркино', 'деревня Котлы',\n",
       "       'деревня Кривко', 'деревня Кудрово', 'деревня Кузьмолово',\n",
       "       'деревня Курковицы', 'деревня Куровицы', 'деревня Куттузи',\n",
       "       'деревня Лаврики', 'деревня Лаголово', 'деревня Лампово',\n",
       "       'деревня Лесколово', 'деревня Лопухинка', 'деревня Лупполово',\n",
       "       'деревня Малая Романовка', 'деревня Малое Верево',\n",
       "       'деревня Малое Карлино', 'деревня Малые Колпаны',\n",
       "       'деревня Мануйлово', 'деревня Меньково', 'деревня Мины',\n",
       "       'деревня Мистолово', 'деревня Ненимяки', 'деревня Нижние Осельки',\n",
       "       'деревня Нижняя', 'деревня Низино', 'деревня Новое Девяткино',\n",
       "       'деревня Новолисино', 'деревня Нурма', 'деревня Оржицы',\n",
       "       'деревня Парицы', 'деревня Пельгора', 'деревня Пеники',\n",
       "       'деревня Пижма', 'деревня Пикколово', 'деревня Пудомяги',\n",
       "       'деревня Пустынка', 'деревня Пчева', 'деревня Рабитицы',\n",
       "       'деревня Разбегаево', 'деревня Раздолье', 'деревня Разметелево',\n",
       "       'деревня Рапполово', 'деревня Реброво', 'деревня Русско',\n",
       "       'деревня Сижно', 'деревня Снегирёвка', 'деревня Старая',\n",
       "       'деревня Старая Пустошь', 'деревня Старое Хинколово',\n",
       "       'деревня Старополье', 'деревня Старосиверская',\n",
       "       'деревня Старые Бегуницы', 'деревня Суоранда',\n",
       "       'деревня Сяськелево', 'деревня Тарасово', 'деревня Терпилицы',\n",
       "       'деревня Тихковицы', 'деревня Тойворово', 'деревня Торосово',\n",
       "       'деревня Торошковичи', 'деревня Трубников Бор',\n",
       "       'деревня Фалилеево', 'деревня Фёдоровское', 'деревня Хапо-Ое',\n",
       "       'деревня Хязельки', 'деревня Чудской Бор', 'деревня Шпаньково',\n",
       "       'деревня Щеглово', 'деревня Юкки', 'деревня Ялгино',\n",
       "       'деревня Яльгелево', 'деревня Ям-Тесово',\n",
       "       'коттеджный поселок Кивеннапа Север', 'коттеджный поселок Счастье',\n",
       "       'коттеджный посёлок Лесное', 'поселок Аннино', 'поселок Барышево',\n",
       "       'поселок Бугры', 'поселок Возрождение', 'поселок Войсковицы',\n",
       "       'поселок Володарское', 'поселок Гаврилово', 'поселок Гарболово',\n",
       "       'поселок Гладкое', 'поселок Глажево', 'поселок Глебычево',\n",
       "       'поселок Гончарово', 'поселок Громово', 'поселок Дружноселье',\n",
       "       'поселок Елизаветино', 'поселок Жилгородок', 'поселок Жилпосёлок',\n",
       "       'поселок Житково', 'поселок Заводской', 'поселок Запорожское',\n",
       "       'поселок Зимитицы', 'поселок Ильичёво', 'поселок Калитино',\n",
       "       'поселок Каложицы', 'поселок Кингисеппский', 'поселок Кирпичное',\n",
       "       'поселок Кобралово', 'поселок Кобринское', 'поселок Коммунары',\n",
       "       'поселок Коробицыно', 'поселок Котельский',\n",
       "       'поселок Красная Долина', 'поселок Красносельское',\n",
       "       'поселок Лесное', 'поселок Лисий Нос', 'поселок Лукаши',\n",
       "       'поселок Любань', 'поселок Мельниково', 'поселок Мичуринское',\n",
       "       'поселок Молодцово', 'поселок Мурино', 'поселок Новый Свет',\n",
       "       'поселок Новый Учхоз', 'поселок Оредеж',\n",
       "       'поселок Пансионат Зелёный Бор', 'поселок Первомайское',\n",
       "       'поселок Перово', 'поселок Петровское', 'поселок Победа',\n",
       "       'поселок Поляны', 'поселок Почап', 'поселок Починок',\n",
       "       'поселок Пушное', 'поселок Пчевжа', 'поселок Рабитицы',\n",
       "       'поселок Романовка', 'поселок Ромашки', 'поселок Рябово',\n",
       "       'поселок Севастьяново', 'поселок Селезнёво', 'поселок Сельцо',\n",
       "       'поселок Семиозерье', 'поселок Семрино', 'поселок Серебрянский',\n",
       "       'поселок Совхозный', 'поселок Старая Малукса',\n",
       "       'поселок Стеклянный', 'поселок Сумино', 'поселок Суходолье',\n",
       "       'поселок Тельмана', 'поселок Терволово', 'поселок Торковичи',\n",
       "       'поселок Тёсово-4', 'поселок Углово', 'поселок Усть-Луга',\n",
       "       'поселок Ушаки', 'поселок Цвелодубово', 'поселок Цвылёво',\n",
       "       'поселок городского типа Большая Ижора',\n",
       "       'поселок городского типа Вырица',\n",
       "       'поселок городского типа Дружная Горка',\n",
       "       'поселок городского типа Дубровка',\n",
       "       'поселок городского типа Ефимовский',\n",
       "       'поселок городского типа Кондратьево',\n",
       "       'поселок городского типа Красный Бор',\n",
       "       'поселок городского типа Кузьмоловский',\n",
       "       'поселок городского типа Лебяжье',\n",
       "       'поселок городского типа Лесогорский',\n",
       "       'поселок городского типа Назия',\n",
       "       'поселок городского типа Никольский',\n",
       "       'поселок городского типа Приладожский',\n",
       "       'поселок городского типа Рахья', 'поселок городского типа Рощино',\n",
       "       'поселок городского типа Рябово',\n",
       "       'поселок городского типа Синявино',\n",
       "       'поселок городского типа Советский',\n",
       "       'поселок городского типа Токсово',\n",
       "       'поселок городского типа Форносово',\n",
       "       'поселок городского типа имени Свердлова',\n",
       "       'поселок станции Вещево', 'поселок станции Корнево',\n",
       "       'поселок станции Лужайка', 'поселок станции Приветнинское',\n",
       "       'посёлок Александровская', 'посёлок Алексеевка', 'посёлок Аннино',\n",
       "       'посёлок Белоостров', 'посёлок Бугры', 'посёлок Возрождение',\n",
       "       'посёлок Войскорово', 'посёлок Высокоключевой',\n",
       "       'посёлок Гаврилово', 'посёлок Дзержинского', 'посёлок Жилгородок',\n",
       "       'посёлок Ильичёво', 'посёлок Кикерино', 'посёлок Кобралово',\n",
       "       'посёлок Коробицыно', 'посёлок Левашово', 'посёлок Ленинское',\n",
       "       'посёлок Лисий Нос', 'посёлок Мельниково', 'посёлок Металлострой',\n",
       "       'посёлок Мичуринское', 'посёлок Молодёжное', 'посёлок Мурино',\n",
       "       'посёлок Мыза-Ивановка', 'посёлок Новогорелово',\n",
       "       'посёлок Новый Свет', 'посёлок Пансионат Зелёный Бор',\n",
       "       'посёлок Парголово', 'посёлок Перово', 'посёлок Песочный',\n",
       "       'посёлок Петро-Славянка', 'посёлок Петровское',\n",
       "       'посёлок Платформа 69-й километр', 'посёлок Плодовое',\n",
       "       'посёлок Плоское', 'посёлок Победа', 'посёлок Поляны',\n",
       "       'посёлок Понтонный', 'посёлок Пригородный', 'посёлок Пудость',\n",
       "       'посёлок Репино', 'посёлок Ропша', 'посёлок Сапёрное',\n",
       "       'посёлок Сапёрный', 'посёлок Сосново', 'посёлок Старая Малукса',\n",
       "       'посёлок Стеклянный', 'посёлок Стрельна', 'посёлок Суйда',\n",
       "       'посёлок Сумино', 'посёлок Тельмана', 'посёлок Терволово',\n",
       "       'посёлок Торфяное', 'посёлок Усть-Ижора', 'посёлок Усть-Луга',\n",
       "       'посёлок Форт Красная Горка', 'посёлок Шугозеро', 'посёлок Шушары',\n",
       "       'посёлок Щеглово', 'посёлок городского типа Важины',\n",
       "       'посёлок городского типа Вознесенье',\n",
       "       'посёлок городского типа Вырица',\n",
       "       'посёлок городского типа Красный Бор',\n",
       "       'посёлок городского типа Кузнечное',\n",
       "       'посёлок городского типа Кузьмоловский',\n",
       "       'посёлок городского типа Лебяжье', 'посёлок городского типа Мга',\n",
       "       'посёлок городского типа Павлово',\n",
       "       'посёлок городского типа Рощино', 'посёлок городского типа Рябово',\n",
       "       'посёлок городского типа Сиверский',\n",
       "       'посёлок городского типа Тайцы', 'посёлок городского типа Токсово',\n",
       "       'посёлок городского типа Ульяновка',\n",
       "       'посёлок городского типа Форносово',\n",
       "       'посёлок городского типа имени Морозова',\n",
       "       'посёлок городского типа имени Свердлова',\n",
       "       'посёлок при железнодорожной станции Вещево',\n",
       "       'посёлок при железнодорожной станции Приветнинское',\n",
       "       'посёлок станции Громово', 'посёлок станции Свирь',\n",
       "       'садоводческое некоммерческое товарищество Лесная Поляна',\n",
       "       'садовое товарищество Новая Ропша',\n",
       "       'садовое товарищество Приладожский', 'садовое товарищество Рахья',\n",
       "       'садовое товарищество Садко', 'село Копорье', 'село Никольское',\n",
       "       'село Павлово', 'село Паша', 'село Путилово', 'село Рождествено',\n",
       "       'село Русско-Высоцкое', 'село Старая Ладога', 'село Шум', nan],\n",
       "      dtype=object)"
      ]
     },
     "execution_count": 13,
     "metadata": {},
     "output_type": "execute_result"
    }
   ],
   "source": [
    "data['locality_name'].sort_values().unique()#просматриваем уникальные значения в столбце с названиями и устраняю неявные дубликаты. "
   ]
  },
  {
   "cell_type": "code",
   "execution_count": 14,
   "metadata": {},
   "outputs": [
    {
     "name": "stdout",
     "output_type": "stream",
     "text": [
      "23334\n"
     ]
    }
   ],
   "source": [
    "print(data['locality_name'].duplicated().sum())# сначала посчитаю количество дубликатов"
   ]
  },
  {
   "cell_type": "code",
   "execution_count": 15,
   "metadata": {},
   "outputs": [],
   "source": [
    "data = data.drop_duplicates()\n",
    " # удаление явных дубликатов"
   ]
  },
  {
   "cell_type": "code",
   "execution_count": 16,
   "metadata": {},
   "outputs": [
    {
     "name": "stdout",
     "output_type": "stream",
     "text": [
      "23334\n"
     ]
    }
   ],
   "source": [
    "print(data['locality_name'].duplicated().sum()) # проверка на отсутствие дубликатов, явных дубликатов не было"
   ]
  },
  {
   "cell_type": "code",
   "execution_count": 17,
   "metadata": {},
   "outputs": [],
   "source": [
    "data['locality_name'] = data['locality_name'].replace('Мурино','посёлок Мурино')\n",
    "data['locality_name'] = data['locality_name'].replace(\"поселок Мурино\",'посёлок Мурино')\n",
    "data['locality_name'] = data['locality_name'].replace(\"поселок Тельмана\",\"посёлок Тельмана\")\n",
    "data['locality_name'] = data['locality_name'].replace(\"поселок Рябово\",\"посёлок Рябово\")# Устранение неявных дубликатов\n"
   ]
  },
  {
   "cell_type": "markdown",
   "metadata": {},
   "source": [
    "<div class=\"alert alert-success\">\n",
    "<b>Комментарий ревьюера ✔️:</b> Молодец, что так детально поработала с неявными дубликатами"
   ]
  },
  {
   "cell_type": "code",
   "execution_count": 18,
   "metadata": {},
   "outputs": [
    {
     "name": "stdout",
     "output_type": "stream",
     "text": [
      "23337\n"
     ]
    }
   ],
   "source": [
    "print(data['locality_name'].duplicated().sum()) "
   ]
  },
  {
   "cell_type": "code",
   "execution_count": 19,
   "metadata": {},
   "outputs": [
    {
     "data": {
      "text/plain": [
       "array([  1.  ,   1.2 ,   1.75,   2.  ,   2.2 ,   2.25,   2.3 ,   2.34,\n",
       "         2.4 ,   2.45,   2.46,   2.47,   2.48,   2.49,   2.5 ,   2.51,\n",
       "         2.52,   2.53,   2.54,   2.55,   2.56,   2.57,   2.58,   2.59,\n",
       "         2.6 ,   2.61,   2.62,   2.63,   2.64,   2.65,   2.66,   2.67,\n",
       "         2.68,   2.69,   2.7 ,   2.71,   2.72,   2.73,   2.74,   2.75,\n",
       "         2.76,   2.77,   2.78,   2.79,   2.8 ,   2.81,   2.82,   2.83,\n",
       "         2.84,   2.85,   2.86,   2.87,   2.88,   2.89,   2.9 ,   2.91,\n",
       "         2.92,   2.93,   2.94,   2.95,   2.96,   2.97,   2.98,   2.99,\n",
       "         3.  ,   3.01,   3.02,   3.03,   3.04,   3.05,   3.06,   3.07,\n",
       "         3.08,   3.09,   3.1 ,   3.11,   3.12,   3.13,   3.14,   3.15,\n",
       "         3.16,   3.17,   3.18,   3.2 ,   3.21,   3.22,   3.23,   3.24,\n",
       "         3.25,   3.26,   3.27,   3.28,   3.29,   3.3 ,   3.31,   3.32,\n",
       "         3.33,   3.34,   3.35,   3.36,   3.37,   3.38,   3.39,   3.4 ,\n",
       "         3.42,   3.43,   3.44,   3.45,   3.46,   3.47,   3.48,   3.49,\n",
       "         3.5 ,   3.51,   3.52,   3.53,   3.54,   3.55,   3.56,   3.57,\n",
       "         3.58,   3.59,   3.6 ,   3.62,   3.63,   3.65,   3.66,   3.67,\n",
       "         3.68,   3.69,   3.7 ,   3.75,   3.76,   3.78,   3.8 ,   3.82,\n",
       "         3.83,   3.84,   3.85,   3.86,   3.87,   3.88,   3.9 ,   3.93,\n",
       "         3.95,   3.98,   4.  ,   4.06,   4.1 ,   4.14,   4.15,   4.19,\n",
       "         4.2 ,   4.25,   4.3 ,   4.37,   4.4 ,   4.45,   4.5 ,   4.65,\n",
       "         4.7 ,   4.8 ,   4.9 ,   5.  ,   5.2 ,   5.3 ,   5.5 ,   5.6 ,\n",
       "         5.8 ,   6.  ,   8.  ,   8.3 ,  10.3 ,  14.  ,  20.  ,  22.6 ,\n",
       "        24.  ,  25.  ,  26.  ,  27.  ,  27.5 ,  32.  , 100.  ,    nan])"
      ]
     },
     "execution_count": 19,
     "metadata": {},
     "output_type": "execute_result"
    }
   ],
   "source": [
    "data['ceiling_height'].sort_values().unique()#перейду к высоте потолков. "
   ]
  },
  {
   "cell_type": "code",
   "execution_count": 20,
   "metadata": {},
   "outputs": [],
   "source": [
    "data = data[(data['ceiling_height'] != 1) & (data['ceiling_height'] != 100) & (data['ceiling_height'] != 1.2)]#исключила явно искажающие среднюю данные, аномальные значения"
   ]
  },
  {
   "cell_type": "code",
   "execution_count": 21,
   "metadata": {},
   "outputs": [
    {
     "data": {
      "text/plain": [
       "355      2.50\n",
       "3148     3.20\n",
       "4643     2.50\n",
       "4876     2.70\n",
       "5076     2.40\n",
       "5246     2.70\n",
       "5669     2.60\n",
       "5807     2.70\n",
       "6246     2.50\n",
       "9379     2.50\n",
       "10773    2.70\n",
       "11285    2.50\n",
       "14382    2.50\n",
       "17496    2.00\n",
       "17857    2.70\n",
       "18545    2.50\n",
       "20478    2.70\n",
       "20507    2.26\n",
       "21377    2.75\n",
       "21824    2.70\n",
       "22336    3.20\n",
       "22938    2.70\n",
       "Name: ceiling_height, dtype: float64"
      ]
     },
     "execution_count": 21,
     "metadata": {},
     "output_type": "execute_result"
    }
   ],
   "source": [
    "data.loc[(data['ceiling_height']>=20), 'ceiling_height'] / 10    # в некоторых значениях указана высота потолков 25 м и 32 м. Логично предположить, что на самом деле это вещественные значения: 2.5 м и 3.2 м. Приступаю к их обработке,  аномалии в этом  столбце удалила. "
   ]
  },
  {
   "cell_type": "markdown",
   "metadata": {},
   "source": [
    "исключаю аномально высокие потолки,и так же увидев что скорее всего точка ошибочно стоит в некоторых данных, разделю на 10. такие данные более похожи на правду."
   ]
  },
  {
   "cell_type": "code",
   "execution_count": 22,
   "metadata": {},
   "outputs": [
    {
     "data": {
      "text/plain": [
       "array([ 1.75,  2.  ,  2.2 ,  2.25,  2.3 ,  2.34,  2.4 ,  2.45,  2.46,\n",
       "        2.47,  2.48,  2.49,  2.5 ,  2.51,  2.52,  2.53,  2.54,  2.55,\n",
       "        2.56,  2.57,  2.58,  2.59,  2.6 ,  2.61,  2.62,  2.63,  2.64,\n",
       "        2.65,  2.66,  2.67,  2.68,  2.69,  2.7 ,  2.71,  2.72,  2.73,\n",
       "        2.74,  2.75,  2.76,  2.77,  2.78,  2.79,  2.8 ,  2.81,  2.82,\n",
       "        2.83,  2.84,  2.85,  2.86,  2.87,  2.88,  2.89,  2.9 ,  2.91,\n",
       "        2.92,  2.93,  2.94,  2.95,  2.96,  2.97,  2.98,  2.99,  3.  ,\n",
       "        3.01,  3.02,  3.03,  3.04,  3.05,  3.06,  3.07,  3.08,  3.09,\n",
       "        3.1 ,  3.11,  3.12,  3.13,  3.14,  3.15,  3.16,  3.17,  3.18,\n",
       "        3.2 ,  3.21,  3.22,  3.23,  3.24,  3.25,  3.26,  3.27,  3.28,\n",
       "        3.29,  3.3 ,  3.31,  3.32,  3.33,  3.34,  3.35,  3.36,  3.37,\n",
       "        3.38,  3.39,  3.4 ,  3.42,  3.43,  3.44,  3.45,  3.46,  3.47,\n",
       "        3.48,  3.49,  3.5 ,  3.51,  3.52,  3.53,  3.54,  3.55,  3.56,\n",
       "        3.57,  3.58,  3.59,  3.6 ,  3.62,  3.63,  3.65,  3.66,  3.67,\n",
       "        3.68,  3.69,  3.7 ,  3.75,  3.76,  3.78,  3.8 ,  3.82,  3.83,\n",
       "        3.84,  3.85,  3.86,  3.87,  3.88,  3.9 ,  3.93,  3.95,  3.98,\n",
       "        4.  ,  4.06,  4.1 ,  4.14,  4.15,  4.19,  4.2 ,  4.25,  4.3 ,\n",
       "        4.37,  4.4 ,  4.45,  4.5 ,  4.65,  4.7 ,  4.8 ,  4.9 ,  5.  ,\n",
       "        5.2 ,  5.3 ,  5.5 ,  5.6 ,  5.8 ,  6.  ,  8.  ,  8.3 , 10.3 ,\n",
       "       14.  , 20.  , 22.6 , 24.  , 25.  , 26.  , 27.  , 27.5 , 32.  ,\n",
       "         nan])"
      ]
     },
     "execution_count": 22,
     "metadata": {},
     "output_type": "execute_result"
    }
   ],
   "source": [
    "data['ceiling_height'].sort_values().unique()"
   ]
  },
  {
   "cell_type": "code",
   "execution_count": 23,
   "metadata": {},
   "outputs": [
    {
     "data": {
      "text/plain": [
       "<AxesSubplot:>"
      ]
     },
     "execution_count": 23,
     "metadata": {},
     "output_type": "execute_result"
    },
    {
     "data": {
      "image/png": "[encoded data removed]",
      "text/plain": [
       "<Figure size 432x288 with 1 Axes>"
      ]
     },
     "metadata": {
      "needs_background": "light"
     },
     "output_type": "display_data"
    }
   ],
   "source": [
    "data[\"ceiling_height\"].hist()"
   ]
  },
  {
   "cell_type": "code",
   "execution_count": 24,
   "metadata": {},
   "outputs": [
    {
     "data": {
      "text/html": [
       "<div>\n",
       "<style scoped>\n",
       "    .dataframe tbody tr th:only-of-type {\n",
       "        vertical-align: middle;\n",
       "    }\n",
       "\n",
       "    .dataframe tbody tr th {\n",
       "        vertical-align: top;\n",
       "    }\n",
       "\n",
       "    .dataframe thead th {\n",
       "        text-align: right;\n",
       "    }\n",
       "</style>\n",
       "<table border=\"1\" class=\"dataframe\">\n",
       "  <thead>\n",
       "    <tr style=\"text-align: right;\">\n",
       "      <th></th>\n",
       "      <th>total_images</th>\n",
       "      <th>last_price</th>\n",
       "      <th>total_area</th>\n",
       "      <th>rooms</th>\n",
       "      <th>ceiling_height</th>\n",
       "      <th>floors_total</th>\n",
       "      <th>living_area</th>\n",
       "      <th>floor</th>\n",
       "      <th>kitchen_area</th>\n",
       "      <th>balcony</th>\n",
       "      <th>airports_nearest</th>\n",
       "      <th>cityCenters_nearest</th>\n",
       "      <th>parks_around3000</th>\n",
       "      <th>parks_nearest</th>\n",
       "      <th>ponds_around3000</th>\n",
       "      <th>ponds_nearest</th>\n",
       "      <th>days_exposition</th>\n",
       "    </tr>\n",
       "  </thead>\n",
       "  <tbody>\n",
       "    <tr>\n",
       "      <th>count</th>\n",
       "      <td>23696.000000</td>\n",
       "      <td>2.369600e+04</td>\n",
       "      <td>23696.000000</td>\n",
       "      <td>23696.000000</td>\n",
       "      <td>14501.000000</td>\n",
       "      <td>23610.000000</td>\n",
       "      <td>21793.000000</td>\n",
       "      <td>23696.000000</td>\n",
       "      <td>21418.000000</td>\n",
       "      <td>23696.000000</td>\n",
       "      <td>18155.000000</td>\n",
       "      <td>18178.000000</td>\n",
       "      <td>18179.000000</td>\n",
       "      <td>23696.000000</td>\n",
       "      <td>23696.000000</td>\n",
       "      <td>23696.000000</td>\n",
       "      <td>20515.000000</td>\n",
       "    </tr>\n",
       "    <tr>\n",
       "      <th>mean</th>\n",
       "      <td>9.858837</td>\n",
       "      <td>6.541427e+06</td>\n",
       "      <td>60.351109</td>\n",
       "      <td>2.070687</td>\n",
       "      <td>2.765024</td>\n",
       "      <td>10.674375</td>\n",
       "      <td>34.459205</td>\n",
       "      <td>5.892556</td>\n",
       "      <td>10.570064</td>\n",
       "      <td>0.590944</td>\n",
       "      <td>28793.097769</td>\n",
       "      <td>14191.601441</td>\n",
       "      <td>0.611310</td>\n",
       "      <td>167.314905</td>\n",
       "      <td>0.590775</td>\n",
       "      <td>199.125886</td>\n",
       "      <td>180.901438</td>\n",
       "    </tr>\n",
       "    <tr>\n",
       "      <th>std</th>\n",
       "      <td>5.682300</td>\n",
       "      <td>1.088751e+07</td>\n",
       "      <td>35.655401</td>\n",
       "      <td>1.078450</td>\n",
       "      <td>0.968610</td>\n",
       "      <td>6.597242</td>\n",
       "      <td>22.031471</td>\n",
       "      <td>4.885446</td>\n",
       "      <td>5.905736</td>\n",
       "      <td>0.958916</td>\n",
       "      <td>12631.453807</td>\n",
       "      <td>8608.748237</td>\n",
       "      <td>0.802046</td>\n",
       "      <td>306.726186</td>\n",
       "      <td>0.883860</td>\n",
       "      <td>305.202819</td>\n",
       "      <td>219.737521</td>\n",
       "    </tr>\n",
       "    <tr>\n",
       "      <th>min</th>\n",
       "      <td>0.000000</td>\n",
       "      <td>1.219000e+04</td>\n",
       "      <td>12.000000</td>\n",
       "      <td>0.000000</td>\n",
       "      <td>1.750000</td>\n",
       "      <td>1.000000</td>\n",
       "      <td>2.000000</td>\n",
       "      <td>1.000000</td>\n",
       "      <td>1.300000</td>\n",
       "      <td>0.000000</td>\n",
       "      <td>0.000000</td>\n",
       "      <td>181.000000</td>\n",
       "      <td>0.000000</td>\n",
       "      <td>0.000000</td>\n",
       "      <td>0.000000</td>\n",
       "      <td>0.000000</td>\n",
       "      <td>1.000000</td>\n",
       "    </tr>\n",
       "    <tr>\n",
       "      <th>25%</th>\n",
       "      <td>6.000000</td>\n",
       "      <td>3.400000e+06</td>\n",
       "      <td>40.000000</td>\n",
       "      <td>1.000000</td>\n",
       "      <td>2.520000</td>\n",
       "      <td>5.000000</td>\n",
       "      <td>18.600000</td>\n",
       "      <td>2.000000</td>\n",
       "      <td>7.000000</td>\n",
       "      <td>0.000000</td>\n",
       "      <td>18583.500000</td>\n",
       "      <td>9238.000000</td>\n",
       "      <td>0.000000</td>\n",
       "      <td>0.000000</td>\n",
       "      <td>0.000000</td>\n",
       "      <td>0.000000</td>\n",
       "      <td>45.000000</td>\n",
       "    </tr>\n",
       "    <tr>\n",
       "      <th>50%</th>\n",
       "      <td>9.000000</td>\n",
       "      <td>4.650000e+06</td>\n",
       "      <td>52.000000</td>\n",
       "      <td>2.000000</td>\n",
       "      <td>2.650000</td>\n",
       "      <td>9.000000</td>\n",
       "      <td>30.000000</td>\n",
       "      <td>4.000000</td>\n",
       "      <td>9.100000</td>\n",
       "      <td>0.000000</td>\n",
       "      <td>26726.000000</td>\n",
       "      <td>13098.500000</td>\n",
       "      <td>0.000000</td>\n",
       "      <td>0.000000</td>\n",
       "      <td>0.000000</td>\n",
       "      <td>0.000000</td>\n",
       "      <td>95.000000</td>\n",
       "    </tr>\n",
       "    <tr>\n",
       "      <th>75%</th>\n",
       "      <td>14.000000</td>\n",
       "      <td>6.800000e+06</td>\n",
       "      <td>69.900000</td>\n",
       "      <td>3.000000</td>\n",
       "      <td>2.800000</td>\n",
       "      <td>16.000000</td>\n",
       "      <td>42.300000</td>\n",
       "      <td>8.000000</td>\n",
       "      <td>12.000000</td>\n",
       "      <td>1.000000</td>\n",
       "      <td>37274.000000</td>\n",
       "      <td>16293.000000</td>\n",
       "      <td>1.000000</td>\n",
       "      <td>301.250000</td>\n",
       "      <td>1.000000</td>\n",
       "      <td>389.000000</td>\n",
       "      <td>232.000000</td>\n",
       "    </tr>\n",
       "    <tr>\n",
       "      <th>max</th>\n",
       "      <td>50.000000</td>\n",
       "      <td>7.630000e+08</td>\n",
       "      <td>900.000000</td>\n",
       "      <td>19.000000</td>\n",
       "      <td>32.000000</td>\n",
       "      <td>60.000000</td>\n",
       "      <td>409.700000</td>\n",
       "      <td>33.000000</td>\n",
       "      <td>112.000000</td>\n",
       "      <td>5.000000</td>\n",
       "      <td>84869.000000</td>\n",
       "      <td>65968.000000</td>\n",
       "      <td>3.000000</td>\n",
       "      <td>3190.000000</td>\n",
       "      <td>3.000000</td>\n",
       "      <td>1344.000000</td>\n",
       "      <td>1580.000000</td>\n",
       "    </tr>\n",
       "  </tbody>\n",
       "</table>\n",
       "</div>"
      ],
      "text/plain": [
       "       total_images    last_price    total_area         rooms  ceiling_height  \\\n",
       "count  23696.000000  2.369600e+04  23696.000000  23696.000000    14501.000000   \n",
       "mean       9.858837  6.541427e+06     60.351109      2.070687        2.765024   \n",
       "std        5.682300  1.088751e+07     35.655401      1.078450        0.968610   \n",
       "min        0.000000  1.219000e+04     12.000000      0.000000        1.750000   \n",
       "25%        6.000000  3.400000e+06     40.000000      1.000000        2.520000   \n",
       "50%        9.000000  4.650000e+06     52.000000      2.000000        2.650000   \n",
       "75%       14.000000  6.800000e+06     69.900000      3.000000        2.800000   \n",
       "max       50.000000  7.630000e+08    900.000000     19.000000       32.000000   \n",
       "\n",
       "       floors_total   living_area         floor  kitchen_area       balcony  \\\n",
       "count  23610.000000  21793.000000  23696.000000  21418.000000  23696.000000   \n",
       "mean      10.674375     34.459205      5.892556     10.570064      0.590944   \n",
       "std        6.597242     22.031471      4.885446      5.905736      0.958916   \n",
       "min        1.000000      2.000000      1.000000      1.300000      0.000000   \n",
       "25%        5.000000     18.600000      2.000000      7.000000      0.000000   \n",
       "50%        9.000000     30.000000      4.000000      9.100000      0.000000   \n",
       "75%       16.000000     42.300000      8.000000     12.000000      1.000000   \n",
       "max       60.000000    409.700000     33.000000    112.000000      5.000000   \n",
       "\n",
       "       airports_nearest  cityCenters_nearest  parks_around3000  parks_nearest  \\\n",
       "count      18155.000000         18178.000000      18179.000000   23696.000000   \n",
       "mean       28793.097769         14191.601441          0.611310     167.314905   \n",
       "std        12631.453807          8608.748237          0.802046     306.726186   \n",
       "min            0.000000           181.000000          0.000000       0.000000   \n",
       "25%        18583.500000          9238.000000          0.000000       0.000000   \n",
       "50%        26726.000000         13098.500000          0.000000       0.000000   \n",
       "75%        37274.000000         16293.000000          1.000000     301.250000   \n",
       "max        84869.000000         65968.000000          3.000000    3190.000000   \n",
       "\n",
       "       ponds_around3000  ponds_nearest  days_exposition  \n",
       "count      23696.000000   23696.000000     20515.000000  \n",
       "mean           0.590775     199.125886       180.901438  \n",
       "std            0.883860     305.202819       219.737521  \n",
       "min            0.000000       0.000000         1.000000  \n",
       "25%            0.000000       0.000000        45.000000  \n",
       "50%            0.000000       0.000000        95.000000  \n",
       "75%            1.000000     389.000000       232.000000  \n",
       "max            3.000000    1344.000000      1580.000000  "
      ]
     },
     "execution_count": 24,
     "metadata": {},
     "output_type": "execute_result"
    }
   ],
   "source": [
    "data.describe()\n"
   ]
  },
  {
   "cell_type": "markdown",
   "metadata": {},
   "source": [
    "Вывод:много пропущенных данных по высоте потолка ceiling_height (9195) - \n",
    "данная информация достаточно предсказуемая, но она отсуствует. Предполагаю, что некоторые не\n",
    "считают это обязательным для заполнения пунктом и поэтому не предприняли никаких действий для того,\n",
    "чтоб узнать высоту своих потолков, иначе бы данные присутствовали. думаю что данные можно \n",
    "заполнить константой.\n",
    "Вполне возможно, заполнять ее по классу квартиры и по удаленности от центра. еще следует избавится от аномальных значений, таких как 1 и 100 к примеру (сделала). теперь мне кажется данные достаточно правдоподобны. еще попробую несколько действий с данными по потолкам:"
   ]
  },
  {
   "cell_type": "code",
   "execution_count": 25,
   "metadata": {},
   "outputs": [
    {
     "data": {
      "text/plain": [
       "array([ 2.7 ,   nan,  3.03,  2.5 ,  2.67,  2.56,  3.05,  2.75,  2.6 ,\n",
       "        2.9 ,  2.8 ,  2.55,  3.  ,  2.65,  3.2 ,  2.61,  3.25,  3.45,\n",
       "        2.77,  2.85,  2.64,  2.57,  4.15,  3.5 ,  3.3 ,  2.71,  4.  ,\n",
       "        2.47,  2.73,  2.84,  3.1 ,  2.34,  3.4 ,  3.06,  2.72,  2.54,\n",
       "        2.51,  2.78,  2.76, 25.  ,  2.58,  3.7 ,  2.52,  5.2 ,  2.87,\n",
       "        2.66,  2.59,  2.  ,  2.45,  3.6 ,  2.92,  3.11,  3.13,  3.8 ,\n",
       "        3.15,  3.55,  3.16,  3.62,  3.12,  2.53,  2.74,  2.96,  2.46,\n",
       "        5.3 ,  5.  ,  2.79,  2.95,  4.06,  2.94,  3.82,  3.54,  3.53,\n",
       "        2.83,  4.7 ,  2.4 ,  3.38,  3.01,  5.6 ,  3.65,  3.9 ,  3.18,\n",
       "        3.35,  2.3 ,  3.57,  2.48,  2.62,  2.82,  3.98,  2.63,  3.83,\n",
       "        3.52,  3.95,  3.75,  2.88,  3.67,  3.87,  3.66,  3.85,  3.86,\n",
       "        4.19,  3.24,  4.8 ,  4.5 ,  4.2 ,  3.36, 32.  ,  3.08,  3.68,\n",
       "        3.07,  3.37,  3.09,  8.  ,  3.26,  3.34,  2.81,  3.44,  2.97,\n",
       "        3.14,  4.37,  2.68,  3.22,  3.27, 27.  ,  4.1 ,  2.93,  3.46,\n",
       "       24.  ,  3.47,  3.33,  3.63,  3.32, 26.  ,  8.3 ,  2.98,  2.86,\n",
       "        3.17,  4.4 ,  3.28,  3.04,  4.45,  5.5 ,  3.84,  3.23,  3.02,\n",
       "        3.21,  3.43,  3.78,  4.3 ,  3.39,  2.69,  3.31,  4.65,  3.56,\n",
       "        2.2 ,  3.51,  3.93,  3.42,  2.99,  3.49, 14.  ,  4.14,  2.91,\n",
       "        3.88,  1.75,  4.25,  3.29, 20.  ,  2.25,  3.76,  3.69,  6.  ,\n",
       "       22.6 ,  2.89,  3.58,  5.8 , 27.5 ,  2.49,  4.9 ,  3.48, 10.3 ,\n",
       "        3.59])"
      ]
     },
     "execution_count": 25,
     "metadata": {},
     "output_type": "execute_result"
    }
   ],
   "source": [
    "data['ceiling_height'].unique()#посмотрю уникальные значения"
   ]
  },
  {
   "cell_type": "code",
   "execution_count": 26,
   "metadata": {},
   "outputs": [
    {
     "data": {
      "text/plain": [
       "9195"
      ]
     },
     "execution_count": 26,
     "metadata": {},
     "output_type": "execute_result"
    }
   ],
   "source": [
    "data['ceiling_height'].isnull().sum()"
   ]
  },
  {
   "cell_type": "code",
   "execution_count": 27,
   "metadata": {},
   "outputs": [
    {
     "name": "stdout",
     "output_type": "stream",
     "text": [
      "Количество NaN по ceiling_height: 9195\n"
     ]
    }
   ],
   "source": [
    "print('Количество NaN по ceiling_height:', data['ceiling_height'].isnull().sum())\n",
    "#вывожу на экран количество nan"
   ]
  },
  {
   "cell_type": "markdown",
   "metadata": {},
   "source": [
    "в разделе предобработка данных, мною была рассмотрена предоставленная таблица, я проверила ее на заполненность ее данными. проверила ее на явные и неявные дубликаты, исключила неявные дубликаты.\n",
    "Изменила тип данных некоторых столбцов. провела корректировку столбца \"высота потолков\". Исключила невероятно высокие, путем переноса разделительного знака. исключила потолок высотой 1 метр и 100, как аномалии.\n",
    "заполнила 0 ячейки"
   ]
  },
  {
   "cell_type": "markdown",
   "metadata": {},
   "source": [
    "# Добавляю в таблицу новые столбцы со следующими параметрами"
   ]
  },
  {
   "cell_type": "code",
   "execution_count": 28,
   "metadata": {},
   "outputs": [
    {
     "name": "stdout",
     "output_type": "stream",
     "text": [
      "   total_images  last_price  total_area first_day_exposition  rooms  \\\n",
      "0            20  13000000.0       108.0  2019-03-07T00:00:00      3   \n",
      "1             7   3350000.0        40.4  2018-12-04T00:00:00      1   \n",
      "2            10   5196000.0        56.0  2015-08-20T00:00:00      2   \n",
      "3             0  64900000.0       159.0  2015-07-24T00:00:00      3   \n",
      "4             2  10000000.0       100.0  2018-06-19T00:00:00      2   \n",
      "\n",
      "   ceiling_height  floors_total  living_area  floor is_apartment  ...  \\\n",
      "0            2.70          16.0         51.0      8          NaN  ...   \n",
      "1             NaN          11.0         18.6      1          NaN  ...   \n",
      "2             NaN           5.0         34.3      4          NaN  ...   \n",
      "3             NaN          14.0          NaN      9          NaN  ...   \n",
      "4            3.03          14.0         32.0     13          NaN  ...   \n",
      "\n",
      "   balcony    locality_name  airports_nearest  cityCenters_nearest  \\\n",
      "0        0  Санкт-Петербург           18863.0              16028.0   \n",
      "1        2   посёлок Шушары           12817.0              18603.0   \n",
      "2        0  Санкт-Петербург           21741.0              13933.0   \n",
      "3        0  Санкт-Петербург           28098.0               6800.0   \n",
      "4        0  Санкт-Петербург           31856.0               8098.0   \n",
      "\n",
      "  parks_around3000  parks_nearest  ponds_around3000  ponds_nearest  \\\n",
      "0              1.0            482                 2            755   \n",
      "1              0.0              0                 0              0   \n",
      "2              1.0             90                 2            574   \n",
      "3              2.0             84                 3            234   \n",
      "4              2.0            112                 1             48   \n",
      "\n",
      "   days_exposition     price_area  \n",
      "0              NaN  120370.370370  \n",
      "1             81.0   82920.792079  \n",
      "2            558.0   92785.714286  \n",
      "3            424.0  408176.100629  \n",
      "4            121.0  100000.000000  \n",
      "\n",
      "[5 rows x 23 columns]\n"
     ]
    }
   ],
   "source": [
    "data[\"price_area\"]=data[\"last_price\"]/data[\"total_area\"]\n",
    "print(data.head(5))#добавила колонку цены за квадратный метр"
   ]
  },
  {
   "cell_type": "code",
   "execution_count": 29,
   "metadata": {},
   "outputs": [
    {
     "data": {
      "text/html": [
       "<div>\n",
       "<style scoped>\n",
       "    .dataframe tbody tr th:only-of-type {\n",
       "        vertical-align: middle;\n",
       "    }\n",
       "\n",
       "    .dataframe tbody tr th {\n",
       "        vertical-align: top;\n",
       "    }\n",
       "\n",
       "    .dataframe thead th {\n",
       "        text-align: right;\n",
       "    }\n",
       "</style>\n",
       "<table border=\"1\" class=\"dataframe\">\n",
       "  <thead>\n",
       "    <tr style=\"text-align: right;\">\n",
       "      <th></th>\n",
       "      <th>total_images</th>\n",
       "      <th>last_price</th>\n",
       "      <th>total_area</th>\n",
       "      <th>first_day_exposition</th>\n",
       "      <th>rooms</th>\n",
       "      <th>ceiling_height</th>\n",
       "      <th>floors_total</th>\n",
       "      <th>living_area</th>\n",
       "      <th>floor</th>\n",
       "      <th>is_apartment</th>\n",
       "      <th>...</th>\n",
       "      <th>balcony</th>\n",
       "      <th>locality_name</th>\n",
       "      <th>airports_nearest</th>\n",
       "      <th>cityCenters_nearest</th>\n",
       "      <th>parks_around3000</th>\n",
       "      <th>parks_nearest</th>\n",
       "      <th>ponds_around3000</th>\n",
       "      <th>ponds_nearest</th>\n",
       "      <th>days_exposition</th>\n",
       "      <th>price_area</th>\n",
       "    </tr>\n",
       "  </thead>\n",
       "  <tbody>\n",
       "    <tr>\n",
       "      <th>0</th>\n",
       "      <td>20</td>\n",
       "      <td>13000000.0</td>\n",
       "      <td>108.00</td>\n",
       "      <td>2019-03-07T00:00:00</td>\n",
       "      <td>3</td>\n",
       "      <td>2.70</td>\n",
       "      <td>16.0</td>\n",
       "      <td>51.00</td>\n",
       "      <td>8</td>\n",
       "      <td>NaN</td>\n",
       "      <td>...</td>\n",
       "      <td>0</td>\n",
       "      <td>Санкт-Петербург</td>\n",
       "      <td>18863.0</td>\n",
       "      <td>16028.0</td>\n",
       "      <td>1.0</td>\n",
       "      <td>482</td>\n",
       "      <td>2</td>\n",
       "      <td>755</td>\n",
       "      <td>NaN</td>\n",
       "      <td>120370.37</td>\n",
       "    </tr>\n",
       "    <tr>\n",
       "      <th>1</th>\n",
       "      <td>7</td>\n",
       "      <td>3350000.0</td>\n",
       "      <td>40.40</td>\n",
       "      <td>2018-12-04T00:00:00</td>\n",
       "      <td>1</td>\n",
       "      <td>NaN</td>\n",
       "      <td>11.0</td>\n",
       "      <td>18.60</td>\n",
       "      <td>1</td>\n",
       "      <td>NaN</td>\n",
       "      <td>...</td>\n",
       "      <td>2</td>\n",
       "      <td>посёлок Шушары</td>\n",
       "      <td>12817.0</td>\n",
       "      <td>18603.0</td>\n",
       "      <td>0.0</td>\n",
       "      <td>0</td>\n",
       "      <td>0</td>\n",
       "      <td>0</td>\n",
       "      <td>81.0</td>\n",
       "      <td>82920.79</td>\n",
       "    </tr>\n",
       "    <tr>\n",
       "      <th>2</th>\n",
       "      <td>10</td>\n",
       "      <td>5196000.0</td>\n",
       "      <td>56.00</td>\n",
       "      <td>2015-08-20T00:00:00</td>\n",
       "      <td>2</td>\n",
       "      <td>NaN</td>\n",
       "      <td>5.0</td>\n",
       "      <td>34.30</td>\n",
       "      <td>4</td>\n",
       "      <td>NaN</td>\n",
       "      <td>...</td>\n",
       "      <td>0</td>\n",
       "      <td>Санкт-Петербург</td>\n",
       "      <td>21741.0</td>\n",
       "      <td>13933.0</td>\n",
       "      <td>1.0</td>\n",
       "      <td>90</td>\n",
       "      <td>2</td>\n",
       "      <td>574</td>\n",
       "      <td>558.0</td>\n",
       "      <td>92785.71</td>\n",
       "    </tr>\n",
       "    <tr>\n",
       "      <th>3</th>\n",
       "      <td>0</td>\n",
       "      <td>64900000.0</td>\n",
       "      <td>159.00</td>\n",
       "      <td>2015-07-24T00:00:00</td>\n",
       "      <td>3</td>\n",
       "      <td>NaN</td>\n",
       "      <td>14.0</td>\n",
       "      <td>NaN</td>\n",
       "      <td>9</td>\n",
       "      <td>NaN</td>\n",
       "      <td>...</td>\n",
       "      <td>0</td>\n",
       "      <td>Санкт-Петербург</td>\n",
       "      <td>28098.0</td>\n",
       "      <td>6800.0</td>\n",
       "      <td>2.0</td>\n",
       "      <td>84</td>\n",
       "      <td>3</td>\n",
       "      <td>234</td>\n",
       "      <td>424.0</td>\n",
       "      <td>408176.10</td>\n",
       "    </tr>\n",
       "    <tr>\n",
       "      <th>4</th>\n",
       "      <td>2</td>\n",
       "      <td>10000000.0</td>\n",
       "      <td>100.00</td>\n",
       "      <td>2018-06-19T00:00:00</td>\n",
       "      <td>2</td>\n",
       "      <td>3.03</td>\n",
       "      <td>14.0</td>\n",
       "      <td>32.00</td>\n",
       "      <td>13</td>\n",
       "      <td>NaN</td>\n",
       "      <td>...</td>\n",
       "      <td>0</td>\n",
       "      <td>Санкт-Петербург</td>\n",
       "      <td>31856.0</td>\n",
       "      <td>8098.0</td>\n",
       "      <td>2.0</td>\n",
       "      <td>112</td>\n",
       "      <td>1</td>\n",
       "      <td>48</td>\n",
       "      <td>121.0</td>\n",
       "      <td>100000.00</td>\n",
       "    </tr>\n",
       "    <tr>\n",
       "      <th>5</th>\n",
       "      <td>10</td>\n",
       "      <td>2890000.0</td>\n",
       "      <td>30.40</td>\n",
       "      <td>2018-09-10T00:00:00</td>\n",
       "      <td>1</td>\n",
       "      <td>NaN</td>\n",
       "      <td>12.0</td>\n",
       "      <td>14.40</td>\n",
       "      <td>5</td>\n",
       "      <td>NaN</td>\n",
       "      <td>...</td>\n",
       "      <td>0</td>\n",
       "      <td>городской посёлок Янино-1</td>\n",
       "      <td>NaN</td>\n",
       "      <td>NaN</td>\n",
       "      <td>NaN</td>\n",
       "      <td>0</td>\n",
       "      <td>0</td>\n",
       "      <td>0</td>\n",
       "      <td>55.0</td>\n",
       "      <td>95065.79</td>\n",
       "    </tr>\n",
       "    <tr>\n",
       "      <th>6</th>\n",
       "      <td>6</td>\n",
       "      <td>3700000.0</td>\n",
       "      <td>37.30</td>\n",
       "      <td>2017-11-02T00:00:00</td>\n",
       "      <td>1</td>\n",
       "      <td>NaN</td>\n",
       "      <td>26.0</td>\n",
       "      <td>10.60</td>\n",
       "      <td>6</td>\n",
       "      <td>NaN</td>\n",
       "      <td>...</td>\n",
       "      <td>1</td>\n",
       "      <td>посёлок Парголово</td>\n",
       "      <td>52996.0</td>\n",
       "      <td>19143.0</td>\n",
       "      <td>0.0</td>\n",
       "      <td>0</td>\n",
       "      <td>0</td>\n",
       "      <td>0</td>\n",
       "      <td>155.0</td>\n",
       "      <td>99195.71</td>\n",
       "    </tr>\n",
       "    <tr>\n",
       "      <th>7</th>\n",
       "      <td>5</td>\n",
       "      <td>7915000.0</td>\n",
       "      <td>71.60</td>\n",
       "      <td>2019-04-18T00:00:00</td>\n",
       "      <td>2</td>\n",
       "      <td>NaN</td>\n",
       "      <td>24.0</td>\n",
       "      <td>NaN</td>\n",
       "      <td>22</td>\n",
       "      <td>NaN</td>\n",
       "      <td>...</td>\n",
       "      <td>2</td>\n",
       "      <td>Санкт-Петербург</td>\n",
       "      <td>23982.0</td>\n",
       "      <td>11634.0</td>\n",
       "      <td>0.0</td>\n",
       "      <td>0</td>\n",
       "      <td>0</td>\n",
       "      <td>0</td>\n",
       "      <td>NaN</td>\n",
       "      <td>110544.69</td>\n",
       "    </tr>\n",
       "    <tr>\n",
       "      <th>8</th>\n",
       "      <td>20</td>\n",
       "      <td>2900000.0</td>\n",
       "      <td>33.16</td>\n",
       "      <td>2018-05-23T00:00:00</td>\n",
       "      <td>1</td>\n",
       "      <td>NaN</td>\n",
       "      <td>27.0</td>\n",
       "      <td>15.43</td>\n",
       "      <td>26</td>\n",
       "      <td>NaN</td>\n",
       "      <td>...</td>\n",
       "      <td>0</td>\n",
       "      <td>посёлок Мурино</td>\n",
       "      <td>NaN</td>\n",
       "      <td>NaN</td>\n",
       "      <td>NaN</td>\n",
       "      <td>0</td>\n",
       "      <td>0</td>\n",
       "      <td>0</td>\n",
       "      <td>189.0</td>\n",
       "      <td>87454.76</td>\n",
       "    </tr>\n",
       "    <tr>\n",
       "      <th>9</th>\n",
       "      <td>18</td>\n",
       "      <td>5400000.0</td>\n",
       "      <td>61.00</td>\n",
       "      <td>2017-02-26T00:00:00</td>\n",
       "      <td>3</td>\n",
       "      <td>2.50</td>\n",
       "      <td>9.0</td>\n",
       "      <td>43.60</td>\n",
       "      <td>7</td>\n",
       "      <td>NaN</td>\n",
       "      <td>...</td>\n",
       "      <td>2</td>\n",
       "      <td>Санкт-Петербург</td>\n",
       "      <td>50898.0</td>\n",
       "      <td>15008.0</td>\n",
       "      <td>0.0</td>\n",
       "      <td>0</td>\n",
       "      <td>0</td>\n",
       "      <td>0</td>\n",
       "      <td>289.0</td>\n",
       "      <td>88524.59</td>\n",
       "    </tr>\n",
       "  </tbody>\n",
       "</table>\n",
       "<p>10 rows × 23 columns</p>\n",
       "</div>"
      ],
      "text/plain": [
       "   total_images  last_price  total_area first_day_exposition  rooms  \\\n",
       "0            20  13000000.0      108.00  2019-03-07T00:00:00      3   \n",
       "1             7   3350000.0       40.40  2018-12-04T00:00:00      1   \n",
       "2            10   5196000.0       56.00  2015-08-20T00:00:00      2   \n",
       "3             0  64900000.0      159.00  2015-07-24T00:00:00      3   \n",
       "4             2  10000000.0      100.00  2018-06-19T00:00:00      2   \n",
       "5            10   2890000.0       30.40  2018-09-10T00:00:00      1   \n",
       "6             6   3700000.0       37.30  2017-11-02T00:00:00      1   \n",
       "7             5   7915000.0       71.60  2019-04-18T00:00:00      2   \n",
       "8            20   2900000.0       33.16  2018-05-23T00:00:00      1   \n",
       "9            18   5400000.0       61.00  2017-02-26T00:00:00      3   \n",
       "\n",
       "   ceiling_height  floors_total  living_area  floor is_apartment  ...  \\\n",
       "0            2.70          16.0        51.00      8          NaN  ...   \n",
       "1             NaN          11.0        18.60      1          NaN  ...   \n",
       "2             NaN           5.0        34.30      4          NaN  ...   \n",
       "3             NaN          14.0          NaN      9          NaN  ...   \n",
       "4            3.03          14.0        32.00     13          NaN  ...   \n",
       "5             NaN          12.0        14.40      5          NaN  ...   \n",
       "6             NaN          26.0        10.60      6          NaN  ...   \n",
       "7             NaN          24.0          NaN     22          NaN  ...   \n",
       "8             NaN          27.0        15.43     26          NaN  ...   \n",
       "9            2.50           9.0        43.60      7          NaN  ...   \n",
       "\n",
       "   balcony              locality_name  airports_nearest  cityCenters_nearest  \\\n",
       "0        0            Санкт-Петербург           18863.0              16028.0   \n",
       "1        2             посёлок Шушары           12817.0              18603.0   \n",
       "2        0            Санкт-Петербург           21741.0              13933.0   \n",
       "3        0            Санкт-Петербург           28098.0               6800.0   \n",
       "4        0            Санкт-Петербург           31856.0               8098.0   \n",
       "5        0  городской посёлок Янино-1               NaN                  NaN   \n",
       "6        1          посёлок Парголово           52996.0              19143.0   \n",
       "7        2            Санкт-Петербург           23982.0              11634.0   \n",
       "8        0             посёлок Мурино               NaN                  NaN   \n",
       "9        2            Санкт-Петербург           50898.0              15008.0   \n",
       "\n",
       "  parks_around3000  parks_nearest  ponds_around3000  ponds_nearest  \\\n",
       "0              1.0            482                 2            755   \n",
       "1              0.0              0                 0              0   \n",
       "2              1.0             90                 2            574   \n",
       "3              2.0             84                 3            234   \n",
       "4              2.0            112                 1             48   \n",
       "5              NaN              0                 0              0   \n",
       "6              0.0              0                 0              0   \n",
       "7              0.0              0                 0              0   \n",
       "8              NaN              0                 0              0   \n",
       "9              0.0              0                 0              0   \n",
       "\n",
       "   days_exposition  price_area  \n",
       "0              NaN   120370.37  \n",
       "1             81.0    82920.79  \n",
       "2            558.0    92785.71  \n",
       "3            424.0   408176.10  \n",
       "4            121.0   100000.00  \n",
       "5             55.0    95065.79  \n",
       "6            155.0    99195.71  \n",
       "7              NaN   110544.69  \n",
       "8            189.0    87454.76  \n",
       "9            289.0    88524.59  \n",
       "\n",
       "[10 rows x 23 columns]"
      ]
     },
     "execution_count": 29,
     "metadata": {},
     "output_type": "execute_result"
    }
   ],
   "source": [
    "list_to_float_1 = [\"last_price\", 'total_area', 'ceiling_height', 'living_area', 'kitchen_area', \"price_area\"]\n",
    "for column in list_to_float_1:\n",
    "   data[column] = data[data[column].notnull()][column].round(2)#округляем до 2 знаков\n",
    "#Проверяем, что получилось:\n",
    "\n",
    "data.head(10)"
   ]
  },
  {
   "cell_type": "code",
   "execution_count": 30,
   "metadata": {},
   "outputs": [],
   "source": [
    "#столбец апартаменты видимо появился не вместе с началом ведения записей, все пропущенные значения заменим на False, \n",
    "#апартаменты появились относительно недавно\n",
    "data['is_apartment'] = data['is_apartment'].fillna(False)"
   ]
  },
  {
   "cell_type": "code",
   "execution_count": 31,
   "metadata": {},
   "outputs": [
    {
     "name": "stdout",
     "output_type": "stream",
     "text": [
      "<class 'pandas.core.frame.DataFrame'>\n",
      "Int64Index: 23696 entries, 0 to 23698\n",
      "Data columns (total 23 columns):\n",
      " #   Column                Non-Null Count  Dtype  \n",
      "---  ------                --------------  -----  \n",
      " 0   total_images          23696 non-null  int64  \n",
      " 1   last_price            23696 non-null  float64\n",
      " 2   total_area            23696 non-null  float64\n",
      " 3   first_day_exposition  23696 non-null  object \n",
      " 4   rooms                 23696 non-null  int64  \n",
      " 5   ceiling_height        14501 non-null  float64\n",
      " 6   floors_total          23610 non-null  float64\n",
      " 7   living_area           21793 non-null  float64\n",
      " 8   floor                 23696 non-null  int64  \n",
      " 9   is_apartment          23696 non-null  bool   \n",
      " 10  studio                23696 non-null  bool   \n",
      " 11  open_plan             23696 non-null  bool   \n",
      " 12  kitchen_area          21418 non-null  float64\n",
      " 13  balcony               23696 non-null  int64  \n",
      " 14  locality_name         23647 non-null  object \n",
      " 15  airports_nearest      18155 non-null  float64\n",
      " 16  cityCenters_nearest   18178 non-null  float64\n",
      " 17  parks_around3000      18179 non-null  float64\n",
      " 18  parks_nearest         23696 non-null  int64  \n",
      " 19  ponds_around3000      23696 non-null  int64  \n",
      " 20  ponds_nearest         23696 non-null  int64  \n",
      " 21  days_exposition       20515 non-null  float64\n",
      " 22  price_area            23696 non-null  float64\n",
      "dtypes: bool(3), float64(11), int64(7), object(2)\n",
      "memory usage: 3.9+ MB\n"
     ]
    }
   ],
   "source": [
    "data.info()# выгрузим информацию общую по таблице. изучив таблицу, думаю в ней много не заполненных данных,   так как\n",
    "#в некоторых столбцах не все данные содержаться.  расстояние до аэропорта данных нет"
   ]
  },
  {
   "cell_type": "code",
   "execution_count": 32,
   "metadata": {},
   "outputs": [
    {
     "name": "stdout",
     "output_type": "stream",
     "text": [
      "   total_images  last_price  total_area first_day_exposition  rooms  \\\n",
      "0            20  13000000.0       108.0           2019-03-07      3   \n",
      "1             7   3350000.0        40.4           2018-12-04      1   \n",
      "2            10   5196000.0        56.0           2015-08-20      2   \n",
      "3             0  64900000.0       159.0           2015-07-24      3   \n",
      "4             2  10000000.0       100.0           2018-06-19      2   \n",
      "\n",
      "   ceiling_height  floors_total  living_area  floor  is_apartment  ...  \\\n",
      "0            2.70          16.0         51.0      8         False  ...   \n",
      "1             NaN          11.0         18.6      1         False  ...   \n",
      "2             NaN           5.0         34.3      4         False  ...   \n",
      "3             NaN          14.0          NaN      9         False  ...   \n",
      "4            3.03          14.0         32.0     13         False  ...   \n",
      "\n",
      "   balcony    locality_name  airports_nearest  cityCenters_nearest  \\\n",
      "0        0  Санкт-Петербург           18863.0              16028.0   \n",
      "1        2   посёлок Шушары           12817.0              18603.0   \n",
      "2        0  Санкт-Петербург           21741.0              13933.0   \n",
      "3        0  Санкт-Петербург           28098.0               6800.0   \n",
      "4        0  Санкт-Петербург           31856.0               8098.0   \n",
      "\n",
      "  parks_around3000  parks_nearest  ponds_around3000  ponds_nearest  \\\n",
      "0              1.0            482                 2            755   \n",
      "1              0.0              0                 0              0   \n",
      "2              1.0             90                 2            574   \n",
      "3              2.0             84                 3            234   \n",
      "4              2.0            112                 1             48   \n",
      "\n",
      "   days_exposition  price_area  \n",
      "0              NaN   120370.37  \n",
      "1             81.0    82920.79  \n",
      "2            558.0    92785.71  \n",
      "3            424.0   408176.10  \n",
      "4            121.0   100000.00  \n",
      "\n",
      "[5 rows x 23 columns]\n"
     ]
    }
   ],
   "source": [
    "data['first_day_exposition'] = pd.to_datetime(data['first_day_exposition'], format='%Y-%m-%dT%H:%M:%S')\n",
    "#Изменяю формат столбца first_day_exposition на datetime\n",
    "print(data.head(5))"
   ]
  },
  {
   "cell_type": "markdown",
   "metadata": {},
   "source": [
    "посмотрим на данные(максимальные и минимальные значения) на их адекватность. колонку цена,пока не трогую, \n",
    "дальше переведу ее в млн. общая площадь квартир  представлена от 12 метров кв. до 900 метров. В целом, данные\n",
    "выглядят нормально. есть32 метровые потолки и 19комнатные квартиры. Будем смотреть. 5 балконов и т.п."
   ]
  },
  {
   "cell_type": "code",
   "execution_count": 33,
   "metadata": {},
   "outputs": [
    {
     "data": {
      "text/html": [
       "<div>\n",
       "<style scoped>\n",
       "    .dataframe tbody tr th:only-of-type {\n",
       "        vertical-align: middle;\n",
       "    }\n",
       "\n",
       "    .dataframe tbody tr th {\n",
       "        vertical-align: top;\n",
       "    }\n",
       "\n",
       "    .dataframe thead th {\n",
       "        text-align: right;\n",
       "    }\n",
       "</style>\n",
       "<table border=\"1\" class=\"dataframe\">\n",
       "  <thead>\n",
       "    <tr style=\"text-align: right;\">\n",
       "      <th></th>\n",
       "      <th>total_images</th>\n",
       "      <th>last_price</th>\n",
       "      <th>total_area</th>\n",
       "      <th>rooms</th>\n",
       "      <th>ceiling_height</th>\n",
       "      <th>floors_total</th>\n",
       "      <th>living_area</th>\n",
       "      <th>floor</th>\n",
       "      <th>kitchen_area</th>\n",
       "      <th>balcony</th>\n",
       "      <th>airports_nearest</th>\n",
       "      <th>cityCenters_nearest</th>\n",
       "      <th>parks_around3000</th>\n",
       "      <th>parks_nearest</th>\n",
       "      <th>ponds_around3000</th>\n",
       "      <th>ponds_nearest</th>\n",
       "      <th>days_exposition</th>\n",
       "      <th>price_area</th>\n",
       "    </tr>\n",
       "  </thead>\n",
       "  <tbody>\n",
       "    <tr>\n",
       "      <th>count</th>\n",
       "      <td>23696.000000</td>\n",
       "      <td>2.369600e+04</td>\n",
       "      <td>23696.000000</td>\n",
       "      <td>23696.000000</td>\n",
       "      <td>14501.000000</td>\n",
       "      <td>23610.000000</td>\n",
       "      <td>21793.000000</td>\n",
       "      <td>23696.000000</td>\n",
       "      <td>21418.000000</td>\n",
       "      <td>23696.000000</td>\n",
       "      <td>18155.000000</td>\n",
       "      <td>18178.000000</td>\n",
       "      <td>18179.000000</td>\n",
       "      <td>23696.000000</td>\n",
       "      <td>23696.000000</td>\n",
       "      <td>23696.000000</td>\n",
       "      <td>20515.000000</td>\n",
       "      <td>2.369600e+04</td>\n",
       "    </tr>\n",
       "    <tr>\n",
       "      <th>mean</th>\n",
       "      <td>9.858837</td>\n",
       "      <td>6.541427e+06</td>\n",
       "      <td>60.351109</td>\n",
       "      <td>2.070687</td>\n",
       "      <td>2.765024</td>\n",
       "      <td>10.674375</td>\n",
       "      <td>34.459205</td>\n",
       "      <td>5.892556</td>\n",
       "      <td>10.570064</td>\n",
       "      <td>0.590944</td>\n",
       "      <td>28793.097769</td>\n",
       "      <td>14191.601441</td>\n",
       "      <td>0.611310</td>\n",
       "      <td>167.314905</td>\n",
       "      <td>0.590775</td>\n",
       "      <td>199.125886</td>\n",
       "      <td>180.901438</td>\n",
       "      <td>9.940284e+04</td>\n",
       "    </tr>\n",
       "    <tr>\n",
       "      <th>std</th>\n",
       "      <td>5.682300</td>\n",
       "      <td>1.088751e+07</td>\n",
       "      <td>35.655401</td>\n",
       "      <td>1.078450</td>\n",
       "      <td>0.968610</td>\n",
       "      <td>6.597242</td>\n",
       "      <td>22.031471</td>\n",
       "      <td>4.885446</td>\n",
       "      <td>5.905736</td>\n",
       "      <td>0.958916</td>\n",
       "      <td>12631.453807</td>\n",
       "      <td>8608.748237</td>\n",
       "      <td>0.802046</td>\n",
       "      <td>306.726186</td>\n",
       "      <td>0.883860</td>\n",
       "      <td>305.202819</td>\n",
       "      <td>219.737521</td>\n",
       "      <td>5.020299e+04</td>\n",
       "    </tr>\n",
       "    <tr>\n",
       "      <th>min</th>\n",
       "      <td>0.000000</td>\n",
       "      <td>1.219000e+04</td>\n",
       "      <td>12.000000</td>\n",
       "      <td>0.000000</td>\n",
       "      <td>1.750000</td>\n",
       "      <td>1.000000</td>\n",
       "      <td>2.000000</td>\n",
       "      <td>1.000000</td>\n",
       "      <td>1.300000</td>\n",
       "      <td>0.000000</td>\n",
       "      <td>0.000000</td>\n",
       "      <td>181.000000</td>\n",
       "      <td>0.000000</td>\n",
       "      <td>0.000000</td>\n",
       "      <td>0.000000</td>\n",
       "      <td>0.000000</td>\n",
       "      <td>1.000000</td>\n",
       "      <td>1.118300e+02</td>\n",
       "    </tr>\n",
       "    <tr>\n",
       "      <th>25%</th>\n",
       "      <td>6.000000</td>\n",
       "      <td>3.400000e+06</td>\n",
       "      <td>40.000000</td>\n",
       "      <td>1.000000</td>\n",
       "      <td>2.520000</td>\n",
       "      <td>5.000000</td>\n",
       "      <td>18.600000</td>\n",
       "      <td>2.000000</td>\n",
       "      <td>7.000000</td>\n",
       "      <td>0.000000</td>\n",
       "      <td>18583.500000</td>\n",
       "      <td>9238.000000</td>\n",
       "      <td>0.000000</td>\n",
       "      <td>0.000000</td>\n",
       "      <td>0.000000</td>\n",
       "      <td>0.000000</td>\n",
       "      <td>45.000000</td>\n",
       "      <td>7.658595e+04</td>\n",
       "    </tr>\n",
       "    <tr>\n",
       "      <th>50%</th>\n",
       "      <td>9.000000</td>\n",
       "      <td>4.650000e+06</td>\n",
       "      <td>52.000000</td>\n",
       "      <td>2.000000</td>\n",
       "      <td>2.650000</td>\n",
       "      <td>9.000000</td>\n",
       "      <td>30.000000</td>\n",
       "      <td>4.000000</td>\n",
       "      <td>9.100000</td>\n",
       "      <td>0.000000</td>\n",
       "      <td>26726.000000</td>\n",
       "      <td>13098.500000</td>\n",
       "      <td>0.000000</td>\n",
       "      <td>0.000000</td>\n",
       "      <td>0.000000</td>\n",
       "      <td>0.000000</td>\n",
       "      <td>95.000000</td>\n",
       "      <td>9.500000e+04</td>\n",
       "    </tr>\n",
       "    <tr>\n",
       "      <th>75%</th>\n",
       "      <td>14.000000</td>\n",
       "      <td>6.800000e+06</td>\n",
       "      <td>69.900000</td>\n",
       "      <td>3.000000</td>\n",
       "      <td>2.800000</td>\n",
       "      <td>16.000000</td>\n",
       "      <td>42.300000</td>\n",
       "      <td>8.000000</td>\n",
       "      <td>12.000000</td>\n",
       "      <td>1.000000</td>\n",
       "      <td>37274.000000</td>\n",
       "      <td>16293.000000</td>\n",
       "      <td>1.000000</td>\n",
       "      <td>301.250000</td>\n",
       "      <td>1.000000</td>\n",
       "      <td>389.000000</td>\n",
       "      <td>232.000000</td>\n",
       "      <td>1.142549e+05</td>\n",
       "    </tr>\n",
       "    <tr>\n",
       "      <th>max</th>\n",
       "      <td>50.000000</td>\n",
       "      <td>7.630000e+08</td>\n",
       "      <td>900.000000</td>\n",
       "      <td>19.000000</td>\n",
       "      <td>32.000000</td>\n",
       "      <td>60.000000</td>\n",
       "      <td>409.700000</td>\n",
       "      <td>33.000000</td>\n",
       "      <td>112.000000</td>\n",
       "      <td>5.000000</td>\n",
       "      <td>84869.000000</td>\n",
       "      <td>65968.000000</td>\n",
       "      <td>3.000000</td>\n",
       "      <td>3190.000000</td>\n",
       "      <td>3.000000</td>\n",
       "      <td>1344.000000</td>\n",
       "      <td>1580.000000</td>\n",
       "      <td>1.907500e+06</td>\n",
       "    </tr>\n",
       "  </tbody>\n",
       "</table>\n",
       "</div>"
      ],
      "text/plain": [
       "       total_images    last_price    total_area         rooms  ceiling_height  \\\n",
       "count  23696.000000  2.369600e+04  23696.000000  23696.000000    14501.000000   \n",
       "mean       9.858837  6.541427e+06     60.351109      2.070687        2.765024   \n",
       "std        5.682300  1.088751e+07     35.655401      1.078450        0.968610   \n",
       "min        0.000000  1.219000e+04     12.000000      0.000000        1.750000   \n",
       "25%        6.000000  3.400000e+06     40.000000      1.000000        2.520000   \n",
       "50%        9.000000  4.650000e+06     52.000000      2.000000        2.650000   \n",
       "75%       14.000000  6.800000e+06     69.900000      3.000000        2.800000   \n",
       "max       50.000000  7.630000e+08    900.000000     19.000000       32.000000   \n",
       "\n",
       "       floors_total   living_area         floor  kitchen_area       balcony  \\\n",
       "count  23610.000000  21793.000000  23696.000000  21418.000000  23696.000000   \n",
       "mean      10.674375     34.459205      5.892556     10.570064      0.590944   \n",
       "std        6.597242     22.031471      4.885446      5.905736      0.958916   \n",
       "min        1.000000      2.000000      1.000000      1.300000      0.000000   \n",
       "25%        5.000000     18.600000      2.000000      7.000000      0.000000   \n",
       "50%        9.000000     30.000000      4.000000      9.100000      0.000000   \n",
       "75%       16.000000     42.300000      8.000000     12.000000      1.000000   \n",
       "max       60.000000    409.700000     33.000000    112.000000      5.000000   \n",
       "\n",
       "       airports_nearest  cityCenters_nearest  parks_around3000  parks_nearest  \\\n",
       "count      18155.000000         18178.000000      18179.000000   23696.000000   \n",
       "mean       28793.097769         14191.601441          0.611310     167.314905   \n",
       "std        12631.453807          8608.748237          0.802046     306.726186   \n",
       "min            0.000000           181.000000          0.000000       0.000000   \n",
       "25%        18583.500000          9238.000000          0.000000       0.000000   \n",
       "50%        26726.000000         13098.500000          0.000000       0.000000   \n",
       "75%        37274.000000         16293.000000          1.000000     301.250000   \n",
       "max        84869.000000         65968.000000          3.000000    3190.000000   \n",
       "\n",
       "       ponds_around3000  ponds_nearest  days_exposition    price_area  \n",
       "count      23696.000000   23696.000000     20515.000000  2.369600e+04  \n",
       "mean           0.590775     199.125886       180.901438  9.940284e+04  \n",
       "std            0.883860     305.202819       219.737521  5.020299e+04  \n",
       "min            0.000000       0.000000         1.000000  1.118300e+02  \n",
       "25%            0.000000       0.000000        45.000000  7.658595e+04  \n",
       "50%            0.000000       0.000000        95.000000  9.500000e+04  \n",
       "75%            1.000000     389.000000       232.000000  1.142549e+05  \n",
       "max            3.000000    1344.000000      1580.000000  1.907500e+06  "
      ]
     },
     "execution_count": 33,
     "metadata": {},
     "output_type": "execute_result"
    }
   ],
   "source": [
    "data.describe()"
   ]
  },
  {
   "cell_type": "markdown",
   "metadata": {},
   "source": [
    "### Посчитайте и добавьте в таблицу новые столбцы"
   ]
  },
  {
   "cell_type": "markdown",
   "metadata": {},
   "source": [
    "далее продалжаю добавлять столбцы.\n",
    "•\tдень недели публикации объявления (0 — понедельник, 1 — вторник и так далее);\n",
    "•\tмесяц публикации объявления;\n",
    "•\tгод публикации объявления;\n",
    "•\tтип этажа квартиры (значения — «‎первый», «последний», «другой»);\n",
    "•\tрасстояние до центра города в километрах (переведите из м в км и округлите до целых значений).\n"
   ]
  },
  {
   "cell_type": "code",
   "execution_count": 34,
   "metadata": {},
   "outputs": [
    {
     "name": "stdout",
     "output_type": "stream",
     "text": [
      "2182\n"
     ]
    },
    {
     "data": {
      "text/plain": [
       "array([108.  ,  40.4 ,  56.  , ...,  66.86, 133.81,  76.75])"
      ]
     },
     "execution_count": 34,
     "metadata": {},
     "output_type": "execute_result"
    }
   ],
   "source": [
    "total_area_new=len(data[\"total_area\"].unique())#Посчитала количество уникальных значений в колонке total_area, сохранила в новую переменную\n",
    "print(total_area_new)\n",
    "data['total_area'].unique()\n"
   ]
  },
  {
   "cell_type": "code",
   "execution_count": 35,
   "metadata": {},
   "outputs": [
    {
     "name": "stdout",
     "output_type": "stream",
     "text": [
      "   total_images  last_price  total_area first_day_exposition  rooms  \\\n",
      "0            20  13000000.0       108.0           2019-03-07      3   \n",
      "1             7   3350000.0        40.4           2018-12-04      1   \n",
      "2            10   5196000.0        56.0           2015-08-20      2   \n",
      "3             0  64900000.0       159.0           2015-07-24      3   \n",
      "4             2  10000000.0       100.0           2018-06-19      2   \n",
      "\n",
      "   ceiling_height  floors_total  living_area  floor  is_apartment  ...  \\\n",
      "0            2.70          16.0         51.0      8         False  ...   \n",
      "1             NaN          11.0         18.6      1         False  ...   \n",
      "2             NaN           5.0         34.3      4         False  ...   \n",
      "3             NaN          14.0          NaN      9         False  ...   \n",
      "4            3.03          14.0         32.0     13         False  ...   \n",
      "\n",
      "   airports_nearest  cityCenters_nearest  parks_around3000  parks_nearest  \\\n",
      "0           18863.0              16028.0               1.0            482   \n",
      "1           12817.0              18603.0               0.0              0   \n",
      "2           21741.0              13933.0               1.0             90   \n",
      "3           28098.0               6800.0               2.0             84   \n",
      "4           31856.0               8098.0               2.0            112   \n",
      "\n",
      "  ponds_around3000  ponds_nearest  days_exposition  price_area  year  month  \n",
      "0                2            755              NaN   120370.37  2019      3  \n",
      "1                0              0             81.0    82920.79  2018     12  \n",
      "2                2            574            558.0    92785.71  2015      8  \n",
      "3                3            234            424.0   408176.10  2015      7  \n",
      "4                1             48            121.0   100000.00  2018      6  \n",
      "\n",
      "[5 rows x 25 columns]\n"
     ]
    }
   ],
   "source": [
    "data['year'] = data['first_day_exposition'].apply(lambda x: x.year)\n",
    "#•добавляю колонку год публикации объявления;\n",
    "\n",
    "data['month'] = data['first_day_exposition'].apply(lambda x: x.month)#добавляем •\tмесяц публикации объявления;\n",
    "print(data.head(5))\n",
    "# месяц публикации объявления"
   ]
  },
  {
   "cell_type": "code",
   "execution_count": 36,
   "metadata": {},
   "outputs": [],
   "source": [
    "#Добавим день недели публикации объявления:\n",
    "#Сначала проставим день недели в формате числа (1 - понедельник, 7 - воскресенье):\n",
    "\n",
    "data['day'] = data['first_day_exposition'].apply(lambda x: x.isoweekday())\n",
    "\n",
    "dict_of_weekdays = {1: '1 - понедельник', 2: '2 - вторник', 3: '3 - среда', 4: '4 - четверг', \n",
    "                    5: '5 - пятница', 6: '6 - суббота', 7: '7 - воскресенье'}\n",
    "#Меняем значения:\n",
    "\n",
    "data['day'] = data['day'].map(dict_of_weekdays)"
   ]
  },
  {
   "cell_type": "code",
   "execution_count": 37,
   "metadata": {},
   "outputs": [],
   "source": [
    "import numpy as np"
   ]
  },
  {
   "cell_type": "code",
   "execution_count": 38,
   "metadata": {},
   "outputs": [],
   "source": [
    "#Добавяю категорию по этажам (варианты — 'первый', 'последний', 'другой'):\n",
    "data['level'] = np.where(data['floor'] == 1, 'первый', 'другой')\n",
    "data['level'] = np.where(data['floor'] == data['floors_total'], 'последний', data['level'])\n",
    "#Добавим столбцы с соотношением жилой и общей площади, а также с отношением площади кухни к общей:\n",
    "data['living_area_part'] = data['living_area']/data['total_area']\n",
    "data['kitchen_area_part'] = data['kitchen_area']/data['total_area']"
   ]
  },
  {
   "cell_type": "code",
   "execution_count": 39,
   "metadata": {},
   "outputs": [
    {
     "data": {
      "text/plain": [
       "array([ 3,  1,  2,  4,  5,  6,  0,  7, 11,  8, 14, 10, 15,  9, 19, 16, 12])"
      ]
     },
     "execution_count": 39,
     "metadata": {},
     "output_type": "execute_result"
    }
   ],
   "source": [
    "data['rooms'].unique()#получились ряд квартир с непонятным количеством комнат от 11 до 16??? подумать что с этим делать"
   ]
  },
  {
   "cell_type": "code",
   "execution_count": 40,
   "metadata": {},
   "outputs": [
    {
     "name": "stdout",
     "output_type": "stream",
     "text": [
      "   total_images  last_price  total_area first_day_exposition  rooms  \\\n",
      "0            20  13000000.0       108.0           2019-03-07      3   \n",
      "1             7   3350000.0        40.4           2018-12-04      1   \n",
      "2            10   5196000.0        56.0           2015-08-20      2   \n",
      "3             0  64900000.0       159.0           2015-07-24      3   \n",
      "4             2  10000000.0       100.0           2018-06-19      2   \n",
      "\n",
      "   ceiling_height  floors_total  living_area  floor  is_apartment  ...  \\\n",
      "0            2.70          16.0         51.0      8         False  ...   \n",
      "1             NaN          11.0         18.6      1         False  ...   \n",
      "2             NaN           5.0         34.3      4         False  ...   \n",
      "3             NaN          14.0          NaN      9         False  ...   \n",
      "4            3.03          14.0         32.0     13         False  ...   \n",
      "\n",
      "   ponds_around3000  ponds_nearest  days_exposition  price_area  year  month  \\\n",
      "0                 2            755              NaN   120370.37  2019      3   \n",
      "1                 0              0             81.0    82920.79  2018     12   \n",
      "2                 2            574            558.0    92785.71  2015      8   \n",
      "3                 3            234            424.0   408176.10  2015      7   \n",
      "4                 1             48            121.0   100000.00  2018      6   \n",
      "\n",
      "           day   level  living_area_part  kitchen_area_part  \n",
      "0  4 - четверг  другой          0.472222           0.231481  \n",
      "1  2 - вторник  первый          0.460396           0.272277  \n",
      "2  4 - четверг  другой          0.612500           0.148214  \n",
      "3  5 - пятница  другой               NaN                NaN  \n",
      "4  2 - вторник  другой          0.320000           0.410000  \n",
      "\n",
      "[5 rows x 29 columns]\n"
     ]
    }
   ],
   "source": [
    "print(data.head(5))"
   ]
  },
  {
   "cell_type": "code",
   "execution_count": 41,
   "metadata": {},
   "outputs": [
    {
     "name": "stdout",
     "output_type": "stream",
     "text": [
      "0    3\n",
      "1    1\n",
      "2    2\n",
      "3    3\n",
      "4    2\n",
      "Name: rooms, dtype: int64\n"
     ]
    }
   ],
   "source": [
    "data['rooms'] = data['rooms'].astype(int)#Замените вещественный   \n",
    "  #тип данных в столбце total_income на целочисленный с помощью метода astype()\n",
    "print(data[\"rooms\"].head(5))#вывела проверила"
   ]
  },
  {
   "cell_type": "code",
   "execution_count": 42,
   "metadata": {},
   "outputs": [
    {
     "name": "stdout",
     "output_type": "stream",
     "text": [
      "Количество NaN по cityCenters_nearest: 5518\n"
     ]
    }
   ],
   "source": [
    "#расстояние до центра города в километрах (переведем из м в км и округлим до целых значений).\n",
    "\n",
    "print('Количество NaN по cityCenters_nearest:', data['cityCenters_nearest'].isnull().sum())\n"
   ]
  },
  {
   "cell_type": "code",
   "execution_count": 43,
   "metadata": {},
   "outputs": [],
   "source": [
    "\n",
    "data['cityCenters_nearest_km'] = data['cityCenters_nearest']/1000\n"
   ]
  },
  {
   "cell_type": "code",
   "execution_count": 44,
   "metadata": {},
   "outputs": [
    {
     "name": "stdout",
     "output_type": "stream",
     "text": [
      "   total_images  last_price  total_area first_day_exposition  rooms  \\\n",
      "0            20  13000000.0       108.0           2019-03-07      3   \n",
      "1             7   3350000.0        40.4           2018-12-04      1   \n",
      "2            10   5196000.0        56.0           2015-08-20      2   \n",
      "3             0  64900000.0       159.0           2015-07-24      3   \n",
      "4             2  10000000.0       100.0           2018-06-19      2   \n",
      "\n",
      "   ceiling_height  floors_total  living_area  floor  is_apartment  ...  \\\n",
      "0            2.70          16.0         51.0      8         False  ...   \n",
      "1             NaN          11.0         18.6      1         False  ...   \n",
      "2             NaN           5.0         34.3      4         False  ...   \n",
      "3             NaN          14.0          NaN      9         False  ...   \n",
      "4            3.03          14.0         32.0     13         False  ...   \n",
      "\n",
      "   ponds_nearest  days_exposition  price_area  year month          day  \\\n",
      "0            755              NaN   120370.37  2019     3  4 - четверг   \n",
      "1              0             81.0    82920.79  2018    12  2 - вторник   \n",
      "2            574            558.0    92785.71  2015     8  4 - четверг   \n",
      "3            234            424.0   408176.10  2015     7  5 - пятница   \n",
      "4             48            121.0   100000.00  2018     6  2 - вторник   \n",
      "\n",
      "    level  living_area_part  kitchen_area_part  cityCenters_nearest_km  \n",
      "0  другой          0.472222           0.231481                  16.028  \n",
      "1  первый          0.460396           0.272277                  18.603  \n",
      "2  другой          0.612500           0.148214                  13.933  \n",
      "3  другой               NaN                NaN                   6.800  \n",
      "4  другой          0.320000           0.410000                   8.098  \n",
      "\n",
      "[5 rows x 30 columns]\n"
     ]
    }
   ],
   "source": [
    "print(data.head(5))"
   ]
  },
  {
   "cell_type": "code",
   "execution_count": 45,
   "metadata": {},
   "outputs": [
    {
     "data": {
      "text/html": [
       "<div>\n",
       "<style scoped>\n",
       "    .dataframe tbody tr th:only-of-type {\n",
       "        vertical-align: middle;\n",
       "    }\n",
       "\n",
       "    .dataframe tbody tr th {\n",
       "        vertical-align: top;\n",
       "    }\n",
       "\n",
       "    .dataframe thead th {\n",
       "        text-align: right;\n",
       "    }\n",
       "</style>\n",
       "<table border=\"1\" class=\"dataframe\">\n",
       "  <thead>\n",
       "    <tr style=\"text-align: right;\">\n",
       "      <th></th>\n",
       "      <th>total_images</th>\n",
       "      <th>last_price</th>\n",
       "      <th>total_area</th>\n",
       "      <th>first_day_exposition</th>\n",
       "      <th>rooms</th>\n",
       "      <th>ceiling_height</th>\n",
       "      <th>floors_total</th>\n",
       "      <th>living_area</th>\n",
       "      <th>floor</th>\n",
       "      <th>is_apartment</th>\n",
       "      <th>...</th>\n",
       "      <th>ponds_nearest</th>\n",
       "      <th>days_exposition</th>\n",
       "      <th>price_area</th>\n",
       "      <th>year</th>\n",
       "      <th>month</th>\n",
       "      <th>day</th>\n",
       "      <th>level</th>\n",
       "      <th>living_area_part</th>\n",
       "      <th>kitchen_area_part</th>\n",
       "      <th>cityCenters_nearest_km</th>\n",
       "    </tr>\n",
       "  </thead>\n",
       "  <tbody>\n",
       "    <tr>\n",
       "      <th>0</th>\n",
       "      <td>20</td>\n",
       "      <td>13000000.0</td>\n",
       "      <td>108.00</td>\n",
       "      <td>2019-03-07</td>\n",
       "      <td>3</td>\n",
       "      <td>2.70</td>\n",
       "      <td>16.0</td>\n",
       "      <td>51.0</td>\n",
       "      <td>8</td>\n",
       "      <td>False</td>\n",
       "      <td>...</td>\n",
       "      <td>755</td>\n",
       "      <td>NaN</td>\n",
       "      <td>120370.37</td>\n",
       "      <td>2019</td>\n",
       "      <td>3</td>\n",
       "      <td>4 - четверг</td>\n",
       "      <td>другой</td>\n",
       "      <td>0.472222</td>\n",
       "      <td>0.231481</td>\n",
       "      <td>16.0</td>\n",
       "    </tr>\n",
       "    <tr>\n",
       "      <th>1</th>\n",
       "      <td>7</td>\n",
       "      <td>3350000.0</td>\n",
       "      <td>40.40</td>\n",
       "      <td>2018-12-04</td>\n",
       "      <td>1</td>\n",
       "      <td>NaN</td>\n",
       "      <td>11.0</td>\n",
       "      <td>19.0</td>\n",
       "      <td>1</td>\n",
       "      <td>False</td>\n",
       "      <td>...</td>\n",
       "      <td>0</td>\n",
       "      <td>81.0</td>\n",
       "      <td>82920.79</td>\n",
       "      <td>2018</td>\n",
       "      <td>12</td>\n",
       "      <td>2 - вторник</td>\n",
       "      <td>первый</td>\n",
       "      <td>0.460396</td>\n",
       "      <td>0.272277</td>\n",
       "      <td>19.0</td>\n",
       "    </tr>\n",
       "    <tr>\n",
       "      <th>2</th>\n",
       "      <td>10</td>\n",
       "      <td>5196000.0</td>\n",
       "      <td>56.00</td>\n",
       "      <td>2015-08-20</td>\n",
       "      <td>2</td>\n",
       "      <td>NaN</td>\n",
       "      <td>5.0</td>\n",
       "      <td>34.0</td>\n",
       "      <td>4</td>\n",
       "      <td>False</td>\n",
       "      <td>...</td>\n",
       "      <td>574</td>\n",
       "      <td>558.0</td>\n",
       "      <td>92785.71</td>\n",
       "      <td>2015</td>\n",
       "      <td>8</td>\n",
       "      <td>4 - четверг</td>\n",
       "      <td>другой</td>\n",
       "      <td>0.612500</td>\n",
       "      <td>0.148214</td>\n",
       "      <td>14.0</td>\n",
       "    </tr>\n",
       "    <tr>\n",
       "      <th>3</th>\n",
       "      <td>0</td>\n",
       "      <td>64900000.0</td>\n",
       "      <td>159.00</td>\n",
       "      <td>2015-07-24</td>\n",
       "      <td>3</td>\n",
       "      <td>NaN</td>\n",
       "      <td>14.0</td>\n",
       "      <td>NaN</td>\n",
       "      <td>9</td>\n",
       "      <td>False</td>\n",
       "      <td>...</td>\n",
       "      <td>234</td>\n",
       "      <td>424.0</td>\n",
       "      <td>408176.10</td>\n",
       "      <td>2015</td>\n",
       "      <td>7</td>\n",
       "      <td>5 - пятница</td>\n",
       "      <td>другой</td>\n",
       "      <td>NaN</td>\n",
       "      <td>NaN</td>\n",
       "      <td>7.0</td>\n",
       "    </tr>\n",
       "    <tr>\n",
       "      <th>4</th>\n",
       "      <td>2</td>\n",
       "      <td>10000000.0</td>\n",
       "      <td>100.00</td>\n",
       "      <td>2018-06-19</td>\n",
       "      <td>2</td>\n",
       "      <td>3.03</td>\n",
       "      <td>14.0</td>\n",
       "      <td>32.0</td>\n",
       "      <td>13</td>\n",
       "      <td>False</td>\n",
       "      <td>...</td>\n",
       "      <td>48</td>\n",
       "      <td>121.0</td>\n",
       "      <td>100000.00</td>\n",
       "      <td>2018</td>\n",
       "      <td>6</td>\n",
       "      <td>2 - вторник</td>\n",
       "      <td>другой</td>\n",
       "      <td>0.320000</td>\n",
       "      <td>0.410000</td>\n",
       "      <td>8.0</td>\n",
       "    </tr>\n",
       "    <tr>\n",
       "      <th>5</th>\n",
       "      <td>10</td>\n",
       "      <td>2890000.0</td>\n",
       "      <td>30.40</td>\n",
       "      <td>2018-09-10</td>\n",
       "      <td>1</td>\n",
       "      <td>NaN</td>\n",
       "      <td>12.0</td>\n",
       "      <td>14.0</td>\n",
       "      <td>5</td>\n",
       "      <td>False</td>\n",
       "      <td>...</td>\n",
       "      <td>0</td>\n",
       "      <td>55.0</td>\n",
       "      <td>95065.79</td>\n",
       "      <td>2018</td>\n",
       "      <td>9</td>\n",
       "      <td>1 - понедельник</td>\n",
       "      <td>другой</td>\n",
       "      <td>0.473684</td>\n",
       "      <td>0.299342</td>\n",
       "      <td>NaN</td>\n",
       "    </tr>\n",
       "    <tr>\n",
       "      <th>6</th>\n",
       "      <td>6</td>\n",
       "      <td>3700000.0</td>\n",
       "      <td>37.30</td>\n",
       "      <td>2017-11-02</td>\n",
       "      <td>1</td>\n",
       "      <td>NaN</td>\n",
       "      <td>26.0</td>\n",
       "      <td>11.0</td>\n",
       "      <td>6</td>\n",
       "      <td>False</td>\n",
       "      <td>...</td>\n",
       "      <td>0</td>\n",
       "      <td>155.0</td>\n",
       "      <td>99195.71</td>\n",
       "      <td>2017</td>\n",
       "      <td>11</td>\n",
       "      <td>4 - четверг</td>\n",
       "      <td>другой</td>\n",
       "      <td>0.284182</td>\n",
       "      <td>0.386059</td>\n",
       "      <td>19.0</td>\n",
       "    </tr>\n",
       "    <tr>\n",
       "      <th>7</th>\n",
       "      <td>5</td>\n",
       "      <td>7915000.0</td>\n",
       "      <td>71.60</td>\n",
       "      <td>2019-04-18</td>\n",
       "      <td>2</td>\n",
       "      <td>NaN</td>\n",
       "      <td>24.0</td>\n",
       "      <td>NaN</td>\n",
       "      <td>22</td>\n",
       "      <td>False</td>\n",
       "      <td>...</td>\n",
       "      <td>0</td>\n",
       "      <td>NaN</td>\n",
       "      <td>110544.69</td>\n",
       "      <td>2019</td>\n",
       "      <td>4</td>\n",
       "      <td>4 - четверг</td>\n",
       "      <td>другой</td>\n",
       "      <td>NaN</td>\n",
       "      <td>0.263966</td>\n",
       "      <td>12.0</td>\n",
       "    </tr>\n",
       "    <tr>\n",
       "      <th>8</th>\n",
       "      <td>20</td>\n",
       "      <td>2900000.0</td>\n",
       "      <td>33.16</td>\n",
       "      <td>2018-05-23</td>\n",
       "      <td>1</td>\n",
       "      <td>NaN</td>\n",
       "      <td>27.0</td>\n",
       "      <td>15.0</td>\n",
       "      <td>26</td>\n",
       "      <td>False</td>\n",
       "      <td>...</td>\n",
       "      <td>0</td>\n",
       "      <td>189.0</td>\n",
       "      <td>87454.76</td>\n",
       "      <td>2018</td>\n",
       "      <td>5</td>\n",
       "      <td>3 - среда</td>\n",
       "      <td>другой</td>\n",
       "      <td>0.465320</td>\n",
       "      <td>0.265682</td>\n",
       "      <td>NaN</td>\n",
       "    </tr>\n",
       "    <tr>\n",
       "      <th>9</th>\n",
       "      <td>18</td>\n",
       "      <td>5400000.0</td>\n",
       "      <td>61.00</td>\n",
       "      <td>2017-02-26</td>\n",
       "      <td>3</td>\n",
       "      <td>2.50</td>\n",
       "      <td>9.0</td>\n",
       "      <td>44.0</td>\n",
       "      <td>7</td>\n",
       "      <td>False</td>\n",
       "      <td>...</td>\n",
       "      <td>0</td>\n",
       "      <td>289.0</td>\n",
       "      <td>88524.59</td>\n",
       "      <td>2017</td>\n",
       "      <td>2</td>\n",
       "      <td>7 - воскресенье</td>\n",
       "      <td>другой</td>\n",
       "      <td>0.714754</td>\n",
       "      <td>0.106557</td>\n",
       "      <td>15.0</td>\n",
       "    </tr>\n",
       "  </tbody>\n",
       "</table>\n",
       "<p>10 rows × 30 columns</p>\n",
       "</div>"
      ],
      "text/plain": [
       "   total_images  last_price  total_area first_day_exposition  rooms  \\\n",
       "0            20  13000000.0      108.00           2019-03-07      3   \n",
       "1             7   3350000.0       40.40           2018-12-04      1   \n",
       "2            10   5196000.0       56.00           2015-08-20      2   \n",
       "3             0  64900000.0      159.00           2015-07-24      3   \n",
       "4             2  10000000.0      100.00           2018-06-19      2   \n",
       "5            10   2890000.0       30.40           2018-09-10      1   \n",
       "6             6   3700000.0       37.30           2017-11-02      1   \n",
       "7             5   7915000.0       71.60           2019-04-18      2   \n",
       "8            20   2900000.0       33.16           2018-05-23      1   \n",
       "9            18   5400000.0       61.00           2017-02-26      3   \n",
       "\n",
       "   ceiling_height  floors_total  living_area  floor  is_apartment  ...  \\\n",
       "0            2.70          16.0         51.0      8         False  ...   \n",
       "1             NaN          11.0         19.0      1         False  ...   \n",
       "2             NaN           5.0         34.0      4         False  ...   \n",
       "3             NaN          14.0          NaN      9         False  ...   \n",
       "4            3.03          14.0         32.0     13         False  ...   \n",
       "5             NaN          12.0         14.0      5         False  ...   \n",
       "6             NaN          26.0         11.0      6         False  ...   \n",
       "7             NaN          24.0          NaN     22         False  ...   \n",
       "8             NaN          27.0         15.0     26         False  ...   \n",
       "9            2.50           9.0         44.0      7         False  ...   \n",
       "\n",
       "   ponds_nearest  days_exposition  price_area  year month              day  \\\n",
       "0            755              NaN   120370.37  2019     3      4 - четверг   \n",
       "1              0             81.0    82920.79  2018    12      2 - вторник   \n",
       "2            574            558.0    92785.71  2015     8      4 - четверг   \n",
       "3            234            424.0   408176.10  2015     7      5 - пятница   \n",
       "4             48            121.0   100000.00  2018     6      2 - вторник   \n",
       "5              0             55.0    95065.79  2018     9  1 - понедельник   \n",
       "6              0            155.0    99195.71  2017    11      4 - четверг   \n",
       "7              0              NaN   110544.69  2019     4      4 - четверг   \n",
       "8              0            189.0    87454.76  2018     5        3 - среда   \n",
       "9              0            289.0    88524.59  2017     2  7 - воскресенье   \n",
       "\n",
       "    level  living_area_part  kitchen_area_part  cityCenters_nearest_km  \n",
       "0  другой          0.472222           0.231481                    16.0  \n",
       "1  первый          0.460396           0.272277                    19.0  \n",
       "2  другой          0.612500           0.148214                    14.0  \n",
       "3  другой               NaN                NaN                     7.0  \n",
       "4  другой          0.320000           0.410000                     8.0  \n",
       "5  другой          0.473684           0.299342                     NaN  \n",
       "6  другой          0.284182           0.386059                    19.0  \n",
       "7  другой               NaN           0.263966                    12.0  \n",
       "8  другой          0.465320           0.265682                     NaN  \n",
       "9  другой          0.714754           0.106557                    15.0  \n",
       "\n",
       "[10 rows x 30 columns]"
      ]
     },
     "execution_count": 45,
     "metadata": {},
     "output_type": "execute_result"
    }
   ],
   "source": [
    "#Округляем до целого :\n",
    "list_to_float_2 = ['cityCenters_nearest_km', 'living_area', 'kitchen_area']\n",
    "\n",
    "\n",
    "for column in list_to_float_2:\n",
    "    data[column] = data[data[column].notnull()][column].round(0)\n",
    "#округляем до целого\n",
    "#Проверяем, что получилось:\n",
    "\n",
    "data.head(10)"
   ]
  },
  {
   "cell_type": "code",
   "execution_count": 46,
   "metadata": {},
   "outputs": [
    {
     "data": {
      "text/plain": [
       "total_images                 0\n",
       "last_price                   0\n",
       "total_area                   0\n",
       "first_day_exposition         0\n",
       "rooms                        0\n",
       "ceiling_height            9195\n",
       "floors_total                86\n",
       "living_area               1903\n",
       "floor                        0\n",
       "is_apartment                 0\n",
       "studio                       0\n",
       "open_plan                    0\n",
       "kitchen_area              2278\n",
       "balcony                      0\n",
       "locality_name               49\n",
       "airports_nearest          5541\n",
       "cityCenters_nearest       5518\n",
       "parks_around3000          5517\n",
       "parks_nearest                0\n",
       "ponds_around3000             0\n",
       "ponds_nearest                0\n",
       "days_exposition           3181\n",
       "price_area                   0\n",
       "year                         0\n",
       "month                        0\n",
       "day                          0\n",
       "level                        0\n",
       "living_area_part          1903\n",
       "kitchen_area_part         2278\n",
       "cityCenters_nearest_km    5518\n",
       "dtype: int64"
      ]
     },
     "execution_count": 46,
     "metadata": {},
     "output_type": "execute_result"
    }
   ],
   "source": [
    "data.isna().sum()# Выведем количество пропущенных значений для каждого столбца. Используйте комбинацию двух методов.\n",
    "# заметим что только по части колонок значения отсутствуют, посмотрим на них и запомним,   \n",
    "#чтобы в дальнейшем учесть это при анализе\n",
    "#В 14 столбцах есть пропущенные значения.  is_apartaments столбец не учитываем, это видимо квартиры - апартаменты\n",
    "#  ситуация значительно измениоась. предположу что значения в столбце living_area и kitchen_area, отсутствуют\n",
    "#потому что это данные по студиям\n",
    "#еще остался показатель days_exposition 1892, возможно его просто не заполняли, поставлю туда среднее количество экспозици\n",
    "#data['floors_total'] = data['floors_total '].abs()#обработка анамальных значений столбца"
   ]
  },
  {
   "cell_type": "code",
   "execution_count": 47,
   "metadata": {},
   "outputs": [
    {
     "data": {
      "text/plain": [
       "23610"
      ]
     },
     "execution_count": 47,
     "metadata": {},
     "output_type": "execute_result"
    }
   ],
   "source": [
    "\n",
    "data['floors_total'].count()#посмотрела анамальные значения в столбу 'floors_total'. их нет\n",
    "# в представленных данных пугающи много пропусков. начну чистить их постепенно.\n"
   ]
  },
  {
   "cell_type": "code",
   "execution_count": 48,
   "metadata": {},
   "outputs": [
    {
     "data": {
      "text/plain": [
       "0"
      ]
     },
     "execution_count": 48,
     "metadata": {},
     "output_type": "execute_result"
    }
   ],
   "source": [
    "data.duplicated().sum()#выводим количество дубликатов. их нет, работаем дальше"
   ]
  },
  {
   "cell_type": "code",
   "execution_count": 49,
   "metadata": {},
   "outputs": [
    {
     "name": "stdout",
     "output_type": "stream",
     "text": [
      "   total_images  last_price  total_area first_day_exposition  rooms  \\\n",
      "0            20  13000000.0       108.0           2019-03-07      3   \n",
      "1             7   3350000.0        40.4           2018-12-04      1   \n",
      "2            10   5196000.0        56.0           2015-08-20      2   \n",
      "3             0  64900000.0       159.0           2015-07-24      3   \n",
      "4             2  10000000.0       100.0           2018-06-19      2   \n",
      "\n",
      "   ceiling_height  floors_total  living_area  floor  is_apartment  ...  \\\n",
      "0            2.70          16.0         51.0      8         False  ...   \n",
      "1             NaN          11.0         19.0      1         False  ...   \n",
      "2             NaN           5.0         34.0      4         False  ...   \n",
      "3             NaN          14.0          NaN      9         False  ...   \n",
      "4            3.03          14.0         32.0     13         False  ...   \n",
      "\n",
      "   ponds_nearest  days_exposition  price_area  year month          day  \\\n",
      "0            755              NaN   120370.37  2019     3  4 - четверг   \n",
      "1              0             81.0    82920.79  2018    12  2 - вторник   \n",
      "2            574            558.0    92785.71  2015     8  4 - четверг   \n",
      "3            234            424.0   408176.10  2015     7  5 - пятница   \n",
      "4             48            121.0   100000.00  2018     6  2 - вторник   \n",
      "\n",
      "    level  living_area_part  kitchen_area_part  cityCenters_nearest_km  \n",
      "0  другой          0.472222           0.231481                    16.0  \n",
      "1  первый          0.460396           0.272277                    19.0  \n",
      "2  другой          0.612500           0.148214                    14.0  \n",
      "3  другой               NaN                NaN                     7.0  \n",
      "4  другой          0.320000           0.410000                     8.0  \n",
      "\n",
      "[5 rows x 30 columns]\n"
     ]
    }
   ],
   "source": [
    "data['first_day_exposition'] = pd.to_datetime(data['first_day_exposition'], format='%Y-%m-%dT%H:%M:%S')\n",
    "#Изменяю формат столбца first_day_exposition на datetime\n",
    "print(data.head(5))"
   ]
  },
  {
   "cell_type": "code",
   "execution_count": 50,
   "metadata": {},
   "outputs": [
    {
     "data": {
      "text/plain": [
       "180.90143797221546"
      ]
     },
     "execution_count": 50,
     "metadata": {},
     "output_type": "execute_result"
    }
   ],
   "source": [
    "data[\"days_exposition\"].mean()#проверила среднее количество дней экспозиции квартиры"
   ]
  },
  {
   "cell_type": "code",
   "execution_count": 51,
   "metadata": {},
   "outputs": [
    {
     "name": "stdout",
     "output_type": "stream",
     "text": [
      "       total_images  last_price  total_area first_day_exposition  rooms  \\\n",
      "18843            11   3500000.0       48.20           2014-12-15      2   \n",
      "1109              1  34878556.0       95.80           2014-12-09      2   \n",
      "9553             11  10600000.0       80.00           2014-12-09      3   \n",
      "1885              2  13300000.0       79.60           2014-12-09      2   \n",
      "20969            18  13300000.0      133.00           2015-02-11      4   \n",
      "6691              3   4400000.0       42.98           2014-12-12      1   \n",
      "14093             7   9500000.0      100.00           2015-02-19      4   \n",
      "15313             1   9278000.0      139.80           2014-12-28      4   \n",
      "19123             9   5990000.0       82.00           2015-02-19      3   \n",
      "11955             4  11400000.0       76.00           2014-12-09      2   \n",
      "\n",
      "       ceiling_height  floors_total  living_area  floor  is_apartment  ...  \\\n",
      "18843            2.50           5.0         27.0      2         False  ...   \n",
      "1109              NaN           6.0         58.0      5          True  ...   \n",
      "9553             2.85          17.0         44.0      9         False  ...   \n",
      "1885             3.00           8.0         43.0      7         False  ...   \n",
      "20969            3.00           5.0         58.0      2         False  ...   \n",
      "6691              NaN           5.0         19.0      1         False  ...   \n",
      "14093            3.00           5.0         76.0      5         False  ...   \n",
      "15313            2.80           5.0          NaN      4         False  ...   \n",
      "19123            3.00           4.0         60.0      2         False  ...   \n",
      "11955             NaN           9.0         36.0      3         False  ...   \n",
      "\n",
      "       ponds_nearest  days_exposition  price_area  year month  \\\n",
      "18843              0           1580.0    72614.11  2014    12   \n",
      "1109             569           1572.0   364076.78  2014    12   \n",
      "9553               0           1553.0   132500.00  2014    12   \n",
      "1885               0           1513.0   167085.43  2014    12   \n",
      "20969            534           1512.0   100000.00  2015     2   \n",
      "6691             232           1512.0   102373.20  2014    12   \n",
      "14093              0           1497.0    95000.00  2015     2   \n",
      "15313              0           1489.0    66366.24  2014    12   \n",
      "19123            458           1485.0    73048.78  2015     2   \n",
      "11955              0           1484.0   150000.00  2014    12   \n",
      "\n",
      "                   day      level  living_area_part  kitchen_area_part  \\\n",
      "18843  1 - понедельник     другой          0.568465           0.159751   \n",
      "1109       2 - вторник     другой          0.608559           0.208768   \n",
      "9553       2 - вторник     другой          0.550000           0.187500   \n",
      "1885       2 - вторник     другой          0.536432           0.226131   \n",
      "20969        3 - среда     другой          0.436090           0.338346   \n",
      "6691       5 - пятница     первый          0.435551           0.263146   \n",
      "14093      4 - четверг  последний          0.760000           0.100000   \n",
      "15313  7 - воскресенье     другой               NaN                NaN   \n",
      "19123      4 - четверг     другой          0.731707           0.097561   \n",
      "11955      2 - вторник     другой          0.473684           0.184211   \n",
      "\n",
      "       cityCenters_nearest_km  \n",
      "18843                     NaN  \n",
      "1109                      0.0  \n",
      "9553                     17.0  \n",
      "1885                     11.0  \n",
      "20969                     5.0  \n",
      "6691                     30.0  \n",
      "14093                     5.0  \n",
      "15313                    36.0  \n",
      "19123                    35.0  \n",
      "11955                    11.0  \n",
      "\n",
      "[10 rows x 30 columns]\n"
     ]
    }
   ],
   "source": [
    "print(data.sort_values(by=\"days_exposition\", ascending=False).head(10))"
   ]
  },
  {
   "cell_type": "code",
   "execution_count": 52,
   "metadata": {},
   "outputs": [
    {
     "name": "stdout",
     "output_type": "stream",
     "text": [
      "99402.840035027\n"
     ]
    }
   ],
   "source": [
    "print(data[\"price_area\"].mean())#среднюю цену за квадрат, в принципе все реально"
   ]
  },
  {
   "cell_type": "code",
   "execution_count": 53,
   "metadata": {},
   "outputs": [
    {
     "data": {
      "text/plain": [
       "count    2.369600e+04\n",
       "mean     9.940284e+04\n",
       "std      5.020299e+04\n",
       "min      1.118300e+02\n",
       "25%      7.658595e+04\n",
       "50%      9.500000e+04\n",
       "75%      1.142549e+05\n",
       "max      1.907500e+06\n",
       "Name: price_area, dtype: float64"
      ]
     },
     "execution_count": 53,
     "metadata": {},
     "output_type": "execute_result"
    }
   ],
   "source": [
    "data[\"price_area\"].describe()"
   ]
  },
  {
   "cell_type": "code",
   "execution_count": 54,
   "metadata": {},
   "outputs": [
    {
     "name": "stdout",
     "output_type": "stream",
     "text": [
      "Количество NaN в столбце balcony: 0\n",
      "Количество NaN по airports_nearest: 5541\n",
      "Количество NaN по cityCenters_nearest: 5518\n",
      "       total_images   last_price  total_area first_day_exposition  rooms  \\\n",
      "12971            19  763000000.0       400.0           2017-09-30      7   \n",
      "19540             8  420000000.0       900.0           2017-12-06     12   \n",
      "14706            15  401300000.0       401.0           2016-02-20      5   \n",
      "1436             19  330000000.0       190.0           2018-04-04      3   \n",
      "15651            20  300000000.0       618.0           2017-12-18      7   \n",
      "22831            18  289238400.0       187.5           2019-03-19      2   \n",
      "16461            17  245000000.0       285.7           2017-04-10      6   \n",
      "13749             7  240000000.0       410.0           2017-04-01      6   \n",
      "5893              3  230000000.0       500.0           2017-05-31      6   \n",
      "8900             13  190870000.0       268.0           2016-03-25      3   \n",
      "\n",
      "       ceiling_height  floors_total  living_area  floor  is_apartment  ...  \\\n",
      "12971             NaN          10.0        250.0     10         False  ...   \n",
      "19540            2.80          25.0        410.0     25         False  ...   \n",
      "14706             NaN           9.0        204.0      9         False  ...   \n",
      "1436             3.50           7.0         95.0      5         False  ...   \n",
      "15651            3.40           7.0        258.0      5         False  ...   \n",
      "22831            3.37           6.0         64.0      6         False  ...   \n",
      "16461            3.35           7.0        183.0      4         False  ...   \n",
      "13749            3.40           7.0        218.0      7         False  ...   \n",
      "5893              NaN           7.0          NaN      7         False  ...   \n",
      "8900              NaN           8.0        132.0      7         False  ...   \n",
      "\n",
      "       ponds_nearest  days_exposition  price_area  year month  \\\n",
      "12971            756             33.0  1907500.00  2017     9   \n",
      "19540            318            106.0   466666.67  2017    12   \n",
      "14706            478            393.0  1000748.13  2016     2   \n",
      "1436             285            233.0  1736842.11  2018     4   \n",
      "15651            198            111.0   485436.89  2017    12   \n",
      "22831            188              NaN  1542604.80  2019     3   \n",
      "16461            140            249.0   857542.88  2017     4   \n",
      "13749            198            199.0   585365.85  2017     4   \n",
      "5893             198             50.0   460000.00  2017     5   \n",
      "8900             198            901.0   712201.49  2016     3   \n",
      "\n",
      "                   day      level  living_area_part  kitchen_area_part  \\\n",
      "12971      6 - суббота  последний          0.625000                NaN   \n",
      "19540        3 - среда  последний          0.455222           0.124444   \n",
      "14706      6 - суббота  последний          0.508728           0.059850   \n",
      "1436         3 - среда     другой          0.500000           0.210526   \n",
      "15651  1 - понедельник     другой          0.417476           0.113269   \n",
      "22831      2 - вторник  последний          0.339733           0.161067   \n",
      "16461  1 - понедельник     другой          0.639832           0.104305   \n",
      "13749      6 - суббота  последний          0.531707           0.097561   \n",
      "5893         3 - среда  последний               NaN           0.080000   \n",
      "8900       5 - пятница     другой          0.492537           0.149254   \n",
      "\n",
      "       cityCenters_nearest_km  \n",
      "12971                     4.0  \n",
      "19540                     8.0  \n",
      "14706                     2.0  \n",
      "1436                      1.0  \n",
      "15651                     5.0  \n",
      "22831                     1.0  \n",
      "16461                     6.0  \n",
      "13749                     5.0  \n",
      "5893                      5.0  \n",
      "8900                      5.0  \n",
      "\n",
      "[10 rows x 30 columns]\n"
     ]
    }
   ],
   "source": [
    "data['balcony'] = data['balcony'].fillna(0)\n",
    "print('Количество NaN в столбце balcony:', data['balcony'].isnull().sum())\n",
    "print('Количество NaN по airports_nearest:',data['airports_nearest'].isnull().sum())\n",
    "print('Количество NaN по cityCenters_nearest:', data['cityCenters_nearest'].isnull().sum())\n",
    "#Изменение типов данных\n",
    "print(data.sort_values(by=\"last_price\", ascending=False).head(10))"
   ]
  },
  {
   "cell_type": "markdown",
   "metadata": {},
   "source": [
    "### Проведите исследовательский анализ данных"
   ]
  },
  {
   "cell_type": "markdown",
   "metadata": {},
   "source": [
    "Изучаю  параметры объектов: "
   ]
  },
  {
   "cell_type": "code",
   "execution_count": 55,
   "metadata": {},
   "outputs": [
    {
     "name": "stdout",
     "output_type": "stream",
     "text": [
      "1500\n"
     ]
    }
   ],
   "source": [
    "sample = data.query(\"month==1\")\n",
    "print(sample['month'].count())#Считаем количество объявлений опубликованных по месецам\n",
    "\n",
    "\n"
   ]
  },
  {
   "cell_type": "code",
   "execution_count": 56,
   "metadata": {},
   "outputs": [
    {
     "name": "stdout",
     "output_type": "stream",
     "text": [
      "1500\n"
     ]
    }
   ],
   "source": [
    "sample_2 = data.query(\"month==2\")\n",
    "print(sample['month'].count())"
   ]
  },
  {
   "cell_type": "code",
   "execution_count": 57,
   "metadata": {},
   "outputs": [
    {
     "name": "stdout",
     "output_type": "stream",
     "text": [
      "1500\n"
     ]
    }
   ],
   "source": [
    "sample_3 = data.query(\"month==3\")\n",
    "print(sample['month'].count())"
   ]
  },
  {
   "cell_type": "code",
   "execution_count": 58,
   "metadata": {},
   "outputs": [
    {
     "data": {
      "text/plain": [
       "<AxesSubplot:>"
      ]
     },
     "execution_count": 58,
     "metadata": {},
     "output_type": "execute_result"
    },
    {
     "data": {
      "image/png": "[encoded data removed]",
      "text/plain": [
       "<Figure size 432x288 with 1 Axes>"
      ]
     },
     "metadata": {
      "needs_background": "light"
     },
     "output_type": "display_data"
    }
   ],
   "source": [
    "data[\"month\"].hist()# исходя из данных гистограммы, можно сделать выводы, что основные публикации были в \n",
    "#декабре, январе.  в период с 4(апрель) по 8(август) месяцы публикаций значительно меньше."
   ]
  },
  {
   "cell_type": "markdown",
   "metadata": {},
   "source": [
    "<div class=\"alert alert-success\">\n",
    "<b>Комментарий ревьюера ✔️:</b> Да, в период отдыха и отпусков публикаций меньше"
   ]
  },
  {
   "cell_type": "markdown",
   "metadata": {},
   "source": [
    "Изучаю, как быстро продавались квартиры (столбец days_exposition). Этот параметр показывает, сколько дней было размещено каждое объявление. "
   ]
  },
  {
   "cell_type": "code",
   "execution_count": 59,
   "metadata": {},
   "outputs": [
    {
     "data": {
      "text/plain": [
       "95.0"
      ]
     },
     "execution_count": 59,
     "metadata": {},
     "output_type": "execute_result"
    }
   ],
   "source": [
    "data[\"days_exposition\"].median()#Посмотрим на данные и гистограмму по времени продажи квартиры:"
   ]
  },
  {
   "cell_type": "code",
   "execution_count": 60,
   "metadata": {},
   "outputs": [
    {
     "data": {
      "text/plain": [
       "180.90143797221546"
      ]
     },
     "execution_count": 60,
     "metadata": {},
     "output_type": "execute_result"
    }
   ],
   "source": [
    "data[\"days_exposition\"].mean()"
   ]
  },
  {
   "cell_type": "code",
   "execution_count": 61,
   "metadata": {},
   "outputs": [
    {
     "data": {
      "text/html": [
       "<div>\n",
       "<style scoped>\n",
       "    .dataframe tbody tr th:only-of-type {\n",
       "        vertical-align: middle;\n",
       "    }\n",
       "\n",
       "    .dataframe tbody tr th {\n",
       "        vertical-align: top;\n",
       "    }\n",
       "\n",
       "    .dataframe thead th {\n",
       "        text-align: right;\n",
       "    }\n",
       "</style>\n",
       "<table border=\"1\" class=\"dataframe\">\n",
       "  <thead>\n",
       "    <tr style=\"text-align: right;\">\n",
       "      <th></th>\n",
       "      <th>days_exposition</th>\n",
       "    </tr>\n",
       "  </thead>\n",
       "  <tbody>\n",
       "    <tr>\n",
       "      <th>count</th>\n",
       "      <td>20515.000000</td>\n",
       "    </tr>\n",
       "    <tr>\n",
       "      <th>mean</th>\n",
       "      <td>180.901438</td>\n",
       "    </tr>\n",
       "    <tr>\n",
       "      <th>std</th>\n",
       "      <td>219.737521</td>\n",
       "    </tr>\n",
       "    <tr>\n",
       "      <th>min</th>\n",
       "      <td>1.000000</td>\n",
       "    </tr>\n",
       "    <tr>\n",
       "      <th>25%</th>\n",
       "      <td>45.000000</td>\n",
       "    </tr>\n",
       "    <tr>\n",
       "      <th>50%</th>\n",
       "      <td>95.000000</td>\n",
       "    </tr>\n",
       "    <tr>\n",
       "      <th>75%</th>\n",
       "      <td>232.000000</td>\n",
       "    </tr>\n",
       "    <tr>\n",
       "      <th>max</th>\n",
       "      <td>1580.000000</td>\n",
       "    </tr>\n",
       "  </tbody>\n",
       "</table>\n",
       "</div>"
      ],
      "text/plain": [
       "       days_exposition\n",
       "count     20515.000000\n",
       "mean        180.901438\n",
       "std         219.737521\n",
       "min           1.000000\n",
       "25%          45.000000\n",
       "50%          95.000000\n",
       "75%         232.000000\n",
       "max        1580.000000"
      ]
     },
     "execution_count": 61,
     "metadata": {},
     "output_type": "execute_result"
    }
   ],
   "source": [
    "data['days_exposition'].describe().to_frame()"
   ]
  },
  {
   "cell_type": "code",
   "execution_count": 62,
   "metadata": {},
   "outputs": [
    {
     "data": {
      "text/plain": [
       "<AxesSubplot:>"
      ]
     },
     "execution_count": 62,
     "metadata": {},
     "output_type": "execute_result"
    },
    {
     "data": {
      "image/png": "[encoded data removed]",
      "text/plain": [
       "<Figure size 432x288 with 1 Axes>"
      ]
     },
     "metadata": {
      "needs_background": "light"
     },
     "output_type": "display_data"
    }
   ],
   "source": [
    "data[\"days_exposition\"].hist()# максимальное время продажт квартиры, составило почти 5 лет, скорее всего \n",
    "# это аномальное значение, которое следует исключить, чтобы не портило общую картину времени продаж.\n"
   ]
  },
  {
   "cell_type": "code",
   "execution_count": 63,
   "metadata": {},
   "outputs": [],
   "source": [
    "data = data[(data['days_exposition'] != 1553)]#среднее не меняется, можно не исключать такие данные. значит среднее \n",
    "#время продажи квартиры 6 месяцев.6 месяцев для продажи квартиры - очень неплохой срок."
   ]
  },
  {
   "cell_type": "code",
   "execution_count": 64,
   "metadata": {},
   "outputs": [
    {
     "data": {
      "text/html": [
       "<div>\n",
       "<style scoped>\n",
       "    .dataframe tbody tr th:only-of-type {\n",
       "        vertical-align: middle;\n",
       "    }\n",
       "\n",
       "    .dataframe tbody tr th {\n",
       "        vertical-align: top;\n",
       "    }\n",
       "\n",
       "    .dataframe thead th {\n",
       "        text-align: right;\n",
       "    }\n",
       "</style>\n",
       "<table border=\"1\" class=\"dataframe\">\n",
       "  <thead>\n",
       "    <tr style=\"text-align: right;\">\n",
       "      <th></th>\n",
       "      <th>days_exposition</th>\n",
       "    </tr>\n",
       "  </thead>\n",
       "  <tbody>\n",
       "    <tr>\n",
       "      <th>count</th>\n",
       "      <td>20514.000000</td>\n",
       "    </tr>\n",
       "    <tr>\n",
       "      <th>mean</th>\n",
       "      <td>180.834552</td>\n",
       "    </tr>\n",
       "    <tr>\n",
       "      <th>std</th>\n",
       "      <td>219.533936</td>\n",
       "    </tr>\n",
       "    <tr>\n",
       "      <th>min</th>\n",
       "      <td>1.000000</td>\n",
       "    </tr>\n",
       "    <tr>\n",
       "      <th>25%</th>\n",
       "      <td>45.000000</td>\n",
       "    </tr>\n",
       "    <tr>\n",
       "      <th>50%</th>\n",
       "      <td>95.000000</td>\n",
       "    </tr>\n",
       "    <tr>\n",
       "      <th>75%</th>\n",
       "      <td>232.000000</td>\n",
       "    </tr>\n",
       "    <tr>\n",
       "      <th>max</th>\n",
       "      <td>1580.000000</td>\n",
       "    </tr>\n",
       "  </tbody>\n",
       "</table>\n",
       "</div>"
      ],
      "text/plain": [
       "       days_exposition\n",
       "count     20514.000000\n",
       "mean        180.834552\n",
       "std         219.533936\n",
       "min           1.000000\n",
       "25%          45.000000\n",
       "50%          95.000000\n",
       "75%         232.000000\n",
       "max        1580.000000"
      ]
     },
     "execution_count": 64,
     "metadata": {},
     "output_type": "execute_result"
    }
   ],
   "source": [
    "data['days_exposition'].describe().to_frame()"
   ]
  },
  {
   "cell_type": "code",
   "execution_count": 65,
   "metadata": {},
   "outputs": [
    {
     "data": {
      "text/plain": [
       "<AxesSubplot:>"
      ]
     },
     "execution_count": 65,
     "metadata": {},
     "output_type": "execute_result"
    },
    {
     "data": {
      "image/png": "[encoded data removed]",
      "text/plain": [
       "<Figure size 720x216 with 1 Axes>"
      ]
     },
     "metadata": {
      "needs_background": "light"
     },
     "output_type": "display_data"
    }
   ],
   "source": [
    "data.query('days_exposition<500')['days_exposition'].hist(bins=70, figsize=(10,3), ec='black')\n",
    "#построим гистограмму количество дней продажи квартиры, исользуя условия, количество выставочных дней менее 500"
   ]
  },
  {
   "cell_type": "code",
   "execution_count": 66,
   "metadata": {},
   "outputs": [
    {
     "data": {
      "text/plain": [
       "<AxesSubplot:>"
      ]
     },
     "execution_count": 66,
     "metadata": {},
     "output_type": "execute_result"
    },
    {
     "data": {
      "image/png": "[encoded data removed]",
      "text/plain": [
       "<Figure size 720x216 with 1 Axes>"
      ]
     },
     "metadata": {
      "needs_background": "light"
     },
     "output_type": "display_data"
    }
   ],
   "source": [
    "#Посмотрим ближе  пик в 170 и 200 дней.\n",
    "\n",
    "data.query('170<days_exposition<200')['days_exposition'].hist(bins=70, figsize=(10,3), ec='black')"
   ]
  },
  {
   "cell_type": "markdown",
   "metadata": {},
   "source": [
    "комментарий:в строке 65 условие при построение гистограммы было количество выставочных дней менее 500, в гистограмме\n",
    "представленной ниже взяла размах от 170 до 200, посмотрела что пик у 180 действитель есть, но он не большой\n",
    "никого интереса для анализа не представил.\n",
    "необычно быстрая продажа составила 1 день. видимо квартира уже была продана на момент публикации.\n",
    "объявление выставили и сняли. а необычно долгие продажи 1580 и 1500 дней. 5 лет это что то не реальное. \n",
    "причину указать не могу. на диаграмме ниже видно необычные выбросы."
   ]
  },
  {
   "cell_type": "code",
   "execution_count": 67,
   "metadata": {},
   "outputs": [
    {
     "data": {
      "text/plain": [
       "<AxesSubplot:>"
      ]
     },
     "execution_count": 67,
     "metadata": {},
     "output_type": "execute_result"
    },
    {
     "data": {
      "image/png": "[encoded data removed]",
      "text/plain": [
       "<Figure size 432x288 with 1 Axes>"
      ]
     },
     "metadata": {
      "needs_background": "light"
     },
     "output_type": "display_data"
    }
   ],
   "source": [
    "data.boxplot(column='days_exposition')"
   ]
  },
  {
   "cell_type": "code",
   "execution_count": 68,
   "metadata": {},
   "outputs": [
    {
     "name": "stdout",
     "output_type": "stream",
     "text": [
      "0.6537235946451704\n"
     ]
    }
   ],
   "source": [
    "print(data['last_price'].corr(data['total_area']))#проверила на сколько высока зависимость между ценой и площадью\n"
   ]
  },
  {
   "cell_type": "markdown",
   "metadata": {},
   "source": [
    "да зависимость есть"
   ]
  },
  {
   "cell_type": "code",
   "execution_count": 69,
   "metadata": {},
   "outputs": [
    {
     "data": {
      "text/html": [
       "<div>\n",
       "<style scoped>\n",
       "    .dataframe tbody tr th:only-of-type {\n",
       "        vertical-align: middle;\n",
       "    }\n",
       "\n",
       "    .dataframe tbody tr th {\n",
       "        vertical-align: top;\n",
       "    }\n",
       "\n",
       "    .dataframe thead th {\n",
       "        text-align: right;\n",
       "    }\n",
       "</style>\n",
       "<table border=\"1\" class=\"dataframe\">\n",
       "  <thead>\n",
       "    <tr style=\"text-align: right;\">\n",
       "      <th></th>\n",
       "      <th>total_area</th>\n",
       "      <th>last_price</th>\n",
       "      <th>rooms</th>\n",
       "      <th>ceiling_height</th>\n",
       "      <th>living_area</th>\n",
       "      <th>kitchen_area</th>\n",
       "    </tr>\n",
       "  </thead>\n",
       "  <tbody>\n",
       "    <tr>\n",
       "      <th>count</th>\n",
       "      <td>23695.000000</td>\n",
       "      <td>2.369500e+04</td>\n",
       "      <td>23695.000000</td>\n",
       "      <td>14500.000000</td>\n",
       "      <td>21792.000000</td>\n",
       "      <td>21417.000000</td>\n",
       "    </tr>\n",
       "    <tr>\n",
       "      <th>mean</th>\n",
       "      <td>60.350280</td>\n",
       "      <td>6.541256e+06</td>\n",
       "      <td>2.070648</td>\n",
       "      <td>2.765019</td>\n",
       "      <td>34.458655</td>\n",
       "      <td>10.554093</td>\n",
       "    </tr>\n",
       "    <tr>\n",
       "      <th>std</th>\n",
       "      <td>35.655925</td>\n",
       "      <td>1.088771e+07</td>\n",
       "      <td>1.078456</td>\n",
       "      <td>0.968643</td>\n",
       "      <td>22.034621</td>\n",
       "      <td>5.915005</td>\n",
       "    </tr>\n",
       "    <tr>\n",
       "      <th>min</th>\n",
       "      <td>12.000000</td>\n",
       "      <td>1.219000e+04</td>\n",
       "      <td>0.000000</td>\n",
       "      <td>1.750000</td>\n",
       "      <td>2.000000</td>\n",
       "      <td>1.000000</td>\n",
       "    </tr>\n",
       "    <tr>\n",
       "      <th>25%</th>\n",
       "      <td>40.000000</td>\n",
       "      <td>3.400000e+06</td>\n",
       "      <td>1.000000</td>\n",
       "      <td>2.520000</td>\n",
       "      <td>19.000000</td>\n",
       "      <td>7.000000</td>\n",
       "    </tr>\n",
       "    <tr>\n",
       "      <th>50%</th>\n",
       "      <td>52.000000</td>\n",
       "      <td>4.650000e+06</td>\n",
       "      <td>2.000000</td>\n",
       "      <td>2.650000</td>\n",
       "      <td>30.000000</td>\n",
       "      <td>9.000000</td>\n",
       "    </tr>\n",
       "    <tr>\n",
       "      <th>75%</th>\n",
       "      <td>69.900000</td>\n",
       "      <td>6.799500e+06</td>\n",
       "      <td>3.000000</td>\n",
       "      <td>2.800000</td>\n",
       "      <td>42.000000</td>\n",
       "      <td>12.000000</td>\n",
       "    </tr>\n",
       "    <tr>\n",
       "      <th>max</th>\n",
       "      <td>900.000000</td>\n",
       "      <td>7.630000e+08</td>\n",
       "      <td>19.000000</td>\n",
       "      <td>32.000000</td>\n",
       "      <td>410.000000</td>\n",
       "      <td>112.000000</td>\n",
       "    </tr>\n",
       "  </tbody>\n",
       "</table>\n",
       "</div>"
      ],
      "text/plain": [
       "         total_area    last_price         rooms  ceiling_height   living_area  \\\n",
       "count  23695.000000  2.369500e+04  23695.000000    14500.000000  21792.000000   \n",
       "mean      60.350280  6.541256e+06      2.070648        2.765019     34.458655   \n",
       "std       35.655925  1.088771e+07      1.078456        0.968643     22.034621   \n",
       "min       12.000000  1.219000e+04      0.000000        1.750000      2.000000   \n",
       "25%       40.000000  3.400000e+06      1.000000        2.520000     19.000000   \n",
       "50%       52.000000  4.650000e+06      2.000000        2.650000     30.000000   \n",
       "75%       69.900000  6.799500e+06      3.000000        2.800000     42.000000   \n",
       "max      900.000000  7.630000e+08     19.000000       32.000000    410.000000   \n",
       "\n",
       "       kitchen_area  \n",
       "count  21417.000000  \n",
       "mean      10.554093  \n",
       "std        5.915005  \n",
       "min        1.000000  \n",
       "25%        7.000000  \n",
       "50%        9.000000  \n",
       "75%       12.000000  \n",
       "max      112.000000  "
      ]
     },
     "execution_count": 69,
     "metadata": {},
     "output_type": "execute_result"
    }
   ],
   "source": [
    "#1.1. Изучаем следующие параметры: площадь, цена, жилая площадь, площадь кухни, число комнат, \n",
    "#высота потолков.\n",
    "\n",
    "data[['total_area', 'last_price', 'rooms', 'ceiling_height',\"living_area\",\"kitchen_area\"]].describe()\n"
   ]
  },
  {
   "cell_type": "code",
   "execution_count": 70,
   "metadata": {},
   "outputs": [],
   "source": [
    "data[\"last_price_mln\"]=data[\"last_price\"]/1000000#столбец с итоговой ценой переведу в миллионы, чтобы было нагляднее"
   ]
  },
  {
   "cell_type": "code",
   "execution_count": 71,
   "metadata": {},
   "outputs": [
    {
     "data": {
      "text/html": [
       "<div>\n",
       "<style scoped>\n",
       "    .dataframe tbody tr th:only-of-type {\n",
       "        vertical-align: middle;\n",
       "    }\n",
       "\n",
       "    .dataframe tbody tr th {\n",
       "        vertical-align: top;\n",
       "    }\n",
       "\n",
       "    .dataframe thead th {\n",
       "        text-align: right;\n",
       "    }\n",
       "</style>\n",
       "<table border=\"1\" class=\"dataframe\">\n",
       "  <thead>\n",
       "    <tr style=\"text-align: right;\">\n",
       "      <th></th>\n",
       "      <th>total_area</th>\n",
       "      <th>last_price_mln</th>\n",
       "      <th>rooms</th>\n",
       "      <th>ceiling_height</th>\n",
       "      <th>living_area</th>\n",
       "      <th>kitchen_area</th>\n",
       "    </tr>\n",
       "  </thead>\n",
       "  <tbody>\n",
       "    <tr>\n",
       "      <th>count</th>\n",
       "      <td>23695.000000</td>\n",
       "      <td>23695.000000</td>\n",
       "      <td>23695.000000</td>\n",
       "      <td>14500.000000</td>\n",
       "      <td>21792.000000</td>\n",
       "      <td>21417.000000</td>\n",
       "    </tr>\n",
       "    <tr>\n",
       "      <th>mean</th>\n",
       "      <td>60.350280</td>\n",
       "      <td>6.541256</td>\n",
       "      <td>2.070648</td>\n",
       "      <td>2.765019</td>\n",
       "      <td>34.458655</td>\n",
       "      <td>10.554093</td>\n",
       "    </tr>\n",
       "    <tr>\n",
       "      <th>std</th>\n",
       "      <td>35.655925</td>\n",
       "      <td>10.887712</td>\n",
       "      <td>1.078456</td>\n",
       "      <td>0.968643</td>\n",
       "      <td>22.034621</td>\n",
       "      <td>5.915005</td>\n",
       "    </tr>\n",
       "    <tr>\n",
       "      <th>min</th>\n",
       "      <td>12.000000</td>\n",
       "      <td>0.012190</td>\n",
       "      <td>0.000000</td>\n",
       "      <td>1.750000</td>\n",
       "      <td>2.000000</td>\n",
       "      <td>1.000000</td>\n",
       "    </tr>\n",
       "    <tr>\n",
       "      <th>25%</th>\n",
       "      <td>40.000000</td>\n",
       "      <td>3.400000</td>\n",
       "      <td>1.000000</td>\n",
       "      <td>2.520000</td>\n",
       "      <td>19.000000</td>\n",
       "      <td>7.000000</td>\n",
       "    </tr>\n",
       "    <tr>\n",
       "      <th>50%</th>\n",
       "      <td>52.000000</td>\n",
       "      <td>4.650000</td>\n",
       "      <td>2.000000</td>\n",
       "      <td>2.650000</td>\n",
       "      <td>30.000000</td>\n",
       "      <td>9.000000</td>\n",
       "    </tr>\n",
       "    <tr>\n",
       "      <th>75%</th>\n",
       "      <td>69.900000</td>\n",
       "      <td>6.799500</td>\n",
       "      <td>3.000000</td>\n",
       "      <td>2.800000</td>\n",
       "      <td>42.000000</td>\n",
       "      <td>12.000000</td>\n",
       "    </tr>\n",
       "    <tr>\n",
       "      <th>max</th>\n",
       "      <td>900.000000</td>\n",
       "      <td>763.000000</td>\n",
       "      <td>19.000000</td>\n",
       "      <td>32.000000</td>\n",
       "      <td>410.000000</td>\n",
       "      <td>112.000000</td>\n",
       "    </tr>\n",
       "  </tbody>\n",
       "</table>\n",
       "</div>"
      ],
      "text/plain": [
       "         total_area  last_price_mln         rooms  ceiling_height  \\\n",
       "count  23695.000000    23695.000000  23695.000000    14500.000000   \n",
       "mean      60.350280        6.541256      2.070648        2.765019   \n",
       "std       35.655925       10.887712      1.078456        0.968643   \n",
       "min       12.000000        0.012190      0.000000        1.750000   \n",
       "25%       40.000000        3.400000      1.000000        2.520000   \n",
       "50%       52.000000        4.650000      2.000000        2.650000   \n",
       "75%       69.900000        6.799500      3.000000        2.800000   \n",
       "max      900.000000      763.000000     19.000000       32.000000   \n",
       "\n",
       "        living_area  kitchen_area  \n",
       "count  21792.000000  21417.000000  \n",
       "mean      34.458655     10.554093  \n",
       "std       22.034621      5.915005  \n",
       "min        2.000000      1.000000  \n",
       "25%       19.000000      7.000000  \n",
       "50%       30.000000      9.000000  \n",
       "75%       42.000000     12.000000  \n",
       "max      410.000000    112.000000  "
      ]
     },
     "execution_count": 71,
     "metadata": {},
     "output_type": "execute_result"
    }
   ],
   "source": [
    "data[['total_area', 'last_price_mln', 'rooms', 'ceiling_height',\"living_area\",\"kitchen_area\"]].describe()"
   ]
  },
  {
   "cell_type": "code",
   "execution_count": 73,
   "metadata": {},
   "outputs": [
    {
     "data": {
      "text/plain": [
       "count    23695.000000\n",
       "mean        60.350280\n",
       "std         35.655925\n",
       "min         12.000000\n",
       "25%         40.000000\n",
       "50%         52.000000\n",
       "75%         69.900000\n",
       "max        900.000000\n",
       "Name: total_area, dtype: float64"
      ]
     },
     "execution_count": 73,
     "metadata": {},
     "output_type": "execute_result"
    },
    {
     "data": {
      "image/png": "[encoded data removed]",
      "text/plain": [
       "<Figure size 360x216 with 1 Axes>"
      ]
     },
     "metadata": {
      "needs_background": "light"
     },
     "output_type": "display_data"
    }
   ],
   "source": [
    "data.plot(y = 'total_area', kind = 'hist', bins = 100, grid=True, figsize = (5,3), range = (0,500))\n",
    "data['total_area'].describe()\n",
    "\n"
   ]
  },
  {
   "cell_type": "markdown",
   "metadata": {},
   "source": [
    "распределение данных нормальное, есть выбросы но они не сильно влияют на данные, \n",
    "по гистограмме кроме распределения нечего больше указать, с помошью describe получил общее представление\n",
    "Изучив общую площадь не вижу ни чего удивительного. Средняя площадь 60 метров (стандартная двушка)."
   ]
  },
  {
   "cell_type": "markdown",
   "metadata": {},
   "source": [
    "<div class=\"alert alert-success\">\n",
    "<b>Комментарий ревьюера v 2.0 ✔️:</b> Хорошо"
   ]
  },
  {
   "cell_type": "code",
   "execution_count": 74,
   "metadata": {},
   "outputs": [
    {
     "data": {
      "text/plain": [
       "count    21792.000000\n",
       "mean        34.458655\n",
       "std         22.034621\n",
       "min          2.000000\n",
       "25%         19.000000\n",
       "50%         30.000000\n",
       "75%         42.000000\n",
       "max        410.000000\n",
       "Name: living_area, dtype: float64"
      ]
     },
     "execution_count": 74,
     "metadata": {},
     "output_type": "execute_result"
    },
    {
     "data": {
      "image/png": "[encoded data removed]",
      "text/plain": [
       "<Figure size 360x216 with 1 Axes>"
      ]
     },
     "metadata": {
      "needs_background": "light"
     },
     "output_type": "display_data"
    }
   ],
   "source": [
    "data.plot(y = 'living_area', kind = 'hist', bins = 100, grid=True, figsize = (5,3), range = (0,500))\n",
    "data['living_area'].describe()\n",
    "#распределение данных нормальное, есть выбросы аномальные по минимальным значениям, \n",
    "#по гистограмме кроме распределения нечего больше указать, с помошью describe получила общее представление\n",
    "# Изучив жилую площадь не вижу ни чего удивительного. Средняя площадь 34 метров (стандартные жилые комнаты 15-17 метров).\n",
    "#Интрересно что жилая площадь по объекту в 900 метров сократилась более чем в 2 раза. вероятно дом с бассейном\n",
    "#и кучей всмогательных, нежилых помещений."
   ]
  },
  {
   "cell_type": "code",
   "execution_count": 75,
   "metadata": {},
   "outputs": [
    {
     "data": {
      "text/plain": [
       "count    21417.000000\n",
       "mean        10.554093\n",
       "std          5.915005\n",
       "min          1.000000\n",
       "25%          7.000000\n",
       "50%          9.000000\n",
       "75%         12.000000\n",
       "max        112.000000\n",
       "Name: kitchen_area, dtype: float64"
      ]
     },
     "execution_count": 75,
     "metadata": {},
     "output_type": "execute_result"
    },
    {
     "data": {
      "image/png": "[encoded data removed]",
      "text/plain": [
       "<Figure size 360x216 with 1 Axes>"
      ]
     },
     "metadata": {
      "needs_background": "light"
     },
     "output_type": "display_data"
    }
   ],
   "source": [
    "data.plot(y = 'kitchen_area', kind = 'hist', bins = 100, grid=True, figsize = (5,3), range = (0,60))\n",
    "data['kitchen_area'].describe()\n",
    "#распределение данных нормальное, есть несколько выбросов но они не сильно влияют на данные, \n",
    "#по гистограмме кроме распределения нечего больше указать, с помошью describe получила общее представление\n",
    "# Изучив  площадь  кухни не вижу ни чего удивительного. Средняя площадь 10 метров, минимальная площадьБ\n",
    "# видимо поставлена номинальна, просто подтвердили наличие кухни."
   ]
  },
  {
   "cell_type": "code",
   "execution_count": 76,
   "metadata": {},
   "outputs": [
    {
     "data": {
      "text/plain": [
       "count    23695.000000\n",
       "mean         2.070648\n",
       "std          1.078456\n",
       "min          0.000000\n",
       "25%          1.000000\n",
       "50%          2.000000\n",
       "75%          3.000000\n",
       "max         19.000000\n",
       "Name: rooms, dtype: float64"
      ]
     },
     "execution_count": 76,
     "metadata": {},
     "output_type": "execute_result"
    },
    {
     "data": {
      "image/png": "[encoded data removed]",
      "text/plain": [
       "<Figure size 360x216 with 1 Axes>"
      ]
     },
     "metadata": {
      "needs_background": "light"
     },
     "output_type": "display_data"
    }
   ],
   "source": [
    "#изучим число комнат\n",
    "data\n",
    "data.plot(y = 'rooms', kind = 'hist', grid=True, figsize = (5,3))\n",
    "data['rooms'].describe()\n",
    "#с данными все впорядке. максимальное предложение на рынке 1-2-х комнатные квартиры"
   ]
  },
  {
   "cell_type": "code",
   "execution_count": 77,
   "metadata": {
    "scrolled": true
   },
   "outputs": [
    {
     "data": {
      "text/plain": [
       "count    23695.000000\n",
       "mean         5.892425\n",
       "std          4.885508\n",
       "min          1.000000\n",
       "25%          2.000000\n",
       "50%          4.000000\n",
       "75%          8.000000\n",
       "max         33.000000\n",
       "Name: floor, dtype: float64"
      ]
     },
     "execution_count": 77,
     "metadata": {},
     "output_type": "execute_result"
    },
    {
     "data": {
      "image/png": "[encoded data removed]",
      "text/plain": [
       "<Figure size 360x216 with 1 Axes>"
      ]
     },
     "metadata": {
      "needs_background": "light"
     },
     "output_type": "display_data"
    }
   ],
   "source": [
    "#изучим'этажи'\n",
    "data\n",
    "data.plot(y = 'floor', kind = 'hist', grid=True, figsize = (5,3))\n",
    "data['floor'].describe()\n",
    "#с данными все впорядке. минимальное значение 1. максимальное 33 этаж."
   ]
  },
  {
   "cell_type": "code",
   "execution_count": 78,
   "metadata": {},
   "outputs": [
    {
     "data": {
      "text/plain": [
       "count    23609.000000\n",
       "mean        10.674107\n",
       "std          6.597253\n",
       "min          1.000000\n",
       "25%          5.000000\n",
       "50%          9.000000\n",
       "75%         16.000000\n",
       "max         60.000000\n",
       "Name: floors_total, dtype: float64"
      ]
     },
     "execution_count": 78,
     "metadata": {},
     "output_type": "execute_result"
    },
    {
     "data": {
      "image/png": "[encoded data removed]",
      "text/plain": [
       "<Figure size 360x216 with 1 Axes>"
      ]
     },
     "metadata": {
      "needs_background": "light"
     },
     "output_type": "display_data"
    }
   ],
   "source": [
    "#изучим'этажи'\n",
    "data\n",
    "data.plot(y = 'floors_total', kind = 'hist', grid=True, figsize = (5,3))\n",
    "data['floors_total'].describe()\n",
    "#с данными все впорядке. минимальное значение 1. максимальное 60 этаж."
   ]
  },
  {
   "cell_type": "code",
   "execution_count": 79,
   "metadata": {},
   "outputs": [
    {
     "data": {
      "text/plain": [
       "count    23695.000000\n",
       "mean         6.541256\n",
       "std         10.887712\n",
       "min          0.012190\n",
       "25%          3.400000\n",
       "50%          4.650000\n",
       "75%          6.799500\n",
       "max        763.000000\n",
       "Name: last_price_mln, dtype: float64"
      ]
     },
     "execution_count": 79,
     "metadata": {},
     "output_type": "execute_result"
    },
    {
     "data": {
      "image/png": "[encoded data removed]",
      "text/plain": [
       "<Figure size 360x216 with 1 Axes>"
      ]
     },
     "metadata": {
      "needs_background": "light"
     },
     "output_type": "display_data"
    }
   ],
   "source": [
    "#изучим цену\n",
    "#data['last_price_mln'] = data['last_price']/1000000\n",
    "data.plot(y = 'last_price_mln', kind = 'hist', bins = 100, grid=True, range = (0,50), figsize = (5,3))\n",
    "data['last_price_mln'].describe()\n"
   ]
  },
  {
   "cell_type": "markdown",
   "metadata": {},
   "source": [
    "с данными все впорядке . средняя сделка 6,5 миллионов. максимальная 763 млн. на графики сделки оказываю до 50 млн."
   ]
  },
  {
   "cell_type": "code",
   "execution_count": 80,
   "metadata": {},
   "outputs": [
    {
     "data": {
      "text/plain": [
       "count      23695\n",
       "unique         3\n",
       "top       другой\n",
       "freq       17444\n",
       "Name: level, dtype: object"
      ]
     },
     "execution_count": 80,
     "metadata": {},
     "output_type": "execute_result"
    }
   ],
   "source": [
    "\n",
    "data['level'].describe()\n",
    "#с данными все впорядке. максимальное предложение на рынке 1-2-х комнатные квартиры"
   ]
  },
  {
   "cell_type": "code",
   "execution_count": 81,
   "metadata": {},
   "outputs": [
    {
     "name": "stdout",
     "output_type": "stream",
     "text": [
      "total_images              2891\n",
      "last_price                2891\n",
      "total_area                2891\n",
      "first_day_exposition      2891\n",
      "rooms                     2891\n",
      "ceiling_height            1810\n",
      "floors_total              2888\n",
      "living_area               2643\n",
      "floor                     2891\n",
      "is_apartment              2891\n",
      "studio                    2891\n",
      "open_plan                 2891\n",
      "kitchen_area              2588\n",
      "balcony                   2891\n",
      "locality_name             2886\n",
      "airports_nearest          1991\n",
      "cityCenters_nearest       1993\n",
      "parks_around3000          1993\n",
      "parks_nearest             2891\n",
      "ponds_around3000          2891\n",
      "ponds_nearest             2891\n",
      "days_exposition           2449\n",
      "price_area                2891\n",
      "year                      2891\n",
      "month                     2891\n",
      "day                       2891\n",
      "level                     2891\n",
      "living_area_part          2643\n",
      "kitchen_area_part         2588\n",
      "cityCenters_nearest_km    1993\n",
      "last_price_mln            2891\n",
      "dtype: int64\n"
     ]
    }
   ],
   "source": [
    "print(data[data['level'] == 'первый'].count())#посчитаем сделки по этажам\n"
   ]
  },
  {
   "cell_type": "code",
   "execution_count": 82,
   "metadata": {},
   "outputs": [
    {
     "name": "stdout",
     "output_type": "stream",
     "text": [
      "total_images              3360\n",
      "last_price                3360\n",
      "total_area                3360\n",
      "first_day_exposition      3360\n",
      "rooms                     3360\n",
      "ceiling_height            2099\n",
      "floors_total              3360\n",
      "living_area               3102\n",
      "floor                     3360\n",
      "is_apartment              3360\n",
      "studio                    3360\n",
      "open_plan                 3360\n",
      "kitchen_area              3067\n",
      "balcony                   3360\n",
      "locality_name             3354\n",
      "airports_nearest          2332\n",
      "cityCenters_nearest       2336\n",
      "parks_around3000          2336\n",
      "parks_nearest             3360\n",
      "ponds_around3000          3360\n",
      "ponds_nearest             3360\n",
      "days_exposition           2837\n",
      "price_area                3360\n",
      "year                      3360\n",
      "month                     3360\n",
      "day                       3360\n",
      "level                     3360\n",
      "living_area_part          3102\n",
      "kitchen_area_part         3067\n",
      "cityCenters_nearest_km    2336\n",
      "last_price_mln            3360\n",
      "dtype: int64\n"
     ]
    }
   ],
   "source": [
    "print(data[data['level'] == 'последний'].count())"
   ]
  },
  {
   "cell_type": "code",
   "execution_count": 83,
   "metadata": {},
   "outputs": [
    {
     "name": "stdout",
     "output_type": "stream",
     "text": [
      "total_images              17444\n",
      "last_price                17444\n",
      "total_area                17444\n",
      "first_day_exposition      17444\n",
      "rooms                     17444\n",
      "ceiling_height            10591\n",
      "floors_total              17361\n",
      "living_area               16047\n",
      "floor                     17444\n",
      "is_apartment              17444\n",
      "studio                    17444\n",
      "open_plan                 17444\n",
      "kitchen_area              15762\n",
      "balcony                   17444\n",
      "locality_name             17406\n",
      "airports_nearest          13831\n",
      "cityCenters_nearest       13848\n",
      "parks_around3000          13849\n",
      "parks_nearest             17444\n",
      "ponds_around3000          17444\n",
      "ponds_nearest             17444\n",
      "days_exposition           15228\n",
      "price_area                17444\n",
      "year                      17444\n",
      "month                     17444\n",
      "day                       17444\n",
      "level                     17444\n",
      "living_area_part          16047\n",
      "kitchen_area_part         15762\n",
      "cityCenters_nearest_km    13848\n",
      "last_price_mln            17444\n",
      "dtype: int64\n"
     ]
    }
   ],
   "source": [
    "print(data[data['level'] == 'другой'].count())\n",
    "    "
   ]
  },
  {
   "cell_type": "markdown",
   "metadata": {},
   "source": [
    "конечно больше всех сделок на прочих этажах, в принципе это и так понятно, позднее поробую создать функцию для анализа. посмотрю что получится на графике"
   ]
  },
  {
   "cell_type": "code",
   "execution_count": 84,
   "metadata": {},
   "outputs": [
    {
     "data": {
      "text/plain": [
       "0    14587\n",
       "1     5717\n",
       "2     1891\n",
       "3     1500\n",
       "Name: ponds_around3000, dtype: int64"
      ]
     },
     "execution_count": 84,
     "metadata": {},
     "output_type": "execute_result"
    }
   ],
   "source": [
    "data['airports_nearest'].value_counts()\n",
    "data['cityCenters_nearest'].value_counts()\n",
    "data['parks_around3000'].value_counts()\n",
    "data['parks_nearest'].value_counts()\n",
    "data['ponds_around3000'].value_counts()"
   ]
  },
  {
   "cell_type": "code",
   "execution_count": 85,
   "metadata": {},
   "outputs": [
    {
     "data": {
      "text/plain": [
       "count    14500.000000\n",
       "mean         2.765019\n",
       "std          0.968643\n",
       "min          1.750000\n",
       "25%          2.520000\n",
       "50%          2.650000\n",
       "75%          2.800000\n",
       "max         32.000000\n",
       "Name: ceiling_height, dtype: float64"
      ]
     },
     "execution_count": 85,
     "metadata": {},
     "output_type": "execute_result"
    },
    {
     "data": {
      "image/png": "[encoded data removed]",
      "text/plain": [
       "<Figure size 360x216 with 1 Axes>"
      ]
     },
     "metadata": {
      "needs_background": "light"
     },
     "output_type": "display_data"
    }
   ],
   "source": [
    "#изучим высоту потолков\n",
    "data\n",
    "data.plot(y = 'ceiling_height', kind = 'hist', bins = 30, range = (2,5), grid=True, figsize = (5,3))\n",
    "data['ceiling_height'].describe()\n",
    "#с данными все впорядке"
   ]
  },
  {
   "cell_type": "code",
   "execution_count": 86,
   "metadata": {},
   "outputs": [],
   "source": [
    "import seaborn as sns\n",
    "import matplotlib.pyplot as plt"
   ]
  },
  {
   "cell_type": "code",
   "execution_count": 87,
   "metadata": {},
   "outputs": [],
   "source": [
    "def depend_price(data, column):\n",
    "    title_dict = {'rooms': 'Зависимость цены от количества комнат', 'level': 'Зависимость цены от этажа',\n",
    "                  }\n",
    "    plt.style.use('seaborn-pastel')\n",
    "    if column == 'level' or column == 'fromcenter_category':\n",
    "        sort_key = 'last_price'\n",
    "    else:\n",
    "        sort_key = column\n",
    "    if column == 'fromcenter_category':\n",
    "        fontsize = 12\n",
    "    else:\n",
    "        fontsize = 15\n",
    "    data_filtered = data.groupby(column).median()['last_price'].reset_index().sort_values(by=sort_key)\n",
    "    plot = data_filtered.plot(x=column, y=\"last_price\", kind='bar', ec='black', \n",
    "                            title=title_dict[column], legend=None, \n",
    "                            fontsize=fontsize, figsize=(9,4))\n",
    "    ax2 = plt.gca()  # удалим xlabel - у нас и так есть многоговорящее название графика\n",
    "    x_axis = ax2.xaxis\n",
    "    x_axis.label.set_visible(False)\n",
    "    if column != 'cityCenters_nearest_kms':\n",
    "        plt.xticks(rotation=0)\n",
    "    return plot"
   ]
  },
  {
   "cell_type": "code",
   "execution_count": 88,
   "metadata": {},
   "outputs": [
    {
     "data": {
      "text/plain": [
       "<AxesSubplot:title={'center':'Зависимость цены от количества комнат'}, xlabel='rooms'>"
      ]
     },
     "execution_count": 88,
     "metadata": {},
     "output_type": "execute_result"
    },
    {
     "data": {
      "image/png": "[encoded data removed]",
      "text/plain": [
       "<Figure size 648x288 with 1 Axes>"
      ]
     },
     "metadata": {
      "needs_background": "light"
     },
     "output_type": "display_data"
    }
   ],
   "source": [
    "depend_price(data, 'rooms')#изучаю комнаты"
   ]
  },
  {
   "cell_type": "code",
   "execution_count": 89,
   "metadata": {},
   "outputs": [
    {
     "data": {
      "text/plain": [
       "<AxesSubplot:title={'center':'Зависимость цены от количества комнат'}, xlabel='rooms'>"
      ]
     },
     "execution_count": 89,
     "metadata": {},
     "output_type": "execute_result"
    },
    {
     "data": {
      "image/png": "[encoded data removed]",
      "text/plain": [
       "<Figure size 648x288 with 1 Axes>"
      ]
     },
     "metadata": {
      "needs_background": "light"
     },
     "output_type": "display_data"
    }
   ],
   "source": [
    "depend_price(data.query('rooms <= 6'), 'rooms')"
   ]
  },
  {
   "cell_type": "code",
   "execution_count": 90,
   "metadata": {},
   "outputs": [],
   "source": [
    "# создаем отдельную сводную таблицу для создания круговой диаграммы\n",
    "rooms_pivot = data.pivot_table(index='rooms', values='last_price', aggfunc='count')"
   ]
  },
  {
   "cell_type": "code",
   "execution_count": 91,
   "metadata": {},
   "outputs": [
    {
     "data": {
      "text/plain": [
       "<AxesSubplot:title={'center':'Зависимость цены от этажа'}, xlabel='level'>"
      ]
     },
     "execution_count": 91,
     "metadata": {},
     "output_type": "execute_result"
    },
    {
     "data": {
      "image/png": "[encoded data removed]",
      "text/plain": [
       "<Figure size 648x288 with 1 Axes>"
      ]
     },
     "metadata": {
      "needs_background": "light"
     },
     "output_type": "display_data"
    }
   ],
   "source": [
    "#вернемся к этажам и тоже выведем график\n",
    "depend_price(data, 'level')"
   ]
  },
  {
   "cell_type": "code",
   "execution_count": 92,
   "metadata": {},
   "outputs": [
    {
     "data": {
      "text/plain": [
       "count    18177.000000\n",
       "mean     14191.440887\n",
       "std       8608.957833\n",
       "min        181.000000\n",
       "25%       9238.000000\n",
       "50%      13098.000000\n",
       "75%      16293.000000\n",
       "max      65968.000000\n",
       "Name: cityCenters_nearest, dtype: float64"
      ]
     },
     "execution_count": 92,
     "metadata": {},
     "output_type": "execute_result"
    },
    {
     "data": {
      "image/png": "[encoded data removed]",
      "text/plain": [
       "<Figure size 360x216 with 1 Axes>"
      ]
     },
     "metadata": {
      "needs_background": "light"
     },
     "output_type": "display_data"
    }
   ],
   "source": [
    "data\n",
    "data.plot(y = 'cityCenters_nearest', kind = 'hist', bins = 30, range = (180,40000), grid=True, figsize = (5,3))\n",
    "data['cityCenters_nearest'].describe()# основные продажи по удаленности от 10 до 17 км от центра"
   ]
  },
  {
   "cell_type": "code",
   "execution_count": 93,
   "metadata": {},
   "outputs": [
    {
     "data": {
      "text/plain": [
       "count    18154.000000\n",
       "mean     28793.741820\n",
       "std      12631.503613\n",
       "min          0.000000\n",
       "25%      18585.000000\n",
       "50%      26726.000000\n",
       "75%      37274.500000\n",
       "max      84869.000000\n",
       "Name: airports_nearest, dtype: float64"
      ]
     },
     "execution_count": 93,
     "metadata": {},
     "output_type": "execute_result"
    },
    {
     "data": {
      "image/png": "[encoded data removed]",
      "text/plain": [
       "<Figure size 360x216 with 1 Axes>"
      ]
     },
     "metadata": {
      "needs_background": "light"
     },
     "output_type": "display_data"
    }
   ],
   "source": [
    "data\n",
    "data.plot(y = 'airports_nearest', kind = 'hist', bins = 30, range = (180,100000), grid=True, figsize = (5,3))\n",
    "data['airports_nearest'].describe()# основные продажи по удаленности от 15 до 40 км от аэропорта"
   ]
  },
  {
   "cell_type": "code",
   "execution_count": 94,
   "metadata": {},
   "outputs": [
    {
     "data": {
      "text/plain": [
       "count    23695.000000\n",
       "mean       167.321967\n",
       "std        306.730733\n",
       "min          0.000000\n",
       "25%          0.000000\n",
       "50%          0.000000\n",
       "75%        301.500000\n",
       "max       3190.000000\n",
       "Name: parks_nearest, dtype: float64"
      ]
     },
     "execution_count": 94,
     "metadata": {},
     "output_type": "execute_result"
    },
    {
     "data": {
      "image/png": "[encoded data removed]",
      "text/plain": [
       "<Figure size 360x216 with 1 Axes>"
      ]
     },
     "metadata": {
      "needs_background": "light"
     },
     "output_type": "display_data"
    }
   ],
   "source": [
    "data\n",
    "data.plot(y = 'parks_nearest', kind = 'hist', bins = 30, range = (180,100000), grid=True, figsize = (5,3))\n",
    "data['parks_nearest'].describe()# основные продажи по удаленности парк рядом"
   ]
  },
  {
   "cell_type": "code",
   "execution_count": 95,
   "metadata": {},
   "outputs": [
    {
     "name": "stdout",
     "output_type": "stream",
     "text": [
      "[[<AxesSubplot:title={'center':'days_exposition'}>]]\n"
     ]
    },
    {
     "data": {
      "image/png": "[encoded data removed]",
      "text/plain": [
       "<Figure size 432x288 with 1 Axes>"
      ]
     },
     "metadata": {
      "needs_background": "light"
     },
     "output_type": "display_data"
    }
   ],
   "source": [
    "stat = data.pivot_table(index=['total_area'], values='days_exposition')\n",
    "print(stat.hist(range=(0,800),bins=100))"
   ]
  },
  {
   "cell_type": "markdown",
   "metadata": {},
   "source": [
    "провела анализ по следующим параметры объектов: \n",
    "o\tобщая площадь;\n",
    "o\tнахожу самую большую площадь и цену\n",
    "o\to\tжилая площадь;\n",
    "o\tплощадь кухни;\n",
    "o\tцена объекта;\n",
    "o\tколичество комнат;\n",
    "o\tвысота потолков;\n",
    "o\tэтаж квартиры;\n",
    "o\tтип этажа квартиры («первый», «последний», «другой»);\n",
    "o\tобщее количество этажей в доме;\n",
    "o\tрасстояние до центра города в метрах;\n",
    "o\tрасстояние до ближайшего аэропорта;\n",
    "o\tрасстояние до ближайшего парка;\n",
    "o\tдень и месяц публикации объявления.\n",
    "Построила отдельные гистограммы для каждого из этих параметров.\n",
    "средняя площадь продаваемых квартир 60 м, это двушка не на первои и не напоследнем этаже. средняя цена продажи 6,5 млн. парк чаще всего рядом, удаленность от аэропорта 15-40 км. центр как  правило не далеко. площадь кухни не большая 10 метров. есть и уникадбные сделки по 543 млн. \n"
   ]
  },
  {
   "cell_type": "code",
   "execution_count": 96,
   "metadata": {},
   "outputs": [],
   "source": [
    "#Проведем анализ десяти населённых пунктов с наибольшим числом объявлений, анализ стоимости квадратного метра;"
   ]
  },
  {
   "cell_type": "code",
   "execution_count": 97,
   "metadata": {},
   "outputs": [
    {
     "data": {
      "text/html": [
       "<div>\n",
       "<style scoped>\n",
       "    .dataframe tbody tr th:only-of-type {\n",
       "        vertical-align: middle;\n",
       "    }\n",
       "\n",
       "    .dataframe tbody tr th {\n",
       "        vertical-align: top;\n",
       "    }\n",
       "\n",
       "    .dataframe thead th {\n",
       "        text-align: right;\n",
       "    }\n",
       "</style>\n",
       "<table border=\"1\" class=\"dataframe\">\n",
       "  <thead>\n",
       "    <tr style=\"text-align: right;\">\n",
       "      <th></th>\n",
       "      <th>count</th>\n",
       "      <th>mean</th>\n",
       "    </tr>\n",
       "    <tr>\n",
       "      <th>locality_name</th>\n",
       "      <th></th>\n",
       "      <th></th>\n",
       "    </tr>\n",
       "  </thead>\n",
       "  <tbody>\n",
       "    <tr>\n",
       "      <th>Санкт-Петербург</th>\n",
       "      <td>15718</td>\n",
       "      <td>114817.386202</td>\n",
       "    </tr>\n",
       "  </tbody>\n",
       "</table>\n",
       "</div>"
      ],
      "text/plain": [
       "                 count           mean\n",
       "locality_name                        \n",
       "Санкт-Петербург  15718  114817.386202"
      ]
     },
     "execution_count": 97,
     "metadata": {},
     "output_type": "execute_result"
    }
   ],
   "source": [
    "locality_pivot_table = data.pivot_table(index = 'locality_name', values = 'price_area', aggfunc=['count', 'mean'])\n",
    "locality_pivot_table.columns = ['count', 'mean']\n",
    "locality_pivot_table = locality_pivot_table.sort_values('count', ascending = False).head(10)\n",
    "locality_pivot_table\n",
    "#самая высокая стоимость\n",
    "locality_pivot_table[locality_pivot_table['mean']==locality_pivot_table['mean'].max()]\n"
   ]
  },
  {
   "cell_type": "code",
   "execution_count": 98,
   "metadata": {},
   "outputs": [
    {
     "data": {
      "text/html": [
       "<div>\n",
       "<style scoped>\n",
       "    .dataframe tbody tr th:only-of-type {\n",
       "        vertical-align: middle;\n",
       "    }\n",
       "\n",
       "    .dataframe tbody tr th {\n",
       "        vertical-align: top;\n",
       "    }\n",
       "\n",
       "    .dataframe thead th {\n",
       "        text-align: right;\n",
       "    }\n",
       "</style>\n",
       "<table border=\"1\" class=\"dataframe\">\n",
       "  <thead>\n",
       "    <tr style=\"text-align: right;\">\n",
       "      <th></th>\n",
       "      <th>count</th>\n",
       "      <th>mean</th>\n",
       "    </tr>\n",
       "    <tr>\n",
       "      <th>locality_name</th>\n",
       "      <th></th>\n",
       "      <th></th>\n",
       "    </tr>\n",
       "  </thead>\n",
       "  <tbody>\n",
       "    <tr>\n",
       "      <th>Выборг</th>\n",
       "      <td>237</td>\n",
       "      <td>58141.909325</td>\n",
       "    </tr>\n",
       "  </tbody>\n",
       "</table>\n",
       "</div>"
      ],
      "text/plain": [
       "               count          mean\n",
       "locality_name                     \n",
       "Выборг           237  58141.909325"
      ]
     },
     "execution_count": 98,
     "metadata": {},
     "output_type": "execute_result"
    }
   ],
   "source": [
    "#самая низкая стоимость\n",
    "locality_pivot_table[locality_pivot_table['mean']==locality_pivot_table['mean'].min()]"
   ]
  },
  {
   "cell_type": "code",
   "execution_count": 99,
   "metadata": {},
   "outputs": [
    {
     "data": {
      "text/plain": [
       "0.30299291535362216"
      ]
     },
     "execution_count": 99,
     "metadata": {},
     "output_type": "execute_result"
    }
   ],
   "source": [
    "data['total_area'].corr(data['price_area'])"
   ]
  },
  {
   "cell_type": "markdown",
   "metadata": {},
   "source": [
    "комментарий: по замечаниям добавляю диаграмму. коэффициенты кореляции вывожу для проверки, что зависимость есть. линейная зависимость тоже хорошо. если показатель не 0"
   ]
  },
  {
   "cell_type": "code",
   "execution_count": 100,
   "metadata": {},
   "outputs": [
    {
     "data": {
      "text/plain": [
       "0.30299291535362216"
      ]
     },
     "execution_count": 100,
     "metadata": {},
     "output_type": "execute_result"
    },
    {
     "data": {
      "image/png": "[encoded data removed]",
      "text/plain": [
       "<Figure size 432x288 with 1 Axes>"
      ]
     },
     "metadata": {
      "needs_background": "light"
     },
     "output_type": "display_data"
    }
   ],
   "source": [
    "data.plot(kind = 'scatter', y = 'price_area', x = 'total_area', alpha = 0.6)\n",
    "\n",
    "data['total_area'].corr(data['price_area'])\n",
    "#Изучим зависимость цены квадратного метра от удалённости от центра.\n"
   ]
  },
  {
   "cell_type": "code",
   "execution_count": 101,
   "metadata": {},
   "outputs": [
    {
     "data": {
      "text/plain": [
       "0.2271602297114343"
      ]
     },
     "execution_count": 101,
     "metadata": {},
     "output_type": "execute_result"
    },
    {
     "data": {
      "image/png": "[encoded data removed]",
      "text/plain": [
       "<Figure size 432x288 with 1 Axes>"
      ]
     },
     "metadata": {
      "needs_background": "light"
     },
     "output_type": "display_data"
    }
   ],
   "source": [
    "data.plot(kind = 'scatter', y = 'price_area', x = 'living_area', alpha = 0.6)\n",
    "\n",
    "data['living_area'].corr(data['price_area'])\n",
    "#Изучим зависимость цены квадратного метра от удалённости от центра.\n"
   ]
  },
  {
   "cell_type": "code",
   "execution_count": 102,
   "metadata": {},
   "outputs": [
    {
     "data": {
      "text/plain": [
       "0.39877373155780166"
      ]
     },
     "execution_count": 102,
     "metadata": {},
     "output_type": "execute_result"
    },
    {
     "data": {
      "image/png": "[encoded data removed]",
      "text/plain": [
       "<Figure size 432x288 with 1 Axes>"
      ]
     },
     "metadata": {
      "needs_background": "light"
     },
     "output_type": "display_data"
    }
   ],
   "source": [
    "data.plot(kind = 'scatter', y = 'price_area', x = 'kitchen_area', alpha = 0.6)\n",
    "\n",
    "data['kitchen_area'].corr(data['price_area'])\n",
    "#Изучим зависимость цены квадратного метра от удалённости от центра."
   ]
  },
  {
   "cell_type": "code",
   "execution_count": 103,
   "metadata": {},
   "outputs": [
    {
     "data": {
      "text/plain": [
       "0.05593111321441791"
      ]
     },
     "execution_count": 103,
     "metadata": {},
     "output_type": "execute_result"
    }
   ],
   "source": [
    "data['rooms'].corr(data['price_area'])\n",
    "#чем ближе количество комнат к 3 тем ниже стоимость квадратного метра, коэффициент корреляции, очень низкий\n",
    "\n"
   ]
  },
  {
   "cell_type": "code",
   "execution_count": 104,
   "metadata": {},
   "outputs": [
    {
     "data": {
      "text/html": [
       "<div>\n",
       "<style scoped>\n",
       "    .dataframe tbody tr th:only-of-type {\n",
       "        vertical-align: middle;\n",
       "    }\n",
       "\n",
       "    .dataframe tbody tr th {\n",
       "        vertical-align: top;\n",
       "    }\n",
       "\n",
       "    .dataframe thead th {\n",
       "        text-align: right;\n",
       "    }\n",
       "</style>\n",
       "<table border=\"1\" class=\"dataframe\">\n",
       "  <thead>\n",
       "    <tr style=\"text-align: right;\">\n",
       "      <th></th>\n",
       "      <th>mean</th>\n",
       "      <th>count</th>\n",
       "      <th>median</th>\n",
       "    </tr>\n",
       "    <tr>\n",
       "      <th>level</th>\n",
       "      <th></th>\n",
       "      <th></th>\n",
       "      <th></th>\n",
       "    </tr>\n",
       "  </thead>\n",
       "  <tbody>\n",
       "    <tr>\n",
       "      <th>другой</th>\n",
       "      <td>103484.754202</td>\n",
       "      <td>17444</td>\n",
       "      <td>98288.070</td>\n",
       "    </tr>\n",
       "    <tr>\n",
       "      <th>первый</th>\n",
       "      <td>82312.436776</td>\n",
       "      <td>2891</td>\n",
       "      <td>81309.400</td>\n",
       "    </tr>\n",
       "    <tr>\n",
       "      <th>последний</th>\n",
       "      <td>92905.919777</td>\n",
       "      <td>3360</td>\n",
       "      <td>87531.675</td>\n",
       "    </tr>\n",
       "  </tbody>\n",
       "</table>\n",
       "</div>"
      ],
      "text/plain": [
       "                    mean  count     median\n",
       "level                                     \n",
       "другой     103484.754202  17444  98288.070\n",
       "первый      82312.436776   2891  81309.400\n",
       "последний   92905.919777   3360  87531.675"
      ]
     },
     "execution_count": 104,
     "metadata": {},
     "output_type": "execute_result"
    },
    {
     "data": {
      "image/png": "[encoded data removed]",
      "text/plain": [
       "<Figure size 432x288 with 1 Axes>"
      ]
     },
     "metadata": {
      "needs_background": "light"
     },
     "output_type": "display_data"
    }
   ],
   "source": [
    "pivot_table_floor_category = data.pivot_table(index = 'level', values = 'price_area', aggfunc = ['mean', 'count', 'median'])\n",
    "pivot_table_floor_category.columns = ['mean', 'count', 'median']\n",
    "pivot_table_floor_category.plot(y = 'median')\n",
    "pivot_table_floor_category\n",
    "#Изучим зависимость цены квадратного метра от этажа (первого или последнего). у первого этажа самая низкая цена\n"
   ]
  },
  {
   "cell_type": "code",
   "execution_count": 105,
   "metadata": {},
   "outputs": [
    {
     "data": {
      "text/plain": [
       "0.05593111321441791"
      ]
     },
     "execution_count": 105,
     "metadata": {},
     "output_type": "execute_result"
    },
    {
     "data": {
      "image/png": "[encoded data removed]",
      "text/plain": [
       "<Figure size 432x288 with 1 Axes>"
      ]
     },
     "metadata": {
      "needs_background": "light"
     },
     "output_type": "display_data"
    }
   ],
   "source": [
    "pivot_table_rooms = data.pivot_table(index = 'rooms', values = 'price_area', aggfunc = ['mean', 'count', 'median'])\n",
    "pivot_table_rooms.columns = ['mean', 'count', 'median']\n",
    "pivot_table_rooms.query('count > 50').plot(y = 'median')\n",
    "\n",
    "pivot_table_rooms.query('count > 50').sort_values('median', ascending = False)\n",
    "\n",
    "data['rooms'].corr(data['price_area'])\n",
    "#чем ближе количество комнат к 3 тем ниже стоимость квадратного метра, коэффициент корреляции, очень низкий\n"
   ]
  },
  {
   "cell_type": "code",
   "execution_count": 106,
   "metadata": {},
   "outputs": [
    {
     "data": {
      "text/plain": [
       "-0.31842968727434784"
      ]
     },
     "execution_count": 106,
     "metadata": {},
     "output_type": "execute_result"
    },
    {
     "data": {
      "image/png": "[encoded data removed]",
      "text/plain": [
       "<Figure size 432x288 with 1 Axes>"
      ]
     },
     "metadata": {
      "needs_background": "light"
     },
     "output_type": "display_data"
    }
   ],
   "source": [
    "data.plot(kind = 'scatter', y = 'price_area', x = 'cityCenters_nearest', alpha = 0.3)\n",
    "\n",
    "data['cityCenters_nearest'].corr(data['price_area'])\n",
    "#Изучим зависимость цены квадратного метра от удалённости от центра.\n"
   ]
  },
  {
   "cell_type": "code",
   "execution_count": 107,
   "metadata": {},
   "outputs": [
    {
     "data": {
      "text/html": [
       "<div>\n",
       "<style scoped>\n",
       "    .dataframe tbody tr th:only-of-type {\n",
       "        vertical-align: middle;\n",
       "    }\n",
       "\n",
       "    .dataframe tbody tr th {\n",
       "        vertical-align: top;\n",
       "    }\n",
       "\n",
       "    .dataframe thead th {\n",
       "        text-align: right;\n",
       "    }\n",
       "</style>\n",
       "<table border=\"1\" class=\"dataframe\">\n",
       "  <thead>\n",
       "    <tr style=\"text-align: right;\">\n",
       "      <th></th>\n",
       "      <th>mean</th>\n",
       "      <th>count</th>\n",
       "      <th>median</th>\n",
       "    </tr>\n",
       "    <tr>\n",
       "      <th>year</th>\n",
       "      <th></th>\n",
       "      <th></th>\n",
       "      <th></th>\n",
       "    </tr>\n",
       "  </thead>\n",
       "  <tbody>\n",
       "    <tr>\n",
       "      <th>2014</th>\n",
       "      <td>124774.032647</td>\n",
       "      <td>136</td>\n",
       "      <td>106901.90</td>\n",
       "    </tr>\n",
       "    <tr>\n",
       "      <th>2019</th>\n",
       "      <td>107123.780215</td>\n",
       "      <td>2879</td>\n",
       "      <td>103305.79</td>\n",
       "    </tr>\n",
       "    <tr>\n",
       "      <th>2018</th>\n",
       "      <td>97713.261692</td>\n",
       "      <td>8517</td>\n",
       "      <td>95687.33</td>\n",
       "    </tr>\n",
       "    <tr>\n",
       "      <th>2015</th>\n",
       "      <td>104614.200118</td>\n",
       "      <td>1191</td>\n",
       "      <td>93414.63</td>\n",
       "    </tr>\n",
       "    <tr>\n",
       "      <th>2017</th>\n",
       "      <td>97629.517933</td>\n",
       "      <td>8189</td>\n",
       "      <td>92568.45</td>\n",
       "    </tr>\n",
       "    <tr>\n",
       "      <th>2016</th>\n",
       "      <td>98322.343252</td>\n",
       "      <td>2783</td>\n",
       "      <td>91743.12</td>\n",
       "    </tr>\n",
       "  </tbody>\n",
       "</table>\n",
       "</div>"
      ],
      "text/plain": [
       "               mean  count     median\n",
       "year                                 \n",
       "2014  124774.032647    136  106901.90\n",
       "2019  107123.780215   2879  103305.79\n",
       "2018   97713.261692   8517   95687.33\n",
       "2015  104614.200118   1191   93414.63\n",
       "2017   97629.517933   8189   92568.45\n",
       "2016   98322.343252   2783   91743.12"
      ]
     },
     "execution_count": 107,
     "metadata": {},
     "output_type": "execute_result"
    },
    {
     "data": {
      "image/png": "[encoded data removed]",
      "text/plain": [
       "<Figure size 432x288 with 1 Axes>"
      ]
     },
     "metadata": {
      "needs_background": "light"
     },
     "output_type": "display_data"
    }
   ],
   "source": [
    "pivot_table_year_exposition = data.pivot_table(index = 'year', values = 'price_area', aggfunc = ['mean', 'count', 'median'])\n",
    "pivot_table_year_exposition.columns = ['mean', 'count', 'median']\n",
    "pivot_table_year_exposition.plot(y = 'median')\n",
    "\n",
    "pivot_table_year_exposition.sort_values('median', ascending = False)\n"
   ]
  },
  {
   "cell_type": "code",
   "execution_count": 108,
   "metadata": {},
   "outputs": [
    {
     "data": {
      "text/html": [
       "<div>\n",
       "<style scoped>\n",
       "    .dataframe tbody tr th:only-of-type {\n",
       "        vertical-align: middle;\n",
       "    }\n",
       "\n",
       "    .dataframe tbody tr th {\n",
       "        vertical-align: top;\n",
       "    }\n",
       "\n",
       "    .dataframe thead th {\n",
       "        text-align: right;\n",
       "    }\n",
       "</style>\n",
       "<table border=\"1\" class=\"dataframe\">\n",
       "  <thead>\n",
       "    <tr style=\"text-align: right;\">\n",
       "      <th></th>\n",
       "      <th>mean</th>\n",
       "      <th>count</th>\n",
       "      <th>median</th>\n",
       "    </tr>\n",
       "    <tr>\n",
       "      <th>month</th>\n",
       "      <th></th>\n",
       "      <th></th>\n",
       "      <th></th>\n",
       "    </tr>\n",
       "  </thead>\n",
       "  <tbody>\n",
       "    <tr>\n",
       "      <th>4</th>\n",
       "      <td>101949.026200</td>\n",
       "      <td>2379</td>\n",
       "      <td>96451.610</td>\n",
       "    </tr>\n",
       "    <tr>\n",
       "      <th>8</th>\n",
       "      <td>100147.857063</td>\n",
       "      <td>1743</td>\n",
       "      <td>96052.630</td>\n",
       "    </tr>\n",
       "    <tr>\n",
       "      <th>9</th>\n",
       "      <td>100464.271307</td>\n",
       "      <td>1981</td>\n",
       "      <td>95607.240</td>\n",
       "    </tr>\n",
       "    <tr>\n",
       "      <th>11</th>\n",
       "      <td>99230.870881</td>\n",
       "      <td>2371</td>\n",
       "      <td>95588.240</td>\n",
       "    </tr>\n",
       "    <tr>\n",
       "      <th>3</th>\n",
       "      <td>98973.215937</td>\n",
       "      <td>2587</td>\n",
       "      <td>95238.100</td>\n",
       "    </tr>\n",
       "    <tr>\n",
       "      <th>1</th>\n",
       "      <td>99862.581180</td>\n",
       "      <td>1500</td>\n",
       "      <td>95222.435</td>\n",
       "    </tr>\n",
       "    <tr>\n",
       "      <th>2</th>\n",
       "      <td>98768.735538</td>\n",
       "      <td>2640</td>\n",
       "      <td>95000.000</td>\n",
       "    </tr>\n",
       "    <tr>\n",
       "      <th>7</th>\n",
       "      <td>99330.261246</td>\n",
       "      <td>1694</td>\n",
       "      <td>95000.000</td>\n",
       "    </tr>\n",
       "    <tr>\n",
       "      <th>12</th>\n",
       "      <td>99554.650829</td>\n",
       "      <td>1640</td>\n",
       "      <td>94254.165</td>\n",
       "    </tr>\n",
       "    <tr>\n",
       "      <th>10</th>\n",
       "      <td>97928.648020</td>\n",
       "      <td>2126</td>\n",
       "      <td>94196.045</td>\n",
       "    </tr>\n",
       "    <tr>\n",
       "      <th>5</th>\n",
       "      <td>98543.764537</td>\n",
       "      <td>1274</td>\n",
       "      <td>92857.140</td>\n",
       "    </tr>\n",
       "    <tr>\n",
       "      <th>6</th>\n",
       "      <td>97763.317114</td>\n",
       "      <td>1760</td>\n",
       "      <td>92799.540</td>\n",
       "    </tr>\n",
       "  </tbody>\n",
       "</table>\n",
       "</div>"
      ],
      "text/plain": [
       "                mean  count     median\n",
       "month                                 \n",
       "4      101949.026200   2379  96451.610\n",
       "8      100147.857063   1743  96052.630\n",
       "9      100464.271307   1981  95607.240\n",
       "11      99230.870881   2371  95588.240\n",
       "3       98973.215937   2587  95238.100\n",
       "1       99862.581180   1500  95222.435\n",
       "2       98768.735538   2640  95000.000\n",
       "7       99330.261246   1694  95000.000\n",
       "12      99554.650829   1640  94254.165\n",
       "10      97928.648020   2126  94196.045\n",
       "5       98543.764537   1274  92857.140\n",
       "6       97763.317114   1760  92799.540"
      ]
     },
     "execution_count": 108,
     "metadata": {},
     "output_type": "execute_result"
    },
    {
     "data": {
      "image/png": "[encoded data removed]",
      "text/plain": [
       "<Figure size 432x288 with 1 Axes>"
      ]
     },
     "metadata": {
      "needs_background": "light"
     },
     "output_type": "display_data"
    }
   ],
   "source": [
    "pivot_table_year_exposition = data.pivot_table(index = 'month', values = 'price_area', aggfunc = ['mean', 'count', 'median'])\n",
    "pivot_table_year_exposition.columns = ['mean', 'count', 'median']\n",
    "pivot_table_year_exposition.plot(y = 'median')\n",
    "\n",
    "pivot_table_year_exposition.sort_values('median', ascending = False)\n"
   ]
  },
  {
   "cell_type": "code",
   "execution_count": 109,
   "metadata": {},
   "outputs": [
    {
     "data": {
      "text/html": [
       "<div>\n",
       "<style scoped>\n",
       "    .dataframe tbody tr th:only-of-type {\n",
       "        vertical-align: middle;\n",
       "    }\n",
       "\n",
       "    .dataframe tbody tr th {\n",
       "        vertical-align: top;\n",
       "    }\n",
       "\n",
       "    .dataframe thead th {\n",
       "        text-align: right;\n",
       "    }\n",
       "</style>\n",
       "<table border=\"1\" class=\"dataframe\">\n",
       "  <thead>\n",
       "    <tr style=\"text-align: right;\">\n",
       "      <th></th>\n",
       "      <th>mean</th>\n",
       "      <th>count</th>\n",
       "      <th>median</th>\n",
       "    </tr>\n",
       "    <tr>\n",
       "      <th>day</th>\n",
       "      <th></th>\n",
       "      <th></th>\n",
       "      <th></th>\n",
       "    </tr>\n",
       "  </thead>\n",
       "  <tbody>\n",
       "    <tr>\n",
       "      <th>2 - вторник</th>\n",
       "      <td>99726.704316</td>\n",
       "      <td>4182</td>\n",
       "      <td>95613.120</td>\n",
       "    </tr>\n",
       "    <tr>\n",
       "      <th>3 - среда</th>\n",
       "      <td>99488.819076</td>\n",
       "      <td>3972</td>\n",
       "      <td>95462.175</td>\n",
       "    </tr>\n",
       "    <tr>\n",
       "      <th>4 - четверг</th>\n",
       "      <td>100162.906151</td>\n",
       "      <td>4295</td>\n",
       "      <td>95143.880</td>\n",
       "    </tr>\n",
       "    <tr>\n",
       "      <th>1 - понедельник</th>\n",
       "      <td>99456.264132</td>\n",
       "      <td>3611</td>\n",
       "      <td>94696.970</td>\n",
       "    </tr>\n",
       "    <tr>\n",
       "      <th>5 - пятница</th>\n",
       "      <td>99012.143458</td>\n",
       "      <td>4000</td>\n",
       "      <td>94616.160</td>\n",
       "    </tr>\n",
       "    <tr>\n",
       "      <th>7 - воскресенье</th>\n",
       "      <td>97708.373914</td>\n",
       "      <td>1699</td>\n",
       "      <td>94501.720</td>\n",
       "    </tr>\n",
       "    <tr>\n",
       "      <th>6 - суббота</th>\n",
       "      <td>99018.170372</td>\n",
       "      <td>1936</td>\n",
       "      <td>93545.720</td>\n",
       "    </tr>\n",
       "  </tbody>\n",
       "</table>\n",
       "</div>"
      ],
      "text/plain": [
       "                          mean  count     median\n",
       "day                                             \n",
       "2 - вторник       99726.704316   4182  95613.120\n",
       "3 - среда         99488.819076   3972  95462.175\n",
       "4 - четверг      100162.906151   4295  95143.880\n",
       "1 - понедельник   99456.264132   3611  94696.970\n",
       "5 - пятница       99012.143458   4000  94616.160\n",
       "7 - воскресенье   97708.373914   1699  94501.720\n",
       "6 - суббота       99018.170372   1936  93545.720"
      ]
     },
     "execution_count": 109,
     "metadata": {},
     "output_type": "execute_result"
    },
    {
     "data": {
      "image/png": "[encoded data removed]",
      "text/plain": [
       "<Figure size 432x288 with 1 Axes>"
      ]
     },
     "metadata": {
      "needs_background": "light"
     },
     "output_type": "display_data"
    }
   ],
   "source": [
    "pivot_table_year_exposition = data.pivot_table(index = 'day', values = 'price_area', aggfunc = ['mean', 'count', 'median'])\n",
    "pivot_table_year_exposition.columns = ['mean', 'count', 'median']\n",
    "pivot_table_year_exposition.plot(y = 'median')\n",
    "\n",
    "pivot_table_year_exposition.sort_values('median', ascending = False)\n"
   ]
  },
  {
   "cell_type": "code",
   "execution_count": 110,
   "metadata": {},
   "outputs": [
    {
     "data": {
      "text/html": [
       "<div>\n",
       "<style scoped>\n",
       "    .dataframe tbody tr th:only-of-type {\n",
       "        vertical-align: middle;\n",
       "    }\n",
       "\n",
       "    .dataframe tbody tr th {\n",
       "        vertical-align: top;\n",
       "    }\n",
       "\n",
       "    .dataframe thead th {\n",
       "        text-align: right;\n",
       "    }\n",
       "</style>\n",
       "<table border=\"1\" class=\"dataframe\">\n",
       "  <thead>\n",
       "    <tr style=\"text-align: right;\">\n",
       "      <th></th>\n",
       "      <th>mean</th>\n",
       "      <th>count</th>\n",
       "      <th>median</th>\n",
       "    </tr>\n",
       "    <tr>\n",
       "      <th>day</th>\n",
       "      <th></th>\n",
       "      <th></th>\n",
       "      <th></th>\n",
       "    </tr>\n",
       "  </thead>\n",
       "  <tbody>\n",
       "    <tr>\n",
       "      <th>2 - вторник</th>\n",
       "      <td>99726.704316</td>\n",
       "      <td>4182</td>\n",
       "      <td>95613.120</td>\n",
       "    </tr>\n",
       "    <tr>\n",
       "      <th>3 - среда</th>\n",
       "      <td>99488.819076</td>\n",
       "      <td>3972</td>\n",
       "      <td>95462.175</td>\n",
       "    </tr>\n",
       "    <tr>\n",
       "      <th>4 - четверг</th>\n",
       "      <td>100162.906151</td>\n",
       "      <td>4295</td>\n",
       "      <td>95143.880</td>\n",
       "    </tr>\n",
       "    <tr>\n",
       "      <th>1 - понедельник</th>\n",
       "      <td>99456.264132</td>\n",
       "      <td>3611</td>\n",
       "      <td>94696.970</td>\n",
       "    </tr>\n",
       "    <tr>\n",
       "      <th>5 - пятница</th>\n",
       "      <td>99012.143458</td>\n",
       "      <td>4000</td>\n",
       "      <td>94616.160</td>\n",
       "    </tr>\n",
       "    <tr>\n",
       "      <th>7 - воскресенье</th>\n",
       "      <td>97708.373914</td>\n",
       "      <td>1699</td>\n",
       "      <td>94501.720</td>\n",
       "    </tr>\n",
       "    <tr>\n",
       "      <th>6 - суббота</th>\n",
       "      <td>99018.170372</td>\n",
       "      <td>1936</td>\n",
       "      <td>93545.720</td>\n",
       "    </tr>\n",
       "  </tbody>\n",
       "</table>\n",
       "</div>"
      ],
      "text/plain": [
       "                          mean  count     median\n",
       "day                                             \n",
       "2 - вторник       99726.704316   4182  95613.120\n",
       "3 - среда         99488.819076   3972  95462.175\n",
       "4 - четверг      100162.906151   4295  95143.880\n",
       "1 - понедельник   99456.264132   3611  94696.970\n",
       "5 - пятница       99012.143458   4000  94616.160\n",
       "7 - воскресенье   97708.373914   1699  94501.720\n",
       "6 - суббота       99018.170372   1936  93545.720"
      ]
     },
     "execution_count": 110,
     "metadata": {},
     "output_type": "execute_result"
    },
    {
     "data": {
      "image/png": "[encoded data removed]",
      "text/plain": [
       "<Figure size 432x288 with 1 Axes>"
      ]
     },
     "metadata": {
      "needs_background": "light"
     },
     "output_type": "display_data"
    }
   ],
   "source": [
    "pivot_table_year_exposition = data.pivot_table(index = 'day', values = 'price_area', aggfunc = ['mean', 'count', 'median'])\n",
    "pivot_table_year_exposition.columns = ['mean', 'count', 'median']\n",
    "pivot_table_year_exposition.plot(y = 'median')\n",
    "\n",
    "pivot_table_year_exposition.sort_values('median', ascending = False)#стоимость особо не меняется от дня публикации\n",
    "#  а вот количество публикаций, заметно меняется. самое большое вторник, среда четверг. \n"
   ]
  },
  {
   "cell_type": "code",
   "execution_count": 111,
   "metadata": {},
   "outputs": [
    {
     "data": {
      "text/html": [
       "<div>\n",
       "<style scoped>\n",
       "    .dataframe tbody tr th:only-of-type {\n",
       "        vertical-align: middle;\n",
       "    }\n",
       "\n",
       "    .dataframe tbody tr th {\n",
       "        vertical-align: top;\n",
       "    }\n",
       "\n",
       "    .dataframe thead th {\n",
       "        text-align: right;\n",
       "    }\n",
       "</style>\n",
       "<table border=\"1\" class=\"dataframe\">\n",
       "  <thead>\n",
       "    <tr style=\"text-align: right;\">\n",
       "      <th></th>\n",
       "      <th>count</th>\n",
       "      <th>mean</th>\n",
       "    </tr>\n",
       "    <tr>\n",
       "      <th>locality_name</th>\n",
       "      <th></th>\n",
       "      <th></th>\n",
       "    </tr>\n",
       "  </thead>\n",
       "  <tbody>\n",
       "    <tr>\n",
       "      <th>Санкт-Петербург</th>\n",
       "      <td>15718</td>\n",
       "      <td>114817.386202</td>\n",
       "    </tr>\n",
       "    <tr>\n",
       "      <th>посёлок Мурино</th>\n",
       "      <td>590</td>\n",
       "      <td>86087.512017</td>\n",
       "    </tr>\n",
       "    <tr>\n",
       "      <th>посёлок Шушары</th>\n",
       "      <td>440</td>\n",
       "      <td>78677.364318</td>\n",
       "    </tr>\n",
       "    <tr>\n",
       "      <th>Всеволожск</th>\n",
       "      <td>398</td>\n",
       "      <td>68654.473970</td>\n",
       "    </tr>\n",
       "    <tr>\n",
       "      <th>Пушкин</th>\n",
       "      <td>369</td>\n",
       "      <td>103125.819377</td>\n",
       "    </tr>\n",
       "    <tr>\n",
       "      <th>Колпино</th>\n",
       "      <td>338</td>\n",
       "      <td>75424.579112</td>\n",
       "    </tr>\n",
       "    <tr>\n",
       "      <th>посёлок Парголово</th>\n",
       "      <td>327</td>\n",
       "      <td>90175.913089</td>\n",
       "    </tr>\n",
       "    <tr>\n",
       "      <th>Гатчина</th>\n",
       "      <td>307</td>\n",
       "      <td>68746.146515</td>\n",
       "    </tr>\n",
       "    <tr>\n",
       "      <th>деревня Кудрово</th>\n",
       "      <td>299</td>\n",
       "      <td>92473.547559</td>\n",
       "    </tr>\n",
       "    <tr>\n",
       "      <th>Выборг</th>\n",
       "      <td>237</td>\n",
       "      <td>58141.909325</td>\n",
       "    </tr>\n",
       "  </tbody>\n",
       "</table>\n",
       "</div>"
      ],
      "text/plain": [
       "                   count           mean\n",
       "locality_name                          \n",
       "Санкт-Петербург    15718  114817.386202\n",
       "посёлок Мурино       590   86087.512017\n",
       "посёлок Шушары       440   78677.364318\n",
       "Всеволожск           398   68654.473970\n",
       "Пушкин               369  103125.819377\n",
       "Колпино              338   75424.579112\n",
       "посёлок Парголово    327   90175.913089\n",
       "Гатчина              307   68746.146515\n",
       "деревня Кудрово      299   92473.547559\n",
       "Выборг               237   58141.909325"
      ]
     },
     "execution_count": 111,
     "metadata": {},
     "output_type": "execute_result"
    }
   ],
   "source": [
    "#Анализ изменения цены квадратного метра в Санкт-Петербурге для каждого километра по степени удалённости от центра.\n",
    "locality_pivot_table = data.pivot_table(index = 'locality_name', values = 'price_area', aggfunc=['count', 'mean'])\n",
    "locality_pivot_table.columns = ['count', 'mean']\n",
    "locality_pivot_table = locality_pivot_table.sort_values('count', ascending = False).head(10)\n",
    "locality_pivot_table\n"
   ]
  },
  {
   "cell_type": "code",
   "execution_count": 112,
   "metadata": {},
   "outputs": [],
   "source": [
    "# самая высокая стоимость за квадратный метр, в городе Санкт Петербург, затем идет Пушкин, поселок \n",
    "# Парголово и сестрорецк. Cамая низкая стоимость (ранее описала) в городе Всеволжск.\n",
    "#выделим квартиры в Санкт-Петербурге с помощью столбца locality_name и вычислим среднюю цену каждого\n",
    "#километра. Опишим, как стоимость объектов зависит от расстояния до центра города.\n"
   ]
  },
  {
   "cell_type": "code",
   "execution_count": 113,
   "metadata": {},
   "outputs": [
    {
     "data": {
      "text/html": [
       "<div>\n",
       "<style scoped>\n",
       "    .dataframe tbody tr th:only-of-type {\n",
       "        vertical-align: middle;\n",
       "    }\n",
       "\n",
       "    .dataframe tbody tr th {\n",
       "        vertical-align: top;\n",
       "    }\n",
       "\n",
       "    .dataframe thead th {\n",
       "        text-align: right;\n",
       "    }\n",
       "</style>\n",
       "<table border=\"1\" class=\"dataframe\">\n",
       "  <thead>\n",
       "    <tr style=\"text-align: right;\">\n",
       "      <th></th>\n",
       "      <th>price_area</th>\n",
       "    </tr>\n",
       "    <tr>\n",
       "      <th>cityCenters_nearest_km</th>\n",
       "      <th></th>\n",
       "    </tr>\n",
       "  </thead>\n",
       "  <tbody>\n",
       "    <tr>\n",
       "      <th>0</th>\n",
       "      <td>245833.530370</td>\n",
       "    </tr>\n",
       "    <tr>\n",
       "      <th>1</th>\n",
       "      <td>177005.407604</td>\n",
       "    </tr>\n",
       "    <tr>\n",
       "      <th>2</th>\n",
       "      <td>157849.007290</td>\n",
       "    </tr>\n",
       "    <tr>\n",
       "      <th>3</th>\n",
       "      <td>121387.453743</td>\n",
       "    </tr>\n",
       "    <tr>\n",
       "      <th>4</th>\n",
       "      <td>133282.874738</td>\n",
       "    </tr>\n",
       "    <tr>\n",
       "      <th>5</th>\n",
       "      <td>140509.789022</td>\n",
       "    </tr>\n",
       "    <tr>\n",
       "      <th>6</th>\n",
       "      <td>151012.193673</td>\n",
       "    </tr>\n",
       "    <tr>\n",
       "      <th>7</th>\n",
       "      <td>156176.879524</td>\n",
       "    </tr>\n",
       "    <tr>\n",
       "      <th>8</th>\n",
       "      <td>124875.589581</td>\n",
       "    </tr>\n",
       "    <tr>\n",
       "      <th>9</th>\n",
       "      <td>113131.041939</td>\n",
       "    </tr>\n",
       "    <tr>\n",
       "      <th>10</th>\n",
       "      <td>112727.516968</td>\n",
       "    </tr>\n",
       "    <tr>\n",
       "      <th>11</th>\n",
       "      <td>108630.835357</td>\n",
       "    </tr>\n",
       "    <tr>\n",
       "      <th>12</th>\n",
       "      <td>107488.734106</td>\n",
       "    </tr>\n",
       "    <tr>\n",
       "      <th>13</th>\n",
       "      <td>108148.127893</td>\n",
       "    </tr>\n",
       "    <tr>\n",
       "      <th>14</th>\n",
       "      <td>104248.598936</td>\n",
       "    </tr>\n",
       "    <tr>\n",
       "      <th>15</th>\n",
       "      <td>104231.976231</td>\n",
       "    </tr>\n",
       "    <tr>\n",
       "      <th>16</th>\n",
       "      <td>100542.613929</td>\n",
       "    </tr>\n",
       "    <tr>\n",
       "      <th>17</th>\n",
       "      <td>96556.946678</td>\n",
       "    </tr>\n",
       "    <tr>\n",
       "      <th>18</th>\n",
       "      <td>96362.263870</td>\n",
       "    </tr>\n",
       "    <tr>\n",
       "      <th>19</th>\n",
       "      <td>98652.735732</td>\n",
       "    </tr>\n",
       "    <tr>\n",
       "      <th>20</th>\n",
       "      <td>103045.181837</td>\n",
       "    </tr>\n",
       "    <tr>\n",
       "      <th>21</th>\n",
       "      <td>94469.584444</td>\n",
       "    </tr>\n",
       "    <tr>\n",
       "      <th>22</th>\n",
       "      <td>91330.425099</td>\n",
       "    </tr>\n",
       "    <tr>\n",
       "      <th>23</th>\n",
       "      <td>91828.517765</td>\n",
       "    </tr>\n",
       "    <tr>\n",
       "      <th>24</th>\n",
       "      <td>85736.904615</td>\n",
       "    </tr>\n",
       "    <tr>\n",
       "      <th>25</th>\n",
       "      <td>91531.371154</td>\n",
       "    </tr>\n",
       "    <tr>\n",
       "      <th>26</th>\n",
       "      <td>89285.877170</td>\n",
       "    </tr>\n",
       "    <tr>\n",
       "      <th>27</th>\n",
       "      <td>132115.710000</td>\n",
       "    </tr>\n",
       "    <tr>\n",
       "      <th>28</th>\n",
       "      <td>81161.914286</td>\n",
       "    </tr>\n",
       "    <tr>\n",
       "      <th>29</th>\n",
       "      <td>72953.365000</td>\n",
       "    </tr>\n",
       "  </tbody>\n",
       "</table>\n",
       "</div>"
      ],
      "text/plain": [
       "                           price_area\n",
       "cityCenters_nearest_km               \n",
       "0                       245833.530370\n",
       "1                       177005.407604\n",
       "2                       157849.007290\n",
       "3                       121387.453743\n",
       "4                       133282.874738\n",
       "5                       140509.789022\n",
       "6                       151012.193673\n",
       "7                       156176.879524\n",
       "8                       124875.589581\n",
       "9                       113131.041939\n",
       "10                      112727.516968\n",
       "11                      108630.835357\n",
       "12                      107488.734106\n",
       "13                      108148.127893\n",
       "14                      104248.598936\n",
       "15                      104231.976231\n",
       "16                      100542.613929\n",
       "17                       96556.946678\n",
       "18                       96362.263870\n",
       "19                       98652.735732\n",
       "20                      103045.181837\n",
       "21                       94469.584444\n",
       "22                       91330.425099\n",
       "23                       91828.517765\n",
       "24                       85736.904615\n",
       "25                       91531.371154\n",
       "26                       89285.877170\n",
       "27                      132115.710000\n",
       "28                       81161.914286\n",
       "29                       72953.365000"
      ]
     },
     "execution_count": 113,
     "metadata": {},
     "output_type": "execute_result"
    },
    {
     "data": {
      "image/png": "[encoded data removed]",
      "text/plain": [
       "<Figure size 432x288 with 1 Axes>"
      ]
     },
     "metadata": {
      "needs_background": "light"
     },
     "output_type": "display_data"
    }
   ],
   "source": [
    "data['cityCenters_nearest_km'] = data['cityCenters_nearest_km'].fillna(999999)\n",
    "data['cityCenters_nearest_km'] = data['cityCenters_nearest_km'].astype('int')\n",
    "pivot_table_km = data.query('locality_name == \"Санкт-Петербург\" and cityCenters_nearest_km !=999999').pivot_table(index = 'cityCenters_nearest_km', values = 'price_area', aggfunc = 'mean')\n",
    "pivot_table_km.plot()\n",
    "pivot_table_km\n",
    "#исходя из графика по разбросу цен, до 4 км это центр, далее есть выброс в районе 27 км, наверно это \n",
    "#сделка с дорогой недвижимостью закралась.\n",
    "#Вывод: самая высокая стоимость метра в  январе, апреле и августе! Самая низкая стоимость в июне и \n",
    "#ноябре! Значит рынке недвижимости, как и во многих других сферах присутствует сезонность - в начале \n",
    "#лета мы видим наименьшее предложение как по количеству, так и по стоимости недвижимости. \n",
    "#Наверное, это связано с отпусками.\n"
   ]
  },
  {
   "cell_type": "markdown",
   "metadata": {},
   "source": [
    "я  посчитала расстояние до центра в километрах. Теперь выделила квартиры в Санкт-Петербурге с помощью столбца locality_name и вычислила среднюю цену каждого километра. стоимость объектов по мере удаленности от центра стабильно падает, есть правда всплески на 20 и 27 км. видимо это те самые уникальные объекты (может они у финского залива?)."
   ]
  },
  {
   "cell_type": "code",
   "execution_count": 114,
   "metadata": {},
   "outputs": [],
   "source": [
    "#выделим квартиры в центре, беря за радиус 4 км\n",
    "center_spb_data = data.query('cityCenters_nearest_km <= 4 and locality_name == \"Санкт-Петербург\"')"
   ]
  },
  {
   "cell_type": "code",
   "execution_count": 115,
   "metadata": {},
   "outputs": [
    {
     "data": {
      "text/html": [
       "<div>\n",
       "<style scoped>\n",
       "    .dataframe tbody tr th:only-of-type {\n",
       "        vertical-align: middle;\n",
       "    }\n",
       "\n",
       "    .dataframe tbody tr th {\n",
       "        vertical-align: top;\n",
       "    }\n",
       "\n",
       "    .dataframe thead th {\n",
       "        text-align: right;\n",
       "    }\n",
       "</style>\n",
       "<table border=\"1\" class=\"dataframe\">\n",
       "  <thead>\n",
       "    <tr style=\"text-align: right;\">\n",
       "      <th></th>\n",
       "      <th>mean</th>\n",
       "      <th>count</th>\n",
       "      <th>median</th>\n",
       "    </tr>\n",
       "    <tr>\n",
       "      <th>year</th>\n",
       "      <th></th>\n",
       "      <th></th>\n",
       "      <th></th>\n",
       "    </tr>\n",
       "  </thead>\n",
       "  <tbody>\n",
       "    <tr>\n",
       "      <th>2019</th>\n",
       "      <td>167233.385333</td>\n",
       "      <td>165</td>\n",
       "      <td>131623.930</td>\n",
       "    </tr>\n",
       "    <tr>\n",
       "      <th>2018</th>\n",
       "      <td>138365.498502</td>\n",
       "      <td>474</td>\n",
       "      <td>119204.440</td>\n",
       "    </tr>\n",
       "    <tr>\n",
       "      <th>2017</th>\n",
       "      <td>140613.329964</td>\n",
       "      <td>563</td>\n",
       "      <td>117391.300</td>\n",
       "    </tr>\n",
       "    <tr>\n",
       "      <th>2015</th>\n",
       "      <td>147279.096364</td>\n",
       "      <td>154</td>\n",
       "      <td>109737.235</td>\n",
       "    </tr>\n",
       "    <tr>\n",
       "      <th>2016</th>\n",
       "      <td>131123.250550</td>\n",
       "      <td>200</td>\n",
       "      <td>109652.040</td>\n",
       "    </tr>\n",
       "  </tbody>\n",
       "</table>\n",
       "</div>"
      ],
      "text/plain": [
       "               mean  count      median\n",
       "year                                  \n",
       "2019  167233.385333    165  131623.930\n",
       "2018  138365.498502    474  119204.440\n",
       "2017  140613.329964    563  117391.300\n",
       "2015  147279.096364    154  109737.235\n",
       "2016  131123.250550    200  109652.040"
      ]
     },
     "execution_count": 115,
     "metadata": {},
     "output_type": "execute_result"
    },
    {
     "data": {
      "image/png": "[encoded data removed]",
      "text/plain": [
       "<Figure size 432x288 with 1 Axes>"
      ]
     },
     "metadata": {
      "needs_background": "light"
     },
     "output_type": "display_data"
    }
   ],
   "source": [
    "center_spb_year_exposition = center_spb_data.pivot_table(index = 'year', values = 'price_area', aggfunc = ['mean', 'count', 'median'])\n",
    "center_spb_year_exposition.columns = ['mean', 'count', 'median']\n",
    "center_spb_year_exposition.query('count > 50').plot(y = 'median')\n",
    "\n",
    "center_spb_year_exposition.query('count > 50').sort_values('median', ascending = False)"
   ]
  },
  {
   "cell_type": "markdown",
   "metadata": {},
   "source": [
    "проверим динамику изменеий квадратного метра по годам.  Цены стабильно росли."
   ]
  },
  {
   "cell_type": "markdown",
   "metadata": {},
   "source": [
    "### Общий вывод"
   ]
  },
  {
   "cell_type": "markdown",
   "metadata": {},
   "source": [
    "Рассмотрев представленную таблицу по продажам квартир за 2016-2019 по городу и Ленинградской области\n",
    "можно сделать следующие выводы:\n",
    "Получив информацию по данным, вначале мное была проведена работа по обработке данных. а именно большое число пропусков или nan в столбцах, были заполнены или нудевыми значениями, либо конкретной величиной.\n",
    "к примеру is_apartment - я предположила, что \"нет данных\" там, где ответ - \"0\",\n",
    "т.е. это не апартаменты, заполнила столбец false.\n",
    "Причиной может быть следующее: не многие люди (в том числе и я ранее) особо не знали разницы\n",
    "между апартаментами и квартирами пропускали эти пункты\n",
    "parks_nearest (15620), ponds_nearest - вполне возможно,  что данные просто не были выгружены или \n",
    " заполнены по причине их не знания.\n",
    "balcony (11519) - вполне возможно,  что где балкон отсутствует, там вместо 0 стоит NaN. \n",
    "заполнила данный раздел 0.\n",
    "с данными  ceiling_height (9195) - довольно важная информация, но она отсуствует.  Проанализировав\n",
    "дразделитель стоял не в нужном месте перенесла. Удалила часть аномальных значений.\n",
    "заполнила пропущенные значения показателем 2.7 м\n",
    "days_exposition (3181) - довольно важный параметр. Информация может отсутствовать, например,\n",
    "что неизвестно когда было закрыто объявление о продаже, т.е., фактически, сделка была совершена,\n",
    "но не была закрыта на онлайн-ресурсе.\n",
    "посчитано и добавлено в таблицу: цена одного квадратного метра (price_area)\n",
    "посчитано и добавлено в таблицу: день публикации объявления (0 - понедельник, 1 - вторник и т.д.)\n",
    "посчитано и добавлено в таблицу: месяц публикации объявления\n",
    "посчитано и добавлено в таблицу: год публикации объявления\n",
    "посчитано и добавлено в таблицу: тип этажа квартиры (значения — «первый», «последний», «другой»)\n",
    "посчитано и добавлено в таблицу: расстояние в км до центра города\n",
    "Что было мною изучено:\n",
    "следующие параметры:\n",
    " - общая площадь;\n",
    "  - жилая площадь;\n",
    "  - жилая площадь;\n",
    "  - площадь кухни;\n",
    "  - цена объекта;\n",
    "  - количество комнат;\n",
    "  - высота потолков;\n",
    "  - этаж квартиры;\n",
    "  - тип этажа квартиры («первый», «последний», «другой»);\n",
    "  - общее количество этажей в доме;\n",
    "  - расстояние до центра города в метрах;\n",
    " В результате проведенного анализа выяснено, что самые дорогие квартиры в центре города \n",
    "Санкт-Петербург. Самые дешевые в городе Всеволжск. Средний период продажи квартиры составляет до \n",
    "6 месяцев.\n",
    " самый большой объем продаж на рынке это 1-2 комнатные квартиры.\n",
    " судя по объемам продаж, рынку присуща некая сезоность, самые частные сделки проходили в апреле \n",
    " августе.Вывод: самая высокая стоимость метра в апреле и августе! Самая низкая стоимость в мае и июне! \n",
    "в начале лета мы видим наименьшее предложение как по количеству, так и по стоимости недвижимости. \n",
    "Летом все отдыхают.\n",
    "Зависимость стоимости квадратного метра от года размещения объявления.\n",
    "Цены на рынке недвижимости стабильно росли, есть над чем задуматься."
   ]
  }
 ],
 "metadata": {
  "ExecuteTimeLog": [
   {
    "duration": 17,
    "start_time": "2023-02-15T08:00:47.759Z"
   },
   {
    "duration": 318,
    "start_time": "2023-02-15T08:01:22.248Z"
   },
   {
    "duration": 92,
    "start_time": "2023-02-15T08:01:45.710Z"
   },
   {
    "duration": 7,
    "start_time": "2023-02-15T08:11:17.237Z"
   },
   {
    "duration": 98,
    "start_time": "2023-02-15T08:12:16.666Z"
   },
   {
    "duration": 95,
    "start_time": "2023-02-15T08:12:30.049Z"
   },
   {
    "duration": 36,
    "start_time": "2023-02-15T08:12:32.273Z"
   },
   {
    "duration": 99,
    "start_time": "2023-02-15T08:13:13.708Z"
   },
   {
    "duration": 2510,
    "start_time": "2023-02-15T08:15:28.734Z"
   },
   {
    "duration": 25,
    "start_time": "2023-02-15T08:23:03.362Z"
   },
   {
    "duration": 3,
    "start_time": "2023-02-15T08:34:49.602Z"
   },
   {
    "duration": 4,
    "start_time": "2023-02-15T08:35:07.877Z"
   },
   {
    "duration": 14,
    "start_time": "2023-02-15T08:37:07.429Z"
   },
   {
    "duration": 52,
    "start_time": "2023-02-15T12:23:06.454Z"
   },
   {
    "duration": 526,
    "start_time": "2023-02-15T12:23:15.714Z"
   },
   {
    "duration": 43,
    "start_time": "2023-02-15T12:23:16.242Z"
   },
   {
    "duration": 75,
    "start_time": "2023-02-15T12:23:16.286Z"
   },
   {
    "duration": 2268,
    "start_time": "2023-02-15T12:23:16.365Z"
   },
   {
    "duration": 18,
    "start_time": "2023-02-15T12:23:18.634Z"
   },
   {
    "duration": 3,
    "start_time": "2023-02-15T12:23:18.654Z"
   },
   {
    "duration": 8,
    "start_time": "2023-02-15T12:23:18.659Z"
   },
   {
    "duration": 0,
    "start_time": "2023-02-15T12:23:18.668Z"
   },
   {
    "duration": 10,
    "start_time": "2023-02-15T12:23:49.373Z"
   },
   {
    "duration": 843,
    "start_time": "2023-02-15T12:23:53.074Z"
   },
   {
    "duration": 4,
    "start_time": "2023-02-15T12:24:06.004Z"
   },
   {
    "duration": 6,
    "start_time": "2023-02-15T12:24:30.789Z"
   },
   {
    "duration": 10,
    "start_time": "2023-02-15T14:05:44.143Z"
   },
   {
    "duration": 6,
    "start_time": "2023-02-15T14:10:17.710Z"
   },
   {
    "duration": 7,
    "start_time": "2023-02-15T14:11:15.933Z"
   },
   {
    "duration": 27,
    "start_time": "2023-02-15T14:16:09.793Z"
   },
   {
    "duration": 5,
    "start_time": "2023-02-15T14:17:49.426Z"
   },
   {
    "duration": 4,
    "start_time": "2023-02-15T14:33:20.044Z"
   },
   {
    "duration": 14,
    "start_time": "2023-02-15T14:33:46.832Z"
   },
   {
    "duration": 545,
    "start_time": "2023-02-16T11:00:25.687Z"
   },
   {
    "duration": 47,
    "start_time": "2023-02-16T11:00:26.234Z"
   },
   {
    "duration": 99,
    "start_time": "2023-02-16T11:00:26.283Z"
   },
   {
    "duration": 2534,
    "start_time": "2023-02-16T11:00:26.384Z"
   },
   {
    "duration": 17,
    "start_time": "2023-02-16T11:00:28.920Z"
   },
   {
    "duration": 8,
    "start_time": "2023-02-16T11:00:28.939Z"
   },
   {
    "duration": 16,
    "start_time": "2023-02-16T11:00:28.949Z"
   },
   {
    "duration": 26,
    "start_time": "2023-02-16T11:00:28.967Z"
   },
   {
    "duration": 42,
    "start_time": "2023-02-16T11:00:28.995Z"
   },
   {
    "duration": 5,
    "start_time": "2023-02-16T11:00:29.039Z"
   },
   {
    "duration": 24,
    "start_time": "2023-02-16T11:00:29.046Z"
   },
   {
    "duration": 7,
    "start_time": "2023-02-16T11:11:24.567Z"
   },
   {
    "duration": 6,
    "start_time": "2023-02-16T11:12:30.796Z"
   },
   {
    "duration": 6,
    "start_time": "2023-02-16T11:12:46.239Z"
   },
   {
    "duration": 5,
    "start_time": "2023-02-16T11:12:54.545Z"
   },
   {
    "duration": 4,
    "start_time": "2023-02-16T11:17:02.750Z"
   },
   {
    "duration": 5,
    "start_time": "2023-02-16T11:17:43.239Z"
   },
   {
    "duration": 27,
    "start_time": "2023-02-16T11:20:03.463Z"
   },
   {
    "duration": 787,
    "start_time": "2023-02-16T11:32:30.192Z"
   },
   {
    "duration": 9,
    "start_time": "2023-02-16T11:48:21.017Z"
   },
   {
    "duration": 22,
    "start_time": "2023-02-16T11:51:42.131Z"
   },
   {
    "duration": 9,
    "start_time": "2023-02-16T13:27:50.581Z"
   },
   {
    "duration": 714,
    "start_time": "2023-02-16T13:27:56.194Z"
   },
   {
    "duration": 671,
    "start_time": "2023-02-16T13:28:03.051Z"
   },
   {
    "duration": 745,
    "start_time": "2023-02-16T13:28:23.723Z"
   },
   {
    "duration": 50,
    "start_time": "2023-02-16T13:28:40.688Z"
   },
   {
    "duration": 44,
    "start_time": "2023-02-16T13:35:18.814Z"
   },
   {
    "duration": 69,
    "start_time": "2023-02-16T13:35:54.616Z"
   },
   {
    "duration": 13,
    "start_time": "2023-02-16T13:36:28.737Z"
   },
   {
    "duration": 6,
    "start_time": "2023-02-16T13:36:30.217Z"
   },
   {
    "duration": 4,
    "start_time": "2023-02-16T13:36:38.602Z"
   },
   {
    "duration": 5,
    "start_time": "2023-02-16T13:36:39.208Z"
   },
   {
    "duration": 9,
    "start_time": "2023-02-16T13:36:40.193Z"
   },
   {
    "duration": 5,
    "start_time": "2023-02-16T13:36:45.281Z"
   },
   {
    "duration": 31,
    "start_time": "2023-02-16T13:36:48.151Z"
   },
   {
    "duration": 22,
    "start_time": "2023-02-16T13:37:32.396Z"
   },
   {
    "duration": 5,
    "start_time": "2023-02-16T13:37:58.607Z"
   },
   {
    "duration": 14,
    "start_time": "2023-02-16T13:37:59.851Z"
   },
   {
    "duration": 15,
    "start_time": "2023-02-16T13:38:19.650Z"
   },
   {
    "duration": 14,
    "start_time": "2023-02-16T13:38:23.075Z"
   },
   {
    "duration": 8,
    "start_time": "2023-02-16T14:40:24.361Z"
   },
   {
    "duration": 6,
    "start_time": "2023-02-16T15:26:10.968Z"
   },
   {
    "duration": 7,
    "start_time": "2023-02-16T15:29:27.440Z"
   },
   {
    "duration": 9,
    "start_time": "2023-02-16T15:39:13.938Z"
   },
   {
    "duration": 6,
    "start_time": "2023-02-16T15:39:37.404Z"
   },
   {
    "duration": 14,
    "start_time": "2023-02-16T15:39:51.346Z"
   },
   {
    "duration": 10,
    "start_time": "2023-02-16T15:40:22.881Z"
   },
   {
    "duration": 7,
    "start_time": "2023-02-16T15:40:50.539Z"
   },
   {
    "duration": 6,
    "start_time": "2023-02-16T15:41:18.243Z"
   },
   {
    "duration": 196,
    "start_time": "2023-02-16T16:24:08.218Z"
   },
   {
    "duration": 2329,
    "start_time": "2023-02-16T16:24:09.057Z"
   },
   {
    "duration": 15,
    "start_time": "2023-02-16T16:24:33.737Z"
   },
   {
    "duration": 8,
    "start_time": "2023-02-16T16:24:47.932Z"
   },
   {
    "duration": 4266,
    "start_time": "2023-02-17T11:47:44.598Z"
   },
   {
    "duration": 70,
    "start_time": "2023-02-17T11:47:48.867Z"
   },
   {
    "duration": 65,
    "start_time": "2023-02-17T11:47:48.938Z"
   },
   {
    "duration": 1426,
    "start_time": "2023-02-17T11:47:49.006Z"
   },
   {
    "duration": 0,
    "start_time": "2023-02-17T11:47:50.435Z"
   },
   {
    "duration": 0,
    "start_time": "2023-02-17T11:47:50.436Z"
   },
   {
    "duration": 0,
    "start_time": "2023-02-17T11:47:50.438Z"
   },
   {
    "duration": 0,
    "start_time": "2023-02-17T11:47:50.439Z"
   },
   {
    "duration": 0,
    "start_time": "2023-02-17T11:47:50.440Z"
   },
   {
    "duration": 0,
    "start_time": "2023-02-17T11:47:50.441Z"
   },
   {
    "duration": 0,
    "start_time": "2023-02-17T11:47:50.442Z"
   },
   {
    "duration": 0,
    "start_time": "2023-02-17T11:47:50.445Z"
   },
   {
    "duration": 0,
    "start_time": "2023-02-17T11:47:50.445Z"
   },
   {
    "duration": 0,
    "start_time": "2023-02-17T11:47:50.446Z"
   },
   {
    "duration": 0,
    "start_time": "2023-02-17T11:47:50.448Z"
   },
   {
    "duration": 0,
    "start_time": "2023-02-17T11:47:50.450Z"
   },
   {
    "duration": 0,
    "start_time": "2023-02-17T11:47:50.451Z"
   },
   {
    "duration": 0,
    "start_time": "2023-02-17T11:47:50.452Z"
   },
   {
    "duration": 0,
    "start_time": "2023-02-17T11:47:50.453Z"
   },
   {
    "duration": 0,
    "start_time": "2023-02-17T11:47:50.454Z"
   },
   {
    "duration": 0,
    "start_time": "2023-02-17T11:47:50.455Z"
   },
   {
    "duration": 0,
    "start_time": "2023-02-17T11:47:50.456Z"
   },
   {
    "duration": 0,
    "start_time": "2023-02-17T11:47:50.457Z"
   },
   {
    "duration": 1757,
    "start_time": "2023-02-17T12:05:13.142Z"
   },
   {
    "duration": 17,
    "start_time": "2023-02-17T12:05:15.777Z"
   },
   {
    "duration": 102,
    "start_time": "2023-02-17T12:05:30.312Z"
   },
   {
    "duration": 32,
    "start_time": "2023-02-17T12:06:35.068Z"
   },
   {
    "duration": 74,
    "start_time": "2023-02-17T12:07:03.426Z"
   },
   {
    "duration": 9,
    "start_time": "2023-02-17T12:07:15.390Z"
   },
   {
    "duration": 83,
    "start_time": "2023-02-17T12:08:06.121Z"
   },
   {
    "duration": 113,
    "start_time": "2023-02-17T12:08:18.217Z"
   },
   {
    "duration": 116,
    "start_time": "2023-02-17T12:08:45.214Z"
   },
   {
    "duration": 14,
    "start_time": "2023-02-17T12:08:59.988Z"
   },
   {
    "duration": 12,
    "start_time": "2023-02-17T12:09:03.974Z"
   },
   {
    "duration": 8,
    "start_time": "2023-02-17T12:09:15.124Z"
   },
   {
    "duration": 9,
    "start_time": "2023-02-17T12:09:21.405Z"
   },
   {
    "duration": 98,
    "start_time": "2023-02-17T12:10:39.236Z"
   },
   {
    "duration": 8,
    "start_time": "2023-02-17T12:13:52.438Z"
   },
   {
    "duration": 8,
    "start_time": "2023-02-17T12:20:25.343Z"
   },
   {
    "duration": 6,
    "start_time": "2023-02-17T12:21:15.192Z"
   },
   {
    "duration": 9,
    "start_time": "2023-02-17T12:21:52.848Z"
   },
   {
    "duration": 2890,
    "start_time": "2023-02-17T12:22:00.423Z"
   },
   {
    "duration": 8,
    "start_time": "2023-02-17T12:22:03.315Z"
   },
   {
    "duration": 8,
    "start_time": "2023-02-17T12:22:07.441Z"
   },
   {
    "duration": 6,
    "start_time": "2023-02-17T12:24:57.625Z"
   },
   {
    "duration": 5,
    "start_time": "2023-02-17T12:25:05.504Z"
   },
   {
    "duration": 8,
    "start_time": "2023-02-17T12:25:36.233Z"
   },
   {
    "duration": 21,
    "start_time": "2023-02-17T12:25:38.546Z"
   },
   {
    "duration": 9,
    "start_time": "2023-02-17T12:25:53.019Z"
   },
   {
    "duration": 5,
    "start_time": "2023-02-17T12:25:53.837Z"
   },
   {
    "duration": 9,
    "start_time": "2023-02-17T12:30:20.815Z"
   },
   {
    "duration": 4,
    "start_time": "2023-02-17T12:30:41.535Z"
   },
   {
    "duration": 36,
    "start_time": "2023-02-17T12:33:10.174Z"
   },
   {
    "duration": 7,
    "start_time": "2023-02-17T12:33:16.815Z"
   },
   {
    "duration": 16,
    "start_time": "2023-02-17T12:33:21.367Z"
   },
   {
    "duration": 7,
    "start_time": "2023-02-17T12:34:42.106Z"
   },
   {
    "duration": 9,
    "start_time": "2023-02-17T12:35:16.472Z"
   },
   {
    "duration": 5,
    "start_time": "2023-02-17T12:35:22.407Z"
   },
   {
    "duration": 8,
    "start_time": "2023-02-17T12:35:49.199Z"
   },
   {
    "duration": 17,
    "start_time": "2023-02-17T12:35:53.069Z"
   },
   {
    "duration": 9,
    "start_time": "2023-02-17T12:36:06.276Z"
   },
   {
    "duration": 3,
    "start_time": "2023-02-17T12:36:28.937Z"
   },
   {
    "duration": 13,
    "start_time": "2023-02-17T12:37:19.211Z"
   },
   {
    "duration": 17,
    "start_time": "2023-02-17T12:40:14.378Z"
   },
   {
    "duration": 29,
    "start_time": "2023-02-17T12:47:30.698Z"
   },
   {
    "duration": 24,
    "start_time": "2023-02-17T12:47:37.035Z"
   },
   {
    "duration": 5,
    "start_time": "2023-02-17T12:55:29.928Z"
   },
   {
    "duration": 5,
    "start_time": "2023-02-17T12:55:34.511Z"
   },
   {
    "duration": 5,
    "start_time": "2023-02-17T12:56:25.790Z"
   },
   {
    "duration": 5,
    "start_time": "2023-02-17T12:58:04.696Z"
   },
   {
    "duration": 5,
    "start_time": "2023-02-17T12:58:10.206Z"
   },
   {
    "duration": 79,
    "start_time": "2023-02-17T12:58:48.086Z"
   },
   {
    "duration": 79,
    "start_time": "2023-02-17T12:59:22.204Z"
   },
   {
    "duration": 86,
    "start_time": "2023-02-17T13:00:03.708Z"
   },
   {
    "duration": 6,
    "start_time": "2023-02-17T13:01:26.803Z"
   },
   {
    "duration": 511,
    "start_time": "2023-02-17T13:01:44.105Z"
   },
   {
    "duration": 72,
    "start_time": "2023-02-17T13:01:44.618Z"
   },
   {
    "duration": 12,
    "start_time": "2023-02-17T13:01:44.692Z"
   },
   {
    "duration": 17,
    "start_time": "2023-02-17T13:01:44.707Z"
   },
   {
    "duration": 17,
    "start_time": "2023-02-17T13:01:44.726Z"
   },
   {
    "duration": 92,
    "start_time": "2023-02-17T13:01:44.745Z"
   },
   {
    "duration": 1878,
    "start_time": "2023-02-17T13:01:44.839Z"
   },
   {
    "duration": 0,
    "start_time": "2023-02-17T13:01:46.719Z"
   },
   {
    "duration": 0,
    "start_time": "2023-02-17T13:01:46.721Z"
   },
   {
    "duration": 0,
    "start_time": "2023-02-17T13:01:46.722Z"
   },
   {
    "duration": 0,
    "start_time": "2023-02-17T13:01:46.723Z"
   },
   {
    "duration": 0,
    "start_time": "2023-02-17T13:01:46.727Z"
   },
   {
    "duration": 0,
    "start_time": "2023-02-17T13:01:46.728Z"
   },
   {
    "duration": 0,
    "start_time": "2023-02-17T13:01:46.730Z"
   },
   {
    "duration": 0,
    "start_time": "2023-02-17T13:01:46.732Z"
   },
   {
    "duration": 0,
    "start_time": "2023-02-17T13:01:46.734Z"
   },
   {
    "duration": 0,
    "start_time": "2023-02-17T13:01:46.735Z"
   },
   {
    "duration": 0,
    "start_time": "2023-02-17T13:01:46.736Z"
   },
   {
    "duration": 0,
    "start_time": "2023-02-17T13:01:46.737Z"
   },
   {
    "duration": 0,
    "start_time": "2023-02-17T13:01:46.738Z"
   },
   {
    "duration": 0,
    "start_time": "2023-02-17T13:01:46.739Z"
   },
   {
    "duration": 0,
    "start_time": "2023-02-17T13:01:46.741Z"
   },
   {
    "duration": 0,
    "start_time": "2023-02-17T13:01:46.743Z"
   },
   {
    "duration": 1,
    "start_time": "2023-02-17T13:01:46.744Z"
   },
   {
    "duration": 0,
    "start_time": "2023-02-17T13:01:46.746Z"
   },
   {
    "duration": 0,
    "start_time": "2023-02-17T13:01:46.747Z"
   },
   {
    "duration": 0,
    "start_time": "2023-02-17T13:01:46.749Z"
   },
   {
    "duration": 0,
    "start_time": "2023-02-17T13:01:46.751Z"
   },
   {
    "duration": 0,
    "start_time": "2023-02-17T13:01:46.752Z"
   },
   {
    "duration": 0,
    "start_time": "2023-02-17T13:01:46.752Z"
   },
   {
    "duration": 86,
    "start_time": "2023-02-17T13:01:58.214Z"
   },
   {
    "duration": 8,
    "start_time": "2023-02-17T13:02:04.374Z"
   },
   {
    "duration": 31,
    "start_time": "2023-02-17T13:02:59.670Z"
   },
   {
    "duration": 15,
    "start_time": "2023-02-17T13:04:10.684Z"
   },
   {
    "duration": 5,
    "start_time": "2023-02-17T13:05:06.529Z"
   },
   {
    "duration": 5,
    "start_time": "2023-02-17T13:05:38.870Z"
   },
   {
    "duration": 18,
    "start_time": "2023-02-17T13:05:40.277Z"
   },
   {
    "duration": 5,
    "start_time": "2023-02-17T13:06:34.984Z"
   },
   {
    "duration": 33,
    "start_time": "2023-02-17T13:06:36.043Z"
   },
   {
    "duration": 90,
    "start_time": "2023-02-17T13:08:17.823Z"
   },
   {
    "duration": 1785,
    "start_time": "2023-02-17T13:09:35.647Z"
   },
   {
    "duration": 17,
    "start_time": "2023-02-17T13:10:38.584Z"
   },
   {
    "duration": 9,
    "start_time": "2023-02-17T13:15:14.668Z"
   },
   {
    "duration": 43,
    "start_time": "2023-02-17T13:16:16.645Z"
   },
   {
    "duration": 42,
    "start_time": "2023-02-17T13:16:20.769Z"
   },
   {
    "duration": 5,
    "start_time": "2023-02-17T13:17:26.117Z"
   },
   {
    "duration": 30,
    "start_time": "2023-02-17T13:19:53.970Z"
   },
   {
    "duration": 93,
    "start_time": "2023-02-17T14:36:09.514Z"
   },
   {
    "duration": 9,
    "start_time": "2023-02-17T14:36:23.567Z"
   },
   {
    "duration": 5,
    "start_time": "2023-02-17T14:36:45.297Z"
   },
   {
    "duration": 9,
    "start_time": "2023-02-17T14:58:02.824Z"
   },
   {
    "duration": 8,
    "start_time": "2023-02-17T14:58:03.878Z"
   },
   {
    "duration": 1668,
    "start_time": "2023-02-17T14:58:53.446Z"
   },
   {
    "duration": 7,
    "start_time": "2023-02-17T15:00:11.726Z"
   },
   {
    "duration": 9,
    "start_time": "2023-02-17T15:00:46.297Z"
   },
   {
    "duration": 13,
    "start_time": "2023-02-17T15:04:40.498Z"
   },
   {
    "duration": 8,
    "start_time": "2023-02-17T15:06:20.116Z"
   },
   {
    "duration": 7,
    "start_time": "2023-02-17T15:07:15.707Z"
   },
   {
    "duration": 8,
    "start_time": "2023-02-17T15:08:11.283Z"
   },
   {
    "duration": 99,
    "start_time": "2023-02-17T15:09:01.835Z"
   },
   {
    "duration": 7,
    "start_time": "2023-02-17T15:09:40.336Z"
   },
   {
    "duration": 6,
    "start_time": "2023-02-17T15:09:50.316Z"
   },
   {
    "duration": 5,
    "start_time": "2023-02-17T15:10:28.130Z"
   },
   {
    "duration": 17,
    "start_time": "2023-02-17T15:11:18.300Z"
   },
   {
    "duration": 67,
    "start_time": "2023-02-17T15:11:25.275Z"
   },
   {
    "duration": 2717,
    "start_time": "2023-02-17T15:15:06.496Z"
   },
   {
    "duration": 7,
    "start_time": "2023-02-17T15:16:02.228Z"
   },
   {
    "duration": 9,
    "start_time": "2023-02-17T15:16:09.174Z"
   },
   {
    "duration": 11,
    "start_time": "2023-02-17T15:16:17.592Z"
   },
   {
    "duration": 29,
    "start_time": "2023-02-17T15:32:13.836Z"
   },
   {
    "duration": 101,
    "start_time": "2023-02-17T15:36:18.766Z"
   },
   {
    "duration": 185,
    "start_time": "2023-02-17T15:36:38.381Z"
   },
   {
    "duration": 113,
    "start_time": "2023-02-17T15:37:54.575Z"
   },
   {
    "duration": 77,
    "start_time": "2023-02-17T15:39:36.696Z"
   },
   {
    "duration": 81,
    "start_time": "2023-02-17T15:39:39.376Z"
   },
   {
    "duration": 27,
    "start_time": "2023-02-17T15:43:00.375Z"
   },
   {
    "duration": 5,
    "start_time": "2023-02-17T15:43:48.257Z"
   },
   {
    "duration": 16,
    "start_time": "2023-02-17T15:43:49.434Z"
   },
   {
    "duration": 23,
    "start_time": "2023-02-17T15:44:29.837Z"
   },
   {
    "duration": 22,
    "start_time": "2023-02-17T15:52:41.626Z"
   },
   {
    "duration": 7,
    "start_time": "2023-02-17T16:17:31.379Z"
   },
   {
    "duration": 6,
    "start_time": "2023-02-17T16:19:09.743Z"
   },
   {
    "duration": 21,
    "start_time": "2023-02-17T16:19:38.554Z"
   },
   {
    "duration": 14,
    "start_time": "2023-02-17T16:20:07.966Z"
   },
   {
    "duration": 12,
    "start_time": "2023-02-17T16:20:08.864Z"
   },
   {
    "duration": 14,
    "start_time": "2023-02-17T16:20:12.975Z"
   },
   {
    "duration": 4,
    "start_time": "2023-02-17T16:24:18.679Z"
   },
   {
    "duration": 6,
    "start_time": "2023-02-17T16:24:28.733Z"
   },
   {
    "duration": 23,
    "start_time": "2023-02-17T16:25:00.662Z"
   },
   {
    "duration": 84,
    "start_time": "2023-02-17T16:28:12.709Z"
   },
   {
    "duration": 42,
    "start_time": "2023-02-17T16:31:56.199Z"
   },
   {
    "duration": 15,
    "start_time": "2023-02-17T16:32:39.795Z"
   },
   {
    "duration": 8,
    "start_time": "2023-02-17T16:36:41.771Z"
   },
   {
    "duration": 31,
    "start_time": "2023-02-17T16:36:56.250Z"
   },
   {
    "duration": 39,
    "start_time": "2023-02-17T16:37:02.923Z"
   },
   {
    "duration": 5,
    "start_time": "2023-02-17T16:37:23.171Z"
   },
   {
    "duration": 17,
    "start_time": "2023-02-17T16:37:26.254Z"
   },
   {
    "duration": 28,
    "start_time": "2023-02-17T16:38:19.874Z"
   },
   {
    "duration": 13,
    "start_time": "2023-02-17T16:39:34.678Z"
   },
   {
    "duration": 18,
    "start_time": "2023-02-17T16:41:19.577Z"
   },
   {
    "duration": 5,
    "start_time": "2023-02-17T16:42:17.396Z"
   },
   {
    "duration": 5,
    "start_time": "2023-02-17T16:43:09.425Z"
   },
   {
    "duration": 10,
    "start_time": "2023-02-17T16:43:36.396Z"
   },
   {
    "duration": 29,
    "start_time": "2023-02-17T16:47:39.036Z"
   },
   {
    "duration": 23,
    "start_time": "2023-02-17T16:47:59.324Z"
   },
   {
    "duration": 7,
    "start_time": "2023-02-17T16:49:18.717Z"
   },
   {
    "duration": 10,
    "start_time": "2023-02-17T16:49:24.280Z"
   },
   {
    "duration": 8,
    "start_time": "2023-02-17T16:49:49.782Z"
   },
   {
    "duration": 9,
    "start_time": "2023-02-17T16:49:53.738Z"
   },
   {
    "duration": 10,
    "start_time": "2023-02-17T16:50:11.077Z"
   },
   {
    "duration": 91,
    "start_time": "2023-02-17T16:50:42.419Z"
   },
   {
    "duration": 99,
    "start_time": "2023-02-17T16:50:53.479Z"
   },
   {
    "duration": 18,
    "start_time": "2023-02-17T16:51:03.166Z"
   },
   {
    "duration": 12,
    "start_time": "2023-02-17T16:51:41.930Z"
   },
   {
    "duration": 11,
    "start_time": "2023-02-17T16:51:51.063Z"
   },
   {
    "duration": 8,
    "start_time": "2023-02-17T16:52:24.729Z"
   },
   {
    "duration": 9,
    "start_time": "2023-02-17T16:52:45.403Z"
   },
   {
    "duration": 12,
    "start_time": "2023-02-17T16:52:52.866Z"
   },
   {
    "duration": 8,
    "start_time": "2023-02-17T16:53:11.410Z"
   },
   {
    "duration": 10,
    "start_time": "2023-02-17T16:53:47.243Z"
   },
   {
    "duration": 160,
    "start_time": "2023-02-17T16:53:57.380Z"
   },
   {
    "duration": 7,
    "start_time": "2023-02-17T16:55:22.660Z"
   },
   {
    "duration": 5,
    "start_time": "2023-02-17T16:55:44.764Z"
   },
   {
    "duration": 240,
    "start_time": "2023-02-17T16:56:23.581Z"
   },
   {
    "duration": 788,
    "start_time": "2023-02-20T10:39:48.936Z"
   },
   {
    "duration": 50,
    "start_time": "2023-02-20T10:39:49.726Z"
   },
   {
    "duration": 12,
    "start_time": "2023-02-20T10:39:49.778Z"
   },
   {
    "duration": 28,
    "start_time": "2023-02-20T10:39:49.793Z"
   },
   {
    "duration": 14,
    "start_time": "2023-02-20T10:39:49.823Z"
   },
   {
    "duration": 38,
    "start_time": "2023-02-20T10:39:49.838Z"
   },
   {
    "duration": 20,
    "start_time": "2023-02-20T10:39:49.878Z"
   },
   {
    "duration": 27,
    "start_time": "2023-02-20T10:39:49.900Z"
   },
   {
    "duration": 32,
    "start_time": "2023-02-20T10:39:49.929Z"
   },
   {
    "duration": 71,
    "start_time": "2023-02-20T10:39:49.963Z"
   },
   {
    "duration": 3,
    "start_time": "2023-02-20T10:39:50.035Z"
   },
   {
    "duration": 50,
    "start_time": "2023-02-20T10:39:50.040Z"
   },
   {
    "duration": 40,
    "start_time": "2023-02-20T10:39:50.092Z"
   },
   {
    "duration": 71,
    "start_time": "2023-02-20T10:39:50.134Z"
   },
   {
    "duration": 5,
    "start_time": "2023-02-20T10:39:50.206Z"
   },
   {
    "duration": 13,
    "start_time": "2023-02-20T10:39:50.213Z"
   },
   {
    "duration": 6,
    "start_time": "2023-02-20T10:39:50.228Z"
   },
   {
    "duration": 12,
    "start_time": "2023-02-20T10:39:50.235Z"
   },
   {
    "duration": 9,
    "start_time": "2023-02-20T10:39:50.249Z"
   },
   {
    "duration": 7,
    "start_time": "2023-02-20T10:39:50.260Z"
   },
   {
    "duration": 12,
    "start_time": "2023-02-20T10:39:50.269Z"
   },
   {
    "duration": 19,
    "start_time": "2023-02-20T10:39:50.283Z"
   },
   {
    "duration": 92,
    "start_time": "2023-02-20T10:39:50.304Z"
   },
   {
    "duration": 6,
    "start_time": "2023-02-20T10:39:50.398Z"
   },
   {
    "duration": 31,
    "start_time": "2023-02-20T10:39:50.406Z"
   },
   {
    "duration": 41,
    "start_time": "2023-02-20T10:39:50.439Z"
   },
   {
    "duration": 43,
    "start_time": "2023-02-20T10:39:50.481Z"
   },
   {
    "duration": 51,
    "start_time": "2023-02-20T10:39:50.529Z"
   },
   {
    "duration": 63,
    "start_time": "2023-02-20T10:39:50.582Z"
   },
   {
    "duration": 2640,
    "start_time": "2023-02-20T10:39:50.647Z"
   },
   {
    "duration": 17,
    "start_time": "2023-02-20T10:39:53.290Z"
   },
   {
    "duration": 35,
    "start_time": "2023-02-20T10:39:53.309Z"
   },
   {
    "duration": 38,
    "start_time": "2023-02-20T10:39:53.347Z"
   },
   {
    "duration": 109,
    "start_time": "2023-02-20T10:39:53.388Z"
   },
   {
    "duration": 137,
    "start_time": "2023-02-20T10:39:53.499Z"
   },
   {
    "duration": 49,
    "start_time": "2023-02-20T10:39:53.639Z"
   },
   {
    "duration": 52,
    "start_time": "2023-02-20T10:39:53.690Z"
   },
   {
    "duration": 28,
    "start_time": "2023-02-20T10:39:53.744Z"
   },
   {
    "duration": 62,
    "start_time": "2023-02-20T10:39:53.775Z"
   },
   {
    "duration": 39,
    "start_time": "2023-02-20T10:39:53.839Z"
   },
   {
    "duration": 55,
    "start_time": "2023-02-20T10:39:53.880Z"
   },
   {
    "duration": 43,
    "start_time": "2023-02-20T10:39:53.937Z"
   },
   {
    "duration": 32,
    "start_time": "2023-02-20T10:39:53.983Z"
   },
   {
    "duration": 50,
    "start_time": "2023-02-20T10:39:54.017Z"
   },
   {
    "duration": 63,
    "start_time": "2023-02-20T10:39:54.069Z"
   },
   {
    "duration": 24,
    "start_time": "2023-02-20T10:39:54.134Z"
   },
   {
    "duration": 72,
    "start_time": "2023-02-20T10:39:54.160Z"
   },
   {
    "duration": 83,
    "start_time": "2023-02-20T10:39:54.234Z"
   },
   {
    "duration": 45,
    "start_time": "2023-02-20T10:39:54.319Z"
   },
   {
    "duration": 64,
    "start_time": "2023-02-20T10:39:54.366Z"
   },
   {
    "duration": 64,
    "start_time": "2023-02-20T10:39:54.432Z"
   },
   {
    "duration": 98,
    "start_time": "2023-02-20T10:39:54.497Z"
   },
   {
    "duration": 68,
    "start_time": "2023-02-20T10:39:54.597Z"
   },
   {
    "duration": 82,
    "start_time": "2023-02-20T10:39:54.667Z"
   },
   {
    "duration": 32,
    "start_time": "2023-02-20T10:39:55.243Z"
   },
   {
    "duration": 206,
    "start_time": "2023-02-20T10:39:55.279Z"
   },
   {
    "duration": 5,
    "start_time": "2023-02-20T10:39:55.486Z"
   },
   {
    "duration": 25,
    "start_time": "2023-02-20T10:39:56.805Z"
   },
   {
    "duration": 12,
    "start_time": "2023-02-20T10:39:58.615Z"
   },
   {
    "duration": 9,
    "start_time": "2023-02-20T10:39:59.373Z"
   },
   {
    "duration": 9,
    "start_time": "2023-02-20T10:40:00.024Z"
   },
   {
    "duration": 149,
    "start_time": "2023-02-20T10:40:01.113Z"
   },
   {
    "duration": 5,
    "start_time": "2023-02-20T10:40:02.290Z"
   },
   {
    "duration": 6,
    "start_time": "2023-02-20T10:40:03.105Z"
   },
   {
    "duration": 158,
    "start_time": "2023-02-20T10:40:03.971Z"
   },
   {
    "duration": 4,
    "start_time": "2023-02-20T10:40:04.900Z"
   },
   {
    "duration": 23,
    "start_time": "2023-02-20T11:51:13.625Z"
   },
   {
    "duration": 10,
    "start_time": "2023-02-20T11:51:35.119Z"
   },
   {
    "duration": 8,
    "start_time": "2023-02-20T11:51:43.776Z"
   },
   {
    "duration": 9,
    "start_time": "2023-02-20T11:51:44.685Z"
   },
   {
    "duration": 13,
    "start_time": "2023-02-20T11:57:31.149Z"
   },
   {
    "duration": 7,
    "start_time": "2023-02-20T12:01:17.430Z"
   },
   {
    "duration": 14,
    "start_time": "2023-02-20T12:01:34.606Z"
   },
   {
    "duration": 302,
    "start_time": "2023-02-20T12:04:38.658Z"
   },
   {
    "duration": 214,
    "start_time": "2023-02-20T12:07:04.783Z"
   },
   {
    "duration": 88,
    "start_time": "2023-02-20T12:16:46.893Z"
   },
   {
    "duration": 42,
    "start_time": "2023-02-20T12:16:59.778Z"
   },
   {
    "duration": 9,
    "start_time": "2023-02-20T12:18:15.124Z"
   },
   {
    "duration": 6,
    "start_time": "2023-02-20T12:18:45.883Z"
   },
   {
    "duration": 46,
    "start_time": "2023-02-20T12:18:59.172Z"
   },
   {
    "duration": 35,
    "start_time": "2023-02-20T12:19:15.742Z"
   },
   {
    "duration": 11,
    "start_time": "2023-02-20T12:33:54.030Z"
   },
   {
    "duration": 17,
    "start_time": "2023-02-20T12:34:06.623Z"
   },
   {
    "duration": 384,
    "start_time": "2023-02-20T12:35:09.420Z"
   },
   {
    "duration": 296,
    "start_time": "2023-02-20T12:35:37.028Z"
   },
   {
    "duration": 10,
    "start_time": "2023-02-20T12:45:11.551Z"
   },
   {
    "duration": 117,
    "start_time": "2023-02-20T12:47:36.472Z"
   },
   {
    "duration": 8,
    "start_time": "2023-02-20T12:48:58.531Z"
   },
   {
    "duration": 34,
    "start_time": "2023-02-20T12:48:59.508Z"
   },
   {
    "duration": 2,
    "start_time": "2023-02-20T12:49:02.098Z"
   },
   {
    "duration": 350,
    "start_time": "2023-02-20T12:49:05.009Z"
   },
   {
    "duration": 10,
    "start_time": "2023-02-20T12:49:06.513Z"
   },
   {
    "duration": 71,
    "start_time": "2023-02-20T12:49:07.594Z"
   },
   {
    "duration": 77,
    "start_time": "2023-02-20T12:49:35.700Z"
   },
   {
    "duration": 72,
    "start_time": "2023-02-20T12:49:43.957Z"
   },
   {
    "duration": 9,
    "start_time": "2023-02-20T12:56:07.943Z"
   },
   {
    "duration": 4,
    "start_time": "2023-02-20T12:56:17.297Z"
   },
   {
    "duration": 117,
    "start_time": "2023-02-20T12:56:18.267Z"
   },
   {
    "duration": 112,
    "start_time": "2023-02-20T12:56:36.244Z"
   },
   {
    "duration": 121,
    "start_time": "2023-02-20T12:57:00.339Z"
   },
   {
    "duration": 119,
    "start_time": "2023-02-20T13:00:33.331Z"
   },
   {
    "duration": 8,
    "start_time": "2023-02-20T17:02:05.319Z"
   },
   {
    "duration": 131,
    "start_time": "2023-02-20T17:02:20.948Z"
   },
   {
    "duration": 689,
    "start_time": "2023-02-20T17:10:27.613Z"
   },
   {
    "duration": 635,
    "start_time": "2023-02-20T17:10:55.348Z"
   },
   {
    "duration": 647,
    "start_time": "2023-02-20T17:11:13.228Z"
   },
   {
    "duration": 26,
    "start_time": "2023-02-20T17:42:15.200Z"
   },
   {
    "duration": 31,
    "start_time": "2023-02-20T17:42:37.964Z"
   },
   {
    "duration": 11,
    "start_time": "2023-02-20T17:42:48.481Z"
   },
   {
    "duration": 11,
    "start_time": "2023-02-20T17:47:41.819Z"
   },
   {
    "duration": 303,
    "start_time": "2023-02-20T17:47:57.491Z"
   },
   {
    "duration": 183,
    "start_time": "2023-02-20T17:49:39.653Z"
   },
   {
    "duration": 759,
    "start_time": "2023-02-21T07:25:53.128Z"
   },
   {
    "duration": 47,
    "start_time": "2023-02-21T07:25:53.889Z"
   },
   {
    "duration": 41,
    "start_time": "2023-02-21T07:25:53.938Z"
   },
   {
    "duration": 36,
    "start_time": "2023-02-21T07:25:53.981Z"
   },
   {
    "duration": 11,
    "start_time": "2023-02-21T07:25:54.019Z"
   },
   {
    "duration": 37,
    "start_time": "2023-02-21T07:25:54.032Z"
   },
   {
    "duration": 16,
    "start_time": "2023-02-21T07:25:54.071Z"
   },
   {
    "duration": 53,
    "start_time": "2023-02-21T07:25:54.088Z"
   },
   {
    "duration": 54,
    "start_time": "2023-02-21T07:25:54.142Z"
   },
   {
    "duration": 82,
    "start_time": "2023-02-21T07:25:54.199Z"
   },
   {
    "duration": 3,
    "start_time": "2023-02-21T07:25:54.282Z"
   },
   {
    "duration": 51,
    "start_time": "2023-02-21T07:25:54.286Z"
   },
   {
    "duration": 9,
    "start_time": "2023-02-21T07:25:54.338Z"
   },
   {
    "duration": 71,
    "start_time": "2023-02-21T07:25:54.349Z"
   },
   {
    "duration": 5,
    "start_time": "2023-02-21T07:25:54.422Z"
   },
   {
    "duration": 42,
    "start_time": "2023-02-21T07:25:54.428Z"
   },
   {
    "duration": 52,
    "start_time": "2023-02-21T07:25:54.472Z"
   },
   {
    "duration": 29,
    "start_time": "2023-02-21T07:25:54.526Z"
   },
   {
    "duration": 35,
    "start_time": "2023-02-21T07:25:54.557Z"
   },
   {
    "duration": 40,
    "start_time": "2023-02-21T07:25:54.594Z"
   },
   {
    "duration": 32,
    "start_time": "2023-02-21T07:25:54.635Z"
   },
   {
    "duration": 40,
    "start_time": "2023-02-21T07:25:54.669Z"
   },
   {
    "duration": 81,
    "start_time": "2023-02-21T07:25:54.711Z"
   },
   {
    "duration": 5,
    "start_time": "2023-02-21T07:25:54.794Z"
   },
   {
    "duration": 33,
    "start_time": "2023-02-21T07:25:54.800Z"
   },
   {
    "duration": 43,
    "start_time": "2023-02-21T07:25:54.835Z"
   },
   {
    "duration": 31,
    "start_time": "2023-02-21T07:25:54.880Z"
   },
   {
    "duration": 45,
    "start_time": "2023-02-21T07:25:54.915Z"
   },
   {
    "duration": 70,
    "start_time": "2023-02-21T07:25:54.961Z"
   },
   {
    "duration": 2382,
    "start_time": "2023-02-21T07:25:55.033Z"
   },
   {
    "duration": 15,
    "start_time": "2023-02-21T07:25:57.418Z"
   },
   {
    "duration": 20,
    "start_time": "2023-02-21T07:25:57.437Z"
   },
   {
    "duration": 55,
    "start_time": "2023-02-21T07:25:57.459Z"
   },
   {
    "duration": 96,
    "start_time": "2023-02-21T07:25:57.516Z"
   },
   {
    "duration": 113,
    "start_time": "2023-02-21T07:25:57.614Z"
   },
   {
    "duration": 39,
    "start_time": "2023-02-21T07:25:57.728Z"
   },
   {
    "duration": 20,
    "start_time": "2023-02-21T07:25:57.769Z"
   },
   {
    "duration": 31,
    "start_time": "2023-02-21T07:25:57.791Z"
   },
   {
    "duration": 26,
    "start_time": "2023-02-21T07:25:57.824Z"
   },
   {
    "duration": 41,
    "start_time": "2023-02-21T07:25:57.851Z"
   },
   {
    "duration": 40,
    "start_time": "2023-02-21T07:25:57.894Z"
   },
   {
    "duration": 46,
    "start_time": "2023-02-21T07:25:57.936Z"
   },
   {
    "duration": 30,
    "start_time": "2023-02-21T07:25:57.983Z"
   },
   {
    "duration": 28,
    "start_time": "2023-02-21T07:25:58.015Z"
   },
   {
    "duration": 73,
    "start_time": "2023-02-21T07:25:58.044Z"
   },
   {
    "duration": 8,
    "start_time": "2023-02-21T07:25:58.119Z"
   },
   {
    "duration": 44,
    "start_time": "2023-02-21T07:25:58.128Z"
   },
   {
    "duration": 55,
    "start_time": "2023-02-21T07:25:58.174Z"
   },
   {
    "duration": 30,
    "start_time": "2023-02-21T07:25:58.231Z"
   },
   {
    "duration": 18,
    "start_time": "2023-02-21T07:25:58.263Z"
   },
   {
    "duration": 34,
    "start_time": "2023-02-21T07:25:58.284Z"
   },
   {
    "duration": 57,
    "start_time": "2023-02-21T07:25:58.320Z"
   },
   {
    "duration": 17,
    "start_time": "2023-02-21T07:25:58.379Z"
   },
   {
    "duration": 37,
    "start_time": "2023-02-21T07:25:58.398Z"
   },
   {
    "duration": 45,
    "start_time": "2023-02-21T07:25:58.437Z"
   },
   {
    "duration": 9,
    "start_time": "2023-02-21T07:25:58.484Z"
   },
   {
    "duration": 27,
    "start_time": "2023-02-21T07:25:58.495Z"
   },
   {
    "duration": 21,
    "start_time": "2023-02-21T07:25:58.524Z"
   },
   {
    "duration": 149,
    "start_time": "2023-02-21T07:25:58.547Z"
   },
   {
    "duration": 6,
    "start_time": "2023-02-21T07:25:58.699Z"
   },
   {
    "duration": 23,
    "start_time": "2023-02-21T07:25:58.706Z"
   },
   {
    "duration": 48,
    "start_time": "2023-02-21T07:25:58.731Z"
   },
   {
    "duration": 173,
    "start_time": "2023-02-21T07:25:58.781Z"
   },
   {
    "duration": 6,
    "start_time": "2023-02-21T07:25:58.955Z"
   },
   {
    "duration": 67,
    "start_time": "2023-02-21T07:25:58.963Z"
   },
   {
    "duration": 237,
    "start_time": "2023-02-21T07:25:59.032Z"
   },
   {
    "duration": 231,
    "start_time": "2023-02-21T07:25:59.271Z"
   },
   {
    "duration": 4,
    "start_time": "2023-02-21T07:25:59.504Z"
   },
   {
    "duration": 59,
    "start_time": "2023-02-21T07:25:59.509Z"
   },
   {
    "duration": 4,
    "start_time": "2023-02-21T07:25:59.570Z"
   },
   {
    "duration": 64,
    "start_time": "2023-02-21T07:25:59.575Z"
   },
   {
    "duration": 9,
    "start_time": "2023-02-21T07:25:59.641Z"
   },
   {
    "duration": 193,
    "start_time": "2023-02-21T07:25:59.651Z"
   },
   {
    "duration": 0,
    "start_time": "2023-02-21T07:25:59.846Z"
   },
   {
    "duration": 0,
    "start_time": "2023-02-21T07:25:59.847Z"
   },
   {
    "duration": 0,
    "start_time": "2023-02-21T07:25:59.848Z"
   },
   {
    "duration": 0,
    "start_time": "2023-02-21T07:25:59.849Z"
   },
   {
    "duration": 0,
    "start_time": "2023-02-21T07:25:59.850Z"
   },
   {
    "duration": 0,
    "start_time": "2023-02-21T07:25:59.851Z"
   },
   {
    "duration": 0,
    "start_time": "2023-02-21T07:25:59.852Z"
   },
   {
    "duration": 0,
    "start_time": "2023-02-21T07:25:59.853Z"
   },
   {
    "duration": 0,
    "start_time": "2023-02-21T07:25:59.854Z"
   },
   {
    "duration": 0,
    "start_time": "2023-02-21T07:25:59.856Z"
   },
   {
    "duration": 0,
    "start_time": "2023-02-21T07:25:59.856Z"
   },
   {
    "duration": 7,
    "start_time": "2023-02-21T07:29:25.312Z"
   },
   {
    "duration": 4,
    "start_time": "2023-02-21T07:29:30.213Z"
   },
   {
    "duration": 6,
    "start_time": "2023-02-21T07:30:59.378Z"
   },
   {
    "duration": 2808,
    "start_time": "2023-02-21T07:31:06.790Z"
   },
   {
    "duration": 8,
    "start_time": "2023-02-21T07:33:18.457Z"
   },
   {
    "duration": 144,
    "start_time": "2023-02-21T07:33:54.232Z"
   },
   {
    "duration": 91,
    "start_time": "2023-02-21T07:33:55.690Z"
   },
   {
    "duration": 63,
    "start_time": "2023-02-21T07:33:56.617Z"
   },
   {
    "duration": 5,
    "start_time": "2023-02-21T07:34:08.301Z"
   },
   {
    "duration": 5,
    "start_time": "2023-02-21T07:34:28.698Z"
   },
   {
    "duration": 7,
    "start_time": "2023-02-21T07:34:38.275Z"
   },
   {
    "duration": 5,
    "start_time": "2023-02-21T07:34:44.763Z"
   },
   {
    "duration": 5,
    "start_time": "2023-02-21T07:35:00.762Z"
   },
   {
    "duration": 25,
    "start_time": "2023-02-21T07:36:08.407Z"
   },
   {
    "duration": 5,
    "start_time": "2023-02-21T07:36:17.066Z"
   },
   {
    "duration": 6,
    "start_time": "2023-02-21T07:53:35.322Z"
   },
   {
    "duration": 169,
    "start_time": "2023-02-21T09:04:58.731Z"
   },
   {
    "duration": 637,
    "start_time": "2023-02-21T10:46:27.412Z"
   },
   {
    "duration": 590,
    "start_time": "2023-02-21T10:46:37.474Z"
   },
   {
    "duration": 45,
    "start_time": "2023-02-21T10:46:38.066Z"
   },
   {
    "duration": 9,
    "start_time": "2023-02-21T10:46:38.112Z"
   },
   {
    "duration": 20,
    "start_time": "2023-02-21T10:46:38.123Z"
   },
   {
    "duration": 3,
    "start_time": "2023-02-21T10:46:38.145Z"
   },
   {
    "duration": 7,
    "start_time": "2023-02-21T10:46:38.150Z"
   },
   {
    "duration": 8,
    "start_time": "2023-02-21T10:46:38.159Z"
   },
   {
    "duration": 9,
    "start_time": "2023-02-21T10:46:38.169Z"
   },
   {
    "duration": 33,
    "start_time": "2023-02-21T10:46:38.180Z"
   },
   {
    "duration": 58,
    "start_time": "2023-02-21T10:46:38.217Z"
   },
   {
    "duration": 2,
    "start_time": "2023-02-21T10:46:38.277Z"
   },
   {
    "duration": 36,
    "start_time": "2023-02-21T10:46:38.281Z"
   },
   {
    "duration": 4,
    "start_time": "2023-02-21T10:46:38.318Z"
   },
   {
    "duration": 21,
    "start_time": "2023-02-21T10:46:38.324Z"
   },
   {
    "duration": 4,
    "start_time": "2023-02-21T10:46:38.347Z"
   },
   {
    "duration": 9,
    "start_time": "2023-02-21T10:46:38.352Z"
   },
   {
    "duration": 4,
    "start_time": "2023-02-21T10:46:38.363Z"
   },
   {
    "duration": 8,
    "start_time": "2023-02-21T10:46:38.368Z"
   },
   {
    "duration": 7,
    "start_time": "2023-02-21T10:46:38.410Z"
   },
   {
    "duration": 6,
    "start_time": "2023-02-21T10:46:38.418Z"
   },
   {
    "duration": 6,
    "start_time": "2023-02-21T10:46:38.425Z"
   },
   {
    "duration": 9,
    "start_time": "2023-02-21T10:46:38.433Z"
   },
   {
    "duration": 78,
    "start_time": "2023-02-21T10:46:38.444Z"
   },
   {
    "duration": 4,
    "start_time": "2023-02-21T10:46:38.524Z"
   },
   {
    "duration": 10,
    "start_time": "2023-02-21T10:46:38.530Z"
   },
   {
    "duration": 4,
    "start_time": "2023-02-21T10:46:38.542Z"
   },
   {
    "duration": 13,
    "start_time": "2023-02-21T10:46:38.547Z"
   },
   {
    "duration": 60,
    "start_time": "2023-02-21T10:46:38.565Z"
   },
   {
    "duration": 5,
    "start_time": "2023-02-21T10:46:38.627Z"
   },
   {
    "duration": 1995,
    "start_time": "2023-02-21T10:46:38.633Z"
   },
   {
    "duration": 12,
    "start_time": "2023-02-21T10:46:40.629Z"
   },
   {
    "duration": 5,
    "start_time": "2023-02-21T10:46:40.643Z"
   },
   {
    "duration": 15,
    "start_time": "2023-02-21T10:46:40.649Z"
   },
   {
    "duration": 95,
    "start_time": "2023-02-21T10:46:40.665Z"
   },
   {
    "duration": 95,
    "start_time": "2023-02-21T10:46:40.761Z"
   },
   {
    "duration": 3,
    "start_time": "2023-02-21T10:46:40.857Z"
   },
   {
    "duration": 14,
    "start_time": "2023-02-21T10:46:40.861Z"
   },
   {
    "duration": 6,
    "start_time": "2023-02-21T10:46:40.876Z"
   },
   {
    "duration": 27,
    "start_time": "2023-02-21T10:46:40.883Z"
   },
   {
    "duration": 4,
    "start_time": "2023-02-21T10:46:40.911Z"
   },
   {
    "duration": 7,
    "start_time": "2023-02-21T10:46:40.916Z"
   },
   {
    "duration": 4,
    "start_time": "2023-02-21T10:46:40.924Z"
   },
   {
    "duration": 13,
    "start_time": "2023-02-21T10:46:40.929Z"
   },
   {
    "duration": 38,
    "start_time": "2023-02-21T10:46:40.944Z"
   },
   {
    "duration": 33,
    "start_time": "2023-02-21T10:46:40.984Z"
   },
   {
    "duration": 6,
    "start_time": "2023-02-21T10:46:41.019Z"
   },
   {
    "duration": 26,
    "start_time": "2023-02-21T10:46:41.026Z"
   },
   {
    "duration": 20,
    "start_time": "2023-02-21T10:46:41.054Z"
   },
   {
    "duration": 7,
    "start_time": "2023-02-21T10:46:41.075Z"
   },
   {
    "duration": 31,
    "start_time": "2023-02-21T10:46:41.083Z"
   },
   {
    "duration": 28,
    "start_time": "2023-02-21T10:46:41.115Z"
   },
   {
    "duration": 12,
    "start_time": "2023-02-21T10:46:41.145Z"
   },
   {
    "duration": 14,
    "start_time": "2023-02-21T10:46:41.158Z"
   },
   {
    "duration": 21,
    "start_time": "2023-02-21T10:46:41.174Z"
   },
   {
    "duration": 13,
    "start_time": "2023-02-21T10:46:41.197Z"
   },
   {
    "duration": 15,
    "start_time": "2023-02-21T10:46:41.212Z"
   },
   {
    "duration": 9,
    "start_time": "2023-02-21T10:46:41.228Z"
   },
   {
    "duration": 142,
    "start_time": "2023-02-21T10:46:41.239Z"
   },
   {
    "duration": 4,
    "start_time": "2023-02-21T10:46:41.384Z"
   },
   {
    "duration": 9,
    "start_time": "2023-02-21T10:46:41.390Z"
   },
   {
    "duration": 10,
    "start_time": "2023-02-21T10:46:41.409Z"
   },
   {
    "duration": 141,
    "start_time": "2023-02-21T10:46:41.420Z"
   },
   {
    "duration": 5,
    "start_time": "2023-02-21T10:46:41.562Z"
   },
   {
    "duration": 19,
    "start_time": "2023-02-21T10:46:41.568Z"
   },
   {
    "duration": 187,
    "start_time": "2023-02-21T10:46:41.589Z"
   },
   {
    "duration": 193,
    "start_time": "2023-02-21T10:46:41.778Z"
   },
   {
    "duration": 4,
    "start_time": "2023-02-21T10:46:41.973Z"
   },
   {
    "duration": 41,
    "start_time": "2023-02-21T10:46:41.978Z"
   },
   {
    "duration": 5,
    "start_time": "2023-02-21T10:46:42.021Z"
   },
   {
    "duration": 31,
    "start_time": "2023-02-21T10:46:42.027Z"
   },
   {
    "duration": 3,
    "start_time": "2023-02-21T10:46:42.059Z"
   },
   {
    "duration": 0,
    "start_time": "2023-02-21T10:50:40.646Z"
   },
   {
    "duration": 0,
    "start_time": "2023-02-21T10:50:40.647Z"
   },
   {
    "duration": 0,
    "start_time": "2023-02-21T10:50:40.648Z"
   },
   {
    "duration": 0,
    "start_time": "2023-02-21T10:50:40.649Z"
   },
   {
    "duration": 0,
    "start_time": "2023-02-21T10:50:40.650Z"
   },
   {
    "duration": 0,
    "start_time": "2023-02-21T10:50:40.651Z"
   },
   {
    "duration": 0,
    "start_time": "2023-02-21T10:50:40.652Z"
   },
   {
    "duration": 0,
    "start_time": "2023-02-21T10:50:40.653Z"
   },
   {
    "duration": 0,
    "start_time": "2023-02-21T10:50:40.655Z"
   },
   {
    "duration": 0,
    "start_time": "2023-02-21T10:50:40.656Z"
   },
   {
    "duration": 0,
    "start_time": "2023-02-21T10:50:40.657Z"
   },
   {
    "duration": 0,
    "start_time": "2023-02-21T10:50:40.658Z"
   },
   {
    "duration": 0,
    "start_time": "2023-02-21T10:50:40.660Z"
   },
   {
    "duration": 0,
    "start_time": "2023-02-21T10:50:40.661Z"
   },
   {
    "duration": 0,
    "start_time": "2023-02-21T10:50:40.662Z"
   },
   {
    "duration": 0,
    "start_time": "2023-02-21T10:50:40.663Z"
   },
   {
    "duration": 0,
    "start_time": "2023-02-21T10:50:40.664Z"
   },
   {
    "duration": 0,
    "start_time": "2023-02-21T10:50:40.710Z"
   },
   {
    "duration": 0,
    "start_time": "2023-02-21T10:50:40.712Z"
   },
   {
    "duration": 0,
    "start_time": "2023-02-21T10:50:40.713Z"
   },
   {
    "duration": 0,
    "start_time": "2023-02-21T10:50:40.714Z"
   },
   {
    "duration": 0,
    "start_time": "2023-02-21T10:50:40.715Z"
   },
   {
    "duration": 0,
    "start_time": "2023-02-21T10:50:40.717Z"
   },
   {
    "duration": 0,
    "start_time": "2023-02-21T10:50:40.718Z"
   },
   {
    "duration": 0,
    "start_time": "2023-02-21T10:50:40.719Z"
   },
   {
    "duration": 0,
    "start_time": "2023-02-21T10:50:40.720Z"
   },
   {
    "duration": 0,
    "start_time": "2023-02-21T10:50:40.721Z"
   },
   {
    "duration": 0,
    "start_time": "2023-02-21T10:50:40.723Z"
   },
   {
    "duration": 0,
    "start_time": "2023-02-21T10:50:40.724Z"
   },
   {
    "duration": 0,
    "start_time": "2023-02-21T10:50:40.725Z"
   },
   {
    "duration": 0,
    "start_time": "2023-02-21T10:50:40.726Z"
   },
   {
    "duration": 0,
    "start_time": "2023-02-21T10:50:40.728Z"
   },
   {
    "duration": 0,
    "start_time": "2023-02-21T10:50:40.729Z"
   },
   {
    "duration": 0,
    "start_time": "2023-02-21T10:50:40.730Z"
   },
   {
    "duration": 0,
    "start_time": "2023-02-21T10:50:40.731Z"
   },
   {
    "duration": 0,
    "start_time": "2023-02-21T10:50:40.733Z"
   },
   {
    "duration": 0,
    "start_time": "2023-02-21T10:50:40.734Z"
   },
   {
    "duration": 0,
    "start_time": "2023-02-21T10:50:40.735Z"
   },
   {
    "duration": 0,
    "start_time": "2023-02-21T10:50:40.737Z"
   },
   {
    "duration": 0,
    "start_time": "2023-02-21T10:50:40.738Z"
   },
   {
    "duration": 0,
    "start_time": "2023-02-21T10:50:40.739Z"
   },
   {
    "duration": 0,
    "start_time": "2023-02-21T10:50:40.741Z"
   },
   {
    "duration": 0,
    "start_time": "2023-02-21T10:50:40.742Z"
   },
   {
    "duration": 0,
    "start_time": "2023-02-21T10:50:40.743Z"
   },
   {
    "duration": 0,
    "start_time": "2023-02-21T10:50:40.745Z"
   },
   {
    "duration": 0,
    "start_time": "2023-02-21T10:50:40.810Z"
   },
   {
    "duration": 0,
    "start_time": "2023-02-21T10:50:40.811Z"
   },
   {
    "duration": 0,
    "start_time": "2023-02-21T10:50:40.813Z"
   },
   {
    "duration": 156,
    "start_time": "2023-02-21T10:51:57.210Z"
   },
   {
    "duration": 21,
    "start_time": "2023-02-21T10:52:00.481Z"
   },
   {
    "duration": 147,
    "start_time": "2023-02-21T10:52:03.242Z"
   },
   {
    "duration": 173,
    "start_time": "2023-02-21T10:52:06.584Z"
   },
   {
    "duration": 137,
    "start_time": "2023-02-21T10:52:09.578Z"
   },
   {
    "duration": 147,
    "start_time": "2023-02-21T10:52:12.088Z"
   },
   {
    "duration": 11,
    "start_time": "2023-02-21T10:52:25.976Z"
   },
   {
    "duration": 136,
    "start_time": "2023-02-21T10:52:26.701Z"
   },
   {
    "duration": 6,
    "start_time": "2023-02-21T10:52:27.419Z"
   },
   {
    "duration": 10,
    "start_time": "2023-02-21T10:52:27.959Z"
   },
   {
    "duration": 177,
    "start_time": "2023-02-21T10:52:29.947Z"
   },
   {
    "duration": 177,
    "start_time": "2023-02-21T10:52:30.534Z"
   },
   {
    "duration": 5,
    "start_time": "2023-02-21T10:52:31.114Z"
   },
   {
    "duration": 26,
    "start_time": "2023-02-21T10:52:31.734Z"
   },
   {
    "duration": 3,
    "start_time": "2023-02-21T10:52:32.335Z"
   },
   {
    "duration": 26,
    "start_time": "2023-02-21T10:52:32.918Z"
   },
   {
    "duration": 2,
    "start_time": "2023-02-21T10:52:33.560Z"
   },
   {
    "duration": 242130,
    "start_time": "2023-02-21T10:52:34.174Z"
   },
   {
    "duration": 182,
    "start_time": "2023-02-21T10:56:36.306Z"
   },
   {
    "duration": 244,
    "start_time": "2023-02-21T10:56:36.489Z"
   },
   {
    "duration": 7,
    "start_time": "2023-02-21T10:56:36.735Z"
   },
   {
    "duration": 716,
    "start_time": "2023-02-21T10:56:36.744Z"
   },
   {
    "duration": 105,
    "start_time": "2023-02-21T10:56:37.462Z"
   },
   {
    "duration": 0,
    "start_time": "2023-02-21T10:56:37.569Z"
   },
   {
    "duration": 0,
    "start_time": "2023-02-21T10:56:37.570Z"
   },
   {
    "duration": 0,
    "start_time": "2023-02-21T10:56:37.571Z"
   },
   {
    "duration": 0,
    "start_time": "2023-02-21T10:56:37.572Z"
   },
   {
    "duration": 0,
    "start_time": "2023-02-21T10:56:37.573Z"
   },
   {
    "duration": 0,
    "start_time": "2023-02-21T10:56:37.573Z"
   },
   {
    "duration": 0,
    "start_time": "2023-02-21T10:56:37.574Z"
   },
   {
    "duration": 0,
    "start_time": "2023-02-21T10:56:37.576Z"
   },
   {
    "duration": 0,
    "start_time": "2023-02-21T10:56:37.576Z"
   },
   {
    "duration": 0,
    "start_time": "2023-02-21T10:56:37.577Z"
   },
   {
    "duration": 0,
    "start_time": "2023-02-21T10:56:37.579Z"
   },
   {
    "duration": 0,
    "start_time": "2023-02-21T10:56:37.580Z"
   },
   {
    "duration": 9,
    "start_time": "2023-02-21T11:15:06.033Z"
   },
   {
    "duration": 15,
    "start_time": "2023-02-21T11:15:08.961Z"
   },
   {
    "duration": 4,
    "start_time": "2023-02-21T11:15:15.718Z"
   },
   {
    "duration": 4,
    "start_time": "2023-02-21T11:15:17.792Z"
   },
   {
    "duration": 4,
    "start_time": "2023-02-21T11:15:18.720Z"
   },
   {
    "duration": 3,
    "start_time": "2023-02-21T11:15:20.017Z"
   },
   {
    "duration": 8,
    "start_time": "2023-02-21T11:15:21.377Z"
   },
   {
    "duration": 54,
    "start_time": "2023-02-21T11:15:25.017Z"
   },
   {
    "duration": 2,
    "start_time": "2023-02-21T11:15:31.127Z"
   },
   {
    "duration": 12,
    "start_time": "2023-02-21T11:15:33.314Z"
   },
   {
    "duration": 24,
    "start_time": "2023-02-21T11:15:41.118Z"
   },
   {
    "duration": 4,
    "start_time": "2023-02-21T11:15:42.240Z"
   },
   {
    "duration": 7,
    "start_time": "2023-02-21T11:15:43.292Z"
   },
   {
    "duration": 5,
    "start_time": "2023-02-21T11:15:47.093Z"
   },
   {
    "duration": 7,
    "start_time": "2023-02-21T11:15:48.898Z"
   },
   {
    "duration": 7,
    "start_time": "2023-02-21T11:15:53.027Z"
   },
   {
    "duration": 8,
    "start_time": "2023-02-21T11:15:54.945Z"
   },
   {
    "duration": 7,
    "start_time": "2023-02-21T11:15:56.425Z"
   },
   {
    "duration": 13,
    "start_time": "2023-02-21T11:17:46.283Z"
   },
   {
    "duration": 14,
    "start_time": "2023-02-21T11:19:03.187Z"
   },
   {
    "duration": 19,
    "start_time": "2023-02-21T11:20:14.581Z"
   },
   {
    "duration": 92,
    "start_time": "2023-02-21T11:21:10.717Z"
   },
   {
    "duration": 46,
    "start_time": "2023-02-21T11:21:21.214Z"
   },
   {
    "duration": 3,
    "start_time": "2023-02-21T11:21:22.765Z"
   },
   {
    "duration": 8,
    "start_time": "2023-02-21T11:21:23.628Z"
   },
   {
    "duration": 8,
    "start_time": "2023-02-21T11:21:29.476Z"
   },
   {
    "duration": 4,
    "start_time": "2023-02-21T11:21:33.572Z"
   },
   {
    "duration": 4,
    "start_time": "2023-02-21T11:21:42.517Z"
   },
   {
    "duration": 4,
    "start_time": "2023-02-21T11:21:51.253Z"
   },
   {
    "duration": 4,
    "start_time": "2023-02-21T11:21:52.296Z"
   },
   {
    "duration": 14,
    "start_time": "2023-02-21T11:21:53.636Z"
   },
   {
    "duration": 37,
    "start_time": "2023-02-21T11:21:54.917Z"
   },
   {
    "duration": 11,
    "start_time": "2023-02-21T11:21:56.414Z"
   },
   {
    "duration": 5,
    "start_time": "2023-02-21T11:22:01.214Z"
   },
   {
    "duration": 23,
    "start_time": "2023-02-21T11:22:04.789Z"
   },
   {
    "duration": 4,
    "start_time": "2023-02-21T11:22:22.189Z"
   },
   {
    "duration": 18,
    "start_time": "2023-02-21T11:22:39.778Z"
   },
   {
    "duration": 3,
    "start_time": "2023-02-21T11:22:50.575Z"
   },
   {
    "duration": 8,
    "start_time": "2023-02-21T11:22:51.702Z"
   },
   {
    "duration": 27,
    "start_time": "2023-02-21T11:22:56.319Z"
   },
   {
    "duration": 142,
    "start_time": "2023-02-21T11:23:12.787Z"
   },
   {
    "duration": 5,
    "start_time": "2023-02-21T11:23:17.866Z"
   },
   {
    "duration": 4,
    "start_time": "2023-02-21T11:23:18.628Z"
   },
   {
    "duration": 12,
    "start_time": "2023-02-21T11:23:23.035Z"
   },
   {
    "duration": 129,
    "start_time": "2023-02-21T11:23:24.458Z"
   },
   {
    "duration": 5,
    "start_time": "2023-02-21T11:23:31.844Z"
   },
   {
    "duration": 10,
    "start_time": "2023-02-21T11:23:33.762Z"
   },
   {
    "duration": 179,
    "start_time": "2023-02-21T11:23:43.650Z"
   },
   {
    "duration": 178,
    "start_time": "2023-02-21T11:23:45.730Z"
   },
   {
    "duration": 5,
    "start_time": "2023-02-21T11:23:46.913Z"
   },
   {
    "duration": 27,
    "start_time": "2023-02-21T11:23:54.482Z"
   },
   {
    "duration": 4,
    "start_time": "2023-02-21T11:24:00.585Z"
   },
   {
    "duration": 28,
    "start_time": "2023-02-21T11:24:03.385Z"
   },
   {
    "duration": 248150,
    "start_time": "2023-02-21T11:24:09.357Z"
   },
   {
    "duration": 0,
    "start_time": "2023-02-21T11:28:17.961Z"
   },
   {
    "duration": 0,
    "start_time": "2023-02-21T11:28:17.962Z"
   },
   {
    "duration": 0,
    "start_time": "2023-02-21T11:28:17.963Z"
   },
   {
    "duration": 0,
    "start_time": "2023-02-21T11:28:17.963Z"
   },
   {
    "duration": 385,
    "start_time": "2023-02-21T11:28:19.139Z"
   },
   {
    "duration": 8,
    "start_time": "2023-02-21T11:28:33.775Z"
   },
   {
    "duration": 725,
    "start_time": "2023-02-21T11:28:35.745Z"
   },
   {
    "duration": 358,
    "start_time": "2023-02-21T11:28:57.887Z"
   },
   {
    "duration": 9,
    "start_time": "2023-02-21T11:29:24.069Z"
   },
   {
    "duration": 106,
    "start_time": "2023-02-21T11:29:47.221Z"
   },
   {
    "duration": 51,
    "start_time": "2023-02-21T11:30:21.475Z"
   },
   {
    "duration": 45,
    "start_time": "2023-02-21T11:30:33.461Z"
   },
   {
    "duration": 109,
    "start_time": "2023-02-21T11:30:45.321Z"
   },
   {
    "duration": 386,
    "start_time": "2023-02-21T11:31:07.168Z"
   },
   {
    "duration": 2,
    "start_time": "2023-02-21T11:32:05.259Z"
   },
   {
    "duration": 23,
    "start_time": "2023-02-21T11:32:05.957Z"
   },
   {
    "duration": 7,
    "start_time": "2023-02-21T11:32:10.082Z"
   },
   {
    "duration": 5,
    "start_time": "2023-02-21T11:32:17.942Z"
   },
   {
    "duration": 5,
    "start_time": "2023-02-21T11:32:19.180Z"
   },
   {
    "duration": 138,
    "start_time": "2023-02-21T11:32:21.313Z"
   },
   {
    "duration": 5,
    "start_time": "2023-02-21T11:32:28.823Z"
   },
   {
    "duration": 20,
    "start_time": "2023-02-21T11:32:54.613Z"
   },
   {
    "duration": 133,
    "start_time": "2023-02-21T11:33:02.717Z"
   },
   {
    "duration": 142,
    "start_time": "2023-02-21T11:33:06.187Z"
   },
   {
    "duration": 165,
    "start_time": "2023-02-21T11:33:09.340Z"
   },
   {
    "duration": 141,
    "start_time": "2023-02-21T11:33:10.541Z"
   },
   {
    "duration": 22,
    "start_time": "2023-02-21T11:33:11.532Z"
   },
   {
    "duration": 3,
    "start_time": "2023-02-21T11:33:13.013Z"
   },
   {
    "duration": 147,
    "start_time": "2023-02-21T11:33:14.167Z"
   },
   {
    "duration": 47,
    "start_time": "2023-02-21T11:56:56.498Z"
   },
   {
    "duration": 4,
    "start_time": "2023-02-21T11:58:23.560Z"
   },
   {
    "duration": 142,
    "start_time": "2023-02-21T12:01:47.170Z"
   },
   {
    "duration": 0,
    "start_time": "2023-02-21T12:10:54.889Z"
   },
   {
    "duration": 0,
    "start_time": "2023-02-21T12:10:54.891Z"
   },
   {
    "duration": 0,
    "start_time": "2023-02-21T12:10:54.892Z"
   },
   {
    "duration": 0,
    "start_time": "2023-02-21T12:10:54.911Z"
   },
   {
    "duration": 0,
    "start_time": "2023-02-21T12:10:54.912Z"
   },
   {
    "duration": 0,
    "start_time": "2023-02-21T12:10:54.912Z"
   },
   {
    "duration": 0,
    "start_time": "2023-02-21T12:10:54.913Z"
   },
   {
    "duration": 0,
    "start_time": "2023-02-21T12:10:54.913Z"
   },
   {
    "duration": 0,
    "start_time": "2023-02-21T12:10:54.914Z"
   },
   {
    "duration": 0,
    "start_time": "2023-02-21T12:10:54.914Z"
   },
   {
    "duration": 0,
    "start_time": "2023-02-21T12:10:54.915Z"
   },
   {
    "duration": 0,
    "start_time": "2023-02-21T12:10:54.918Z"
   },
   {
    "duration": 0,
    "start_time": "2023-02-21T12:10:54.920Z"
   },
   {
    "duration": 0,
    "start_time": "2023-02-21T12:10:54.922Z"
   },
   {
    "duration": 0,
    "start_time": "2023-02-21T12:10:54.923Z"
   },
   {
    "duration": 0,
    "start_time": "2023-02-21T12:10:54.924Z"
   },
   {
    "duration": 0,
    "start_time": "2023-02-21T12:10:54.926Z"
   },
   {
    "duration": 0,
    "start_time": "2023-02-21T12:10:54.927Z"
   },
   {
    "duration": 0,
    "start_time": "2023-02-21T12:10:54.929Z"
   },
   {
    "duration": 0,
    "start_time": "2023-02-21T12:10:54.930Z"
   },
   {
    "duration": 0,
    "start_time": "2023-02-21T12:10:54.932Z"
   },
   {
    "duration": 0,
    "start_time": "2023-02-21T12:10:54.933Z"
   },
   {
    "duration": 0,
    "start_time": "2023-02-21T12:10:54.935Z"
   },
   {
    "duration": 0,
    "start_time": "2023-02-21T12:10:54.936Z"
   },
   {
    "duration": 0,
    "start_time": "2023-02-21T12:10:54.938Z"
   },
   {
    "duration": 0,
    "start_time": "2023-02-21T12:10:54.939Z"
   },
   {
    "duration": 0,
    "start_time": "2023-02-21T12:10:54.940Z"
   },
   {
    "duration": 0,
    "start_time": "2023-02-21T12:10:54.941Z"
   },
   {
    "duration": 0,
    "start_time": "2023-02-21T12:10:54.943Z"
   },
   {
    "duration": 0,
    "start_time": "2023-02-21T12:10:54.944Z"
   },
   {
    "duration": 0,
    "start_time": "2023-02-21T12:10:54.945Z"
   },
   {
    "duration": 0,
    "start_time": "2023-02-21T12:10:54.947Z"
   },
   {
    "duration": 0,
    "start_time": "2023-02-21T12:10:54.948Z"
   },
   {
    "duration": 0,
    "start_time": "2023-02-21T12:10:54.949Z"
   },
   {
    "duration": 0,
    "start_time": "2023-02-21T12:10:54.951Z"
   },
   {
    "duration": 0,
    "start_time": "2023-02-21T12:10:54.952Z"
   },
   {
    "duration": 0,
    "start_time": "2023-02-21T12:10:54.953Z"
   },
   {
    "duration": 0,
    "start_time": "2023-02-21T12:10:54.955Z"
   },
   {
    "duration": 0,
    "start_time": "2023-02-21T12:10:55.015Z"
   },
   {
    "duration": 0,
    "start_time": "2023-02-21T12:10:55.016Z"
   },
   {
    "duration": 0,
    "start_time": "2023-02-21T12:10:55.019Z"
   },
   {
    "duration": 0,
    "start_time": "2023-02-21T12:10:55.021Z"
   },
   {
    "duration": 0,
    "start_time": "2023-02-21T12:10:55.022Z"
   },
   {
    "duration": 0,
    "start_time": "2023-02-21T12:10:55.028Z"
   },
   {
    "duration": 0,
    "start_time": "2023-02-21T12:10:55.030Z"
   },
   {
    "duration": 0,
    "start_time": "2023-02-21T12:10:55.033Z"
   },
   {
    "duration": 0,
    "start_time": "2023-02-21T12:10:55.035Z"
   },
   {
    "duration": 0,
    "start_time": "2023-02-21T12:10:55.037Z"
   },
   {
    "duration": 0,
    "start_time": "2023-02-21T12:10:55.038Z"
   },
   {
    "duration": 0,
    "start_time": "2023-02-21T12:10:55.040Z"
   },
   {
    "duration": 0,
    "start_time": "2023-02-21T12:10:55.042Z"
   },
   {
    "duration": 0,
    "start_time": "2023-02-21T12:10:55.043Z"
   },
   {
    "duration": 0,
    "start_time": "2023-02-21T12:10:55.045Z"
   },
   {
    "duration": 530,
    "start_time": "2023-02-21T12:11:04.216Z"
   },
   {
    "duration": 44,
    "start_time": "2023-02-21T12:11:04.749Z"
   },
   {
    "duration": 32,
    "start_time": "2023-02-21T12:11:04.795Z"
   },
   {
    "duration": 34,
    "start_time": "2023-02-21T12:11:04.829Z"
   },
   {
    "duration": 4,
    "start_time": "2023-02-21T12:11:04.865Z"
   },
   {
    "duration": 5,
    "start_time": "2023-02-21T12:11:04.870Z"
   },
   {
    "duration": 7,
    "start_time": "2023-02-21T12:11:04.876Z"
   },
   {
    "duration": 4,
    "start_time": "2023-02-21T12:11:04.885Z"
   },
   {
    "duration": 32,
    "start_time": "2023-02-21T12:11:04.891Z"
   },
   {
    "duration": 66,
    "start_time": "2023-02-21T12:11:04.926Z"
   },
   {
    "duration": 21,
    "start_time": "2023-02-21T12:11:04.994Z"
   },
   {
    "duration": 30,
    "start_time": "2023-02-21T12:11:05.028Z"
   },
   {
    "duration": 5,
    "start_time": "2023-02-21T12:11:05.060Z"
   },
   {
    "duration": 48,
    "start_time": "2023-02-21T12:11:05.067Z"
   },
   {
    "duration": 4,
    "start_time": "2023-02-21T12:11:05.128Z"
   },
   {
    "duration": 9,
    "start_time": "2023-02-21T12:11:05.134Z"
   },
   {
    "duration": 4,
    "start_time": "2023-02-21T12:11:05.144Z"
   },
   {
    "duration": 10,
    "start_time": "2023-02-21T12:11:05.150Z"
   },
   {
    "duration": 9,
    "start_time": "2023-02-21T12:11:05.161Z"
   },
   {
    "duration": 6,
    "start_time": "2023-02-21T12:11:05.172Z"
   },
   {
    "duration": 9,
    "start_time": "2023-02-21T12:11:05.179Z"
   },
   {
    "duration": 13,
    "start_time": "2023-02-21T12:11:05.217Z"
   },
   {
    "duration": 83,
    "start_time": "2023-02-21T12:11:05.232Z"
   },
   {
    "duration": 10,
    "start_time": "2023-02-21T12:11:05.316Z"
   },
   {
    "duration": 16,
    "start_time": "2023-02-21T12:11:05.327Z"
   },
   {
    "duration": 6,
    "start_time": "2023-02-21T12:11:05.345Z"
   },
   {
    "duration": 19,
    "start_time": "2023-02-21T12:11:05.353Z"
   },
   {
    "duration": 54,
    "start_time": "2023-02-21T12:11:05.377Z"
   },
   {
    "duration": 4,
    "start_time": "2023-02-21T12:11:05.433Z"
   },
   {
    "duration": 2357,
    "start_time": "2023-02-21T12:11:05.439Z"
   },
   {
    "duration": 15,
    "start_time": "2023-02-21T12:11:07.799Z"
   },
   {
    "duration": 36,
    "start_time": "2023-02-21T12:11:07.816Z"
   },
   {
    "duration": 11,
    "start_time": "2023-02-21T12:11:07.854Z"
   },
   {
    "duration": 114,
    "start_time": "2023-02-21T12:11:07.867Z"
   },
   {
    "duration": 116,
    "start_time": "2023-02-21T12:11:07.983Z"
   },
   {
    "duration": 3,
    "start_time": "2023-02-21T12:11:08.100Z"
   },
   {
    "duration": 34,
    "start_time": "2023-02-21T12:11:08.104Z"
   },
   {
    "duration": 4,
    "start_time": "2023-02-21T12:11:08.140Z"
   },
   {
    "duration": 15,
    "start_time": "2023-02-21T12:11:08.146Z"
   },
   {
    "duration": 5,
    "start_time": "2023-02-21T12:11:08.162Z"
   },
   {
    "duration": 6,
    "start_time": "2023-02-21T12:11:08.168Z"
   },
   {
    "duration": 5,
    "start_time": "2023-02-21T12:11:08.176Z"
   },
   {
    "duration": 13,
    "start_time": "2023-02-21T12:11:08.183Z"
   },
   {
    "duration": 55,
    "start_time": "2023-02-21T12:11:08.198Z"
   },
   {
    "duration": 10,
    "start_time": "2023-02-21T12:11:08.255Z"
   },
   {
    "duration": 8,
    "start_time": "2023-02-21T12:11:08.267Z"
   },
   {
    "duration": 47,
    "start_time": "2023-02-21T12:11:08.276Z"
   },
   {
    "duration": 22,
    "start_time": "2023-02-21T12:11:08.324Z"
   },
   {
    "duration": 4,
    "start_time": "2023-02-21T12:11:08.348Z"
   },
   {
    "duration": 18,
    "start_time": "2023-02-21T12:11:08.354Z"
   },
   {
    "duration": 3,
    "start_time": "2023-02-21T12:11:08.374Z"
   },
   {
    "duration": 49,
    "start_time": "2023-02-21T12:11:08.379Z"
   },
   {
    "duration": 21,
    "start_time": "2023-02-21T12:11:08.430Z"
   },
   {
    "duration": 9,
    "start_time": "2023-02-21T12:11:08.453Z"
   },
   {
    "duration": 9,
    "start_time": "2023-02-21T12:11:08.463Z"
   },
   {
    "duration": 5,
    "start_time": "2023-02-21T12:11:08.474Z"
   },
   {
    "duration": 181,
    "start_time": "2023-02-21T12:11:08.481Z"
   },
   {
    "duration": 6,
    "start_time": "2023-02-21T12:11:08.664Z"
   },
   {
    "duration": 10,
    "start_time": "2023-02-21T12:11:08.672Z"
   },
   {
    "duration": 27,
    "start_time": "2023-02-21T12:11:08.684Z"
   },
   {
    "duration": 206,
    "start_time": "2023-02-21T12:11:08.723Z"
   },
   {
    "duration": 7,
    "start_time": "2023-02-21T12:11:08.931Z"
   },
   {
    "duration": 19,
    "start_time": "2023-02-21T12:11:08.940Z"
   },
   {
    "duration": 208,
    "start_time": "2023-02-21T12:11:08.961Z"
   },
   {
    "duration": 223,
    "start_time": "2023-02-21T12:11:09.171Z"
   },
   {
    "duration": 4,
    "start_time": "2023-02-21T12:11:09.396Z"
   },
   {
    "duration": 32,
    "start_time": "2023-02-21T12:11:09.409Z"
   },
   {
    "duration": 9,
    "start_time": "2023-02-21T12:11:09.443Z"
   },
   {
    "duration": 33,
    "start_time": "2023-02-21T12:11:09.453Z"
   },
   {
    "duration": 2,
    "start_time": "2023-02-21T12:11:09.488Z"
   },
   {
    "duration": 257570,
    "start_time": "2023-02-21T12:11:09.492Z"
   },
   {
    "duration": 190,
    "start_time": "2023-02-21T12:15:27.063Z"
   },
   {
    "duration": 253,
    "start_time": "2023-02-21T12:15:27.255Z"
   },
   {
    "duration": 0,
    "start_time": "2023-02-21T12:15:27.523Z"
   },
   {
    "duration": 0,
    "start_time": "2023-02-21T12:15:27.524Z"
   },
   {
    "duration": 1,
    "start_time": "2023-02-21T12:15:27.524Z"
   },
   {
    "duration": 0,
    "start_time": "2023-02-21T12:15:27.525Z"
   },
   {
    "duration": 0,
    "start_time": "2023-02-21T12:15:27.526Z"
   },
   {
    "duration": 0,
    "start_time": "2023-02-21T12:15:27.526Z"
   },
   {
    "duration": 0,
    "start_time": "2023-02-21T12:15:27.529Z"
   },
   {
    "duration": 0,
    "start_time": "2023-02-21T12:15:27.531Z"
   },
   {
    "duration": 0,
    "start_time": "2023-02-21T12:15:27.533Z"
   },
   {
    "duration": 0,
    "start_time": "2023-02-21T12:15:27.535Z"
   },
   {
    "duration": 0,
    "start_time": "2023-02-21T12:15:27.537Z"
   },
   {
    "duration": 0,
    "start_time": "2023-02-21T12:15:27.538Z"
   },
   {
    "duration": 0,
    "start_time": "2023-02-21T12:15:27.540Z"
   },
   {
    "duration": 0,
    "start_time": "2023-02-21T12:15:27.541Z"
   },
   {
    "duration": 0,
    "start_time": "2023-02-21T12:15:27.543Z"
   },
   {
    "duration": 0,
    "start_time": "2023-02-21T12:15:27.545Z"
   },
   {
    "duration": 0,
    "start_time": "2023-02-21T12:15:27.546Z"
   },
   {
    "duration": 0,
    "start_time": "2023-02-21T12:15:27.549Z"
   },
   {
    "duration": 0,
    "start_time": "2023-02-21T12:15:27.550Z"
   },
   {
    "duration": 0,
    "start_time": "2023-02-21T12:15:27.552Z"
   },
   {
    "duration": 0,
    "start_time": "2023-02-21T12:15:27.553Z"
   },
   {
    "duration": 0,
    "start_time": "2023-02-21T12:15:27.555Z"
   },
   {
    "duration": 0,
    "start_time": "2023-02-21T12:15:27.556Z"
   },
   {
    "duration": 4,
    "start_time": "2023-02-21T12:16:46.698Z"
   },
   {
    "duration": 4,
    "start_time": "2023-02-21T12:16:48.024Z"
   },
   {
    "duration": 6,
    "start_time": "2023-02-21T12:16:49.209Z"
   },
   {
    "duration": 4,
    "start_time": "2023-02-21T12:16:50.459Z"
   },
   {
    "duration": 11,
    "start_time": "2023-02-21T12:16:53.461Z"
   },
   {
    "duration": 107,
    "start_time": "2023-02-21T12:16:57.926Z"
   },
   {
    "duration": 41,
    "start_time": "2023-02-21T12:16:59.429Z"
   },
   {
    "duration": 12,
    "start_time": "2023-02-21T12:17:00.107Z"
   },
   {
    "duration": 14,
    "start_time": "2023-02-21T12:17:01.130Z"
   },
   {
    "duration": 4,
    "start_time": "2023-02-21T12:17:01.777Z"
   },
   {
    "duration": 4,
    "start_time": "2023-02-21T12:17:02.082Z"
   },
   {
    "duration": 6,
    "start_time": "2023-02-21T12:17:02.463Z"
   },
   {
    "duration": 7,
    "start_time": "2023-02-21T12:17:02.732Z"
   },
   {
    "duration": 10,
    "start_time": "2023-02-21T12:17:02.963Z"
   },
   {
    "duration": 92,
    "start_time": "2023-02-21T12:17:03.507Z"
   },
   {
    "duration": 3,
    "start_time": "2023-02-21T12:17:03.865Z"
   },
   {
    "duration": 20,
    "start_time": "2023-02-21T12:17:04.125Z"
   },
   {
    "duration": 5,
    "start_time": "2023-02-21T12:17:04.562Z"
   },
   {
    "duration": 34,
    "start_time": "2023-02-21T12:17:04.798Z"
   },
   {
    "duration": 6,
    "start_time": "2023-02-21T12:17:04.999Z"
   },
   {
    "duration": 10,
    "start_time": "2023-02-21T12:17:05.831Z"
   },
   {
    "duration": 5,
    "start_time": "2023-02-21T12:17:06.555Z"
   },
   {
    "duration": 9,
    "start_time": "2023-02-21T12:17:07.369Z"
   },
   {
    "duration": 21,
    "start_time": "2023-02-21T12:17:08.105Z"
   },
   {
    "duration": 6,
    "start_time": "2023-02-21T12:17:08.728Z"
   },
   {
    "duration": 9,
    "start_time": "2023-02-21T12:17:09.062Z"
   },
   {
    "duration": 20,
    "start_time": "2023-02-21T12:17:09.328Z"
   },
   {
    "duration": 88,
    "start_time": "2023-02-21T12:17:09.763Z"
   },
   {
    "duration": 16,
    "start_time": "2023-02-21T12:17:10.107Z"
   },
   {
    "duration": 6,
    "start_time": "2023-02-21T12:17:10.356Z"
   },
   {
    "duration": 5,
    "start_time": "2023-02-21T12:17:10.583Z"
   },
   {
    "duration": 15,
    "start_time": "2023-02-21T12:17:10.829Z"
   },
   {
    "duration": 44,
    "start_time": "2023-02-21T12:17:11.101Z"
   },
   {
    "duration": 5,
    "start_time": "2023-02-21T12:17:11.359Z"
   },
   {
    "duration": 1970,
    "start_time": "2023-02-21T12:17:11.607Z"
   },
   {
    "duration": 13,
    "start_time": "2023-02-21T12:17:13.579Z"
   },
   {
    "duration": 45,
    "start_time": "2023-02-21T12:17:13.594Z"
   },
   {
    "duration": 7,
    "start_time": "2023-02-21T12:17:13.641Z"
   },
   {
    "duration": 127,
    "start_time": "2023-02-21T12:17:13.650Z"
   },
   {
    "duration": 44,
    "start_time": "2023-02-21T12:17:13.859Z"
   },
   {
    "duration": 3,
    "start_time": "2023-02-21T12:17:14.663Z"
   },
   {
    "duration": 10,
    "start_time": "2023-02-21T12:17:15.496Z"
   },
   {
    "duration": 5,
    "start_time": "2023-02-21T12:17:16.272Z"
   },
   {
    "duration": 15,
    "start_time": "2023-02-21T12:17:16.962Z"
   },
   {
    "duration": 6,
    "start_time": "2023-02-21T12:17:17.763Z"
   },
   {
    "duration": 5,
    "start_time": "2023-02-21T12:17:19.237Z"
   },
   {
    "duration": 4,
    "start_time": "2023-02-21T12:17:20.064Z"
   },
   {
    "duration": 19,
    "start_time": "2023-02-21T12:17:21.429Z"
   },
   {
    "duration": 53,
    "start_time": "2023-02-21T12:17:22.196Z"
   },
   {
    "duration": 14,
    "start_time": "2023-02-21T12:17:22.875Z"
   },
   {
    "duration": 6,
    "start_time": "2023-02-21T12:17:23.662Z"
   },
   {
    "duration": 27,
    "start_time": "2023-02-21T12:17:24.333Z"
   },
   {
    "duration": 29,
    "start_time": "2023-02-21T12:17:25.036Z"
   },
   {
    "duration": 5,
    "start_time": "2023-02-21T12:17:25.687Z"
   },
   {
    "duration": 25,
    "start_time": "2023-02-21T12:17:26.369Z"
   },
   {
    "duration": 5,
    "start_time": "2023-02-21T12:17:27.063Z"
   },
   {
    "duration": 9,
    "start_time": "2023-02-21T12:17:28.087Z"
   },
   {
    "duration": 21,
    "start_time": "2023-02-21T12:17:28.959Z"
   },
   {
    "duration": 8,
    "start_time": "2023-02-21T12:17:30.863Z"
   },
   {
    "duration": 7,
    "start_time": "2023-02-21T12:17:31.785Z"
   },
   {
    "duration": 7,
    "start_time": "2023-02-21T12:17:32.662Z"
   },
   {
    "duration": 182,
    "start_time": "2023-02-21T12:17:33.321Z"
   },
   {
    "duration": 6,
    "start_time": "2023-02-21T12:17:33.965Z"
   },
   {
    "duration": 5,
    "start_time": "2023-02-21T12:17:34.969Z"
   },
   {
    "duration": 11,
    "start_time": "2023-02-21T12:17:35.861Z"
   },
   {
    "duration": 210,
    "start_time": "2023-02-21T12:17:36.885Z"
   },
   {
    "duration": 7,
    "start_time": "2023-02-21T12:17:41.800Z"
   },
   {
    "duration": 11,
    "start_time": "2023-02-21T12:17:43.125Z"
   },
   {
    "duration": 266,
    "start_time": "2023-02-21T12:17:46.066Z"
   },
   {
    "duration": 1161,
    "start_time": "2023-02-21T12:17:47.463Z"
   },
   {
    "duration": 6,
    "start_time": "2023-02-21T12:17:49.260Z"
   },
   {
    "duration": 29,
    "start_time": "2023-02-21T12:17:50.331Z"
   },
   {
    "duration": 6,
    "start_time": "2023-02-21T12:17:51.226Z"
   },
   {
    "duration": 31,
    "start_time": "2023-02-21T12:17:52.073Z"
   },
   {
    "duration": 5,
    "start_time": "2023-02-21T12:17:54.573Z"
   },
   {
    "duration": 0,
    "start_time": "2023-02-21T12:26:38.763Z"
   },
   {
    "duration": 0,
    "start_time": "2023-02-21T12:26:38.765Z"
   },
   {
    "duration": 0,
    "start_time": "2023-02-21T12:26:38.767Z"
   },
   {
    "duration": 0,
    "start_time": "2023-02-21T12:26:38.770Z"
   },
   {
    "duration": 54,
    "start_time": "2023-02-21T12:31:05.369Z"
   },
   {
    "duration": 3,
    "start_time": "2023-02-21T12:31:06.540Z"
   },
   {
    "duration": 9,
    "start_time": "2023-02-21T12:31:07.723Z"
   },
   {
    "duration": 5,
    "start_time": "2023-02-21T12:31:10.985Z"
   },
   {
    "duration": 17,
    "start_time": "2023-02-21T12:31:12.025Z"
   },
   {
    "duration": 6,
    "start_time": "2023-02-21T12:31:13.584Z"
   },
   {
    "duration": 6,
    "start_time": "2023-02-21T12:31:14.831Z"
   },
   {
    "duration": 3,
    "start_time": "2023-02-21T12:31:16.050Z"
   },
   {
    "duration": 15,
    "start_time": "2023-02-21T12:31:17.377Z"
   },
   {
    "duration": 39,
    "start_time": "2023-02-21T12:31:19.325Z"
   },
   {
    "duration": 9,
    "start_time": "2023-02-21T12:31:20.641Z"
   },
   {
    "duration": 6,
    "start_time": "2023-02-21T12:31:21.768Z"
   },
   {
    "duration": 24,
    "start_time": "2023-02-21T12:31:22.854Z"
   },
   {
    "duration": 20,
    "start_time": "2023-02-21T12:31:23.769Z"
   },
   {
    "duration": 5,
    "start_time": "2023-02-21T12:31:24.596Z"
   },
   {
    "duration": 21,
    "start_time": "2023-02-21T12:31:25.927Z"
   },
   {
    "duration": 7,
    "start_time": "2023-02-21T12:31:27.408Z"
   },
   {
    "duration": 9,
    "start_time": "2023-02-21T12:31:28.696Z"
   },
   {
    "duration": 26,
    "start_time": "2023-02-21T12:31:29.809Z"
   },
   {
    "duration": 9,
    "start_time": "2023-02-21T12:31:32.264Z"
   },
   {
    "duration": 7,
    "start_time": "2023-02-21T12:31:32.985Z"
   },
   {
    "duration": 7,
    "start_time": "2023-02-21T12:31:33.625Z"
   },
   {
    "duration": 120,
    "start_time": "2023-02-21T12:31:34.608Z"
   },
   {
    "duration": 4,
    "start_time": "2023-02-21T12:31:35.504Z"
   },
   {
    "duration": 5,
    "start_time": "2023-02-21T12:31:36.480Z"
   },
   {
    "duration": 10,
    "start_time": "2023-02-21T12:31:37.528Z"
   },
   {
    "duration": 135,
    "start_time": "2023-02-21T12:31:38.666Z"
   },
   {
    "duration": 7,
    "start_time": "2023-02-21T12:31:39.842Z"
   },
   {
    "duration": 11,
    "start_time": "2023-02-21T12:31:41.142Z"
   },
   {
    "duration": 217,
    "start_time": "2023-02-21T12:31:42.945Z"
   },
   {
    "duration": 191,
    "start_time": "2023-02-21T12:31:44.744Z"
   },
   {
    "duration": 4,
    "start_time": "2023-02-21T12:31:49.276Z"
   },
   {
    "duration": 27,
    "start_time": "2023-02-21T12:31:50.236Z"
   },
   {
    "duration": 14,
    "start_time": "2023-02-21T12:31:51.307Z"
   },
   {
    "duration": 32,
    "start_time": "2023-02-21T12:31:52.491Z"
   },
   {
    "duration": 2,
    "start_time": "2023-02-21T12:31:53.773Z"
   },
   {
    "duration": 257403,
    "start_time": "2023-02-21T12:31:54.942Z"
   },
   {
    "duration": 150,
    "start_time": "2023-02-21T12:36:12.346Z"
   },
   {
    "duration": 164,
    "start_time": "2023-02-21T12:36:12.497Z"
   },
   {
    "duration": 0,
    "start_time": "2023-02-21T12:36:12.662Z"
   },
   {
    "duration": 540,
    "start_time": "2023-02-21T12:39:23.055Z"
   },
   {
    "duration": 49,
    "start_time": "2023-02-21T12:39:23.597Z"
   },
   {
    "duration": 9,
    "start_time": "2023-02-21T12:39:23.648Z"
   },
   {
    "duration": 15,
    "start_time": "2023-02-21T12:39:23.659Z"
   },
   {
    "duration": 4,
    "start_time": "2023-02-21T12:39:23.675Z"
   },
   {
    "duration": 6,
    "start_time": "2023-02-21T12:39:23.680Z"
   },
   {
    "duration": 14,
    "start_time": "2023-02-21T12:39:23.715Z"
   },
   {
    "duration": 4,
    "start_time": "2023-02-21T12:39:23.730Z"
   },
   {
    "duration": 11,
    "start_time": "2023-02-21T12:39:23.735Z"
   },
   {
    "duration": 75,
    "start_time": "2023-02-21T12:39:23.750Z"
   },
   {
    "duration": 6,
    "start_time": "2023-02-21T12:39:23.827Z"
   },
   {
    "duration": 40,
    "start_time": "2023-02-21T12:39:23.836Z"
   },
   {
    "duration": 4,
    "start_time": "2023-02-21T12:39:23.878Z"
   },
   {
    "duration": 24,
    "start_time": "2023-02-21T12:39:23.883Z"
   },
   {
    "duration": 12,
    "start_time": "2023-02-21T12:39:23.908Z"
   },
   {
    "duration": 18,
    "start_time": "2023-02-21T12:39:23.921Z"
   },
   {
    "duration": 4,
    "start_time": "2023-02-21T12:39:23.941Z"
   },
   {
    "duration": 10,
    "start_time": "2023-02-21T12:39:23.947Z"
   },
   {
    "duration": 8,
    "start_time": "2023-02-21T12:39:23.959Z"
   },
   {
    "duration": 7,
    "start_time": "2023-02-21T12:39:23.969Z"
   },
   {
    "duration": 10,
    "start_time": "2023-02-21T12:39:23.977Z"
   },
   {
    "duration": 36,
    "start_time": "2023-02-21T12:39:23.989Z"
   },
   {
    "duration": 58,
    "start_time": "2023-02-21T12:39:24.026Z"
   },
   {
    "duration": 5,
    "start_time": "2023-02-21T12:39:24.086Z"
   },
   {
    "duration": 23,
    "start_time": "2023-02-21T12:39:24.092Z"
   },
   {
    "duration": 17,
    "start_time": "2023-02-21T12:39:24.116Z"
   },
   {
    "duration": 14,
    "start_time": "2023-02-21T12:39:24.135Z"
   },
   {
    "duration": 39,
    "start_time": "2023-02-21T12:39:24.153Z"
   },
   {
    "duration": 5,
    "start_time": "2023-02-21T12:39:24.193Z"
   },
   {
    "duration": 2153,
    "start_time": "2023-02-21T12:39:24.215Z"
   },
   {
    "duration": 14,
    "start_time": "2023-02-21T12:39:26.371Z"
   },
   {
    "duration": 17,
    "start_time": "2023-02-21T12:39:26.387Z"
   },
   {
    "duration": 30,
    "start_time": "2023-02-21T12:39:26.406Z"
   },
   {
    "duration": 129,
    "start_time": "2023-02-21T12:39:26.438Z"
   },
   {
    "duration": 163,
    "start_time": "2023-02-21T12:39:26.569Z"
   },
   {
    "duration": 5,
    "start_time": "2023-02-21T12:39:26.734Z"
   },
   {
    "duration": 23,
    "start_time": "2023-02-21T12:39:26.741Z"
   },
   {
    "duration": 9,
    "start_time": "2023-02-21T12:39:26.766Z"
   },
   {
    "duration": 22,
    "start_time": "2023-02-21T12:39:26.777Z"
   },
   {
    "duration": 38,
    "start_time": "2023-02-21T12:39:26.801Z"
   },
   {
    "duration": 30,
    "start_time": "2023-02-21T12:39:26.841Z"
   },
   {
    "duration": 15,
    "start_time": "2023-02-21T12:39:26.873Z"
   },
   {
    "duration": 28,
    "start_time": "2023-02-21T12:39:26.891Z"
   },
   {
    "duration": 53,
    "start_time": "2023-02-21T12:39:26.920Z"
   },
   {
    "duration": 8,
    "start_time": "2023-02-21T12:39:26.975Z"
   },
   {
    "duration": 6,
    "start_time": "2023-02-21T12:39:26.985Z"
   },
   {
    "duration": 46,
    "start_time": "2023-02-21T12:39:26.992Z"
   },
   {
    "duration": 21,
    "start_time": "2023-02-21T12:39:27.040Z"
   },
   {
    "duration": 6,
    "start_time": "2023-02-21T12:39:27.062Z"
   },
   {
    "duration": 20,
    "start_time": "2023-02-21T12:39:27.069Z"
   },
   {
    "duration": 36,
    "start_time": "2023-02-21T12:39:27.091Z"
   },
   {
    "duration": 21,
    "start_time": "2023-02-21T12:39:27.129Z"
   },
   {
    "duration": 30,
    "start_time": "2023-02-21T12:39:27.152Z"
   },
   {
    "duration": 11,
    "start_time": "2023-02-21T12:39:27.184Z"
   },
   {
    "duration": 8,
    "start_time": "2023-02-21T12:39:27.197Z"
   },
   {
    "duration": 13,
    "start_time": "2023-02-21T12:39:27.215Z"
   },
   {
    "duration": 146,
    "start_time": "2023-02-21T12:39:27.229Z"
   },
   {
    "duration": 5,
    "start_time": "2023-02-21T12:39:27.377Z"
   },
   {
    "duration": 5,
    "start_time": "2023-02-21T12:39:27.384Z"
   },
   {
    "duration": 36,
    "start_time": "2023-02-21T12:39:27.391Z"
   },
   {
    "duration": 148,
    "start_time": "2023-02-21T12:39:27.429Z"
   },
   {
    "duration": 6,
    "start_time": "2023-02-21T12:39:27.579Z"
   },
   {
    "duration": 14,
    "start_time": "2023-02-21T12:39:27.587Z"
   },
   {
    "duration": 207,
    "start_time": "2023-02-21T12:39:27.609Z"
   },
   {
    "duration": 212,
    "start_time": "2023-02-21T12:39:27.817Z"
   },
   {
    "duration": 5,
    "start_time": "2023-02-21T12:39:28.031Z"
   },
   {
    "duration": 36,
    "start_time": "2023-02-21T12:39:28.038Z"
   },
   {
    "duration": 4,
    "start_time": "2023-02-21T12:39:28.076Z"
   },
   {
    "duration": 50,
    "start_time": "2023-02-21T12:39:28.082Z"
   },
   {
    "duration": 2,
    "start_time": "2023-02-21T12:39:28.134Z"
   },
   {
    "duration": 166,
    "start_time": "2023-02-21T12:39:28.138Z"
   },
   {
    "duration": 240,
    "start_time": "2023-02-21T12:39:28.309Z"
   },
   {
    "duration": 9,
    "start_time": "2023-02-21T12:39:28.550Z"
   },
   {
    "duration": 505,
    "start_time": "2023-02-21T12:39:28.560Z"
   },
   {
    "duration": 0,
    "start_time": "2023-02-21T12:39:29.067Z"
   },
   {
    "duration": 0,
    "start_time": "2023-02-21T12:39:29.068Z"
   },
   {
    "duration": 0,
    "start_time": "2023-02-21T12:39:29.070Z"
   },
   {
    "duration": 0,
    "start_time": "2023-02-21T12:39:29.071Z"
   },
   {
    "duration": 0,
    "start_time": "2023-02-21T12:39:29.072Z"
   },
   {
    "duration": 0,
    "start_time": "2023-02-21T12:39:29.073Z"
   },
   {
    "duration": 0,
    "start_time": "2023-02-21T12:39:29.074Z"
   },
   {
    "duration": 0,
    "start_time": "2023-02-21T12:39:29.075Z"
   },
   {
    "duration": 0,
    "start_time": "2023-02-21T12:39:29.077Z"
   },
   {
    "duration": 0,
    "start_time": "2023-02-21T12:39:29.078Z"
   },
   {
    "duration": 0,
    "start_time": "2023-02-21T12:39:29.079Z"
   },
   {
    "duration": 0,
    "start_time": "2023-02-21T12:39:29.080Z"
   },
   {
    "duration": 0,
    "start_time": "2023-02-21T12:39:29.081Z"
   },
   {
    "duration": 0,
    "start_time": "2023-02-21T12:39:29.082Z"
   },
   {
    "duration": 1,
    "start_time": "2023-02-21T12:39:29.083Z"
   },
   {
    "duration": 0,
    "start_time": "2023-02-21T12:39:29.085Z"
   },
   {
    "duration": 12,
    "start_time": "2023-02-21T12:39:35.024Z"
   },
   {
    "duration": 12,
    "start_time": "2023-02-21T12:41:37.647Z"
   },
   {
    "duration": 172,
    "start_time": "2023-02-21T12:41:39.486Z"
   },
   {
    "duration": 9,
    "start_time": "2023-02-21T12:42:25.544Z"
   },
   {
    "duration": 193,
    "start_time": "2023-02-21T12:42:27.175Z"
   },
   {
    "duration": 332,
    "start_time": "2023-02-21T12:42:50.625Z"
   },
   {
    "duration": 385,
    "start_time": "2023-02-21T12:43:02.849Z"
   },
   {
    "duration": 7,
    "start_time": "2023-02-21T12:43:08.191Z"
   },
   {
    "duration": 8,
    "start_time": "2023-02-21T12:43:21.872Z"
   },
   {
    "duration": 21,
    "start_time": "2023-02-21T12:43:50.271Z"
   },
   {
    "duration": 8,
    "start_time": "2023-02-21T12:43:53.327Z"
   },
   {
    "duration": 7,
    "start_time": "2023-02-21T12:43:54.119Z"
   },
   {
    "duration": 13,
    "start_time": "2023-02-21T12:43:54.906Z"
   },
   {
    "duration": 131,
    "start_time": "2023-02-21T12:43:55.821Z"
   },
   {
    "duration": 179,
    "start_time": "2023-02-21T12:43:56.733Z"
   },
   {
    "duration": 173,
    "start_time": "2023-02-21T12:43:58.456Z"
   },
   {
    "duration": 155,
    "start_time": "2023-02-21T12:43:59.485Z"
   },
   {
    "duration": 28,
    "start_time": "2023-02-21T12:44:00.408Z"
   },
   {
    "duration": 3,
    "start_time": "2023-02-21T12:44:01.296Z"
   },
   {
    "duration": 160,
    "start_time": "2023-02-21T12:44:02.434Z"
   },
   {
    "duration": 5,
    "start_time": "2023-02-21T12:44:04.324Z"
   },
   {
    "duration": 9,
    "start_time": "2023-02-21T12:44:05.343Z"
   },
   {
    "duration": 180,
    "start_time": "2023-02-21T12:44:06.228Z"
   },
   {
    "duration": 2,
    "start_time": "2023-02-21T12:44:08.435Z"
   },
   {
    "duration": 47,
    "start_time": "2023-02-22T07:41:29.298Z"
   },
   {
    "duration": 513,
    "start_time": "2023-02-22T07:41:40.135Z"
   },
   {
    "duration": 52,
    "start_time": "2023-02-22T07:41:40.650Z"
   },
   {
    "duration": 9,
    "start_time": "2023-02-22T07:41:40.704Z"
   },
   {
    "duration": 62,
    "start_time": "2023-02-22T07:41:40.715Z"
   },
   {
    "duration": 2710,
    "start_time": "2023-02-22T07:41:40.778Z"
   },
   {
    "duration": 4,
    "start_time": "2023-02-22T07:41:43.490Z"
   },
   {
    "duration": 12,
    "start_time": "2023-02-22T07:41:43.496Z"
   },
   {
    "duration": 14,
    "start_time": "2023-02-22T07:41:43.510Z"
   },
   {
    "duration": 19,
    "start_time": "2023-02-22T07:41:43.525Z"
   },
   {
    "duration": 14,
    "start_time": "2023-02-22T07:41:43.547Z"
   },
   {
    "duration": 59,
    "start_time": "2023-02-22T07:41:43.562Z"
   },
   {
    "duration": 2,
    "start_time": "2023-02-22T07:41:43.623Z"
   },
   {
    "duration": 24,
    "start_time": "2023-02-22T07:41:43.627Z"
   },
   {
    "duration": 4,
    "start_time": "2023-02-22T07:41:43.653Z"
   },
   {
    "duration": 38,
    "start_time": "2023-02-22T07:41:43.659Z"
   },
   {
    "duration": 4,
    "start_time": "2023-02-22T07:41:43.699Z"
   },
   {
    "duration": 29,
    "start_time": "2023-02-22T07:41:43.705Z"
   },
   {
    "duration": 9,
    "start_time": "2023-02-22T07:41:43.736Z"
   },
   {
    "duration": 11,
    "start_time": "2023-02-22T07:41:43.746Z"
   },
   {
    "duration": 15,
    "start_time": "2023-02-22T07:41:43.759Z"
   },
   {
    "duration": 9,
    "start_time": "2023-02-22T07:41:43.776Z"
   },
   {
    "duration": 29,
    "start_time": "2023-02-22T07:41:43.786Z"
   },
   {
    "duration": 14,
    "start_time": "2023-02-22T07:41:43.816Z"
   },
   {
    "duration": 75,
    "start_time": "2023-02-22T07:41:43.832Z"
   },
   {
    "duration": 7,
    "start_time": "2023-02-22T07:41:43.909Z"
   },
   {
    "duration": 19,
    "start_time": "2023-02-22T07:41:43.918Z"
   },
   {
    "duration": 23,
    "start_time": "2023-02-22T07:41:43.940Z"
   },
   {
    "duration": 40,
    "start_time": "2023-02-22T07:41:43.970Z"
   },
   {
    "duration": 48,
    "start_time": "2023-02-22T07:41:44.012Z"
   },
   {
    "duration": 4,
    "start_time": "2023-02-22T07:41:44.063Z"
   },
   {
    "duration": 22,
    "start_time": "2023-02-22T07:41:44.068Z"
   },
   {
    "duration": 15,
    "start_time": "2023-02-22T07:41:44.092Z"
   },
   {
    "duration": 6,
    "start_time": "2023-02-22T07:41:44.108Z"
   },
   {
    "duration": 100,
    "start_time": "2023-02-22T07:41:44.116Z"
   },
   {
    "duration": 114,
    "start_time": "2023-02-22T07:41:44.218Z"
   },
   {
    "duration": 14,
    "start_time": "2023-02-22T07:41:44.333Z"
   },
   {
    "duration": 15,
    "start_time": "2023-02-22T07:41:44.349Z"
   },
   {
    "duration": 5,
    "start_time": "2023-02-22T07:41:44.366Z"
   },
   {
    "duration": 19,
    "start_time": "2023-02-22T07:41:44.373Z"
   },
   {
    "duration": 13,
    "start_time": "2023-02-22T07:41:44.394Z"
   },
   {
    "duration": 11,
    "start_time": "2023-02-22T07:41:44.409Z"
   },
   {
    "duration": 8,
    "start_time": "2023-02-22T07:41:44.421Z"
   },
   {
    "duration": 17,
    "start_time": "2023-02-22T07:41:44.431Z"
   },
   {
    "duration": 41,
    "start_time": "2023-02-22T07:41:44.449Z"
   },
   {
    "duration": 8,
    "start_time": "2023-02-22T07:41:44.492Z"
   },
   {
    "duration": 14,
    "start_time": "2023-02-22T07:41:44.502Z"
   },
   {
    "duration": 35,
    "start_time": "2023-02-22T07:41:44.517Z"
   },
   {
    "duration": 27,
    "start_time": "2023-02-22T07:41:44.553Z"
   },
   {
    "duration": 4,
    "start_time": "2023-02-22T07:41:44.582Z"
   },
   {
    "duration": 23,
    "start_time": "2023-02-22T07:41:44.588Z"
   },
   {
    "duration": 5,
    "start_time": "2023-02-22T07:41:44.612Z"
   },
   {
    "duration": 22,
    "start_time": "2023-02-22T07:41:44.618Z"
   },
   {
    "duration": 25,
    "start_time": "2023-02-22T07:41:44.642Z"
   },
   {
    "duration": 20,
    "start_time": "2023-02-22T07:41:44.669Z"
   },
   {
    "duration": 9,
    "start_time": "2023-02-22T07:41:44.691Z"
   },
   {
    "duration": 18,
    "start_time": "2023-02-22T07:41:44.702Z"
   },
   {
    "duration": 125,
    "start_time": "2023-02-22T07:41:44.722Z"
   },
   {
    "duration": 5,
    "start_time": "2023-02-22T07:41:44.849Z"
   },
   {
    "duration": 9,
    "start_time": "2023-02-22T07:41:44.856Z"
   },
   {
    "duration": 26,
    "start_time": "2023-02-22T07:41:44.866Z"
   },
   {
    "duration": 147,
    "start_time": "2023-02-22T07:41:44.894Z"
   },
   {
    "duration": 6,
    "start_time": "2023-02-22T07:41:45.043Z"
   },
   {
    "duration": 24,
    "start_time": "2023-02-22T07:41:45.051Z"
   },
   {
    "duration": 214,
    "start_time": "2023-02-22T07:41:45.076Z"
   },
   {
    "duration": 223,
    "start_time": "2023-02-22T07:41:45.291Z"
   },
   {
    "duration": 5,
    "start_time": "2023-02-22T07:41:45.517Z"
   },
   {
    "duration": 54,
    "start_time": "2023-02-22T07:41:45.524Z"
   },
   {
    "duration": 8,
    "start_time": "2023-02-22T07:41:45.580Z"
   },
   {
    "duration": 66,
    "start_time": "2023-02-22T07:41:45.590Z"
   },
   {
    "duration": 3,
    "start_time": "2023-02-22T07:41:45.658Z"
   },
   {
    "duration": 202,
    "start_time": "2023-02-22T07:41:45.663Z"
   },
   {
    "duration": 241,
    "start_time": "2023-02-22T07:41:45.867Z"
   },
   {
    "duration": 9,
    "start_time": "2023-02-22T07:41:46.109Z"
   },
   {
    "duration": 451,
    "start_time": "2023-02-22T07:41:46.119Z"
   },
   {
    "duration": 3,
    "start_time": "2023-02-22T07:41:46.571Z"
   },
   {
    "duration": 26,
    "start_time": "2023-02-22T07:41:46.575Z"
   },
   {
    "duration": 7,
    "start_time": "2023-02-22T07:41:46.602Z"
   },
   {
    "duration": 8,
    "start_time": "2023-02-22T07:41:46.610Z"
   },
   {
    "duration": 5,
    "start_time": "2023-02-22T07:41:46.619Z"
   },
   {
    "duration": 147,
    "start_time": "2023-02-22T07:41:46.626Z"
   },
   {
    "duration": 160,
    "start_time": "2023-02-22T07:41:46.774Z"
   },
   {
    "duration": 182,
    "start_time": "2023-02-22T07:41:46.938Z"
   },
   {
    "duration": 165,
    "start_time": "2023-02-22T07:41:47.122Z"
   },
   {
    "duration": 22,
    "start_time": "2023-02-22T07:41:47.289Z"
   },
   {
    "duration": 6,
    "start_time": "2023-02-22T07:41:47.313Z"
   },
   {
    "duration": 187,
    "start_time": "2023-02-22T07:41:47.321Z"
   },
   {
    "duration": 4,
    "start_time": "2023-02-22T07:41:47.509Z"
   },
   {
    "duration": 24,
    "start_time": "2023-02-22T07:41:47.515Z"
   },
   {
    "duration": 180,
    "start_time": "2023-02-22T07:41:47.541Z"
   },
   {
    "duration": 3,
    "start_time": "2023-02-22T07:41:47.722Z"
   },
   {
    "duration": 74,
    "start_time": "2023-02-22T07:45:22.465Z"
   },
   {
    "duration": 8,
    "start_time": "2023-02-22T07:45:34.044Z"
   },
   {
    "duration": 10,
    "start_time": "2023-02-22T07:46:29.721Z"
   },
   {
    "duration": 9,
    "start_time": "2023-02-22T07:46:44.271Z"
   },
   {
    "duration": 21,
    "start_time": "2023-02-22T07:48:50.701Z"
   },
   {
    "duration": 1766,
    "start_time": "2023-02-22T07:52:50.654Z"
   },
   {
    "duration": 47,
    "start_time": "2023-02-22T07:52:52.422Z"
   },
   {
    "duration": 18,
    "start_time": "2023-02-22T07:52:52.470Z"
   },
   {
    "duration": 37,
    "start_time": "2023-02-22T07:52:52.492Z"
   },
   {
    "duration": 79,
    "start_time": "2023-02-22T07:52:52.531Z"
   },
   {
    "duration": 2780,
    "start_time": "2023-02-22T07:52:52.613Z"
   },
   {
    "duration": 4,
    "start_time": "2023-02-22T07:52:55.395Z"
   },
   {
    "duration": 19,
    "start_time": "2023-02-22T07:52:55.401Z"
   },
   {
    "duration": 20,
    "start_time": "2023-02-22T07:52:55.422Z"
   },
   {
    "duration": 8,
    "start_time": "2023-02-22T07:52:55.444Z"
   },
   {
    "duration": 19,
    "start_time": "2023-02-22T07:52:55.453Z"
   },
   {
    "duration": 101,
    "start_time": "2023-02-22T07:52:55.474Z"
   },
   {
    "duration": 9,
    "start_time": "2023-02-22T07:52:55.578Z"
   },
   {
    "duration": 44,
    "start_time": "2023-02-22T07:52:55.589Z"
   },
   {
    "duration": 14,
    "start_time": "2023-02-22T07:52:55.634Z"
   },
   {
    "duration": 42,
    "start_time": "2023-02-22T07:52:55.650Z"
   },
   {
    "duration": 5,
    "start_time": "2023-02-22T07:52:55.695Z"
   },
   {
    "duration": 28,
    "start_time": "2023-02-22T07:52:55.702Z"
   },
   {
    "duration": 12,
    "start_time": "2023-02-22T07:52:55.732Z"
   },
   {
    "duration": 19,
    "start_time": "2023-02-22T07:52:55.745Z"
   },
   {
    "duration": 15,
    "start_time": "2023-02-22T07:52:55.766Z"
   },
   {
    "duration": 20,
    "start_time": "2023-02-22T07:52:55.783Z"
   },
   {
    "duration": 20,
    "start_time": "2023-02-22T07:52:55.805Z"
   },
   {
    "duration": 91,
    "start_time": "2023-02-22T07:52:55.827Z"
   },
   {
    "duration": 9,
    "start_time": "2023-02-22T07:52:55.921Z"
   },
   {
    "duration": 11,
    "start_time": "2023-02-22T07:52:55.932Z"
   },
   {
    "duration": 8,
    "start_time": "2023-02-22T07:52:55.945Z"
   },
   {
    "duration": 38,
    "start_time": "2023-02-22T07:52:55.960Z"
   },
   {
    "duration": 51,
    "start_time": "2023-02-22T07:52:56.001Z"
   },
   {
    "duration": 7,
    "start_time": "2023-02-22T07:52:56.054Z"
   },
   {
    "duration": 36,
    "start_time": "2023-02-22T07:52:56.063Z"
   },
   {
    "duration": 41,
    "start_time": "2023-02-22T07:52:56.101Z"
   },
   {
    "duration": 7,
    "start_time": "2023-02-22T07:52:56.144Z"
   },
   {
    "duration": 141,
    "start_time": "2023-02-22T07:52:56.152Z"
   },
   {
    "duration": 148,
    "start_time": "2023-02-22T07:52:56.295Z"
   },
   {
    "duration": 3,
    "start_time": "2023-02-22T07:52:56.445Z"
   },
   {
    "duration": 20,
    "start_time": "2023-02-22T07:52:56.449Z"
   },
   {
    "duration": 16,
    "start_time": "2023-02-22T07:52:56.471Z"
   },
   {
    "duration": 24,
    "start_time": "2023-02-22T07:52:56.489Z"
   },
   {
    "duration": 17,
    "start_time": "2023-02-22T07:52:56.515Z"
   },
   {
    "duration": 11,
    "start_time": "2023-02-22T07:52:56.533Z"
   },
   {
    "duration": 18,
    "start_time": "2023-02-22T07:52:56.545Z"
   },
   {
    "duration": 33,
    "start_time": "2023-02-22T07:52:56.565Z"
   },
   {
    "duration": 58,
    "start_time": "2023-02-22T07:52:56.600Z"
   },
   {
    "duration": 11,
    "start_time": "2023-02-22T07:52:56.660Z"
   },
   {
    "duration": 22,
    "start_time": "2023-02-22T07:52:56.674Z"
   },
   {
    "duration": 74,
    "start_time": "2023-02-22T07:52:56.699Z"
   },
   {
    "duration": 27,
    "start_time": "2023-02-22T07:52:56.775Z"
   },
   {
    "duration": 19,
    "start_time": "2023-02-22T07:52:56.803Z"
   },
   {
    "duration": 31,
    "start_time": "2023-02-22T07:52:56.824Z"
   },
   {
    "duration": 10,
    "start_time": "2023-02-22T07:52:56.857Z"
   },
   {
    "duration": 35,
    "start_time": "2023-02-22T07:52:56.869Z"
   },
   {
    "duration": 27,
    "start_time": "2023-02-22T07:52:56.906Z"
   },
   {
    "duration": 9,
    "start_time": "2023-02-22T07:52:56.935Z"
   },
   {
    "duration": 11,
    "start_time": "2023-02-22T07:52:56.946Z"
   },
   {
    "duration": 8,
    "start_time": "2023-02-22T07:52:56.958Z"
   },
   {
    "duration": 158,
    "start_time": "2023-02-22T07:52:56.967Z"
   },
   {
    "duration": 6,
    "start_time": "2023-02-22T07:52:57.127Z"
   },
   {
    "duration": 24,
    "start_time": "2023-02-22T07:52:57.135Z"
   },
   {
    "duration": 18,
    "start_time": "2023-02-22T07:52:57.161Z"
   },
   {
    "duration": 167,
    "start_time": "2023-02-22T07:52:57.181Z"
   },
   {
    "duration": 7,
    "start_time": "2023-02-22T07:52:57.349Z"
   },
   {
    "duration": 40,
    "start_time": "2023-02-22T07:52:57.358Z"
   },
   {
    "duration": 256,
    "start_time": "2023-02-22T07:52:57.400Z"
   },
   {
    "duration": 206,
    "start_time": "2023-02-22T07:52:57.658Z"
   },
   {
    "duration": 5,
    "start_time": "2023-02-22T07:52:57.865Z"
   },
   {
    "duration": 56,
    "start_time": "2023-02-22T07:52:57.873Z"
   },
   {
    "duration": 4,
    "start_time": "2023-02-22T07:52:57.931Z"
   },
   {
    "duration": 52,
    "start_time": "2023-02-22T07:52:57.936Z"
   },
   {
    "duration": 14,
    "start_time": "2023-02-22T07:52:57.990Z"
   },
   {
    "duration": 172,
    "start_time": "2023-02-22T07:52:58.006Z"
   },
   {
    "duration": 349,
    "start_time": "2023-02-22T07:52:58.180Z"
   },
   {
    "duration": 8,
    "start_time": "2023-02-22T07:52:58.531Z"
   },
   {
    "duration": 394,
    "start_time": "2023-02-22T07:52:58.540Z"
   },
   {
    "duration": 2,
    "start_time": "2023-02-22T07:52:58.936Z"
   },
   {
    "duration": 30,
    "start_time": "2023-02-22T07:52:58.940Z"
   },
   {
    "duration": 15,
    "start_time": "2023-02-22T07:52:58.972Z"
   },
   {
    "duration": 19,
    "start_time": "2023-02-22T07:52:58.989Z"
   },
   {
    "duration": 24,
    "start_time": "2023-02-22T07:52:59.010Z"
   },
   {
    "duration": 159,
    "start_time": "2023-02-22T07:52:59.035Z"
   },
   {
    "duration": 178,
    "start_time": "2023-02-22T07:52:59.196Z"
   },
   {
    "duration": 210,
    "start_time": "2023-02-22T07:52:59.385Z"
   },
   {
    "duration": 163,
    "start_time": "2023-02-22T07:52:59.597Z"
   },
   {
    "duration": 28,
    "start_time": "2023-02-22T07:52:59.761Z"
   },
   {
    "duration": 10,
    "start_time": "2023-02-22T07:52:59.791Z"
   },
   {
    "duration": 201,
    "start_time": "2023-02-22T07:52:59.802Z"
   },
   {
    "duration": 5,
    "start_time": "2023-02-22T07:53:00.005Z"
   },
   {
    "duration": 66,
    "start_time": "2023-02-22T07:53:00.011Z"
   },
   {
    "duration": 238,
    "start_time": "2023-02-22T07:53:00.079Z"
   },
   {
    "duration": 2,
    "start_time": "2023-02-22T07:53:00.319Z"
   },
   {
    "duration": 96,
    "start_time": "2023-02-22T07:53:56.513Z"
   },
   {
    "duration": 5,
    "start_time": "2023-02-22T07:55:32.930Z"
   },
   {
    "duration": 47,
    "start_time": "2023-02-23T10:57:16.226Z"
   },
   {
    "duration": 6,
    "start_time": "2023-02-23T10:57:17.383Z"
   },
   {
    "duration": 780,
    "start_time": "2023-02-23T10:57:22.445Z"
   },
   {
    "duration": 45,
    "start_time": "2023-02-23T10:57:23.228Z"
   },
   {
    "duration": 9,
    "start_time": "2023-02-23T10:57:23.275Z"
   },
   {
    "duration": 17,
    "start_time": "2023-02-23T10:57:23.287Z"
   },
   {
    "duration": 34,
    "start_time": "2023-02-23T10:57:23.306Z"
   },
   {
    "duration": 2404,
    "start_time": "2023-02-23T10:57:23.341Z"
   },
   {
    "duration": 5,
    "start_time": "2023-02-23T10:57:25.747Z"
   },
   {
    "duration": 7,
    "start_time": "2023-02-23T10:57:25.753Z"
   },
   {
    "duration": 6,
    "start_time": "2023-02-23T10:57:25.762Z"
   },
   {
    "duration": 4,
    "start_time": "2023-02-23T10:57:25.770Z"
   },
   {
    "duration": 12,
    "start_time": "2023-02-23T10:57:25.775Z"
   },
   {
    "duration": 60,
    "start_time": "2023-02-23T10:57:25.790Z"
   },
   {
    "duration": 3,
    "start_time": "2023-02-23T10:57:25.852Z"
   },
   {
    "duration": 29,
    "start_time": "2023-02-23T10:57:25.857Z"
   },
   {
    "duration": 4,
    "start_time": "2023-02-23T10:57:25.888Z"
   },
   {
    "duration": 40,
    "start_time": "2023-02-23T10:57:25.894Z"
   },
   {
    "duration": 5,
    "start_time": "2023-02-23T10:57:25.936Z"
   },
   {
    "duration": 10,
    "start_time": "2023-02-23T10:57:25.942Z"
   },
   {
    "duration": 5,
    "start_time": "2023-02-23T10:57:25.954Z"
   },
   {
    "duration": 14,
    "start_time": "2023-02-23T10:57:25.960Z"
   },
   {
    "duration": 7,
    "start_time": "2023-02-23T10:57:25.976Z"
   },
   {
    "duration": 7,
    "start_time": "2023-02-23T10:57:25.984Z"
   },
   {
    "duration": 33,
    "start_time": "2023-02-23T10:57:25.993Z"
   },
   {
    "duration": 65,
    "start_time": "2023-02-23T10:57:26.028Z"
   },
   {
    "duration": 6,
    "start_time": "2023-02-23T10:57:26.095Z"
   },
   {
    "duration": 5,
    "start_time": "2023-02-23T10:57:26.120Z"
   },
   {
    "duration": 5,
    "start_time": "2023-02-23T10:57:26.126Z"
   },
   {
    "duration": 15,
    "start_time": "2023-02-23T10:57:26.135Z"
   },
   {
    "duration": 44,
    "start_time": "2023-02-23T10:57:26.151Z"
   },
   {
    "duration": 6,
    "start_time": "2023-02-23T10:57:26.220Z"
   },
   {
    "duration": 17,
    "start_time": "2023-02-23T10:57:26.228Z"
   },
   {
    "duration": 17,
    "start_time": "2023-02-23T10:57:26.247Z"
   },
   {
    "duration": 95,
    "start_time": "2023-02-23T10:57:26.266Z"
   },
   {
    "duration": 6,
    "start_time": "2023-02-23T10:57:26.363Z"
   },
   {
    "duration": 212,
    "start_time": "2023-02-23T10:57:26.370Z"
   },
   {
    "duration": 70,
    "start_time": "2023-02-23T10:57:26.584Z"
   },
   {
    "duration": 3,
    "start_time": "2023-02-23T10:57:26.656Z"
   },
   {
    "duration": 15,
    "start_time": "2023-02-23T10:57:26.660Z"
   },
   {
    "duration": 8,
    "start_time": "2023-02-23T10:57:26.677Z"
   },
   {
    "duration": 15,
    "start_time": "2023-02-23T10:57:26.687Z"
   },
   {
    "duration": 21,
    "start_time": "2023-02-23T10:57:26.703Z"
   },
   {
    "duration": 4,
    "start_time": "2023-02-23T10:57:26.726Z"
   },
   {
    "duration": 10,
    "start_time": "2023-02-23T10:57:26.732Z"
   },
   {
    "duration": 17,
    "start_time": "2023-02-23T10:57:26.743Z"
   },
   {
    "duration": 66,
    "start_time": "2023-02-23T10:57:26.762Z"
   },
   {
    "duration": 11,
    "start_time": "2023-02-23T10:57:26.830Z"
   },
   {
    "duration": 5,
    "start_time": "2023-02-23T10:57:26.842Z"
   },
   {
    "duration": 36,
    "start_time": "2023-02-23T10:57:26.848Z"
   },
   {
    "duration": 44,
    "start_time": "2023-02-23T10:57:26.886Z"
   },
   {
    "duration": 4,
    "start_time": "2023-02-23T10:57:26.932Z"
   },
   {
    "duration": 23,
    "start_time": "2023-02-23T10:57:26.937Z"
   },
   {
    "duration": 3,
    "start_time": "2023-02-23T10:57:26.962Z"
   },
   {
    "duration": 10,
    "start_time": "2023-02-23T10:57:26.967Z"
   },
   {
    "duration": 51,
    "start_time": "2023-02-23T10:57:26.979Z"
   },
   {
    "duration": 8,
    "start_time": "2023-02-23T10:57:27.032Z"
   },
   {
    "duration": 8,
    "start_time": "2023-02-23T10:57:27.042Z"
   },
   {
    "duration": 8,
    "start_time": "2023-02-23T10:57:27.052Z"
   },
   {
    "duration": 174,
    "start_time": "2023-02-23T10:57:27.062Z"
   },
   {
    "duration": 6,
    "start_time": "2023-02-23T10:57:27.238Z"
   },
   {
    "duration": 7,
    "start_time": "2023-02-23T10:57:27.245Z"
   },
   {
    "duration": 16,
    "start_time": "2023-02-23T10:57:27.254Z"
   },
   {
    "duration": 171,
    "start_time": "2023-02-23T10:57:27.272Z"
   },
   {
    "duration": 6,
    "start_time": "2023-02-23T10:57:27.445Z"
   },
   {
    "duration": 12,
    "start_time": "2023-02-23T10:57:27.453Z"
   },
   {
    "duration": 230,
    "start_time": "2023-02-23T10:57:27.467Z"
   },
   {
    "duration": 215,
    "start_time": "2023-02-23T10:57:27.700Z"
   },
   {
    "duration": 5,
    "start_time": "2023-02-23T10:57:27.920Z"
   },
   {
    "duration": 32,
    "start_time": "2023-02-23T10:57:27.927Z"
   },
   {
    "duration": 4,
    "start_time": "2023-02-23T10:57:27.960Z"
   },
   {
    "duration": 57,
    "start_time": "2023-02-23T10:57:27.965Z"
   },
   {
    "duration": 2,
    "start_time": "2023-02-23T10:57:28.023Z"
   },
   {
    "duration": 254,
    "start_time": "2023-02-23T10:57:28.027Z"
   },
   {
    "duration": 270,
    "start_time": "2023-02-23T10:57:28.283Z"
   },
   {
    "duration": 10,
    "start_time": "2023-02-23T10:57:28.555Z"
   },
   {
    "duration": 390,
    "start_time": "2023-02-23T10:57:28.567Z"
   },
   {
    "duration": 3,
    "start_time": "2023-02-23T10:57:28.958Z"
   },
   {
    "duration": 36,
    "start_time": "2023-02-23T10:57:28.962Z"
   },
   {
    "duration": 7,
    "start_time": "2023-02-23T10:57:29.000Z"
   },
   {
    "duration": 12,
    "start_time": "2023-02-23T10:57:29.009Z"
   },
   {
    "duration": 5,
    "start_time": "2023-02-23T10:57:29.023Z"
   },
   {
    "duration": 154,
    "start_time": "2023-02-23T10:57:29.030Z"
   },
   {
    "duration": 170,
    "start_time": "2023-02-23T10:57:29.189Z"
   },
   {
    "duration": 207,
    "start_time": "2023-02-23T10:57:29.361Z"
   },
   {
    "duration": 165,
    "start_time": "2023-02-23T10:57:29.570Z"
   },
   {
    "duration": 22,
    "start_time": "2023-02-23T10:57:29.737Z"
   },
   {
    "duration": 3,
    "start_time": "2023-02-23T10:57:29.760Z"
   },
   {
    "duration": 182,
    "start_time": "2023-02-23T10:57:29.764Z"
   },
   {
    "duration": 4,
    "start_time": "2023-02-23T10:57:29.947Z"
   },
   {
    "duration": 13,
    "start_time": "2023-02-23T10:57:29.953Z"
   },
   {
    "duration": 169,
    "start_time": "2023-02-23T10:57:29.968Z"
   },
   {
    "duration": 2,
    "start_time": "2023-02-23T10:57:30.139Z"
   },
   {
    "duration": 7,
    "start_time": "2023-02-23T11:04:52.362Z"
   },
   {
    "duration": 90,
    "start_time": "2023-02-23T11:04:54.820Z"
   },
   {
    "duration": 16,
    "start_time": "2023-02-23T11:11:34.008Z"
   },
   {
    "duration": 70,
    "start_time": "2023-02-23T11:29:04.757Z"
   },
   {
    "duration": 125,
    "start_time": "2023-02-23T11:29:17.571Z"
   },
   {
    "duration": 378,
    "start_time": "2023-02-23T11:33:35.703Z"
   },
   {
    "duration": 290,
    "start_time": "2023-02-23T11:36:57.518Z"
   },
   {
    "duration": 261,
    "start_time": "2023-02-23T11:37:23.848Z"
   },
   {
    "duration": 295,
    "start_time": "2023-02-23T11:41:24.410Z"
   },
   {
    "duration": 271,
    "start_time": "2023-02-23T11:41:41.300Z"
   },
   {
    "duration": 284,
    "start_time": "2023-02-23T11:41:53.720Z"
   },
   {
    "duration": 324,
    "start_time": "2023-02-23T11:45:58.187Z"
   },
   {
    "duration": 287,
    "start_time": "2023-02-23T11:46:47.432Z"
   },
   {
    "duration": 293,
    "start_time": "2023-02-23T11:47:16.634Z"
   },
   {
    "duration": 17,
    "start_time": "2023-02-23T11:51:54.008Z"
   },
   {
    "duration": 321,
    "start_time": "2023-02-23T11:52:42.851Z"
   },
   {
    "duration": 285,
    "start_time": "2023-02-23T11:52:53.141Z"
   },
   {
    "duration": 17,
    "start_time": "2023-02-23T11:54:51.668Z"
   },
   {
    "duration": 12,
    "start_time": "2023-02-23T11:55:07.452Z"
   },
   {
    "duration": 13,
    "start_time": "2023-02-23T11:57:48.189Z"
   },
   {
    "duration": 156,
    "start_time": "2023-02-23T11:59:00.392Z"
   },
   {
    "duration": 87,
    "start_time": "2023-02-23T11:59:48.975Z"
   },
   {
    "duration": 159,
    "start_time": "2023-02-23T12:00:02.951Z"
   },
   {
    "duration": 13,
    "start_time": "2023-02-23T12:01:53.915Z"
   },
   {
    "duration": 110,
    "start_time": "2023-02-23T12:06:21.243Z"
   },
   {
    "duration": 26,
    "start_time": "2023-02-23T12:27:52.780Z"
   },
   {
    "duration": 13,
    "start_time": "2023-02-23T12:28:27.754Z"
   },
   {
    "duration": 12,
    "start_time": "2023-02-23T12:29:16.548Z"
   },
   {
    "duration": 11,
    "start_time": "2023-02-23T12:29:30.669Z"
   },
   {
    "duration": 11,
    "start_time": "2023-02-23T12:30:41.296Z"
   },
   {
    "duration": 12,
    "start_time": "2023-02-23T12:31:42.608Z"
   },
   {
    "duration": 15,
    "start_time": "2023-02-23T12:32:03.451Z"
   },
   {
    "duration": 180,
    "start_time": "2023-02-23T12:33:30.937Z"
   },
   {
    "duration": 186,
    "start_time": "2023-02-23T12:35:39.050Z"
   },
   {
    "duration": 12,
    "start_time": "2023-02-23T12:36:47.770Z"
   },
   {
    "duration": 324,
    "start_time": "2023-02-23T12:39:37.350Z"
   },
   {
    "duration": 234,
    "start_time": "2023-02-23T12:41:24.710Z"
   },
   {
    "duration": 179,
    "start_time": "2023-02-23T12:41:53.742Z"
   },
   {
    "duration": 7,
    "start_time": "2023-02-23T12:46:13.180Z"
   },
   {
    "duration": 169,
    "start_time": "2023-02-23T12:46:51.716Z"
   },
   {
    "duration": 21,
    "start_time": "2023-02-23T12:47:42.636Z"
   },
   {
    "duration": 20,
    "start_time": "2023-02-23T12:48:00.367Z"
   },
   {
    "duration": 11,
    "start_time": "2023-02-23T12:49:05.438Z"
   },
   {
    "duration": 164,
    "start_time": "2023-02-23T12:49:12.710Z"
   },
   {
    "duration": 10,
    "start_time": "2023-02-23T12:49:55.302Z"
   },
   {
    "duration": 137,
    "start_time": "2023-02-23T12:50:02.976Z"
   },
   {
    "duration": 141,
    "start_time": "2023-02-23T12:50:33.277Z"
   },
   {
    "duration": 145,
    "start_time": "2023-02-23T12:51:25.853Z"
   },
   {
    "duration": 184,
    "start_time": "2023-02-23T12:51:44.391Z"
   },
   {
    "duration": 6,
    "start_time": "2023-02-23T12:54:51.391Z"
   },
   {
    "duration": 9,
    "start_time": "2023-02-23T12:55:17.934Z"
   },
   {
    "duration": 9,
    "start_time": "2023-02-23T12:55:23.385Z"
   },
   {
    "duration": 619,
    "start_time": "2023-02-23T12:57:42.134Z"
   },
   {
    "duration": 6,
    "start_time": "2023-02-23T12:57:43.190Z"
   },
   {
    "duration": 44,
    "start_time": "2023-02-23T12:57:44.071Z"
   },
   {
    "duration": 7,
    "start_time": "2023-02-23T12:58:24.458Z"
   },
   {
    "duration": 219,
    "start_time": "2023-02-23T12:58:25.749Z"
   },
   {
    "duration": 168,
    "start_time": "2023-02-23T13:00:42.533Z"
   },
   {
    "duration": 148,
    "start_time": "2023-02-23T13:02:15.782Z"
   },
   {
    "duration": 20,
    "start_time": "2023-02-23T13:03:37.449Z"
   },
   {
    "duration": 41,
    "start_time": "2023-02-23T13:04:33.821Z"
   },
   {
    "duration": 8,
    "start_time": "2023-02-23T13:05:11.028Z"
   },
   {
    "duration": 207,
    "start_time": "2023-02-23T13:05:13.641Z"
   },
   {
    "duration": 185,
    "start_time": "2023-02-23T13:05:15.563Z"
   },
   {
    "duration": 9,
    "start_time": "2023-02-23T13:05:16.465Z"
   },
   {
    "duration": 153,
    "start_time": "2023-02-23T13:05:17.634Z"
   },
   {
    "duration": 35,
    "start_time": "2023-02-23T13:05:18.853Z"
   },
   {
    "duration": 213,
    "start_time": "2023-02-23T13:06:01.937Z"
   },
   {
    "duration": 195,
    "start_time": "2023-02-23T13:06:59.656Z"
   },
   {
    "duration": 205,
    "start_time": "2023-02-23T13:07:15.786Z"
   },
   {
    "duration": 196,
    "start_time": "2023-02-23T13:09:54.076Z"
   },
   {
    "duration": 191,
    "start_time": "2023-02-23T13:10:10.838Z"
   },
   {
    "duration": 327,
    "start_time": "2023-02-23T13:11:32.875Z"
   },
   {
    "duration": 1307,
    "start_time": "2023-02-23T13:12:41.291Z"
   },
   {
    "duration": 533,
    "start_time": "2023-02-23T13:13:24.238Z"
   },
   {
    "duration": 3,
    "start_time": "2023-02-23T13:13:35.973Z"
   },
   {
    "duration": 29,
    "start_time": "2023-02-23T13:13:37.401Z"
   },
   {
    "duration": 187,
    "start_time": "2023-02-23T13:16:42.212Z"
   },
   {
    "duration": 182,
    "start_time": "2023-02-23T14:41:23.699Z"
   },
   {
    "duration": 178,
    "start_time": "2023-02-23T14:41:33.730Z"
   },
   {
    "duration": 182,
    "start_time": "2023-02-23T14:41:40.469Z"
   },
   {
    "duration": 1292,
    "start_time": "2023-02-23T14:42:28.636Z"
   },
   {
    "duration": 186,
    "start_time": "2023-02-23T14:42:39.342Z"
   },
   {
    "duration": 171,
    "start_time": "2023-02-23T14:43:11.204Z"
   },
   {
    "duration": 783,
    "start_time": "2023-02-24T05:08:09.617Z"
   },
   {
    "duration": 46,
    "start_time": "2023-02-24T05:08:10.402Z"
   },
   {
    "duration": 11,
    "start_time": "2023-02-24T05:08:10.450Z"
   },
   {
    "duration": 17,
    "start_time": "2023-02-24T05:08:10.463Z"
   },
   {
    "duration": 27,
    "start_time": "2023-02-24T05:08:10.482Z"
   },
   {
    "duration": 2324,
    "start_time": "2023-02-24T05:08:10.511Z"
   },
   {
    "duration": 4,
    "start_time": "2023-02-24T05:08:12.837Z"
   },
   {
    "duration": 8,
    "start_time": "2023-02-24T05:08:12.843Z"
   },
   {
    "duration": 4,
    "start_time": "2023-02-24T05:08:12.853Z"
   },
   {
    "duration": 4,
    "start_time": "2023-02-24T05:08:12.859Z"
   },
   {
    "duration": 12,
    "start_time": "2023-02-24T05:08:12.864Z"
   },
   {
    "duration": 78,
    "start_time": "2023-02-24T05:08:12.878Z"
   },
   {
    "duration": 2,
    "start_time": "2023-02-24T05:08:12.958Z"
   },
   {
    "duration": 27,
    "start_time": "2023-02-24T05:08:12.962Z"
   },
   {
    "duration": 5,
    "start_time": "2023-02-24T05:08:12.991Z"
   },
   {
    "duration": 26,
    "start_time": "2023-02-24T05:08:12.998Z"
   },
   {
    "duration": 22,
    "start_time": "2023-02-24T05:08:13.026Z"
   },
   {
    "duration": 9,
    "start_time": "2023-02-24T05:08:13.050Z"
   },
   {
    "duration": 4,
    "start_time": "2023-02-24T05:08:13.061Z"
   },
   {
    "duration": 10,
    "start_time": "2023-02-24T05:08:13.066Z"
   },
   {
    "duration": 7,
    "start_time": "2023-02-24T05:08:13.078Z"
   },
   {
    "duration": 6,
    "start_time": "2023-02-24T05:08:13.086Z"
   },
   {
    "duration": 8,
    "start_time": "2023-02-24T05:08:13.094Z"
   },
   {
    "duration": 104,
    "start_time": "2023-02-24T05:08:13.104Z"
   },
   {
    "duration": 5,
    "start_time": "2023-02-24T05:08:13.210Z"
   },
   {
    "duration": 6,
    "start_time": "2023-02-24T05:08:13.216Z"
   },
   {
    "duration": 5,
    "start_time": "2023-02-24T05:08:13.223Z"
   },
   {
    "duration": 15,
    "start_time": "2023-02-24T05:08:13.247Z"
   },
   {
    "duration": 44,
    "start_time": "2023-02-24T05:08:13.264Z"
   },
   {
    "duration": 5,
    "start_time": "2023-02-24T05:08:13.310Z"
   },
   {
    "duration": 35,
    "start_time": "2023-02-24T05:08:13.316Z"
   },
   {
    "duration": 17,
    "start_time": "2023-02-24T05:08:13.353Z"
   },
   {
    "duration": 6,
    "start_time": "2023-02-24T05:08:13.371Z"
   },
   {
    "duration": 6,
    "start_time": "2023-02-24T05:08:13.378Z"
   },
   {
    "duration": 86,
    "start_time": "2023-02-24T05:08:13.386Z"
   },
   {
    "duration": 5,
    "start_time": "2023-02-24T05:08:13.474Z"
   },
   {
    "duration": 203,
    "start_time": "2023-02-24T05:08:13.481Z"
   },
   {
    "duration": 71,
    "start_time": "2023-02-24T05:08:13.686Z"
   },
   {
    "duration": 2,
    "start_time": "2023-02-24T05:08:13.759Z"
   },
   {
    "duration": 16,
    "start_time": "2023-02-24T05:08:13.762Z"
   },
   {
    "duration": 5,
    "start_time": "2023-02-24T05:08:13.779Z"
   },
   {
    "duration": 15,
    "start_time": "2023-02-24T05:08:13.785Z"
   },
   {
    "duration": 5,
    "start_time": "2023-02-24T05:08:13.802Z"
   },
   {
    "duration": 8,
    "start_time": "2023-02-24T05:08:13.808Z"
   },
   {
    "duration": 31,
    "start_time": "2023-02-24T05:08:13.818Z"
   },
   {
    "duration": 15,
    "start_time": "2023-02-24T05:08:13.851Z"
   },
   {
    "duration": 56,
    "start_time": "2023-02-24T05:08:13.869Z"
   },
   {
    "duration": 28,
    "start_time": "2023-02-24T05:08:13.927Z"
   },
   {
    "duration": 5,
    "start_time": "2023-02-24T05:08:13.957Z"
   },
   {
    "duration": 51,
    "start_time": "2023-02-24T05:08:13.964Z"
   },
   {
    "duration": 33,
    "start_time": "2023-02-24T05:08:14.017Z"
   },
   {
    "duration": 7,
    "start_time": "2023-02-24T05:08:14.052Z"
   },
   {
    "duration": 23,
    "start_time": "2023-02-24T05:08:14.060Z"
   },
   {
    "duration": 4,
    "start_time": "2023-02-24T05:08:14.085Z"
   },
   {
    "duration": 10,
    "start_time": "2023-02-24T05:08:14.091Z"
   },
   {
    "duration": 55,
    "start_time": "2023-02-24T05:08:14.103Z"
   },
   {
    "duration": 9,
    "start_time": "2023-02-24T05:08:14.160Z"
   },
   {
    "duration": 16,
    "start_time": "2023-02-24T05:08:14.171Z"
   },
   {
    "duration": 9,
    "start_time": "2023-02-24T05:08:14.188Z"
   },
   {
    "duration": 159,
    "start_time": "2023-02-24T05:08:14.199Z"
   },
   {
    "duration": 6,
    "start_time": "2023-02-24T05:08:14.360Z"
   },
   {
    "duration": 6,
    "start_time": "2023-02-24T05:08:14.368Z"
   },
   {
    "duration": 12,
    "start_time": "2023-02-24T05:08:14.375Z"
   },
   {
    "duration": 172,
    "start_time": "2023-02-24T05:08:14.389Z"
   },
   {
    "duration": 7,
    "start_time": "2023-02-24T05:08:14.564Z"
   },
   {
    "duration": 12,
    "start_time": "2023-02-24T05:08:14.572Z"
   },
   {
    "duration": 228,
    "start_time": "2023-02-24T05:08:14.586Z"
   },
   {
    "duration": 201,
    "start_time": "2023-02-24T05:08:14.816Z"
   },
   {
    "duration": 3,
    "start_time": "2023-02-24T05:08:15.019Z"
   },
   {
    "duration": 254,
    "start_time": "2023-02-24T05:08:15.024Z"
   },
   {
    "duration": 6,
    "start_time": "2023-02-24T05:08:15.280Z"
   },
   {
    "duration": 59,
    "start_time": "2023-02-24T05:08:15.287Z"
   },
   {
    "duration": 5,
    "start_time": "2023-02-24T05:08:15.348Z"
   },
   {
    "duration": 74,
    "start_time": "2023-02-24T05:08:15.356Z"
   },
   {
    "duration": 3,
    "start_time": "2023-02-24T05:08:15.432Z"
   },
   {
    "duration": 307,
    "start_time": "2023-02-24T05:08:15.437Z"
   },
   {
    "duration": 287,
    "start_time": "2023-02-24T05:08:15.746Z"
   },
   {
    "duration": 289,
    "start_time": "2023-02-24T05:08:16.035Z"
   },
   {
    "duration": 174,
    "start_time": "2023-02-24T05:08:16.326Z"
   },
   {
    "duration": 162,
    "start_time": "2023-02-24T05:08:16.502Z"
   },
   {
    "duration": 158,
    "start_time": "2023-02-24T05:08:16.666Z"
   },
   {
    "duration": 404,
    "start_time": "2023-02-24T05:08:16.830Z"
   },
   {
    "duration": 14,
    "start_time": "2023-02-24T05:08:17.235Z"
   },
   {
    "duration": 11,
    "start_time": "2023-02-24T05:08:17.251Z"
   },
   {
    "duration": 13,
    "start_time": "2023-02-24T05:08:17.264Z"
   },
   {
    "duration": 14,
    "start_time": "2023-02-24T05:08:17.279Z"
   },
   {
    "duration": 10,
    "start_time": "2023-02-24T05:08:17.295Z"
   },
   {
    "duration": 297,
    "start_time": "2023-02-24T05:08:17.307Z"
   },
   {
    "duration": 187,
    "start_time": "2023-02-24T05:08:17.606Z"
   },
   {
    "duration": 597,
    "start_time": "2023-02-24T05:08:17.795Z"
   },
   {
    "duration": 5,
    "start_time": "2023-02-24T05:08:18.394Z"
   },
   {
    "duration": 223,
    "start_time": "2023-02-24T05:08:18.400Z"
   },
   {
    "duration": 171,
    "start_time": "2023-02-24T05:08:18.626Z"
   },
   {
    "duration": 8,
    "start_time": "2023-02-24T05:08:18.799Z"
   },
   {
    "duration": 141,
    "start_time": "2023-02-24T05:08:18.809Z"
   },
   {
    "duration": 205,
    "start_time": "2023-02-24T05:08:18.951Z"
   },
   {
    "duration": 183,
    "start_time": "2023-02-24T05:08:19.158Z"
   },
   {
    "duration": 190,
    "start_time": "2023-02-24T05:08:19.342Z"
   },
   {
    "duration": 2,
    "start_time": "2023-02-24T05:08:19.534Z"
   },
   {
    "duration": 28,
    "start_time": "2023-02-24T05:08:19.538Z"
   },
   {
    "duration": 7,
    "start_time": "2023-02-24T05:08:19.568Z"
   },
   {
    "duration": 6,
    "start_time": "2023-02-24T05:08:19.577Z"
   },
   {
    "duration": 203,
    "start_time": "2023-02-24T05:08:19.584Z"
   },
   {
    "duration": 217,
    "start_time": "2023-02-24T05:08:19.789Z"
   },
   {
    "duration": 199,
    "start_time": "2023-02-24T05:08:20.007Z"
   },
   {
    "duration": 6,
    "start_time": "2023-02-24T05:08:20.208Z"
   },
   {
    "duration": 169,
    "start_time": "2023-02-24T05:08:20.217Z"
   },
   {
    "duration": 211,
    "start_time": "2023-02-24T05:08:20.388Z"
   },
   {
    "duration": 219,
    "start_time": "2023-02-24T05:08:20.601Z"
   },
   {
    "duration": 165,
    "start_time": "2023-02-24T05:08:20.822Z"
   },
   {
    "duration": 163,
    "start_time": "2023-02-24T05:08:20.989Z"
   },
   {
    "duration": 168,
    "start_time": "2023-02-24T05:08:21.154Z"
   },
   {
    "duration": 288,
    "start_time": "2023-02-24T05:08:21.323Z"
   },
   {
    "duration": 35,
    "start_time": "2023-02-24T05:08:21.613Z"
   },
   {
    "duration": 2,
    "start_time": "2023-02-24T05:08:21.650Z"
   },
   {
    "duration": 175,
    "start_time": "2023-02-24T05:08:21.654Z"
   },
   {
    "duration": 4,
    "start_time": "2023-02-24T05:08:21.831Z"
   },
   {
    "duration": 24,
    "start_time": "2023-02-24T05:08:21.837Z"
   },
   {
    "duration": 175,
    "start_time": "2023-02-24T05:08:21.863Z"
   },
   {
    "duration": 8,
    "start_time": "2023-02-24T05:08:22.040Z"
   },
   {
    "duration": 6,
    "start_time": "2023-02-24T05:23:21.082Z"
   },
   {
    "duration": 117,
    "start_time": "2023-02-24T05:23:37.613Z"
   },
   {
    "duration": 88,
    "start_time": "2023-02-24T05:24:09.030Z"
   },
   {
    "duration": 6,
    "start_time": "2023-02-24T06:03:48.951Z"
   },
   {
    "duration": 7,
    "start_time": "2023-02-24T06:04:22.433Z"
   },
   {
    "duration": 173,
    "start_time": "2023-02-24T06:04:45.427Z"
   },
   {
    "duration": 78,
    "start_time": "2023-03-18T09:04:37.514Z"
   },
   {
    "duration": 94,
    "start_time": "2023-03-18T19:16:38.608Z"
   },
   {
    "duration": 659,
    "start_time": "2023-05-08T13:51:58.010Z"
   },
   {
    "duration": 45,
    "start_time": "2023-05-08T13:52:00.714Z"
   }
  ],
  "kernelspec": {
   "display_name": "Python 3 (ipykernel)",
   "language": "python",
   "name": "python3"
  },
  "language_info": {
   "codemirror_mode": {
    "name": "ipython",
    "version": 3
   },
   "file_extension": ".py",
   "mimetype": "text/x-python",
   "name": "python",
   "nbconvert_exporter": "python",
   "pygments_lexer": "ipython3",
   "version": "3.9.5"
  },
  "toc": {
   "base_numbering": 1,
   "nav_menu": {},
   "number_sections": true,
   "sideBar": true,
   "skip_h1_title": true,
   "title_cell": "Table of Contents",
   "title_sidebar": "Contents",
   "toc_cell": false,
   "toc_position": {},
   "toc_section_display": true,
   "toc_window_display": false
  }
 },
 "nbformat": 4,
 "nbformat_minor": 2
}
