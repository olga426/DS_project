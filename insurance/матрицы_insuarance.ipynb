{
 "cells": [
  {
   "cell_type": "markdown",
   "metadata": {},
   "source": [
    "# Анализ клиентов страховой компании"
   ]
  },
  {
   "cell_type": "markdown",
   "metadata": {
    "toc": true
   },
   "source": [
    "<h1>Содержание<span class=\"tocSkip\"></span></h1>\n",
    "<div class=\"toc\"><ul class=\"toc-item\"><li><span><a href=\"#Загрузка-данных\" data-toc-modified-id=\"Загрузка-данных-1\"><span class=\"toc-item-num\">1&nbsp;&nbsp;</span>Загрузка данных</a></span></li><li><span><a href=\"#Умножение-матриц\" data-toc-modified-id=\"Умножение-матриц-2\"><span class=\"toc-item-num\">2&nbsp;&nbsp;</span>Умножение матриц</a></span></li><li><span><a href=\"#Алгоритм-преобразования\" data-toc-modified-id=\"Алгоритм-преобразования-3\"><span class=\"toc-item-num\">3&nbsp;&nbsp;</span>Алгоритм преобразования</a></span></li><li><span><a href=\"#Проверка-алгоритма\" data-toc-modified-id=\"Проверка-алгоритма-4\"><span class=\"toc-item-num\">4&nbsp;&nbsp;</span>Проверка алгоритма</a></span></li><li><span><a href=\"#Чек-лист-проверки\" data-toc-modified-id=\"Чек-лист-проверки-5\"><span class=\"toc-item-num\">5&nbsp;&nbsp;</span>Чек-лист проверки</a></span></li></ul></div>"
   ]
  },
  {
   "cell_type": "markdown",
   "metadata": {},
   "source": [
    "# Защита персональных данных клиентов"
   ]
  },
  {
   "cell_type": "markdown",
   "metadata": {},
   "source": [
    "Вам нужно защитить данные клиентов страховой компании «Хоть потоп». Разработайте такой метод преобразования данных, чтобы по ним было сложно восстановить персональную информацию. Обоснуйте корректность его работы.\n",
    "\n",
    "Нужно защитить данные, чтобы при преобразовании качество моделей машинного обучения не ухудшилось. Подбирать наилучшую модель не требуется."
   ]
  },
  {
   "cell_type": "markdown",
   "metadata": {},
   "source": [
    "## Загрузка данных"
   ]
  },
  {
   "cell_type": "code",
   "execution_count": 1,
   "metadata": {},
   "outputs": [],
   "source": [
    "import pandas as pd\n",
    "import numpy as np\n",
    "from sklearn.model_selection import train_test_split\n",
    "from sklearn.preprocessing import StandardScaler\n",
    "from sklearn.pipeline import Pipeline\n",
    "from sklearn.linear_model import LinearRegression\n",
    "from sklearn.metrics import r2_score"
   ]
  },
  {
   "cell_type": "code",
   "execution_count": 2,
   "metadata": {},
   "outputs": [],
   "source": [
    "insurance = pd.read_csv('/datasets/insurance.csv')"
   ]
  },
  {
   "cell_type": "code",
   "execution_count": 3,
   "metadata": {
    "scrolled": true
   },
   "outputs": [
    {
     "name": "stdout",
     "output_type": "stream",
     "text": [
      "<class 'pandas.core.frame.DataFrame'>\n",
      "RangeIndex: 5000 entries, 0 to 4999\n",
      "Data columns (total 5 columns):\n",
      " #   Column             Non-Null Count  Dtype  \n",
      "---  ------             --------------  -----  \n",
      " 0   Пол                5000 non-null   int64  \n",
      " 1   Возраст            5000 non-null   float64\n",
      " 2   Зарплата           5000 non-null   float64\n",
      " 3   Члены семьи        5000 non-null   int64  \n",
      " 4   Страховые выплаты  5000 non-null   int64  \n",
      "dtypes: float64(2), int64(3)\n",
      "memory usage: 195.4 KB\n"
     ]
    }
   ],
   "source": [
    "insurance.info()"
   ]
  },
  {
   "cell_type": "code",
   "execution_count": 4,
   "metadata": {},
   "outputs": [
    {
     "data": {
      "text/html": [
       "<div>\n",
       "<style scoped>\n",
       "    .dataframe tbody tr th:only-of-type {\n",
       "        vertical-align: middle;\n",
       "    }\n",
       "\n",
       "    .dataframe tbody tr th {\n",
       "        vertical-align: top;\n",
       "    }\n",
       "\n",
       "    .dataframe thead th {\n",
       "        text-align: right;\n",
       "    }\n",
       "</style>\n",
       "<table border=\"1\" class=\"dataframe\">\n",
       "  <thead>\n",
       "    <tr style=\"text-align: right;\">\n",
       "      <th></th>\n",
       "      <th>Пол</th>\n",
       "      <th>Возраст</th>\n",
       "      <th>Зарплата</th>\n",
       "      <th>Члены семьи</th>\n",
       "      <th>Страховые выплаты</th>\n",
       "    </tr>\n",
       "  </thead>\n",
       "  <tbody>\n",
       "    <tr>\n",
       "      <th>0</th>\n",
       "      <td>1</td>\n",
       "      <td>41.0</td>\n",
       "      <td>49600.0</td>\n",
       "      <td>1</td>\n",
       "      <td>0</td>\n",
       "    </tr>\n",
       "    <tr>\n",
       "      <th>1</th>\n",
       "      <td>0</td>\n",
       "      <td>46.0</td>\n",
       "      <td>38000.0</td>\n",
       "      <td>1</td>\n",
       "      <td>1</td>\n",
       "    </tr>\n",
       "    <tr>\n",
       "      <th>2</th>\n",
       "      <td>0</td>\n",
       "      <td>29.0</td>\n",
       "      <td>21000.0</td>\n",
       "      <td>0</td>\n",
       "      <td>0</td>\n",
       "    </tr>\n",
       "    <tr>\n",
       "      <th>3</th>\n",
       "      <td>0</td>\n",
       "      <td>21.0</td>\n",
       "      <td>41700.0</td>\n",
       "      <td>2</td>\n",
       "      <td>0</td>\n",
       "    </tr>\n",
       "    <tr>\n",
       "      <th>4</th>\n",
       "      <td>1</td>\n",
       "      <td>28.0</td>\n",
       "      <td>26100.0</td>\n",
       "      <td>0</td>\n",
       "      <td>0</td>\n",
       "    </tr>\n",
       "    <tr>\n",
       "      <th>5</th>\n",
       "      <td>1</td>\n",
       "      <td>43.0</td>\n",
       "      <td>41000.0</td>\n",
       "      <td>2</td>\n",
       "      <td>1</td>\n",
       "    </tr>\n",
       "    <tr>\n",
       "      <th>6</th>\n",
       "      <td>1</td>\n",
       "      <td>39.0</td>\n",
       "      <td>39700.0</td>\n",
       "      <td>2</td>\n",
       "      <td>0</td>\n",
       "    </tr>\n",
       "    <tr>\n",
       "      <th>7</th>\n",
       "      <td>1</td>\n",
       "      <td>25.0</td>\n",
       "      <td>38600.0</td>\n",
       "      <td>4</td>\n",
       "      <td>0</td>\n",
       "    </tr>\n",
       "    <tr>\n",
       "      <th>8</th>\n",
       "      <td>1</td>\n",
       "      <td>36.0</td>\n",
       "      <td>49700.0</td>\n",
       "      <td>1</td>\n",
       "      <td>0</td>\n",
       "    </tr>\n",
       "    <tr>\n",
       "      <th>9</th>\n",
       "      <td>1</td>\n",
       "      <td>32.0</td>\n",
       "      <td>51700.0</td>\n",
       "      <td>1</td>\n",
       "      <td>0</td>\n",
       "    </tr>\n",
       "  </tbody>\n",
       "</table>\n",
       "</div>"
      ],
      "text/plain": [
       "   Пол  Возраст  Зарплата  Члены семьи  Страховые выплаты\n",
       "0    1     41.0   49600.0            1                  0\n",
       "1    0     46.0   38000.0            1                  1\n",
       "2    0     29.0   21000.0            0                  0\n",
       "3    0     21.0   41700.0            2                  0\n",
       "4    1     28.0   26100.0            0                  0\n",
       "5    1     43.0   41000.0            2                  1\n",
       "6    1     39.0   39700.0            2                  0\n",
       "7    1     25.0   38600.0            4                  0\n",
       "8    1     36.0   49700.0            1                  0\n",
       "9    1     32.0   51700.0            1                  0"
      ]
     },
     "execution_count": 4,
     "metadata": {},
     "output_type": "execute_result"
    }
   ],
   "source": [
    "insurance.head(10)"
   ]
  },
  {
   "cell_type": "code",
   "execution_count": 5,
   "metadata": {},
   "outputs": [
    {
     "data": {
      "text/plain": [
       "153"
      ]
     },
     "execution_count": 5,
     "metadata": {},
     "output_type": "execute_result"
    }
   ],
   "source": [
    "insurance.duplicated().sum()"
   ]
  },
  {
   "cell_type": "code",
   "execution_count": 6,
   "metadata": {},
   "outputs": [
    {
     "data": {
      "text/plain": [
       "Пол                  0\n",
       "Возраст              0\n",
       "Зарплата             0\n",
       "Члены семьи          0\n",
       "Страховые выплаты    0\n",
       "dtype: int64"
      ]
     },
     "execution_count": 6,
     "metadata": {},
     "output_type": "execute_result"
    }
   ],
   "source": [
    "insurance.isna().sum()"
   ]
  },
  {
   "cell_type": "markdown",
   "metadata": {},
   "source": [
    "данные загружены, таблица заполнена, пропусков нет, можно приступать к работе с матрицами."
   ]
  },
  {
   "cell_type": "markdown",
   "metadata": {},
   "source": [
    "## Умножение матриц"
   ]
  },
  {
   "cell_type": "markdown",
   "metadata": {},
   "source": [
    "Обозначения:\n",
    "\n",
    "- $X$ — матрица признаков (нулевой столбец состоит из единиц)\n",
    "\n",
    "- $y$ — вектор целевого признака\n",
    "\n",
    "- $P$ — матрица, на которую умножаются признаки\n",
    "\n",
    "- $w$ — вектор весов линейной регрессии (нулевой элемент равен сдвигу)"
   ]
  },
  {
   "cell_type": "markdown",
   "metadata": {},
   "source": [
    "Предсказания:\n",
    "\n",
    "$$\n",
    "a = Xw\n",
    "$$\n",
    "\n",
    "Задача обучения:\n",
    "\n",
    "$$\n",
    "w = \\arg\\min_w MSE(Xw, y)\n",
    "$$\n",
    "\n",
    "Формула обучения:\n",
    "\n",
    "$$\n",
    "w = (X^T X)^{-1} X^T y\n",
    "$$"
   ]
  },
  {
   "cell_type": "markdown",
   "metadata": {},
   "source": [
    "# Вопрос: Признаки умножают на обратимую матрицу. Изменится ли качество линейной регрессии?\n",
    "\n",
    "Убедимся в том, что линейня регрессия из LinearRegression()вычисляет значения по формуле."
   ]
  },
  {
   "cell_type": "code",
   "execution_count": 7,
   "metadata": {},
   "outputs": [],
   "source": [
    "features = insurance.drop('Страховые выплаты',axis=1)\n",
    "target = insurance['Страховые выплаты']"
   ]
  },
  {
   "cell_type": "code",
   "execution_count": 8,
   "metadata": {},
   "outputs": [
    {
     "name": "stdout",
     "output_type": "stream",
     "text": [
      "0.4249455028666801\n"
     ]
    },
    {
     "data": {
      "text/plain": [
       "array([ 7.92580543e-03,  3.57083050e-02, -1.70080492e-07, -1.35676623e-02])"
      ]
     },
     "execution_count": 8,
     "metadata": {},
     "output_type": "execute_result"
    }
   ],
   "source": [
    "X = np.concatenate((np.ones((features.shape[0], 1)), features), axis=1)\n",
    "y = target\n",
    "w = np.linalg.inv(X.T @ X) @ X.T @ y\n",
    "model = LinearRegression()\n",
    "model.fit(features, target)\n",
    "predictions = model.predict(features)\n",
    "print(r2_score(target, predictions))\n",
    "model.coef_\n"
   ]
  },
  {
   "cell_type": "markdown",
   "metadata": {},
   "source": [
    " Теперь перейдем к теоретической части.\n",
    "\n",
    "Обозначения для работы с уровнениями линейной регрессии:\n",
    "\n",
    " — матрица признаков (нулевой столбец состоит из единиц)\n",
    "\n",
    " — вектор целевого признака\n",
    "\n",
    " — матрица, на которую умножаются признаки\n",
    "\n",
    " — вектор весов линейной регрессии (нулевой элемент равен сдвигу)"
   ]
  },
  {
   "cell_type": "markdown",
   "metadata": {},
   "source": [
    "**Ответ:** не изменится.\n",
    "\n",
    "**Обоснование:** Заменим матрицу X на матрицу Z:\n",
    "\n",
    "Z=XP  (2.1),\n",
    "где P - обратимая матрица с некими значениями, на которую может быть умножена матрица X.\n",
    "\n",
    "Обоснование: \n",
    "\n",
    "Заменим X на Z и вычислим, чему будет равено предсказание и вектор весов.\n",
    "$$\n",
    " a_1 =  Z w_1  (2.2)\n",
    "$$\n"
   ]
  },
  {
   "cell_type": "markdown",
   "metadata": {},
   "source": [
    "$$\n",
    "w_1 = (Z^T Z)^{-1} Z^T y  (2.3)\n",
    "$$\n",
    "Подставим уравнение 2.2 правую часть уравнения 2.3 и получим следущее:\n",
    "$$\n",
    "a_1=Z (Z^T Z)^{-1} Z^T y  (2.4)\n",
    "$$"
   ]
  },
  {
   "cell_type": "markdown",
   "metadata": {},
   "source": [
    "Вспомним что Z = XP и заменим Z, получим:"
   ]
  },
  {
   "cell_type": "markdown",
   "metadata": {},
   "source": [
    "$$\n",
    " a_1 = XP((XP)^T(XP))^{-1} (XP)^T  y    (2.5)\n",
    "$$\n",
    "\n",
    "Для дальнейшей работы нам понадобится следующие свойсва обратной матрицы:\n",
    "\n",
    "\n",
    "\n",
    "$$\n",
    "(AB)^T=B^T A^T \\tag 1\n",
    "$$\n",
    "$$\n",
    "(AB)^{-1} = B^{-1} A^{-1} \\tag 2\n",
    "$$\n",
    "$$\n",
    "A A^{-1} = A^{-1} A = E \\tag 3\n",
    "$$\n",
    "$$\n",
    "AE = EA = A \\tag 4\n",
    "$$\n",
    "$$\n",
    "A(BC) = (AB)C \\tag 5\n",
    "$$\n",
    "тогда получим следующие выражение \n",
    "$$\n",
    "a_1\n",
    "$$\n",
    "$$\n",
    "a_1 = XP((XP)^T(XP))^{-1}(XP)^T y= XP (X^T P^T X P)^{-1}(XP)^T y=XP(P^T(X^TXP))^{-1}P^T X^Ty\n",
    "$$\n",
    "$$\n",
    "a_1=XP(P^T(X^TX)P^){-1}P^TX^T y=XP((X^TX)P)^{-1} P^{T^{-1}}P^TX^T y\n",
    "$$\n",
    "Умножение \n",
    "$$\n",
    "(P^T)^{-1} P^T = E (единичную матрицу),\n",
    "$$\n",
    "Посмотрим, что осталось от уравнения :\n",
    "$P^{T^{-1}} P^T$ - сократим\n",
    "$$\n",
    "a_1=XP P^{-1}(X^TX)^{-1}P^{T^{-1}}P^TX^T y=XP P^{-1} (X^TX)^{-1}X^T y\n",
    "$$\n",
    "\n",
    "$P^{-1} P$ - сократим и вспомним что\n",
    "\n",
    "$$\n",
    "w=(X^TX)^{-1}X^T y\n",
    "$$\n",
    "получим: \n",
    "$$\n",
    "a_1=Xw=a\n",
    "$$\n",
    "Как видно, значение предсказания a не меняется, если умножать матрицу признаков на обратимую матрицу."
   ]
  },
  {
   "cell_type": "markdown",
   "metadata": {},
   "source": [
    "## Алгоритм преобразования"
   ]
  },
  {
   "cell_type": "markdown",
   "metadata": {},
   "source": [
    "**Алгоритм**\n",
    "\n",
    "Для защиты информации на этапе поиска коэффициентов регрессии и предсказаний регрессии будем умножать матрицу признаков на обратимую матрицу Y, которая будет генерироваться случайным образом.\n",
    "\n",
    "Этапы алгоритма:\n",
    "\n",
    "1. Составление матрицы Y. \n",
    "2. Проверка матрицы на обратимость. Вычисление детерминанта матрицы  Y.\n",
    "3. Получение матрицы преобразованных признаков  Z = XY.\n",
    "4. Применение алгоритма на преобразованных признаках Z.\n",
    "\n"
   ]
  },
  {
   "cell_type": "markdown",
   "metadata": {},
   "source": [
    "**Обоснование**\n",
    "\n",
    "Матрица Y должна иметь необходимую размерность (nxn), где n - количество признаков для регрессии. Таким образом матрица Z будет иметь туже размерность, что и матрица X. Обратная матрица Y существует только для квадратных невырожденных матриц (определитель которых не равен нулю).\n",
    "\n",
    "Пример: X=[[1,2],[2,3],[4,5]],\n",
    "\n",
    "Y=[[1,0],[2,3]] detY=3\n",
    "\n",
    "Найдём значение Z=XY=[[1,2],[2,3],[4,5]]*[[1,0],[2,3]]=[[1*1+2*2,1*0+2*3],[2*1+3*2,2*0+3*3],[4*1+5*2,4*0+5*3]]=[[5,6],[8,9],[14,15]]\n",
    "\n",
    "После этого добавляем нулевой столбец и вводим данные в линейную регрессию.\n",
    "\n",
    "\n"
   ]
  },
  {
   "cell_type": "markdown",
   "metadata": {},
   "source": [
    "## Проверка алгоритма"
   ]
  },
  {
   "cell_type": "markdown",
   "metadata": {},
   "source": [
    "Проведем исследование модели по двум направлениям:\n",
    "\n",
    "Исследуем качество модели без преобразования. 1.1 С исходными признаками 1.2 С отмасштабированными признаками\n",
    "Исследуем качество модели с преобразованием. 2.1 С исходными признаками 2.2 С отмасштабированными признаками"
   ]
  },
  {
   "cell_type": "markdown",
   "metadata": {},
   "source": [
    "Разделим данные на обучающие и тестовые."
   ]
  },
  {
   "cell_type": "code",
   "execution_count": 9,
   "metadata": {},
   "outputs": [],
   "source": [
    "features_train, features_test, target_train, target_test = train_test_split(\n",
    "    features, target, test_size=0.25, random_state=12345)"
   ]
  },
  {
   "cell_type": "code",
   "execution_count": 10,
   "metadata": {},
   "outputs": [
    {
     "name": "stdout",
     "output_type": "stream",
     "text": [
      "w-vector coef [ 1.79258369e-02  3.57228278e-02 -5.46000708e-07 -1.26186590e-02]\n",
      "R2 = 0.43522757127026546\n"
     ]
    }
   ],
   "source": [
    "model = LinearRegression()\n",
    "model.fit(features_train, target_train)\n",
    "R2_LR_origin_data = r2_score(target_test, model.predict(features_test))\n",
    "print(\"w-vector coef\",model.coef_)\n",
    "print(\"R2 =\", R2_LR_origin_data)"
   ]
  },
  {
   "cell_type": "code",
   "execution_count": 11,
   "metadata": {},
   "outputs": [
    {
     "name": "stdout",
     "output_type": "stream",
     "text": [
      "R2 = 0.4352275712702668\n"
     ]
    }
   ],
   "source": [
    "regressor = LinearRegression()\n",
    "scaller = StandardScaler()\n",
    "pipeline = Pipeline([(\"standard_scaller\", scaller),(\"linear_regression\", regressor)])\n",
    "pipeline.fit(features_train, target_train)\n",
    "R2_LR_origin_data_scaled = r2_score(target_test, pipeline.predict(features_test))\n",
    "#print(\"w-vector coef\",pipeline.coef_) при использовании pipeline невозможно получить коэффициенты регрессии\n",
    "print(\"R2 =\", R2_LR_origin_data_scaled)"
   ]
  },
  {
   "cell_type": "markdown",
   "metadata": {},
   "source": [
    "Модель ведет себя одинаково как на исходных данных, так и на отмасштабированных. Колебания 15 знака и дальше после запятой связано с точностью хранения дробных чисел в python 3.\n",
    "\n",
    "Создадим функцию преобразования матрицы признаков."
   ]
  },
  {
   "cell_type": "code",
   "execution_count": 12,
   "metadata": {},
   "outputs": [],
   "source": [
    "def cipher_features(features):\n",
    "    crypted_features = features\n",
    "    n = features.shape[1]\n",
    "    np.random.seed(7072020)\n",
    "    cipher_matrix = np.random.randint(1, 10, (n,n))\n",
    "    det = np.linalg.det(cipher_matrix)\n",
    "    while det == 0:\n",
    "        np.random.seed(7072021)\n",
    "        cipher_matrix = np.random.randint(1, 10, (n,n))\n",
    "        det = np.linalg.det(cipher_matrix)\n",
    "    crypted_features = crypted_features @ cipher_matrix\n",
    "    return crypted_features, cipher_matrix"
   ]
  },
  {
   "cell_type": "code",
   "execution_count": 13,
   "metadata": {},
   "outputs": [
    {
     "data": {
      "text/html": [
       "<div>\n",
       "<style scoped>\n",
       "    .dataframe tbody tr th:only-of-type {\n",
       "        vertical-align: middle;\n",
       "    }\n",
       "\n",
       "    .dataframe tbody tr th {\n",
       "        vertical-align: top;\n",
       "    }\n",
       "\n",
       "    .dataframe thead th {\n",
       "        text-align: right;\n",
       "    }\n",
       "</style>\n",
       "<table border=\"1\" class=\"dataframe\">\n",
       "  <thead>\n",
       "    <tr style=\"text-align: right;\">\n",
       "      <th></th>\n",
       "      <th>Пол</th>\n",
       "      <th>Возраст</th>\n",
       "      <th>Зарплата</th>\n",
       "      <th>Члены семьи</th>\n",
       "    </tr>\n",
       "  </thead>\n",
       "  <tbody>\n",
       "    <tr>\n",
       "      <th>0</th>\n",
       "      <td>1</td>\n",
       "      <td>41.0</td>\n",
       "      <td>49600.0</td>\n",
       "      <td>1</td>\n",
       "    </tr>\n",
       "    <tr>\n",
       "      <th>1</th>\n",
       "      <td>0</td>\n",
       "      <td>46.0</td>\n",
       "      <td>38000.0</td>\n",
       "      <td>1</td>\n",
       "    </tr>\n",
       "    <tr>\n",
       "      <th>2</th>\n",
       "      <td>0</td>\n",
       "      <td>29.0</td>\n",
       "      <td>21000.0</td>\n",
       "      <td>0</td>\n",
       "    </tr>\n",
       "    <tr>\n",
       "      <th>3</th>\n",
       "      <td>0</td>\n",
       "      <td>21.0</td>\n",
       "      <td>41700.0</td>\n",
       "      <td>2</td>\n",
       "    </tr>\n",
       "    <tr>\n",
       "      <th>4</th>\n",
       "      <td>1</td>\n",
       "      <td>28.0</td>\n",
       "      <td>26100.0</td>\n",
       "      <td>0</td>\n",
       "    </tr>\n",
       "  </tbody>\n",
       "</table>\n",
       "</div>"
      ],
      "text/plain": [
       "   Пол  Возраст  Зарплата  Члены семьи\n",
       "0    1     41.0   49600.0            1\n",
       "1    0     46.0   38000.0            1\n",
       "2    0     29.0   21000.0            0\n",
       "3    0     21.0   41700.0            2\n",
       "4    1     28.0   26100.0            0"
      ]
     },
     "metadata": {},
     "output_type": "display_data"
    },
    {
     "data": {
      "text/html": [
       "<div>\n",
       "<style scoped>\n",
       "    .dataframe tbody tr th:only-of-type {\n",
       "        vertical-align: middle;\n",
       "    }\n",
       "\n",
       "    .dataframe tbody tr th {\n",
       "        vertical-align: top;\n",
       "    }\n",
       "\n",
       "    .dataframe thead th {\n",
       "        text-align: right;\n",
       "    }\n",
       "</style>\n",
       "<table border=\"1\" class=\"dataframe\">\n",
       "  <thead>\n",
       "    <tr style=\"text-align: right;\">\n",
       "      <th></th>\n",
       "      <th>0</th>\n",
       "      <th>1</th>\n",
       "      <th>2</th>\n",
       "      <th>3</th>\n",
       "    </tr>\n",
       "  </thead>\n",
       "  <tbody>\n",
       "    <tr>\n",
       "      <th>0</th>\n",
       "      <td>397184.0</td>\n",
       "      <td>49981.0</td>\n",
       "      <td>99373.0</td>\n",
       "      <td>248097.0</td>\n",
       "    </tr>\n",
       "    <tr>\n",
       "      <th>1</th>\n",
       "      <td>304422.0</td>\n",
       "      <td>38421.0</td>\n",
       "      <td>76185.0</td>\n",
       "      <td>190101.0</td>\n",
       "    </tr>\n",
       "    <tr>\n",
       "      <th>2</th>\n",
       "      <td>168261.0</td>\n",
       "      <td>21261.0</td>\n",
       "      <td>42116.0</td>\n",
       "      <td>105058.0</td>\n",
       "    </tr>\n",
       "    <tr>\n",
       "      <th>3</th>\n",
       "      <td>333805.0</td>\n",
       "      <td>41903.0</td>\n",
       "      <td>83486.0</td>\n",
       "      <td>208560.0</td>\n",
       "    </tr>\n",
       "    <tr>\n",
       "      <th>4</th>\n",
       "      <td>209059.0</td>\n",
       "      <td>26357.0</td>\n",
       "      <td>52320.0</td>\n",
       "      <td>130562.0</td>\n",
       "    </tr>\n",
       "  </tbody>\n",
       "</table>\n",
       "</div>"
      ],
      "text/plain": [
       "          0        1        2         3\n",
       "0  397184.0  49981.0  99373.0  248097.0\n",
       "1  304422.0  38421.0  76185.0  190101.0\n",
       "2  168261.0  21261.0  42116.0  105058.0\n",
       "3  333805.0  41903.0  83486.0  208560.0\n",
       "4  209059.0  26357.0  52320.0  130562.0"
      ]
     },
     "metadata": {},
     "output_type": "display_data"
    },
    {
     "data": {
      "text/plain": [
       "array([[7, 5, 8, 6],\n",
       "       [9, 9, 4, 2],\n",
       "       [8, 1, 2, 5],\n",
       "       [8, 7, 1, 9]])"
      ]
     },
     "execution_count": 13,
     "metadata": {},
     "output_type": "execute_result"
    }
   ],
   "source": [
    "display(features.head())\n",
    "features, cipher_matrix = cipher_features(features)\n",
    "display(features.head())\n",
    "cipher_matrix"
   ]
  },
  {
   "cell_type": "markdown",
   "metadata": {},
   "source": [
    "Как видно, данные потеряли свои оригинальные значения, теперь в них хранится непонятное число. Разобьем данные на тренировочную и обучающую выборку и проверим R2 значение."
   ]
  },
  {
   "cell_type": "code",
   "execution_count": 14,
   "metadata": {},
   "outputs": [],
   "source": [
    "features_train, features_test, target_train, target_test = train_test_split(\n",
    "    features, target, test_size=0.25, random_state=12345)"
   ]
  },
  {
   "cell_type": "code",
   "execution_count": 15,
   "metadata": {},
   "outputs": [
    {
     "name": "stdout",
     "output_type": "stream",
     "text": [
      "w-vector coef [ 0.00205789  0.00163118  0.00304974 -0.00483886]\n",
      "R2 = 0.43522757127025513\n"
     ]
    }
   ],
   "source": [
    "model = LinearRegression()\n",
    "model.fit(features_train, target_train)\n",
    "R2_LR_cipher_data = r2_score(target_test, model.predict(features_test))\n",
    "print(\"w-vector coef\",model.coef_)\n",
    "print(\"R2 =\", R2_LR_cipher_data)"
   ]
  },
  {
   "cell_type": "code",
   "execution_count": 16,
   "metadata": {},
   "outputs": [
    {
     "name": "stdout",
     "output_type": "stream",
     "text": [
      "R2 = 0.4352275712702951\n"
     ]
    }
   ],
   "source": [
    "regressor = LinearRegression()\n",
    "scaller = StandardScaler()\n",
    "pipeline = Pipeline([(\"standard_scaller\", scaller),(\"linear_regression\", regressor)])\n",
    "pipeline.fit(features_train, target_train)\n",
    "R2_LR_cipher_data_scaled = r2_score(target_test, pipeline.predict(features_test))\n",
    "#print(\"w-vector coef\",pipeline.coef_) при использовании pipeline невозможно получить коэффициенты регрессии\n",
    "print(\"R2 =\", R2_LR_cipher_data_scaled)"
   ]
  },
  {
   "cell_type": "markdown",
   "metadata": {},
   "source": [
    "Сравним показатели качества моделей."
   ]
  },
  {
   "cell_type": "code",
   "execution_count": 17,
   "metadata": {},
   "outputs": [
    {
     "data": {
      "text/html": [
       "<div>\n",
       "<style scoped>\n",
       "    .dataframe tbody tr th:only-of-type {\n",
       "        vertical-align: middle;\n",
       "    }\n",
       "\n",
       "    .dataframe tbody tr th {\n",
       "        vertical-align: top;\n",
       "    }\n",
       "\n",
       "    .dataframe thead th {\n",
       "        text-align: right;\n",
       "    }\n",
       "</style>\n",
       "<table border=\"1\" class=\"dataframe\">\n",
       "  <thead>\n",
       "    <tr style=\"text-align: right;\">\n",
       "      <th></th>\n",
       "      <th>R2</th>\n",
       "    </tr>\n",
       "  </thead>\n",
       "  <tbody>\n",
       "    <tr>\n",
       "      <th>Линейная регрессия</th>\n",
       "      <td>0.435228</td>\n",
       "    </tr>\n",
       "    <tr>\n",
       "      <th>Линейная регрессия c масштабом</th>\n",
       "      <td>0.435228</td>\n",
       "    </tr>\n",
       "    <tr>\n",
       "      <th>Линейная регрессия на преобразованных признаках</th>\n",
       "      <td>0.435228</td>\n",
       "    </tr>\n",
       "    <tr>\n",
       "      <th>Линейная регрессия на преобразованных признаках c масштабом</th>\n",
       "      <td>0.435228</td>\n",
       "    </tr>\n",
       "  </tbody>\n",
       "</table>\n",
       "</div>"
      ],
      "text/plain": [
       "                                                          R2\n",
       "Линейная регрессия                                  0.435228\n",
       "Линейная регрессия c масштабом                      0.435228\n",
       "Линейная регрессия на преобразованных признаках     0.435228\n",
       "Линейная регрессия на преобразованных признаках...  0.435228"
      ]
     },
     "execution_count": 17,
     "metadata": {},
     "output_type": "execute_result"
    }
   ],
   "source": [
    "result = pd.DataFrame(data= [R2_LR_origin_data_scaled,\n",
    "                      R2_LR_origin_data,\n",
    "                      R2_LR_cipher_data,\n",
    "                      R2_LR_cipher_data_scaled], \n",
    "                     columns=['R2'], \n",
    "                     index=['Линейная регрессия',\n",
    "                            'Линейная регрессия c масштабом',\n",
    "                            'Линейная регрессия на преобразованных признаках',\n",
    "                            'Линейная регрессия на преобразованных признаках c масштабом',])\n",
    "result"
   ]
  },
  {
   "cell_type": "markdown",
   "metadata": {},
   "source": [
    "Итоговый вывод\n",
    "В ходе работы было проделано:\n",
    "\n",
    "Загружены и изучены данные.\n",
    "Качество линейной регресии не изменилось от использования исходной матрицы и исходной матрицы, умноженную на обратимую.\n",
    "Создан алгоритм который преобразовывает данные.\n",
    "Исследован алгоритм преобразования данных и проверена метрика R2 для данных без преобразования и с ним.\n",
    "По результатам работы использования матричных операций можно увидеть, что данные очень просто зашифровать от распознования, имея правильную матрицу."
   ]
  }
 ],
 "metadata": {
  "ExecuteTimeLog": [
   {
    "duration": 426,
    "start_time": "2023-06-02T07:29:54.270Z"
   },
   {
    "duration": 2,
    "start_time": "2023-06-02T07:29:54.919Z"
   },
   {
    "duration": 68,
    "start_time": "2023-06-02T07:29:55.559Z"
   },
   {
    "duration": 42,
    "start_time": "2023-06-02T07:30:01.121Z"
   },
   {
    "duration": 896,
    "start_time": "2023-06-02T07:30:02.417Z"
   },
   {
    "duration": 3,
    "start_time": "2023-06-02T07:30:10.369Z"
   },
   {
    "duration": 44,
    "start_time": "2023-06-02T07:30:12.157Z"
   },
   {
    "duration": 106,
    "start_time": "2023-06-02T07:34:54.508Z"
   },
   {
    "duration": 100,
    "start_time": "2023-06-02T07:35:22.525Z"
   },
   {
    "duration": 74,
    "start_time": "2023-06-02T07:35:57.151Z"
   },
   {
    "duration": 5,
    "start_time": "2023-06-02T07:38:13.411Z"
   },
   {
    "duration": 28,
    "start_time": "2023-06-02T07:38:21.316Z"
   },
   {
    "duration": 23,
    "start_time": "2023-06-02T07:38:23.388Z"
   },
   {
    "duration": 22,
    "start_time": "2023-06-02T07:39:27.412Z"
   },
   {
    "duration": 7,
    "start_time": "2023-06-02T07:39:58.553Z"
   },
   {
    "duration": 26,
    "start_time": "2023-06-02T07:40:15.067Z"
   },
   {
    "duration": 7,
    "start_time": "2023-06-02T07:41:11.314Z"
   },
   {
    "duration": 53,
    "start_time": "2023-06-05T07:11:12.626Z"
   },
   {
    "duration": 1254,
    "start_time": "2023-06-05T07:11:27.545Z"
   },
   {
    "duration": 76,
    "start_time": "2023-06-05T07:11:30.257Z"
   },
   {
    "duration": 17,
    "start_time": "2023-06-05T07:11:31.483Z"
   },
   {
    "duration": 18,
    "start_time": "2023-06-05T07:11:34.262Z"
   },
   {
    "duration": 6,
    "start_time": "2023-06-05T07:11:36.684Z"
   },
   {
    "duration": 66,
    "start_time": "2023-06-05T07:11:38.434Z"
   },
   {
    "duration": 7,
    "start_time": "2023-06-05T07:11:42.556Z"
   },
   {
    "duration": 5,
    "start_time": "2023-06-05T07:11:52.243Z"
   },
   {
    "duration": 30,
    "start_time": "2023-06-05T07:14:39.019Z"
   },
   {
    "duration": 4,
    "start_time": "2023-06-05T07:19:14.034Z"
   },
   {
    "duration": 31,
    "start_time": "2023-06-05T07:19:14.779Z"
   },
   {
    "duration": 11,
    "start_time": "2023-06-05T07:19:15.715Z"
   },
   {
    "duration": 10,
    "start_time": "2023-06-05T07:19:16.741Z"
   },
   {
    "duration": 6,
    "start_time": "2023-06-05T07:19:19.709Z"
   },
   {
    "duration": 10,
    "start_time": "2023-06-05T07:19:21.739Z"
   },
   {
    "duration": 5,
    "start_time": "2023-06-05T07:19:25.380Z"
   },
   {
    "duration": 4,
    "start_time": "2023-06-05T07:19:34.099Z"
   },
   {
    "duration": 14,
    "start_time": "2023-06-05T07:19:37.030Z"
   },
   {
    "duration": 60,
    "start_time": "2023-06-11T16:53:54.155Z"
   },
   {
    "duration": 1136,
    "start_time": "2023-06-11T16:54:16.426Z"
   },
   {
    "duration": 89,
    "start_time": "2023-06-11T16:54:18.209Z"
   },
   {
    "duration": 12,
    "start_time": "2023-06-11T16:54:19.054Z"
   },
   {
    "duration": 16,
    "start_time": "2023-06-11T16:54:19.992Z"
   },
   {
    "duration": 6,
    "start_time": "2023-06-11T16:54:20.827Z"
   },
   {
    "duration": 6,
    "start_time": "2023-06-11T16:54:22.374Z"
   },
   {
    "duration": 4,
    "start_time": "2023-06-11T16:54:26.034Z"
   },
   {
    "duration": 84,
    "start_time": "2023-06-11T16:54:27.175Z"
   },
   {
    "duration": 65,
    "start_time": "2023-06-11T17:23:38.969Z"
   },
   {
    "duration": 5,
    "start_time": "2023-06-11T17:38:22.180Z"
   },
   {
    "duration": 14,
    "start_time": "2023-06-11T17:38:54.573Z"
   },
   {
    "duration": 12,
    "start_time": "2023-06-11T17:39:18.622Z"
   },
   {
    "duration": 4,
    "start_time": "2023-06-11T17:39:51.377Z"
   },
   {
    "duration": 23,
    "start_time": "2023-06-11T17:40:04.550Z"
   },
   {
    "duration": 5,
    "start_time": "2023-06-11T17:40:42.668Z"
   },
   {
    "duration": 5,
    "start_time": "2023-06-11T17:40:51.757Z"
   },
   {
    "duration": 10,
    "start_time": "2023-06-11T17:41:04.348Z"
   },
   {
    "duration": 12,
    "start_time": "2023-06-11T17:41:19.055Z"
   },
   {
    "duration": 8,
    "start_time": "2023-06-11T17:42:03.053Z"
   },
   {
    "duration": 4,
    "start_time": "2023-06-11T17:46:31.409Z"
   },
   {
    "duration": 13,
    "start_time": "2023-06-11T17:48:59.381Z"
   },
   {
    "duration": 62,
    "start_time": "2023-06-11T17:49:16.990Z"
   },
   {
    "duration": 14,
    "start_time": "2023-06-11T17:49:29.486Z"
   },
   {
    "duration": 14,
    "start_time": "2023-06-11T17:49:47.176Z"
   },
   {
    "duration": 6,
    "start_time": "2023-06-11T17:54:29.866Z"
   },
   {
    "duration": 12,
    "start_time": "2023-06-11T17:54:30.626Z"
   },
   {
    "duration": 15,
    "start_time": "2023-06-11T17:54:31.544Z"
   },
   {
    "duration": 5,
    "start_time": "2023-06-11T17:54:33.699Z"
   },
   {
    "duration": 24,
    "start_time": "2023-06-11T17:54:35.359Z"
   },
   {
    "duration": 6,
    "start_time": "2023-06-11T17:54:39.624Z"
   },
   {
    "duration": 10,
    "start_time": "2023-06-11T17:54:40.416Z"
   },
   {
    "duration": 15,
    "start_time": "2023-06-11T17:54:41.648Z"
   },
   {
    "duration": 10,
    "start_time": "2023-06-11T17:54:44.645Z"
   },
   {
    "duration": 1097,
    "start_time": "2023-06-12T06:59:35.576Z"
   },
   {
    "duration": 86,
    "start_time": "2023-06-12T06:59:37.590Z"
   },
   {
    "duration": 13,
    "start_time": "2023-06-12T06:59:39.525Z"
   },
   {
    "duration": 17,
    "start_time": "2023-06-12T06:59:42.199Z"
   },
   {
    "duration": 6,
    "start_time": "2023-06-12T06:59:43.281Z"
   },
   {
    "duration": 7,
    "start_time": "2023-06-12T06:59:44.460Z"
   },
   {
    "duration": 5,
    "start_time": "2023-06-12T06:59:53.709Z"
   },
   {
    "duration": 24,
    "start_time": "2023-06-12T06:59:58.116Z"
   },
   {
    "duration": 6,
    "start_time": "2023-06-12T07:00:39.024Z"
   },
   {
    "duration": 10,
    "start_time": "2023-06-12T07:00:39.998Z"
   },
   {
    "duration": 13,
    "start_time": "2023-06-12T07:00:41.107Z"
   },
   {
    "duration": 4,
    "start_time": "2023-06-12T07:00:47.876Z"
   },
   {
    "duration": 19,
    "start_time": "2023-06-12T07:00:49.390Z"
   },
   {
    "duration": 5,
    "start_time": "2023-06-12T07:00:50.902Z"
   },
   {
    "duration": 10,
    "start_time": "2023-06-12T07:00:51.549Z"
   },
   {
    "duration": 12,
    "start_time": "2023-06-12T07:00:52.236Z"
   },
   {
    "duration": 11,
    "start_time": "2023-06-12T07:00:53.679Z"
   },
   {
    "duration": 102,
    "start_time": "2023-06-13T14:16:03.488Z"
   },
   {
    "duration": 98,
    "start_time": "2023-06-13T14:16:07.895Z"
   },
   {
    "duration": 54,
    "start_time": "2023-06-22T14:25:22.839Z"
   },
   {
    "duration": 1193,
    "start_time": "2023-06-22T14:25:45.615Z"
   },
   {
    "duration": 143,
    "start_time": "2023-06-22T14:25:46.810Z"
   },
   {
    "duration": 51,
    "start_time": "2023-06-22T14:26:05.527Z"
   },
   {
    "duration": 162,
    "start_time": "2023-06-22T14:26:28.814Z"
   },
   {
    "duration": 18,
    "start_time": "2023-06-22T14:26:45.653Z"
   },
   {
    "duration": 9,
    "start_time": "2023-06-22T14:27:00.670Z"
   },
   {
    "duration": 23,
    "start_time": "2023-06-22T14:43:30.864Z"
   },
   {
    "duration": 5,
    "start_time": "2023-06-22T14:44:26.640Z"
   },
   {
    "duration": 16,
    "start_time": "2023-06-22T14:44:40.057Z"
   },
   {
    "duration": 12,
    "start_time": "2023-06-22T14:46:49.256Z"
   },
   {
    "duration": 50,
    "start_time": "2023-06-22T14:49:57.528Z"
   },
   {
    "duration": 7,
    "start_time": "2023-06-22T14:49:58.863Z"
   },
   {
    "duration": 10,
    "start_time": "2023-06-22T14:50:01.653Z"
   },
   {
    "duration": 47,
    "start_time": "2023-06-22T14:50:44.440Z"
   },
   {
    "duration": 9,
    "start_time": "2023-06-22T14:50:50.412Z"
   },
   {
    "duration": 7,
    "start_time": "2023-06-22T14:51:01.757Z"
   },
   {
    "duration": 3,
    "start_time": "2023-06-22T14:52:01.054Z"
   },
   {
    "duration": 10,
    "start_time": "2023-06-22T14:52:10.715Z"
   },
   {
    "duration": 10,
    "start_time": "2023-06-22T14:52:45.241Z"
   },
   {
    "duration": 1076,
    "start_time": "2023-06-22T14:53:10.803Z"
   },
   {
    "duration": 156,
    "start_time": "2023-06-22T14:54:14.846Z"
   },
   {
    "duration": 2,
    "start_time": "2023-06-22T14:54:31.207Z"
   },
   {
    "duration": 254,
    "start_time": "2023-06-22T14:54:32.140Z"
   },
   {
    "duration": 5,
    "start_time": "2023-06-22T14:54:36.742Z"
   },
   {
    "duration": 3,
    "start_time": "2023-06-22T14:54:37.594Z"
   },
   {
    "duration": 5,
    "start_time": "2023-06-22T14:54:38.743Z"
   },
   {
    "duration": 179,
    "start_time": "2023-06-22T14:54:39.614Z"
   },
   {
    "duration": 171,
    "start_time": "2023-06-22T14:54:58.348Z"
   },
   {
    "duration": 241,
    "start_time": "2023-06-22T14:55:08.488Z"
   },
   {
    "duration": 14,
    "start_time": "2023-06-22T14:55:19.550Z"
   },
   {
    "duration": 10,
    "start_time": "2023-06-22T14:55:38.625Z"
   },
   {
    "duration": 1241,
    "start_time": "2023-06-29T07:21:36.750Z"
   },
   {
    "duration": 154,
    "start_time": "2023-06-29T07:21:37.995Z"
   },
   {
    "duration": 13,
    "start_time": "2023-06-29T07:21:39.159Z"
   },
   {
    "duration": 4,
    "start_time": "2023-06-29T07:25:06.538Z"
   },
   {
    "duration": 3,
    "start_time": "2023-06-29T07:25:09.364Z"
   },
   {
    "duration": 4,
    "start_time": "2023-06-29T07:25:16.974Z"
   },
   {
    "duration": 541,
    "start_time": "2023-06-29T07:25:18.532Z"
   },
   {
    "duration": 116,
    "start_time": "2023-06-29T07:25:30.561Z"
   },
   {
    "duration": 14,
    "start_time": "2023-06-29T07:25:43.642Z"
   },
   {
    "duration": 266,
    "start_time": "2023-06-29T07:32:17.522Z"
   },
   {
    "duration": 11,
    "start_time": "2023-06-29T07:32:34.658Z"
   },
   {
    "duration": 299,
    "start_time": "2023-06-29T07:33:13.924Z"
   },
   {
    "duration": 354,
    "start_time": "2023-06-29T07:33:32.732Z"
   },
   {
    "duration": 188,
    "start_time": "2023-06-29T07:38:33.704Z"
   },
   {
    "duration": 280,
    "start_time": "2023-06-29T07:39:35.447Z"
   },
   {
    "duration": 194,
    "start_time": "2023-06-29T07:40:13.096Z"
   },
   {
    "duration": 10,
    "start_time": "2023-06-29T07:43:31.108Z"
   },
   {
    "duration": 4,
    "start_time": "2023-06-29T07:44:24.525Z"
   },
   {
    "duration": 229,
    "start_time": "2023-06-29T07:46:11.919Z"
   },
   {
    "duration": 9,
    "start_time": "2023-06-29T07:48:48.225Z"
   },
   {
    "duration": 22,
    "start_time": "2023-06-29T07:49:21.900Z"
   },
   {
    "duration": 20,
    "start_time": "2023-06-29T07:49:28.100Z"
   },
   {
    "duration": 14,
    "start_time": "2023-06-29T07:51:09.688Z"
   },
   {
    "duration": 14,
    "start_time": "2023-06-29T07:51:23.259Z"
   },
   {
    "duration": 333,
    "start_time": "2023-06-29T07:51:24.387Z"
   },
   {
    "duration": 282,
    "start_time": "2023-06-29T07:51:27.201Z"
   },
   {
    "duration": 376,
    "start_time": "2023-06-29T07:51:42.356Z"
   },
   {
    "duration": 22,
    "start_time": "2023-06-29T07:51:52.500Z"
   },
   {
    "duration": 18,
    "start_time": "2023-06-29T07:52:54.724Z"
   },
   {
    "duration": 242,
    "start_time": "2023-06-29T07:55:52.759Z"
   },
   {
    "duration": 240,
    "start_time": "2023-06-29T07:56:11.752Z"
   },
   {
    "duration": 4,
    "start_time": "2023-06-29T08:05:29.071Z"
   },
   {
    "duration": 4,
    "start_time": "2023-06-29T08:05:52.339Z"
   },
   {
    "duration": 10,
    "start_time": "2023-06-29T08:10:18.996Z"
   },
   {
    "duration": 3,
    "start_time": "2023-06-29T08:10:50.999Z"
   },
   {
    "duration": 15,
    "start_time": "2023-06-29T08:10:57.712Z"
   },
   {
    "duration": 3,
    "start_time": "2023-06-29T08:14:54.486Z"
   },
   {
    "duration": 20,
    "start_time": "2023-06-29T08:18:45.256Z"
   },
   {
    "duration": 6,
    "start_time": "2023-06-29T08:19:29.609Z"
   },
   {
    "duration": 5,
    "start_time": "2023-06-29T08:20:49.198Z"
   },
   {
    "duration": 5,
    "start_time": "2023-06-29T08:21:23.619Z"
   },
   {
    "duration": 5,
    "start_time": "2023-06-29T08:21:24.511Z"
   },
   {
    "duration": 16,
    "start_time": "2023-06-29T08:21:43.248Z"
   },
   {
    "duration": 144,
    "start_time": "2023-06-29T08:24:34.903Z"
   },
   {
    "duration": 74,
    "start_time": "2023-06-29T08:25:09.938Z"
   },
   {
    "duration": 195,
    "start_time": "2023-06-29T08:25:17.095Z"
   },
   {
    "duration": 193,
    "start_time": "2023-06-29T08:25:46.718Z"
   },
   {
    "duration": 3,
    "start_time": "2023-06-29T08:26:27.454Z"
   },
   {
    "duration": 4,
    "start_time": "2023-06-29T08:26:49.442Z"
   },
   {
    "duration": 5,
    "start_time": "2023-06-29T08:27:06.302Z"
   },
   {
    "duration": 5,
    "start_time": "2023-06-29T08:27:07.236Z"
   },
   {
    "duration": 5,
    "start_time": "2023-06-29T08:27:08.605Z"
   },
   {
    "duration": 10,
    "start_time": "2023-06-29T08:31:50.763Z"
   },
   {
    "duration": 10,
    "start_time": "2023-06-29T08:32:16.738Z"
   },
   {
    "duration": 4,
    "start_time": "2023-06-29T08:32:30.236Z"
   },
   {
    "duration": 4,
    "start_time": "2023-06-29T08:32:32.415Z"
   },
   {
    "duration": 4,
    "start_time": "2023-06-29T08:32:33.162Z"
   },
   {
    "duration": 3,
    "start_time": "2023-06-29T08:32:33.936Z"
   },
   {
    "duration": 401,
    "start_time": "2023-06-29T08:32:54.408Z"
   },
   {
    "duration": 6,
    "start_time": "2023-06-29T11:09:34.721Z"
   },
   {
    "duration": 3,
    "start_time": "2023-06-29T11:10:18.425Z"
   },
   {
    "duration": 4,
    "start_time": "2023-06-29T11:10:55.009Z"
   },
   {
    "duration": 5,
    "start_time": "2023-06-29T11:10:59.202Z"
   },
   {
    "duration": 3,
    "start_time": "2023-06-29T11:11:00.345Z"
   },
   {
    "duration": 3,
    "start_time": "2023-06-29T11:11:05.936Z"
   },
   {
    "duration": 3,
    "start_time": "2023-06-29T11:11:22.120Z"
   },
   {
    "duration": 5,
    "start_time": "2023-06-29T11:11:36.880Z"
   },
   {
    "duration": 3,
    "start_time": "2023-06-29T11:11:50.945Z"
   },
   {
    "duration": 4,
    "start_time": "2023-06-29T11:11:59.009Z"
   },
   {
    "duration": 8,
    "start_time": "2023-06-29T11:12:34.704Z"
   },
   {
    "duration": 8,
    "start_time": "2023-06-29T11:13:09.900Z"
   },
   {
    "duration": 10,
    "start_time": "2023-06-29T11:14:19.307Z"
   },
   {
    "duration": 14,
    "start_time": "2023-06-29T11:29:54.711Z"
   },
   {
    "duration": 4,
    "start_time": "2023-06-29T11:30:37.695Z"
   },
   {
    "duration": 10,
    "start_time": "2023-06-29T11:30:44.496Z"
   },
   {
    "duration": 17,
    "start_time": "2023-06-29T11:31:55.889Z"
   },
   {
    "duration": 10,
    "start_time": "2023-06-29T11:33:38.189Z"
   },
   {
    "duration": 2806,
    "start_time": "2023-06-29T11:34:06.790Z"
   },
   {
    "duration": 125,
    "start_time": "2023-06-29T11:35:31.389Z"
   },
   {
    "duration": 4,
    "start_time": "2023-06-29T11:36:02.695Z"
   },
   {
    "duration": 28825,
    "start_time": "2023-06-29T11:36:12.510Z"
   },
   {
    "duration": 362,
    "start_time": "2023-06-29T11:42:27.040Z"
   },
   {
    "duration": 4,
    "start_time": "2023-06-29T11:42:46.576Z"
   },
   {
    "duration": 45,
    "start_time": "2023-06-29T11:42:47.215Z"
   },
   {
    "duration": 7,
    "start_time": "2023-06-29T11:42:49.079Z"
   },
   {
    "duration": 8,
    "start_time": "2023-06-29T11:42:51.117Z"
   },
   {
    "duration": 3,
    "start_time": "2023-06-29T11:42:53.088Z"
   },
   {
    "duration": 3,
    "start_time": "2023-06-29T11:42:54.113Z"
   },
   {
    "duration": 3,
    "start_time": "2023-06-29T11:42:54.879Z"
   },
   {
    "duration": 163,
    "start_time": "2023-06-29T11:42:55.784Z"
   },
   {
    "duration": 12,
    "start_time": "2023-06-29T11:43:00.242Z"
   },
   {
    "duration": 221,
    "start_time": "2023-06-29T11:43:01.779Z"
   },
   {
    "duration": 231,
    "start_time": "2023-06-29T11:43:06.780Z"
   },
   {
    "duration": 154,
    "start_time": "2023-06-29T11:43:10.769Z"
   },
   {
    "duration": 297,
    "start_time": "2023-06-29T11:43:16.192Z"
   },
   {
    "duration": 13,
    "start_time": "2023-06-29T11:43:24.720Z"
   },
   {
    "duration": 18,
    "start_time": "2023-06-29T11:43:59.521Z"
   },
   {
    "duration": 10,
    "start_time": "2023-06-29T11:44:41.322Z"
   },
   {
    "duration": 10,
    "start_time": "2023-06-29T11:46:04.740Z"
   },
   {
    "duration": 4,
    "start_time": "2023-06-29T11:46:40.176Z"
   },
   {
    "duration": 11,
    "start_time": "2023-06-29T11:46:49.331Z"
   },
   {
    "duration": 27,
    "start_time": "2023-06-29T11:48:45.331Z"
   },
   {
    "duration": 17,
    "start_time": "2023-06-29T11:49:47.432Z"
   },
   {
    "duration": 15,
    "start_time": "2023-06-29T11:50:25.411Z"
   },
   {
    "duration": 13,
    "start_time": "2023-06-29T11:50:32.701Z"
   },
   {
    "duration": 14,
    "start_time": "2023-06-29T11:50:50.743Z"
   },
   {
    "duration": 20,
    "start_time": "2023-06-29T11:50:56.168Z"
   },
   {
    "duration": 15,
    "start_time": "2023-06-29T11:52:14.495Z"
   },
   {
    "duration": 12,
    "start_time": "2023-06-29T11:52:24.171Z"
   },
   {
    "duration": 4,
    "start_time": "2023-06-29T11:52:27.702Z"
   },
   {
    "duration": 4,
    "start_time": "2023-06-29T11:52:28.951Z"
   },
   {
    "duration": 4,
    "start_time": "2023-06-29T11:52:29.616Z"
   },
   {
    "duration": 4,
    "start_time": "2023-06-29T11:52:30.272Z"
   },
   {
    "duration": 4,
    "start_time": "2023-06-29T11:52:30.963Z"
   },
   {
    "duration": 4,
    "start_time": "2023-06-29T11:52:32.026Z"
   },
   {
    "duration": 4,
    "start_time": "2023-06-29T11:52:33.336Z"
   },
   {
    "duration": 4,
    "start_time": "2023-06-29T11:52:35.063Z"
   },
   {
    "duration": 4,
    "start_time": "2023-06-29T11:52:37.310Z"
   },
   {
    "duration": 138,
    "start_time": "2023-06-29T11:52:39.342Z"
   },
   {
    "duration": 14,
    "start_time": "2023-06-29T11:52:56.329Z"
   },
   {
    "duration": 4,
    "start_time": "2023-06-29T11:53:00.801Z"
   },
   {
    "duration": 5,
    "start_time": "2023-06-29T11:53:01.317Z"
   },
   {
    "duration": 5,
    "start_time": "2023-06-29T11:53:01.775Z"
   },
   {
    "duration": 3,
    "start_time": "2023-06-29T11:53:02.389Z"
   },
   {
    "duration": 3,
    "start_time": "2023-06-29T11:53:03.015Z"
   },
   {
    "duration": 4,
    "start_time": "2023-06-29T11:53:03.736Z"
   },
   {
    "duration": 4,
    "start_time": "2023-06-29T11:53:04.393Z"
   },
   {
    "duration": 4,
    "start_time": "2023-06-29T11:53:06.276Z"
   },
   {
    "duration": 4,
    "start_time": "2023-06-29T11:53:07.115Z"
   },
   {
    "duration": 195,
    "start_time": "2023-06-29T11:53:09.761Z"
   },
   {
    "duration": 4,
    "start_time": "2023-06-29T12:03:38.259Z"
   },
   {
    "duration": 44,
    "start_time": "2023-06-29T12:03:39.216Z"
   },
   {
    "duration": 6,
    "start_time": "2023-06-29T12:03:41.067Z"
   },
   {
    "duration": 7,
    "start_time": "2023-06-29T12:03:43.046Z"
   },
   {
    "duration": 3,
    "start_time": "2023-06-29T12:03:44.383Z"
   },
   {
    "duration": 3,
    "start_time": "2023-06-29T12:03:45.075Z"
   },
   {
    "duration": 3,
    "start_time": "2023-06-29T12:03:45.887Z"
   },
   {
    "duration": 249,
    "start_time": "2023-06-29T12:03:46.569Z"
   },
   {
    "duration": 12,
    "start_time": "2023-06-29T12:03:53.442Z"
   },
   {
    "duration": 207,
    "start_time": "2023-06-29T12:03:54.607Z"
   },
   {
    "duration": 178,
    "start_time": "2023-06-29T12:04:03.544Z"
   },
   {
    "duration": 176,
    "start_time": "2023-06-29T12:04:10.595Z"
   },
   {
    "duration": 117,
    "start_time": "2023-06-29T12:04:16.086Z"
   },
   {
    "duration": 179,
    "start_time": "2023-06-29T12:04:24.599Z"
   },
   {
    "duration": 21,
    "start_time": "2023-06-29T12:04:47.536Z"
   },
   {
    "duration": 9,
    "start_time": "2023-06-29T12:04:48.721Z"
   },
   {
    "duration": 202,
    "start_time": "2023-06-29T12:05:03.245Z"
   },
   {
    "duration": 23,
    "start_time": "2023-06-29T12:05:16.649Z"
   },
   {
    "duration": 1753,
    "start_time": "2023-07-05T08:26:58.832Z"
   },
   {
    "duration": 139,
    "start_time": "2023-07-05T08:27:00.587Z"
   },
   {
    "duration": 12,
    "start_time": "2023-07-05T08:27:04.115Z"
   },
   {
    "duration": 9,
    "start_time": "2023-07-05T08:27:08.460Z"
   },
   {
    "duration": 4,
    "start_time": "2023-07-05T08:27:10.746Z"
   },
   {
    "duration": 4,
    "start_time": "2023-07-05T08:27:11.973Z"
   },
   {
    "duration": 2,
    "start_time": "2023-07-05T08:27:13.212Z"
   },
   {
    "duration": 214,
    "start_time": "2023-07-05T08:27:14.355Z"
   },
   {
    "duration": 15,
    "start_time": "2023-07-05T08:27:16.060Z"
   },
   {
    "duration": 213,
    "start_time": "2023-07-05T08:27:17.307Z"
   },
   {
    "duration": 262,
    "start_time": "2023-07-05T08:27:20.044Z"
   },
   {
    "duration": 228,
    "start_time": "2023-07-05T08:27:22.083Z"
   },
   {
    "duration": 213,
    "start_time": "2023-07-05T08:27:25.989Z"
   },
   {
    "duration": 7,
    "start_time": "2023-07-05T08:30:04.494Z"
   },
   {
    "duration": 5,
    "start_time": "2023-07-05T08:30:30.203Z"
   },
   {
    "duration": 129,
    "start_time": "2023-07-05T08:30:57.234Z"
   },
   {
    "duration": 5,
    "start_time": "2023-07-05T08:32:14.652Z"
   },
   {
    "duration": 6,
    "start_time": "2023-07-05T11:22:09.419Z"
   },
   {
    "duration": 61,
    "start_time": "2023-07-05T11:22:10.341Z"
   },
   {
    "duration": 8,
    "start_time": "2023-07-05T11:22:11.879Z"
   },
   {
    "duration": 8,
    "start_time": "2023-07-05T11:22:13.131Z"
   },
   {
    "duration": 4,
    "start_time": "2023-07-05T11:22:14.713Z"
   },
   {
    "duration": 4,
    "start_time": "2023-07-05T11:22:15.363Z"
   },
   {
    "duration": 3,
    "start_time": "2023-07-05T11:22:16.131Z"
   },
   {
    "duration": 209,
    "start_time": "2023-07-05T11:22:16.875Z"
   },
   {
    "duration": 14,
    "start_time": "2023-07-05T11:22:17.852Z"
   },
   {
    "duration": 229,
    "start_time": "2023-07-05T11:22:18.675Z"
   },
   {
    "duration": 203,
    "start_time": "2023-07-05T11:22:20.434Z"
   },
   {
    "duration": 135,
    "start_time": "2023-07-05T11:22:21.149Z"
   },
   {
    "duration": 208,
    "start_time": "2023-07-05T11:22:24.577Z"
   },
   {
    "duration": 8,
    "start_time": "2023-07-05T11:22:26.905Z"
   },
   {
    "duration": 4,
    "start_time": "2023-07-05T11:22:27.777Z"
   },
   {
    "duration": 19,
    "start_time": "2023-07-05T11:22:33.700Z"
   },
   {
    "duration": 5,
    "start_time": "2023-07-05T11:32:26.884Z"
   },
   {
    "duration": 12,
    "start_time": "2023-07-05T11:32:32.663Z"
   },
   {
    "duration": 13,
    "start_time": "2023-07-05T11:32:44.058Z"
   },
   {
    "duration": 239,
    "start_time": "2023-07-05T11:33:23.333Z"
   },
   {
    "duration": 287,
    "start_time": "2023-07-05T11:33:43.755Z"
   },
   {
    "duration": 6,
    "start_time": "2023-07-05T11:35:14.718Z"
   },
   {
    "duration": 3,
    "start_time": "2023-07-05T11:36:32.078Z"
   },
   {
    "duration": 27,
    "start_time": "2023-07-05T11:37:02.495Z"
   },
   {
    "duration": 437,
    "start_time": "2023-07-05T11:37:28.504Z"
   },
   {
    "duration": 33,
    "start_time": "2023-07-05T11:38:17.115Z"
   },
   {
    "duration": 244,
    "start_time": "2023-07-05T11:39:10.178Z"
   },
   {
    "duration": 23,
    "start_time": "2023-07-05T11:39:52.237Z"
   },
   {
    "duration": 2334,
    "start_time": "2023-07-05T11:40:11.397Z"
   },
   {
    "duration": 2,
    "start_time": "2023-07-05T11:40:55.323Z"
   },
   {
    "duration": 21,
    "start_time": "2023-07-05T11:44:06.132Z"
   },
   {
    "duration": 7,
    "start_time": "2023-07-05T11:46:27.697Z"
   },
   {
    "duration": 7,
    "start_time": "2023-07-05T11:46:43.511Z"
   },
   {
    "duration": 7,
    "start_time": "2023-07-05T11:46:58.110Z"
   },
   {
    "duration": 12,
    "start_time": "2023-07-05T11:47:36.935Z"
   },
   {
    "duration": 3,
    "start_time": "2023-07-05T11:48:52.866Z"
   },
   {
    "duration": 11,
    "start_time": "2023-07-05T11:48:53.696Z"
   },
   {
    "duration": 12,
    "start_time": "2023-07-05T11:49:15.408Z"
   },
   {
    "duration": 184912,
    "start_time": "2023-07-05T11:49:16.252Z"
   },
   {
    "duration": 12,
    "start_time": "2023-07-05T11:57:04.784Z"
   },
   {
    "duration": 62,
    "start_time": "2023-07-06T15:00:17.909Z"
   },
   {
    "duration": 3000,
    "start_time": "2023-07-06T15:00:30.215Z"
   },
   {
    "duration": 219,
    "start_time": "2023-07-06T15:00:33.849Z"
   },
   {
    "duration": 18,
    "start_time": "2023-07-06T15:00:34.897Z"
   },
   {
    "duration": 12,
    "start_time": "2023-07-06T15:00:35.298Z"
   },
   {
    "duration": 4,
    "start_time": "2023-07-06T15:00:35.694Z"
   },
   {
    "duration": 5,
    "start_time": "2023-07-06T15:00:36.001Z"
   },
   {
    "duration": 3,
    "start_time": "2023-07-06T15:00:36.155Z"
   },
   {
    "duration": 272,
    "start_time": "2023-07-06T15:00:36.290Z"
   },
   {
    "duration": 20,
    "start_time": "2023-07-06T15:00:38.309Z"
   },
   {
    "duration": 358,
    "start_time": "2023-07-06T15:00:38.802Z"
   },
   {
    "duration": 257,
    "start_time": "2023-07-06T15:00:39.169Z"
   },
   {
    "duration": 466,
    "start_time": "2023-07-06T15:00:40.090Z"
   },
   {
    "duration": 186,
    "start_time": "2023-07-06T15:00:40.917Z"
   },
   {
    "duration": 293,
    "start_time": "2023-07-06T15:00:42.070Z"
   },
   {
    "duration": 139,
    "start_time": "2023-07-06T15:00:42.372Z"
   },
   {
    "duration": 9,
    "start_time": "2023-07-06T15:00:44.937Z"
   },
   {
    "duration": 5,
    "start_time": "2023-07-06T15:00:45.250Z"
   },
   {
    "duration": 4,
    "start_time": "2023-07-06T15:00:45.493Z"
   },
   {
    "duration": 21,
    "start_time": "2023-07-06T15:00:46.610Z"
   },
   {
    "duration": 303,
    "start_time": "2023-07-06T15:00:46.902Z"
   },
   {
    "duration": 5,
    "start_time": "2023-07-06T15:00:47.207Z"
   },
   {
    "duration": 8,
    "start_time": "2023-07-06T15:00:48.293Z"
   },
   {
    "duration": 33,
    "start_time": "2023-07-06T15:00:49.587Z"
   },
   {
    "duration": 35,
    "start_time": "2023-07-06T15:00:50.629Z"
   },
   {
    "duration": 8,
    "start_time": "2023-07-06T15:00:52.093Z"
   },
   {
    "duration": 61,
    "start_time": "2023-07-06T15:00:52.857Z"
   },
   {
    "duration": 1115,
    "start_time": "2023-07-06T15:00:54.498Z"
   },
   {
    "duration": 16,
    "start_time": "2023-07-06T15:01:31.797Z"
   },
   {
    "duration": 23,
    "start_time": "2023-07-06T15:01:35.764Z"
   },
   {
    "duration": 671,
    "start_time": "2023-07-06T15:01:58.230Z"
   },
   {
    "duration": 1835,
    "start_time": "2023-07-10T12:05:41.865Z"
   },
   {
    "duration": 155,
    "start_time": "2023-07-10T12:05:43.703Z"
   },
   {
    "duration": 14,
    "start_time": "2023-07-10T12:05:46.100Z"
   },
   {
    "duration": 12,
    "start_time": "2023-07-10T12:05:48.196Z"
   },
   {
    "duration": 4,
    "start_time": "2023-07-10T12:05:50.109Z"
   },
   {
    "duration": 4,
    "start_time": "2023-07-10T12:05:54.195Z"
   },
   {
    "duration": 4,
    "start_time": "2023-07-10T12:05:54.397Z"
   },
   {
    "duration": 254,
    "start_time": "2023-07-10T12:05:54.633Z"
   },
   {
    "duration": 20,
    "start_time": "2023-07-10T12:06:01.874Z"
   },
   {
    "duration": 17,
    "start_time": "2023-07-10T12:07:09.639Z"
   },
   {
    "duration": 8,
    "start_time": "2023-07-10T12:08:30.563Z"
   },
   {
    "duration": 15,
    "start_time": "2023-07-10T12:08:31.735Z"
   },
   {
    "duration": 243,
    "start_time": "2023-07-10T12:08:33.423Z"
   },
   {
    "duration": 254,
    "start_time": "2023-07-10T12:08:34.344Z"
   },
   {
    "duration": 314,
    "start_time": "2023-07-10T12:08:36.535Z"
   },
   {
    "duration": 136,
    "start_time": "2023-07-10T12:08:37.386Z"
   },
   {
    "duration": 13,
    "start_time": "2023-07-10T12:08:53.512Z"
   },
   {
    "duration": 231,
    "start_time": "2023-07-10T12:08:57.138Z"
   },
   {
    "duration": 20,
    "start_time": "2023-07-10T12:08:58.473Z"
   },
   {
    "duration": 130,
    "start_time": "2023-07-10T12:08:59.697Z"
   },
   {
    "duration": 11,
    "start_time": "2023-07-10T12:09:31.995Z"
   },
   {
    "duration": 14,
    "start_time": "2023-07-10T12:09:32.229Z"
   },
   {
    "duration": 5,
    "start_time": "2023-07-10T12:09:34.655Z"
   },
   {
    "duration": 70,
    "start_time": "2023-07-10T12:09:35.342Z"
   },
   {
    "duration": 7,
    "start_time": "2023-07-10T12:09:36.929Z"
   },
   {
    "duration": 7,
    "start_time": "2023-07-10T12:09:38.097Z"
   },
   {
    "duration": 3,
    "start_time": "2023-07-10T12:09:39.717Z"
   },
   {
    "duration": 6,
    "start_time": "2023-07-10T12:09:40.273Z"
   },
   {
    "duration": 3,
    "start_time": "2023-07-10T12:09:41.106Z"
   },
   {
    "duration": 3,
    "start_time": "2023-07-10T12:09:41.594Z"
   },
   {
    "duration": 15,
    "start_time": "2023-07-10T12:09:42.311Z"
   },
   {
    "duration": 17,
    "start_time": "2023-07-10T12:10:04.882Z"
   },
   {
    "duration": 665,
    "start_time": "2023-07-10T12:10:10.818Z"
   },
   {
    "duration": 915,
    "start_time": "2023-07-10T12:10:22.530Z"
   },
   {
    "duration": 15,
    "start_time": "2023-07-10T12:10:25.234Z"
   },
   {
    "duration": 55,
    "start_time": "2023-07-10T12:10:50.825Z"
   },
   {
    "duration": 6,
    "start_time": "2023-07-10T12:10:55.072Z"
   },
   {
    "duration": 5,
    "start_time": "2023-07-10T12:10:55.305Z"
   },
   {
    "duration": 3,
    "start_time": "2023-07-10T12:10:55.602Z"
   },
   {
    "duration": 6,
    "start_time": "2023-07-10T12:10:55.768Z"
   },
   {
    "duration": 15,
    "start_time": "2023-07-10T12:10:55.992Z"
   },
   {
    "duration": 14,
    "start_time": "2023-07-10T12:10:56.199Z"
   },
   {
    "duration": 739,
    "start_time": "2023-07-10T12:10:56.413Z"
   },
   {
    "duration": 824,
    "start_time": "2023-07-10T12:10:57.459Z"
   },
   {
    "duration": 324,
    "start_time": "2023-07-10T12:10:58.711Z"
   },
   {
    "duration": 182,
    "start_time": "2023-07-10T12:10:59.321Z"
   },
   {
    "duration": 20,
    "start_time": "2023-07-10T12:11:01.047Z"
   },
   {
    "duration": 772,
    "start_time": "2023-07-10T12:11:03.096Z"
   },
   {
    "duration": 7,
    "start_time": "2023-07-10T12:11:45.892Z"
   },
   {
    "duration": 393,
    "start_time": "2023-07-10T12:11:47.219Z"
   },
   {
    "duration": 312,
    "start_time": "2023-07-10T12:11:48.700Z"
   },
   {
    "duration": 264,
    "start_time": "2023-07-10T12:11:51.025Z"
   },
   {
    "duration": 234,
    "start_time": "2023-07-10T12:11:51.863Z"
   },
   {
    "duration": 16,
    "start_time": "2023-07-10T12:11:54.666Z"
   },
   {
    "duration": 280,
    "start_time": "2023-07-10T12:12:17.216Z"
   },
   {
    "duration": 285,
    "start_time": "2023-07-10T12:12:54.604Z"
   },
   {
    "duration": 14,
    "start_time": "2023-07-10T12:12:56.544Z"
   },
   {
    "duration": 16,
    "start_time": "2023-07-10T12:13:06.256Z"
   },
   {
    "duration": 4,
    "start_time": "2023-07-10T12:13:07.430Z"
   },
   {
    "duration": 5,
    "start_time": "2023-07-10T12:13:08.035Z"
   },
   {
    "duration": 15,
    "start_time": "2023-07-10T12:13:09.003Z"
   },
   {
    "duration": 308,
    "start_time": "2023-07-10T12:13:10.106Z"
   },
   {
    "duration": 4,
    "start_time": "2023-07-10T12:13:11.478Z"
   },
   {
    "duration": 3,
    "start_time": "2023-07-10T12:13:12.704Z"
   },
   {
    "duration": 26,
    "start_time": "2023-07-10T12:13:13.355Z"
   },
   {
    "duration": 59,
    "start_time": "2023-07-10T12:13:14.143Z"
   },
   {
    "duration": 15,
    "start_time": "2023-07-10T12:13:15.261Z"
   },
   {
    "duration": 174,
    "start_time": "2023-07-10T12:13:16.201Z"
   },
   {
    "duration": 876,
    "start_time": "2023-07-10T12:13:23.835Z"
   },
   {
    "duration": 70,
    "start_time": "2023-07-10T12:13:24.714Z"
   },
   {
    "duration": 2015,
    "start_time": "2023-07-10T12:13:25.520Z"
   },
   {
    "duration": 4,
    "start_time": "2023-07-10T12:13:29.731Z"
   },
   {
    "duration": 9,
    "start_time": "2023-07-10T12:13:30.715Z"
   },
   {
    "duration": 8,
    "start_time": "2023-07-10T12:13:31.708Z"
   },
   {
    "duration": 8,
    "start_time": "2023-07-10T12:13:32.392Z"
   },
   {
    "duration": 204,
    "start_time": "2023-07-10T12:13:33.275Z"
   },
   {
    "duration": 15,
    "start_time": "2023-07-10T12:13:37.103Z"
   },
   {
    "duration": 369755,
    "start_time": "2023-07-10T12:13:39.869Z"
   },
   {
    "duration": 9,
    "start_time": "2023-07-10T12:25:03.925Z"
   },
   {
    "duration": 30,
    "start_time": "2023-07-10T12:27:26.550Z"
   },
   {
    "duration": 272,
    "start_time": "2023-07-10T12:38:06.455Z"
   },
   {
    "duration": 13,
    "start_time": "2023-07-10T12:40:05.112Z"
   },
   {
    "duration": 11,
    "start_time": "2023-07-10T12:41:11.426Z"
   },
   {
    "duration": 11766,
    "start_time": "2023-07-10T12:41:25.491Z"
   },
   {
    "duration": 13,
    "start_time": "2023-07-10T12:43:08.923Z"
   },
   {
    "duration": 31,
    "start_time": "2023-07-10T12:43:56.221Z"
   },
   {
    "duration": 62920,
    "start_time": "2023-07-10T12:43:57.166Z"
   },
   {
    "duration": 1142,
    "start_time": "2023-07-10T12:46:37.550Z"
   },
   {
    "duration": 8457,
    "start_time": "2023-07-11T11:24:26.244Z"
   },
   {
    "duration": 504,
    "start_time": "2023-07-11T11:24:34.705Z"
   },
   {
    "duration": 1807,
    "start_time": "2023-07-11T19:39:34.493Z"
   },
   {
    "duration": 128,
    "start_time": "2023-07-11T19:39:41.587Z"
   },
   {
    "duration": 9,
    "start_time": "2023-07-11T19:39:43.170Z"
   },
   {
    "duration": 10,
    "start_time": "2023-07-11T19:39:46.267Z"
   },
   {
    "duration": 4,
    "start_time": "2023-07-11T19:39:49.152Z"
   },
   {
    "duration": 3,
    "start_time": "2023-07-11T19:39:50.680Z"
   },
   {
    "duration": 2,
    "start_time": "2023-07-11T19:39:51.921Z"
   },
   {
    "duration": 14,
    "start_time": "2023-07-11T19:39:58.979Z"
   },
   {
    "duration": 9,
    "start_time": "2023-07-11T19:40:10.200Z"
   },
   {
    "duration": 253,
    "start_time": "2023-07-11T19:40:10.418Z"
   },
   {
    "duration": 132,
    "start_time": "2023-07-11T19:40:29.603Z"
   },
   {
    "duration": 11,
    "start_time": "2023-07-11T19:40:33.587Z"
   },
   {
    "duration": 155,
    "start_time": "2023-07-11T19:40:47.984Z"
   },
   {
    "duration": 4,
    "start_time": "2023-07-11T19:43:08.258Z"
   },
   {
    "duration": 325,
    "start_time": "2023-07-11T19:43:19.323Z"
   },
   {
    "duration": 6,
    "start_time": "2023-07-11T19:43:28.087Z"
   },
   {
    "duration": 4,
    "start_time": "2023-07-11T19:43:29.221Z"
   },
   {
    "duration": 4,
    "start_time": "2023-07-11T19:43:29.923Z"
   },
   {
    "duration": 13,
    "start_time": "2023-07-11T19:43:30.819Z"
   },
   {
    "duration": 286,
    "start_time": "2023-07-11T19:43:32.142Z"
   },
   {
    "duration": 6,
    "start_time": "2023-07-11T19:43:41.964Z"
   },
   {
    "duration": 4,
    "start_time": "2023-07-11T19:43:43.415Z"
   },
   {
    "duration": 24,
    "start_time": "2023-07-11T19:43:44.239Z"
   },
   {
    "duration": 45,
    "start_time": "2023-07-11T19:43:45.365Z"
   },
   {
    "duration": 6,
    "start_time": "2023-07-11T19:43:50.566Z"
   },
   {
    "duration": 36,
    "start_time": "2023-07-11T19:43:55.395Z"
   },
   {
    "duration": 475,
    "start_time": "2023-07-11T19:43:59.748Z"
   },
   {
    "duration": 9,
    "start_time": "2023-07-11T19:44:27.086Z"
   },
   {
    "duration": 7,
    "start_time": "2023-07-11T19:44:28.109Z"
   },
   {
    "duration": 6,
    "start_time": "2023-07-11T19:44:28.933Z"
   },
   {
    "duration": 209,
    "start_time": "2023-07-11T19:44:30.244Z"
   },
   {
    "duration": 16,
    "start_time": "2023-07-11T19:44:35.261Z"
   },
   {
    "duration": 24,
    "start_time": "2023-07-11T19:44:42.481Z"
   },
   {
    "duration": 4,
    "start_time": "2023-07-11T19:44:43.190Z"
   },
   {
    "duration": 212142,
    "start_time": "2023-07-11T19:44:50.934Z"
   },
   {
    "duration": 4,
    "start_time": "2023-07-11T19:48:56.005Z"
   },
   {
    "duration": 16,
    "start_time": "2023-07-11T19:48:57.433Z"
   },
   {
    "duration": 360840,
    "start_time": "2023-07-11T19:49:18.822Z"
   },
   {
    "duration": 16,
    "start_time": "2023-07-11T20:00:49.483Z"
   },
   {
    "duration": 1065,
    "start_time": "2023-07-11T20:10:07.130Z"
   },
   {
    "duration": 9029,
    "start_time": "2023-07-11T20:12:44.086Z"
   },
   {
    "duration": 1945,
    "start_time": "2023-07-12T07:56:25.461Z"
   },
   {
    "duration": 3,
    "start_time": "2023-07-12T07:57:25.900Z"
   },
   {
    "duration": 122,
    "start_time": "2023-07-12T07:57:26.940Z"
   },
   {
    "duration": 10,
    "start_time": "2023-07-12T07:57:29.162Z"
   },
   {
    "duration": 9,
    "start_time": "2023-07-12T07:57:31.594Z"
   },
   {
    "duration": 4,
    "start_time": "2023-07-12T07:57:33.820Z"
   },
   {
    "duration": 3,
    "start_time": "2023-07-12T07:57:34.738Z"
   },
   {
    "duration": 4,
    "start_time": "2023-07-12T07:57:47.644Z"
   },
   {
    "duration": 3,
    "start_time": "2023-07-12T07:57:51.226Z"
   },
   {
    "duration": 16,
    "start_time": "2023-07-12T07:57:52.091Z"
   },
   {
    "duration": 9,
    "start_time": "2023-07-12T07:57:53.259Z"
   },
   {
    "duration": 271,
    "start_time": "2023-07-12T07:57:54.195Z"
   },
   {
    "duration": 129,
    "start_time": "2023-07-12T07:57:57.959Z"
   },
   {
    "duration": 326,
    "start_time": "2023-07-12T07:58:08.931Z"
   },
   {
    "duration": 196,
    "start_time": "2023-07-12T07:58:27.420Z"
   },
   {
    "duration": 16,
    "start_time": "2023-07-12T07:59:25.089Z"
   },
   {
    "duration": 307,
    "start_time": "2023-07-12T07:59:45.649Z"
   },
   {
    "duration": 7,
    "start_time": "2023-07-12T07:59:59.524Z"
   },
   {
    "duration": 4,
    "start_time": "2023-07-12T08:00:00.727Z"
   },
   {
    "duration": 5,
    "start_time": "2023-07-12T08:00:01.749Z"
   },
   {
    "duration": 15,
    "start_time": "2023-07-12T08:00:05.671Z"
   },
   {
    "duration": 296,
    "start_time": "2023-07-12T08:00:16.975Z"
   },
   {
    "duration": 19,
    "start_time": "2023-07-12T08:02:52.581Z"
   },
   {
    "duration": 53,
    "start_time": "2023-07-12T08:03:22.541Z"
   },
   {
    "duration": 47,
    "start_time": "2023-09-27T06:43:12.952Z"
   },
   {
    "duration": 0,
    "start_time": "2023-09-27T06:43:13.000Z"
   },
   {
    "duration": 0,
    "start_time": "2023-09-27T06:43:13.001Z"
   },
   {
    "duration": 0,
    "start_time": "2023-09-27T06:43:13.003Z"
   },
   {
    "duration": 0,
    "start_time": "2023-09-27T06:43:13.003Z"
   },
   {
    "duration": 0,
    "start_time": "2023-09-27T06:43:13.004Z"
   },
   {
    "duration": 0,
    "start_time": "2023-09-27T06:43:13.005Z"
   },
   {
    "duration": 0,
    "start_time": "2023-09-27T06:43:13.007Z"
   },
   {
    "duration": 7,
    "start_time": "2023-09-27T06:43:13.008Z"
   },
   {
    "duration": 6,
    "start_time": "2023-09-27T06:43:13.043Z"
   },
   {
    "duration": 0,
    "start_time": "2023-09-27T06:43:13.051Z"
   },
   {
    "duration": 0,
    "start_time": "2023-09-27T06:43:13.053Z"
   },
   {
    "duration": 0,
    "start_time": "2023-09-27T06:43:13.054Z"
   },
   {
    "duration": 19,
    "start_time": "2023-09-27T06:43:13.056Z"
   },
   {
    "duration": 0,
    "start_time": "2023-09-27T06:43:13.076Z"
   },
   {
    "duration": 24,
    "start_time": "2023-09-27T06:43:13.080Z"
   },
   {
    "duration": 0,
    "start_time": "2023-09-27T06:43:13.106Z"
   },
   {
    "duration": 0,
    "start_time": "2023-09-27T06:43:13.108Z"
   },
   {
    "duration": 0,
    "start_time": "2023-09-27T06:43:13.109Z"
   },
   {
    "duration": 31,
    "start_time": "2023-09-27T06:43:13.115Z"
   },
   {
    "duration": 0,
    "start_time": "2023-09-27T06:43:13.147Z"
   },
   {
    "duration": 0,
    "start_time": "2023-09-27T06:43:13.148Z"
   },
   {
    "duration": 0,
    "start_time": "2023-09-27T06:43:13.149Z"
   },
   {
    "duration": 13,
    "start_time": "2023-09-27T06:43:13.151Z"
   },
   {
    "duration": 1126,
    "start_time": "2023-09-27T06:45:11.591Z"
   },
   {
    "duration": 1107,
    "start_time": "2023-09-27T06:45:45.238Z"
   },
   {
    "duration": 76,
    "start_time": "2023-09-27T06:45:46.347Z"
   },
   {
    "duration": 12,
    "start_time": "2023-09-27T06:45:46.424Z"
   },
   {
    "duration": 29,
    "start_time": "2023-09-27T06:45:46.438Z"
   },
   {
    "duration": 28,
    "start_time": "2023-09-27T06:45:46.469Z"
   },
   {
    "duration": 27,
    "start_time": "2023-09-27T06:45:46.498Z"
   },
   {
    "duration": 9,
    "start_time": "2023-09-27T06:45:46.527Z"
   },
   {
    "duration": 22,
    "start_time": "2023-09-27T06:45:46.538Z"
   },
   {
    "duration": 7,
    "start_time": "2023-09-27T06:45:46.644Z"
   },
   {
    "duration": 95,
    "start_time": "2023-09-27T06:45:46.654Z"
   },
   {
    "duration": 45,
    "start_time": "2023-09-27T06:45:46.751Z"
   },
   {
    "duration": 15,
    "start_time": "2023-09-27T06:45:46.798Z"
   },
   {
    "duration": 29,
    "start_time": "2023-09-27T06:45:46.815Z"
   },
   {
    "duration": 4,
    "start_time": "2023-09-27T06:45:46.846Z"
   },
   {
    "duration": 9,
    "start_time": "2023-09-27T06:45:46.851Z"
   },
   {
    "duration": 15,
    "start_time": "2023-09-27T06:45:46.862Z"
   },
   {
    "duration": 20,
    "start_time": "2023-09-27T06:45:46.878Z"
   }
  ],
  "kernelspec": {
   "display_name": "Python 3 (ipykernel)",
   "language": "python",
   "name": "python3"
  },
  "language_info": {
   "codemirror_mode": {
    "name": "ipython",
    "version": 3
   },
   "file_extension": ".py",
   "mimetype": "text/x-python",
   "name": "python",
   "nbconvert_exporter": "python",
   "pygments_lexer": "ipython3",
   "version": "3.9.5"
  },
  "toc": {
   "base_numbering": 1,
   "nav_menu": {},
   "number_sections": true,
   "sideBar": true,
   "skip_h1_title": true,
   "title_cell": "Содержание",
   "title_sidebar": "Contents",
   "toc_cell": true,
   "toc_position": {},
   "toc_section_display": true,
   "toc_window_display": true
  }
 },
 "nbformat": 4,
 "nbformat_minor": 2
}
