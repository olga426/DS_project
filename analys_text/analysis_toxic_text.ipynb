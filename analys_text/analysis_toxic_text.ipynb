{
 "cells": [
  {
   "cell_type": "markdown",
   "metadata": {
    "toc": true
   },
   "source": [
    "<h1>Содержание<span class=\"tocSkip\"></span></h1>\n",
    "<div class=\"toc\"><ul class=\"toc-item\"><li><span><a href=\"#Подготовка\" data-toc-modified-id=\"Подготовка-1\"><span class=\"toc-item-num\">1&nbsp;&nbsp;</span>Подготовка</a></span></li><li><span><a href=\"#Обучение\" data-toc-modified-id=\"Обучение-2\"><span class=\"toc-item-num\">2&nbsp;&nbsp;</span>Обучение</a></span></li><li><span><a href=\"#Выводы\" data-toc-modified-id=\"Выводы-3\"><span class=\"toc-item-num\">3&nbsp;&nbsp;</span>Выводы</a></span><ul class=\"toc-item\"><li><ul class=\"toc-item\"><li><span><a href=\"#Общий-вывод:\" data-toc-modified-id=\"Общий-вывод:-3.0.1\"><span class=\"toc-item-num\">3.0.1&nbsp;&nbsp;</span>Общий вывод:</a></span></li></ul></li></ul></li></ul></div>"
   ]
  },
  {
   "cell_type": "markdown",
   "metadata": {},
   "source": [
    "# Проект для «Викишоп»"
   ]
  },
  {
   "cell_type": "markdown",
   "metadata": {},
   "source": [
    "Интернет-магазин «Викишоп» запускает новый сервис. Теперь пользователи могут редактировать и дополнять описания товаров, как в вики-сообществах. То есть клиенты предлагают свои правки и комментируют изменения других. Магазину нужен инструмент, который будет искать токсичные комментарии и отправлять их на модерацию. \n",
    "\n",
    "Обучите модель классифицировать комментарии на позитивные и негативные. В вашем распоряжении набор данных с разметкой о токсичности правок.\n",
    "\n",
    "Постройте модель со значением метрики качества *F1* не меньше 0.75. \n",
    "\n",
    "**Инструкция по выполнению проекта**\n",
    "\n",
    "1. Загрузите и подготовьте данные.\n",
    "2. Обучите разные модели. \n",
    "3. Сделайте выводы.\n",
    "\n",
    "Для выполнения проекта применять *BERT* необязательно, но вы можете попробовать.\n",
    "\n",
    "**Описание данных**\n",
    "\n",
    "Данные находятся в файле `toxic_comments.csv`. Столбец *text* в нём содержит текст комментария, а *toxic* — целевой признак."
   ]
  },
  {
   "cell_type": "markdown",
   "metadata": {},
   "source": [
    "## Подготовка"
   ]
  },
  {
   "cell_type": "code",
   "execution_count": 1,
   "metadata": {},
   "outputs": [],
   "source": [
    "import pandas as pd\n",
    "import os\n",
    "import numpy as np\n",
    "import re\n",
    "from nltk.corpus import wordnet\n",
    "from nltk.stem import WordNetLemmatizer\n",
    "from sklearn.feature_extraction.text import TfidfVectorizer"
   ]
  },
  {
   "cell_type": "code",
   "execution_count": 2,
   "metadata": {},
   "outputs": [],
   "source": [
    "from nltk.corpus import stopwords as nltk_stopwords\n",
    "from sklearn.model_selection import train_test_split\n",
    "from sklearn.model_selection import GridSearchCV\n",
    "from sklearn.tree import DecisionTreeClassifier\n",
    "from sklearn.ensemble import RandomForestClassifier\n",
    "from sklearn.linear_model import LogisticRegression\n",
    "from sklearn.metrics import f1_score\n",
    "import matplotlib.pyplot as plt\n",
    "from sklearn.ensemble import RandomForestRegressor"
   ]
  },
  {
   "cell_type": "code",
   "execution_count": 3,
   "metadata": {},
   "outputs": [
    {
     "name": "stderr",
     "output_type": "stream",
     "text": [
      "[nltk_data] Downloading package wordnet to /home/jovyan/nltk_data...\n",
      "[nltk_data]   Package wordnet is already up-to-date!\n",
      "[nltk_data] Downloading package punkt to /home/jovyan/nltk_data...\n",
      "[nltk_data]   Package punkt is already up-to-date!\n"
     ]
    },
    {
     "data": {
      "text/plain": [
       "True"
      ]
     },
     "execution_count": 3,
     "metadata": {},
     "output_type": "execute_result"
    }
   ],
   "source": [
    "import nltk\n",
    "nltk.download(\"wordnet\")\n",
    "nltk.download(\"punkt\")\n"
   ]
  },
  {
   "cell_type": "code",
   "execution_count": 4,
   "metadata": {},
   "outputs": [
    {
     "name": "stderr",
     "output_type": "stream",
     "text": [
      "[nltk_data] Downloading package omw-1.4 to /home/jovyan/nltk_data...\n",
      "[nltk_data] Downloading package averaged_perceptron_tagger to\n",
      "[nltk_data]     /home/jovyan/nltk_data...\n",
      "[nltk_data]   Unzipping taggers/averaged_perceptron_tagger.zip.\n",
      "[nltk_data] Downloading package stopwords to /home/jovyan/nltk_data...\n",
      "[nltk_data]   Package stopwords is already up-to-date!\n"
     ]
    },
    {
     "data": {
      "text/plain": [
       "True"
      ]
     },
     "execution_count": 4,
     "metadata": {},
     "output_type": "execute_result"
    }
   ],
   "source": [
    "nltk.download(\"omw-1.4\")\n",
    "nltk.download('averaged_perceptron_tagger')\n",
    "nltk.download('stopwords')"
   ]
  },
  {
   "cell_type": "code",
   "execution_count": 5,
   "metadata": {},
   "outputs": [],
   "source": [
    "from nltk import word_tokenize, sent_tokenize, FreqDist\n",
    "from collections import defaultdict, Counter\n",
    "import string\n",
    "import requests\n",
    "from sklearn.feature_extraction.text import CountVectorizer"
   ]
  },
  {
   "cell_type": "code",
   "execution_count": 6,
   "metadata": {},
   "outputs": [],
   "source": [
    "data=pd.read_csv(\"/datasets/toxic_comments.csv\",index_col=0)"
   ]
  },
  {
   "cell_type": "code",
   "execution_count": 7,
   "metadata": {},
   "outputs": [
    {
     "data": {
      "text/html": [
       "<div>\n",
       "<style scoped>\n",
       "    .dataframe tbody tr th:only-of-type {\n",
       "        vertical-align: middle;\n",
       "    }\n",
       "\n",
       "    .dataframe tbody tr th {\n",
       "        vertical-align: top;\n",
       "    }\n",
       "\n",
       "    .dataframe thead th {\n",
       "        text-align: right;\n",
       "    }\n",
       "</style>\n",
       "<table border=\"1\" class=\"dataframe\">\n",
       "  <thead>\n",
       "    <tr style=\"text-align: right;\">\n",
       "      <th></th>\n",
       "      <th>text</th>\n",
       "      <th>toxic</th>\n",
       "    </tr>\n",
       "  </thead>\n",
       "  <tbody>\n",
       "    <tr>\n",
       "      <th>0</th>\n",
       "      <td>Explanation\\nWhy the edits made under my usern...</td>\n",
       "      <td>0</td>\n",
       "    </tr>\n",
       "    <tr>\n",
       "      <th>1</th>\n",
       "      <td>D'aww! He matches this background colour I'm s...</td>\n",
       "      <td>0</td>\n",
       "    </tr>\n",
       "    <tr>\n",
       "      <th>2</th>\n",
       "      <td>Hey man, I'm really not trying to edit war. It...</td>\n",
       "      <td>0</td>\n",
       "    </tr>\n",
       "    <tr>\n",
       "      <th>3</th>\n",
       "      <td>\"\\nMore\\nI can't make any real suggestions on ...</td>\n",
       "      <td>0</td>\n",
       "    </tr>\n",
       "    <tr>\n",
       "      <th>4</th>\n",
       "      <td>You, sir, are my hero. Any chance you remember...</td>\n",
       "      <td>0</td>\n",
       "    </tr>\n",
       "  </tbody>\n",
       "</table>\n",
       "</div>"
      ],
      "text/plain": [
       "                                                text  toxic\n",
       "0  Explanation\\nWhy the edits made under my usern...      0\n",
       "1  D'aww! He matches this background colour I'm s...      0\n",
       "2  Hey man, I'm really not trying to edit war. It...      0\n",
       "3  \"\\nMore\\nI can't make any real suggestions on ...      0\n",
       "4  You, sir, are my hero. Any chance you remember...      0"
      ]
     },
     "execution_count": 7,
     "metadata": {},
     "output_type": "execute_result"
    }
   ],
   "source": [
    "data.head(5)"
   ]
  },
  {
   "cell_type": "code",
   "execution_count": 8,
   "metadata": {},
   "outputs": [
    {
     "name": "stdout",
     "output_type": "stream",
     "text": [
      "<class 'pandas.core.frame.DataFrame'>\n",
      "Int64Index: 159292 entries, 0 to 159450\n",
      "Data columns (total 2 columns):\n",
      " #   Column  Non-Null Count   Dtype \n",
      "---  ------  --------------   ----- \n",
      " 0   text    159292 non-null  object\n",
      " 1   toxic   159292 non-null  int64 \n",
      "dtypes: int64(1), object(1)\n",
      "memory usage: 3.6+ MB\n"
     ]
    }
   ],
   "source": [
    "data.info()"
   ]
  },
  {
   "cell_type": "code",
   "execution_count": 9,
   "metadata": {},
   "outputs": [
    {
     "data": {
      "text/plain": [
       "0    143106\n",
       "1     16186\n",
       "Name: toxic, dtype: int64"
      ]
     },
     "execution_count": 9,
     "metadata": {},
     "output_type": "execute_result"
    }
   ],
   "source": [
    "# найдем уникальные значения для столбца \"toxic\", который будет у нас целевым признаком\n",
    "data.toxic.value_counts()"
   ]
  },
  {
   "cell_type": "code",
   "execution_count": 10,
   "metadata": {},
   "outputs": [
    {
     "data": {
      "image/png": "[encoded data removed]",
      "text/plain": [
       "<Figure size 432x288 with 1 Axes>"
      ]
     },
     "metadata": {},
     "output_type": "display_data"
    }
   ],
   "source": [
    "data['toxic'].value_counts().plot(kind='pie',title='Соотношение классов целевой переменной');"
   ]
  },
  {
   "cell_type": "code",
   "execution_count": 11,
   "metadata": {},
   "outputs": [],
   "source": [
    "df = pd.DataFrame(data)"
   ]
  },
  {
   "cell_type": "code",
   "execution_count": 12,
   "metadata": {},
   "outputs": [],
   "source": [
    "# переведем текст в нижний регистр\n",
    "df['text'] = df['text'].str.lower()"
   ]
  },
  {
   "cell_type": "code",
   "execution_count": 13,
   "metadata": {},
   "outputs": [],
   "source": [
    "df['length'] = df['text'].apply(len)"
   ]
  },
  {
   "cell_type": "code",
   "execution_count": 14,
   "metadata": {},
   "outputs": [
    {
     "data": {
      "text/html": [
       "<div>\n",
       "<style scoped>\n",
       "    .dataframe tbody tr th:only-of-type {\n",
       "        vertical-align: middle;\n",
       "    }\n",
       "\n",
       "    .dataframe tbody tr th {\n",
       "        vertical-align: top;\n",
       "    }\n",
       "\n",
       "    .dataframe thead th {\n",
       "        text-align: right;\n",
       "    }\n",
       "</style>\n",
       "<table border=\"1\" class=\"dataframe\">\n",
       "  <thead>\n",
       "    <tr style=\"text-align: right;\">\n",
       "      <th></th>\n",
       "      <th>text</th>\n",
       "      <th>toxic</th>\n",
       "      <th>length</th>\n",
       "    </tr>\n",
       "  </thead>\n",
       "  <tbody>\n",
       "    <tr>\n",
       "      <th>0</th>\n",
       "      <td>explanation\\nwhy the edits made under my usern...</td>\n",
       "      <td>0</td>\n",
       "      <td>264</td>\n",
       "    </tr>\n",
       "    <tr>\n",
       "      <th>1</th>\n",
       "      <td>d'aww! he matches this background colour i'm s...</td>\n",
       "      <td>0</td>\n",
       "      <td>112</td>\n",
       "    </tr>\n",
       "    <tr>\n",
       "      <th>2</th>\n",
       "      <td>hey man, i'm really not trying to edit war. it...</td>\n",
       "      <td>0</td>\n",
       "      <td>233</td>\n",
       "    </tr>\n",
       "    <tr>\n",
       "      <th>3</th>\n",
       "      <td>\"\\nmore\\ni can't make any real suggestions on ...</td>\n",
       "      <td>0</td>\n",
       "      <td>622</td>\n",
       "    </tr>\n",
       "    <tr>\n",
       "      <th>4</th>\n",
       "      <td>you, sir, are my hero. any chance you remember...</td>\n",
       "      <td>0</td>\n",
       "      <td>67</td>\n",
       "    </tr>\n",
       "  </tbody>\n",
       "</table>\n",
       "</div>"
      ],
      "text/plain": [
       "                                                text  toxic  length\n",
       "0  explanation\\nwhy the edits made under my usern...      0     264\n",
       "1  d'aww! he matches this background colour i'm s...      0     112\n",
       "2  hey man, i'm really not trying to edit war. it...      0     233\n",
       "3  \"\\nmore\\ni can't make any real suggestions on ...      0     622\n",
       "4  you, sir, are my hero. any chance you remember...      0      67"
      ]
     },
     "execution_count": 14,
     "metadata": {},
     "output_type": "execute_result"
    }
   ],
   "source": [
    "df.head()\n"
   ]
  },
  {
   "cell_type": "code",
   "execution_count": 15,
   "metadata": {},
   "outputs": [
    {
     "data": {
      "text/html": [
       "<div>\n",
       "<style scoped>\n",
       "    .dataframe tbody tr th:only-of-type {\n",
       "        vertical-align: middle;\n",
       "    }\n",
       "\n",
       "    .dataframe tbody tr th {\n",
       "        vertical-align: top;\n",
       "    }\n",
       "\n",
       "    .dataframe thead th {\n",
       "        text-align: right;\n",
       "    }\n",
       "</style>\n",
       "<table border=\"1\" class=\"dataframe\">\n",
       "  <thead>\n",
       "    <tr style=\"text-align: right;\">\n",
       "      <th></th>\n",
       "      <th>text</th>\n",
       "      <th>toxic</th>\n",
       "      <th>length</th>\n",
       "    </tr>\n",
       "  </thead>\n",
       "  <tbody>\n",
       "    <tr>\n",
       "      <th>25139</th>\n",
       "      <td>there's a logic problem here guys. if nobody s...</td>\n",
       "      <td>0</td>\n",
       "      <td>304</td>\n",
       "    </tr>\n",
       "  </tbody>\n",
       "</table>\n",
       "</div>"
      ],
      "text/plain": [
       "                                                    text  toxic  length\n",
       "25139  there's a logic problem here guys. if nobody s...      0     304"
      ]
     },
     "execution_count": 15,
     "metadata": {},
     "output_type": "execute_result"
    }
   ],
   "source": [
    "data.sample()"
   ]
  },
  {
   "cell_type": "code",
   "execution_count": 16,
   "metadata": {},
   "outputs": [],
   "source": [
    "# сделаем срезы по токсичным и нетоксичным комментариям\n",
    "toxic = df[df['toxic'] == 1]\n",
    "nontoxic = df[df['toxic'] != 1]"
   ]
  },
  {
   "cell_type": "code",
   "execution_count": 17,
   "metadata": {},
   "outputs": [],
   "source": [
    "# инициализируем Wordnet Lemmatizer\n",
    "lemmatizer = WordNetLemmatizer()"
   ]
  },
  {
   "cell_type": "code",
   "execution_count": 18,
   "metadata": {},
   "outputs": [],
   "source": [
    "# напишем функцию для pos-тегов - маркировки частей речи\n",
    "def get_wordnet_pos(word):\n",
    "    tag = nltk.pos_tag([word])[0][1][0].upper()\n",
    "    tag_dict = {\"J\": wordnet.ADJ,\n",
    "                \"N\": wordnet.NOUN,\n",
    "                \"V\": wordnet.VERB,\n",
    "                \"R\": wordnet.ADV}\n",
    "    return tag_dict.get(tag, wordnet.NOUN)\n",
    "# Lemmatize corpus with the appropriate POS tag\n",
    "# print([lemmatizer.lemmatize(w, get_wordnet_pos(w)) for w in nltk.word_tokenize(lem(clear_text(corpus[0])))])"
   ]
  },
  {
   "cell_type": "code",
   "execution_count": 19,
   "metadata": {},
   "outputs": [],
   "source": [
    "# напишем функцию для очистки и лемматизации текста с маркированными частями речи\n",
    "def clear_text(text):\n",
    "    reg = re.sub(r'[^a-zA-Z]', ' ', text)\n",
    "    clear = reg.split()\n",
    "    lemm = []\n",
    "    # в цикле лемматизируем очищенный текст\n",
    "    for i in range(len(clear)):\n",
    "      lemm.append(lemmatizer.lemmatize(clear[i], get_wordnet_pos(clear[i])))\n",
    "    return \" \".join(lemm)"
   ]
  },
  {
   "cell_type": "code",
   "execution_count": 20,
   "metadata": {},
   "outputs": [],
   "source": [
    "# применим функцию к столбцу \"текст\" и создадим столбец с лемматризированным текстом\n",
    "# %%time\n",
    "df['lemmatized_text'] = df['text'].apply(clear_text)"
   ]
  },
  {
   "cell_type": "code",
   "execution_count": 21,
   "metadata": {},
   "outputs": [
    {
     "data": {
      "text/html": [
       "<div>\n",
       "<style scoped>\n",
       "    .dataframe tbody tr th:only-of-type {\n",
       "        vertical-align: middle;\n",
       "    }\n",
       "\n",
       "    .dataframe tbody tr th {\n",
       "        vertical-align: top;\n",
       "    }\n",
       "\n",
       "    .dataframe thead th {\n",
       "        text-align: right;\n",
       "    }\n",
       "</style>\n",
       "<table border=\"1\" class=\"dataframe\">\n",
       "  <thead>\n",
       "    <tr style=\"text-align: right;\">\n",
       "      <th></th>\n",
       "      <th>text</th>\n",
       "      <th>toxic</th>\n",
       "      <th>length</th>\n",
       "      <th>lemmatized_text</th>\n",
       "    </tr>\n",
       "  </thead>\n",
       "  <tbody>\n",
       "    <tr>\n",
       "      <th>0</th>\n",
       "      <td>explanation\\nwhy the edits made under my usern...</td>\n",
       "      <td>0</td>\n",
       "      <td>264</td>\n",
       "      <td>explanation why the edits make under my userna...</td>\n",
       "    </tr>\n",
       "    <tr>\n",
       "      <th>1</th>\n",
       "      <td>d'aww! he matches this background colour i'm s...</td>\n",
       "      <td>0</td>\n",
       "      <td>112</td>\n",
       "      <td>d aww he match this background colour i m seem...</td>\n",
       "    </tr>\n",
       "    <tr>\n",
       "      <th>2</th>\n",
       "      <td>hey man, i'm really not trying to edit war. it...</td>\n",
       "      <td>0</td>\n",
       "      <td>233</td>\n",
       "      <td>hey man i m really not try to edit war it s ju...</td>\n",
       "    </tr>\n",
       "    <tr>\n",
       "      <th>3</th>\n",
       "      <td>\"\\nmore\\ni can't make any real suggestions on ...</td>\n",
       "      <td>0</td>\n",
       "      <td>622</td>\n",
       "      <td>more i can t make any real suggestion on impro...</td>\n",
       "    </tr>\n",
       "    <tr>\n",
       "      <th>4</th>\n",
       "      <td>you, sir, are my hero. any chance you remember...</td>\n",
       "      <td>0</td>\n",
       "      <td>67</td>\n",
       "      <td>you sir be my hero any chance you remember wha...</td>\n",
       "    </tr>\n",
       "  </tbody>\n",
       "</table>\n",
       "</div>"
      ],
      "text/plain": [
       "                                                text  toxic  length  \\\n",
       "0  explanation\\nwhy the edits made under my usern...      0     264   \n",
       "1  d'aww! he matches this background colour i'm s...      0     112   \n",
       "2  hey man, i'm really not trying to edit war. it...      0     233   \n",
       "3  \"\\nmore\\ni can't make any real suggestions on ...      0     622   \n",
       "4  you, sir, are my hero. any chance you remember...      0      67   \n",
       "\n",
       "                                     lemmatized_text  \n",
       "0  explanation why the edits make under my userna...  \n",
       "1  d aww he match this background colour i m seem...  \n",
       "2  hey man i m really not try to edit war it s ju...  \n",
       "3  more i can t make any real suggestion on impro...  \n",
       "4  you sir be my hero any chance you remember wha...  "
      ]
     },
     "execution_count": 21,
     "metadata": {},
     "output_type": "execute_result"
    }
   ],
   "source": [
    "df.head()"
   ]
  },
  {
   "cell_type": "code",
   "execution_count": 22,
   "metadata": {},
   "outputs": [],
   "source": [
    "# сделаем срез по токсичным комментариям\n",
    "toxic_lem = df[df['toxic'] ==1]"
   ]
  },
  {
   "cell_type": "code",
   "execution_count": 23,
   "metadata": {},
   "outputs": [],
   "source": [
    "corpus = list(toxic_lem['lemmatized_text'])\n",
    "\n"
   ]
  },
  {
   "cell_type": "code",
   "execution_count": 24,
   "metadata": {},
   "outputs": [],
   "source": [
    "# чтобы почистить мешок слов, найдём стоп-слова, то есть слова без смысловой нагрузки.\n",
    "stop_words = list(nltk_stopwords.words('english'))\n",
    "\n",
    "# чтобы преобразовать корпус текстов в мешок слов, обратимся к классу CountVectorizer()\n",
    "# создадим счетчик: зададим максимальное значение признаков 20 наиболее часто встречающихся слов\n",
    "# и передадим стоп-слова в счетчик векторов\n",
    "count_vect = CountVectorizer(max_features=20, stop_words=stop_words)#\n",
    "\n",
    "# создадим мешок слов bow, от англ. bag of words.\n",
    "# передадим счётчику корпус текстов, вызвав функцию fit_transform().\n",
    "# счётчик выделит из корпуса уникальные слова и посчитает количество их вхождений в каждом тексте корпуса.\n",
    "bow = count_vect.fit_transform(corpus)\n"
   ]
  },
  {
   "cell_type": "code",
   "execution_count": 25,
   "metadata": {},
   "outputs": [],
   "source": [
    "# разделим выборки на обучающую, валидационную и тестовую в пропорции 60%-20%-20%\n",
    "target = df['toxic']\n",
    "features = df['lemmatized_text']"
   ]
  },
  {
   "cell_type": "code",
   "execution_count": 26,
   "metadata": {},
   "outputs": [],
   "source": [
    "#указываем stratify=target, чтобы сохранить соотношение классов при разделении\n",
    "#сначала разделим на обучающую и тестовую в соотношении 60%-40%\n",
    "features_train, features_test, target_train, target_test = train_test_split(\n",
    "    features, target, test_size=0.2, random_state=12345, stratify=target)\n"
   ]
  },
  {
   "cell_type": "code",
   "execution_count": 27,
   "metadata": {},
   "outputs": [],
   "source": [
    "#разделим тестовую выборку пополам на тестовую и валидационную\n",
    "features_valid, features_test, target_valid, target_test = train_test_split(\n",
    "    features_test, target_test, test_size=0.50, random_state=12345, stratify=target_test)"
   ]
  },
  {
   "cell_type": "code",
   "execution_count": 28,
   "metadata": {},
   "outputs": [
    {
     "name": "stdout",
     "output_type": "stream",
     "text": [
      "0    89.8%\n",
      "1    10.2%\n",
      "Name: toxic, dtype: object\n",
      "0    89.8%\n",
      "1    10.2%\n",
      "Name: toxic, dtype: object\n",
      "0    89.8%\n",
      "1    10.2%\n",
      "Name: toxic, dtype: object\n"
     ]
    }
   ],
   "source": [
    "# проверим выборки на дисбаланс классов\n",
    "print(target_train.value_counts(\n",
    "    normalize=True).mul(100).round(1).astype(str) + '%')\n",
    "print(target_valid.value_counts(\n",
    "    normalize=True).mul(100).round(1).astype(str) + '%')\n",
    "print(target_test.value_counts(\n",
    "    normalize=True).mul(100).round(1).astype(str) + '%')"
   ]
  },
  {
   "cell_type": "code",
   "execution_count": 29,
   "metadata": {},
   "outputs": [],
   "source": [
    "# найдём стоп-слова, то есть слова без смысловой нагрузки\n",
    "# для этого вызовем функцию stopwords.words(), передадим ей аргумент\n",
    "# 'english' для английского языка\n",
    "stopwords = list(nltk_stopwords.words('english'))\n",
    "\n",
    "# при создании счётчика передадим список стоп-слов в счётчик tfidf():\n",
    "count_tf_idf = TfidfVectorizer(stop_words=stopwords)\n"
   ]
  },
  {
   "cell_type": "markdown",
   "metadata": {},
   "source": [
    "думаю хотя причины удаления стоп-слов могут быть разными для CountVectorizer и TF-IDF, в обоих случаях удаление стоп-слов может быть полезным для повышения качества модели и снижения размерности данных. к примеру удаление стоп-слов помогает снизить размерность и повысить производительность модели при использовании TF-IDF. а CountVectorizer преобразует текстовые данные в матрицу,поэтому удаление стоп-слов в CountVectorizer как я понимаю  снижает размерность матрицы и тем самым улучшает производительность модели."
   ]
  },
  {
   "cell_type": "code",
   "execution_count": 30,
   "metadata": {},
   "outputs": [],
   "source": [
    "train_tf_idf = count_tf_idf.fit_transform(features_train)\n",
    "#valid_tf_idf = count_tf_idf.transform(features_valid)\n",
    "test_tf_idf = count_tf_idf.transform(features_test)"
   ]
  },
  {
   "cell_type": "code",
   "execution_count": 31,
   "metadata": {},
   "outputs": [
    {
     "name": "stdout",
     "output_type": "stream",
     "text": [
      "Размер матрицы: (127433, 132712)\n",
      "Размер матрицы: (15930, 132712)\n"
     ]
    }
   ],
   "source": [
    "print(\"Размер матрицы:\", train_tf_idf.shape)\n",
    "#print(\"Размер матрицы:\", valid_tf_idf.shape)\n",
    "print(\"Размер матрицы:\", test_tf_idf.shape)"
   ]
  },
  {
   "cell_type": "markdown",
   "metadata": {},
   "source": [
    "Провёла лемматизацию и очистила текст от лишних символов.\n",
    "Подготовила выборки."
   ]
  },
  {
   "cell_type": "markdown",
   "metadata": {},
   "source": [
    "## Обучение"
   ]
  },
  {
   "cell_type": "code",
   "execution_count": 32,
   "metadata": {},
   "outputs": [],
   "source": [
    "parameters = {\n",
    "    'C': [10],  # были варианты: 1, 5, 15\n",
    "    'penalty': ['l2'],  # был вариант: 'l1'\n",
    "    'max_iter': [100],  # были варианты: 50, 200, 250\n",
    "}"
   ]
  },
  {
   "cell_type": "code",
   "execution_count": 33,
   "metadata": {},
   "outputs": [
    {
     "name": "stdout",
     "output_type": "stream",
     "text": [
      "Лучший показатель F1: 0.759\n",
      "\n"
     ]
    }
   ],
   "source": [
    "# обучим модель логистической регрессии,\n",
    "# укажем гиперпараметр class_weight='balanced'\n",
    "# найдем наилучшее значение С\n",
    "\n",
    "model = LogisticRegression(class_weight='balanced',\n",
    "                          random_state=12345,\n",
    "                          max_iter=1000,\n",
    "                          solver='liblinear')\n",
    "\n",
    "lin_grid = GridSearchCV(model, parameters, scoring='f1', cv=3)\n",
    "# обучим модель на тренировочной выборке\n",
    "lin_grid.fit(train_tf_idf, target_train)\n",
    "lin_fit_score = lin_grid.best_score_\n",
    "print(f'Лучший показатель F1: {lin_fit_score:.3f}')\n",
    "\n",
    "# найдем предсказания на валидационной выборке\n",
    "#predicted_valid = model.predict(valid_tf_idf)\n",
    "\n",
    "    # напечатаем значение метрики F1\n",
    "#print(\"F1_score:\", f1_score(target_valid, predicted_valid))\n",
    "#print('')\n",
    "print()"
   ]
  },
  {
   "cell_type": "code",
   "execution_count": 34,
   "metadata": {},
   "outputs": [],
   "source": [
    "from sklearn.pipeline import Pipeline"
   ]
  },
  {
   "cell_type": "markdown",
   "metadata": {},
   "source": [
    "RandomForestClassifier"
   ]
  },
  {
   "cell_type": "code",
   "execution_count": 35,
   "metadata": {},
   "outputs": [],
   "source": [
    "classifier_rf = RandomForestClassifier()"
   ]
  },
  {
   "cell_type": "code",
   "execution_count": 36,
   "metadata": {},
   "outputs": [],
   "source": [
    "pipe_rf = Pipeline(\n",
    "    [\n",
    "        ('tf_idf', TfidfVectorizer(stop_words=stop_words)),\n",
    "        ('clf', classifier_rf)\n",
    "    ]\n",
    ")\n",
    "\n",
    "params_rf = {\n",
    "             'clf__random_state': [12345],\n",
    "             'clf__min_samples_leaf': range(2, 10, 2),\n",
    "             'clf__class_weight': ['balanced'],\n",
    "             'clf__n_estimators': range(900, 1000, 100),\n",
    "             'clf__max_depth': range(20, 30, 10)\n",
    "             }"
   ]
  },
  {
   "cell_type": "code",
   "execution_count": 37,
   "metadata": {},
   "outputs": [],
   "source": [
    "import time"
   ]
  },
  {
   "cell_type": "code",
   "execution_count": 38,
   "metadata": {},
   "outputs": [
    {
     "name": "stdout",
     "output_type": "stream",
     "text": [
      "Fitting 5 folds for each of 4 candidates, totalling 20 fits\n",
      "[CV 1/5] END clf__class_weight=balanced, clf__max_depth=20, clf__min_samples_leaf=2, clf__n_estimators=900, clf__random_state=12345; total time=  56.4s\n",
      "[CV 2/5] END clf__class_weight=balanced, clf__max_depth=20, clf__min_samples_leaf=2, clf__n_estimators=900, clf__random_state=12345; total time=  58.0s\n",
      "[CV 3/5] END clf__class_weight=balanced, clf__max_depth=20, clf__min_samples_leaf=2, clf__n_estimators=900, clf__random_state=12345; total time=  55.6s\n",
      "[CV 4/5] END clf__class_weight=balanced, clf__max_depth=20, clf__min_samples_leaf=2, clf__n_estimators=900, clf__random_state=12345; total time=  53.5s\n",
      "[CV 5/5] END clf__class_weight=balanced, clf__max_depth=20, clf__min_samples_leaf=2, clf__n_estimators=900, clf__random_state=12345; total time=  53.2s\n",
      "[CV 1/5] END clf__class_weight=balanced, clf__max_depth=20, clf__min_samples_leaf=4, clf__n_estimators=900, clf__random_state=12345; total time=  48.4s\n",
      "[CV 2/5] END clf__class_weight=balanced, clf__max_depth=20, clf__min_samples_leaf=4, clf__n_estimators=900, clf__random_state=12345; total time=  48.9s\n",
      "[CV 3/5] END clf__class_weight=balanced, clf__max_depth=20, clf__min_samples_leaf=4, clf__n_estimators=900, clf__random_state=12345; total time=  49.5s\n",
      "[CV 4/5] END clf__class_weight=balanced, clf__max_depth=20, clf__min_samples_leaf=4, clf__n_estimators=900, clf__random_state=12345; total time=  51.2s\n",
      "[CV 5/5] END clf__class_weight=balanced, clf__max_depth=20, clf__min_samples_leaf=4, clf__n_estimators=900, clf__random_state=12345; total time=  51.3s\n",
      "[CV 1/5] END clf__class_weight=balanced, clf__max_depth=20, clf__min_samples_leaf=6, clf__n_estimators=900, clf__random_state=12345; total time=  48.4s\n",
      "[CV 2/5] END clf__class_weight=balanced, clf__max_depth=20, clf__min_samples_leaf=6, clf__n_estimators=900, clf__random_state=12345; total time=  48.8s\n",
      "[CV 3/5] END clf__class_weight=balanced, clf__max_depth=20, clf__min_samples_leaf=6, clf__n_estimators=900, clf__random_state=12345; total time=  50.4s\n",
      "[CV 4/5] END clf__class_weight=balanced, clf__max_depth=20, clf__min_samples_leaf=6, clf__n_estimators=900, clf__random_state=12345; total time=  49.3s\n",
      "[CV 5/5] END clf__class_weight=balanced, clf__max_depth=20, clf__min_samples_leaf=6, clf__n_estimators=900, clf__random_state=12345; total time=  49.6s\n",
      "[CV 1/5] END clf__class_weight=balanced, clf__max_depth=20, clf__min_samples_leaf=8, clf__n_estimators=900, clf__random_state=12345; total time=  47.0s\n",
      "[CV 2/5] END clf__class_weight=balanced, clf__max_depth=20, clf__min_samples_leaf=8, clf__n_estimators=900, clf__random_state=12345; total time=  47.4s\n",
      "[CV 3/5] END clf__class_weight=balanced, clf__max_depth=20, clf__min_samples_leaf=8, clf__n_estimators=900, clf__random_state=12345; total time=  46.9s\n",
      "[CV 4/5] END clf__class_weight=balanced, clf__max_depth=20, clf__min_samples_leaf=8, clf__n_estimators=900, clf__random_state=12345; total time=  46.2s\n",
      "[CV 5/5] END clf__class_weight=balanced, clf__max_depth=20, clf__min_samples_leaf=8, clf__n_estimators=900, clf__random_state=12345; total time=  49.7s\n",
      "CPU times: user 17min 44s, sys: 1.91 s, total: 17min 46s\n",
      "Wall time: 17min 52s\n"
     ]
    }
   ],
   "source": [
    "%%time\n",
    "start = time.time()\n",
    "grid_rf = GridSearchCV(pipe_rf,\n",
    "                       scoring='f1',\n",
    "                       cv=5,\n",
    "                       param_grid=params_rf,\n",
    "                       n_jobs=-1,\n",
    "                       verbose=3,\n",
    "                       refit=True\n",
    ")\n",
    "grid_rf.fit(features_train, target_train)\n",
    "end = time.time()\n",
    "f_rf=round(end-start,2)"
   ]
  },
  {
   "cell_type": "code",
   "execution_count": 39,
   "metadata": {},
   "outputs": [
    {
     "data": {
      "text/plain": [
       "{'clf__class_weight': 'balanced',\n",
       " 'clf__max_depth': 20,\n",
       " 'clf__min_samples_leaf': 2,\n",
       " 'clf__n_estimators': 900,\n",
       " 'clf__random_state': 12345}"
      ]
     },
     "execution_count": 39,
     "metadata": {},
     "output_type": "execute_result"
    }
   ],
   "source": [
    "grid_rf.best_params_"
   ]
  },
  {
   "cell_type": "code",
   "execution_count": 40,
   "metadata": {},
   "outputs": [
    {
     "name": "stdout",
     "output_type": "stream",
     "text": [
      "Best F1 score: 0.408\n"
     ]
    }
   ],
   "source": [
    "best_f1_rf = grid_rf.best_score_\n",
    "print(f'Best F1 score: {best_f1_rf:.3f}')"
   ]
  },
  {
   "cell_type": "markdown",
   "metadata": {},
   "source": [
    "LGBMClassifier"
   ]
  },
  {
   "cell_type": "markdown",
   "metadata": {},
   "source": [
    "пробую модель LGBMClassifier с учетом информации полученной по ссылкам(очень полезные ссылки), с помощью функции torch.cuda.empty_cache() вызываю после блока кода, в котором интенсивно используется память графического процессора. что очистит кеш графического процессора и освобождает любую незанятую память. "
   ]
  },
  {
   "cell_type": "code",
   "execution_count": 41,
   "metadata": {},
   "outputs": [],
   "source": [
    "import torch\n",
    "\n",
    "# Enable GPU if available\n",
    "device = torch.device('cuda' if torch.cuda.is_available() else 'cpu')\n",
    "\n",
    "# Clear GPU cache\n",
    "torch.cuda.empty_cache()"
   ]
  },
  {
   "cell_type": "code",
   "execution_count": 42,
   "metadata": {},
   "outputs": [],
   "source": [
    "from lightgbm import LGBMClassifier"
   ]
  },
  {
   "cell_type": "code",
   "execution_count": 43,
   "metadata": {},
   "outputs": [],
   "source": [
    "classifier_lgb = LGBMClassifier()"
   ]
  },
  {
   "cell_type": "code",
   "execution_count": 44,
   "metadata": {},
   "outputs": [],
   "source": [
    "pipe_lgb = Pipeline(\n",
    "    [\n",
    "        ('tf_idf', TfidfVectorizer(stop_words=stop_words)),\n",
    "        ('clf', classifier_lgb)\n",
    "    ]\n",
    ")\n",
    "\n",
    "params_lgb = {\n",
    "             'clf__random_state':[12345],\n",
    "             'clf__boosting_type': ['gbdt'],\n",
    "             'clf__class_weight': ['balanced'],\n",
    "             'clf__objective': ['binary'],\n",
    "             }"
   ]
  },
  {
   "cell_type": "code",
   "execution_count": 45,
   "metadata": {},
   "outputs": [
    {
     "name": "stdout",
     "output_type": "stream",
     "text": [
      "Fitting 5 folds for each of 1 candidates, totalling 5 fits\n",
      "[CV] END clf__boosting_type=gbdt, clf__class_weight=balanced, clf__objective=binary, clf__random_state=12345; total time= 1.7min\n",
      "[CV] END clf__boosting_type=gbdt, clf__class_weight=balanced, clf__objective=binary, clf__random_state=12345; total time= 1.8min\n",
      "[CV] END clf__boosting_type=gbdt, clf__class_weight=balanced, clf__objective=binary, clf__random_state=12345; total time= 2.0min\n",
      "[CV] END clf__boosting_type=gbdt, clf__class_weight=balanced, clf__objective=binary, clf__random_state=12345; total time= 1.7min\n",
      "[CV] END clf__boosting_type=gbdt, clf__class_weight=balanced, clf__objective=binary, clf__random_state=12345; total time= 1.6min\n",
      "CPU times: user 10min 4s, sys: 1.5 s, total: 10min 6s\n",
      "Wall time: 10min 33s\n"
     ]
    }
   ],
   "source": [
    "%%time\n",
    "start = time.time()\n",
    "grid_lgb = GridSearchCV(pipe_lgb,\n",
    "                       scoring='f1',\n",
    "                       cv=5,\n",
    "                       param_grid=params_lgb,\n",
    "                       n_jobs=-1,\n",
    "                       verbose=2,\n",
    "                       refit=True \n",
    ")\n",
    "grid_lgb.fit(features_train, target_train)\n",
    "end = time.time()\n",
    "f_lgb=round(end-start,2)"
   ]
  },
  {
   "cell_type": "code",
   "execution_count": 46,
   "metadata": {},
   "outputs": [
    {
     "data": {
      "text/plain": [
       "{'clf__boosting_type': 'gbdt',\n",
       " 'clf__class_weight': 'balanced',\n",
       " 'clf__objective': 'binary',\n",
       " 'clf__random_state': 12345}"
      ]
     },
     "execution_count": 46,
     "metadata": {},
     "output_type": "execute_result"
    }
   ],
   "source": [
    "grid_lgb.best_params_"
   ]
  },
  {
   "cell_type": "code",
   "execution_count": 47,
   "metadata": {},
   "outputs": [
    {
     "name": "stdout",
     "output_type": "stream",
     "text": [
      "Best F1 score: 0.732\n"
     ]
    }
   ],
   "source": [
    "best_f1_lgb = grid_lgb.best_score_\n",
    "print(f'Best F1 score: {best_f1_lgb:.3f}')"
   ]
  },
  {
   "cell_type": "markdown",
   "metadata": {},
   "source": [
    "DecisionTreeClassifier"
   ]
  },
  {
   "cell_type": "code",
   "execution_count": 48,
   "metadata": {},
   "outputs": [
    {
     "name": "stdout",
     "output_type": "stream",
     "text": [
      "Лучший показатель F1: 0.931\n"
     ]
    }
   ],
   "source": [
    "model = DecisionTreeClassifier(random_state=12345)\n",
    "parameter = {\n",
    "    'max_depth': range(1, 5)}\n",
    "model_random = GridSearchCV(model, parameter, n_jobs=-1)\n",
    "model_random.fit(train_tf_idf, target_train)\n",
    "model_random_fit_score = model_random.best_score_\n",
    "print(f'Лучший показатель F1: {model_random_fit_score:.3f}')"
   ]
  },
  {
   "cell_type": "markdown",
   "metadata": {},
   "source": [
    "у модели достаточно высокий показатель который является мерой баланса между точностью и полнотой модели, где 1 соответствует идеальной модели. но не смотря на это модель обучается очень долго даже при глубине 5, по идее глубину надо брать в десятки раз больше. (параметры задавала и другие, но результата не дождалась)."
   ]
  },
  {
   "cell_type": "markdown",
   "metadata": {},
   "source": [
    "## Выводы"
   ]
  },
  {
   "cell_type": "code",
   "execution_count": 53,
   "metadata": {},
   "outputs": [
    {
     "name": "stdout",
     "output_type": "stream",
     "text": [
      "F1-score: 0.761\n",
      "\n"
     ]
    }
   ],
   "source": [
    "predictions = lin_grid.predict(test_tf_idf)\n",
    "lin_f1 = f1_score(target_test, predictions)\n",
    "print(\n",
    "    f'F1-score: {lin_f1:.3f}\\n')"
   ]
  },
  {
   "cell_type": "markdown",
   "metadata": {},
   "source": [
    "Удалось достичь нужной выличены f1 меры на тестовой выборке.\n",
    "Общий вывод\n",
    "Лучший результат показала модель Логистическя регрессия.\n",
    "Достигнут целевой порог — F1-score= 0.761 выше 0.75.\n",
    "Плюс у этой модели лучшай скорость обучения.\n",
    "Для текущей задачи — отправки токсичных комментариев на модерацию — это наиболее существенный показатель.\n",
    "Так меньше всего токсичных комментариев по ошибке."
   ]
  },
  {
   "cell_type": "markdown",
   "metadata": {},
   "source": [
    "попробывала использовать подход Берт.обработала данные выполнила разбивку на токены и установила ограничение на длину последовательности токенов (для около 400 слов). При произведение вычисления эмбеддингов для модели BERT на фрагменте кода который только инициализирует и перемещает модель BERT на устройство, но не выполняет никаких конкретных операций или задач с использованием модели все работает, далее ядро умирает.   прочитала по представленным ссылкам, что для работы с подобными моделями также нужна хорошая оперативка, у меня комп не очень мощный. дальше не смогла пойти по этому пути. поняла что после вычисления эмбеддингом, выделяю также признаки features_bert = np.concatenate(embeddings)\n",
    "target_bert = data_for_bert['toxic'][0:len(features_bert)], делю на трейн и тест, и обучаю теже самые модели, скорость обучения по идее станет выше. а вот показатель F1 не поняла, по идее как он должен изменится? "
   ]
  },
  {
   "cell_type": "markdown",
   "metadata": {},
   "source": [
    "#### Общий вывод: \n",
    "Данные загружены и подготовлены, подготовка данных не заняла много времени.\n",
    "Обучены разные модели.\n",
    "Для выполнения проекта применять BERT необязательно, я не применила.Логистическая регрессия в кооперативе с TF-IDF векторизатором показала себя с  наилучшим результатом, поскольку подготовка и кодирование занимает около 25 минут, обучение регрессии (около 4 минут), предсказание - мгновенное. RandomForestClassifier() около 15 минут.\n",
    "Лемматизация текста занимает около 15 минут. На этот процесс не влияет применение графического процессора.\n",
    "Процесс векторизации подготовленного текста с помощью TfidfVectorizer - мгновенный. Слова, не имеющие смысловой нагрузки - удалены.\n",
    "Логистическая регрессия имеет значение целевой метрики F1 = 0.759\n",
    "  LGBM F1 = 0.732. \n",
    "\n",
    "Итоговое значение метрикики F1 достигнуто.\n",
    "Модель CatBoost может выдать предсказания более высшего качества, но для этого требуется более крапотливая настройка её гиперпараметров и дополнительное время работы. Процесс сильно зависим от технических мощностей компьютера/сервера."
   ]
  }
 ],
 "metadata": {
  "ExecuteTimeLog": [
   {
    "duration": 1383,
    "start_time": "2023-07-18T07:39:45.081Z"
   },
   {
    "duration": 406,
    "start_time": "2023-07-18T07:41:15.350Z"
   },
   {
    "duration": 229,
    "start_time": "2023-07-18T07:41:16.098Z"
   },
   {
    "duration": 72,
    "start_time": "2023-07-18T07:41:48.968Z"
   },
   {
    "duration": 118,
    "start_time": "2023-07-18T07:42:28.156Z"
   },
   {
    "duration": 798,
    "start_time": "2023-07-18T07:42:57.326Z"
   },
   {
    "duration": 12,
    "start_time": "2023-07-18T07:43:40.139Z"
   },
   {
    "duration": 9,
    "start_time": "2023-07-18T07:43:47.150Z"
   },
   {
    "duration": 7,
    "start_time": "2023-07-18T07:44:32.126Z"
   },
   {
    "duration": 2,
    "start_time": "2023-07-18T07:44:32.913Z"
   },
   {
    "duration": 233,
    "start_time": "2023-07-18T07:44:49.843Z"
   },
   {
    "duration": 59,
    "start_time": "2023-07-18T07:45:25.099Z"
   },
   {
    "duration": 10,
    "start_time": "2023-07-18T07:45:46.062Z"
   },
   {
    "duration": 17,
    "start_time": "2023-07-18T07:46:29.526Z"
   },
   {
    "duration": 2,
    "start_time": "2023-07-18T09:07:32.944Z"
   },
   {
    "duration": 3,
    "start_time": "2023-07-18T09:07:33.744Z"
   },
   {
    "duration": 3,
    "start_time": "2023-07-18T09:07:51.249Z"
   },
   {
    "duration": 1119292,
    "start_time": "2023-07-18T09:08:08.064Z"
   },
   {
    "duration": 9,
    "start_time": "2023-07-18T09:30:52.970Z"
   },
   {
    "duration": 28,
    "start_time": "2023-07-18T09:30:55.809Z"
   },
   {
    "duration": 7,
    "start_time": "2023-07-18T09:30:56.555Z"
   },
   {
    "duration": 524,
    "start_time": "2023-07-18T09:30:57.543Z"
   },
   {
    "duration": 3,
    "start_time": "2023-07-18T09:30:59.410Z"
   },
   {
    "duration": 58,
    "start_time": "2023-07-18T09:31:00.275Z"
   },
   {
    "duration": 16,
    "start_time": "2023-07-18T09:31:01.051Z"
   },
   {
    "duration": 9,
    "start_time": "2023-07-18T09:31:01.841Z"
   },
   {
    "duration": 139,
    "start_time": "2023-07-18T09:31:23.298Z"
   },
   {
    "duration": 4,
    "start_time": "2023-07-18T09:32:38.350Z"
   },
   {
    "duration": 3,
    "start_time": "2023-07-18T09:33:09.077Z"
   },
   {
    "duration": 6914,
    "start_time": "2023-07-18T09:33:09.669Z"
   },
   {
    "duration": 5,
    "start_time": "2023-07-18T09:33:16.585Z"
   },
   {
    "duration": 53650,
    "start_time": "2023-07-18T09:33:16.592Z"
   },
   {
    "duration": 137911,
    "start_time": "2023-07-18T09:34:44.937Z"
   },
   {
    "duration": 54,
    "start_time": "2023-07-18T09:37:02.919Z"
   },
   {
    "duration": 0,
    "start_time": "2023-07-18T09:37:02.974Z"
   },
   {
    "duration": 0,
    "start_time": "2023-07-18T09:37:02.976Z"
   },
   {
    "duration": 51,
    "start_time": "2023-07-18T09:42:25.786Z"
   },
   {
    "duration": 1552993,
    "start_time": "2023-07-18T09:42:26.645Z"
   },
   {
    "duration": 0,
    "start_time": "2023-07-18T10:08:19.640Z"
   },
   {
    "duration": 12,
    "start_time": "2023-07-18T10:08:24.547Z"
   },
   {
    "duration": 20,
    "start_time": "2023-07-18T10:09:15.794Z"
   },
   {
    "duration": 3,
    "start_time": "2023-07-18T10:09:16.792Z"
   },
   {
    "duration": 1020913,
    "start_time": "2023-07-18T10:09:22.363Z"
   },
   {
    "duration": 0,
    "start_time": "2023-07-18T10:26:23.277Z"
   },
   {
    "duration": 0,
    "start_time": "2023-07-18T10:26:23.290Z"
   },
   {
    "duration": 0,
    "start_time": "2023-07-18T10:26:23.291Z"
   },
   {
    "duration": 0,
    "start_time": "2023-07-18T10:26:23.297Z"
   },
   {
    "duration": 4,
    "start_time": "2023-07-18T10:37:15.767Z"
   },
   {
    "duration": 108654,
    "start_time": "2023-07-18T10:37:20.617Z"
   },
   {
    "duration": 79945,
    "start_time": "2023-07-18T10:39:12.480Z"
   },
   {
    "duration": 49,
    "start_time": "2023-07-18T10:41:55.307Z"
   },
   {
    "duration": 32,
    "start_time": "2023-07-18T10:43:30.439Z"
   },
   {
    "duration": 51,
    "start_time": "2023-07-18T10:44:14.289Z"
   },
   {
    "duration": 31,
    "start_time": "2023-07-18T10:45:15.982Z"
   },
   {
    "duration": 32,
    "start_time": "2023-07-18T10:45:24.775Z"
   },
   {
    "duration": 32,
    "start_time": "2023-07-18T10:45:50.558Z"
   },
   {
    "duration": 3,
    "start_time": "2023-07-18T10:46:38.981Z"
   },
   {
    "duration": 3,
    "start_time": "2023-07-18T10:46:39.846Z"
   },
   {
    "duration": 8452898,
    "start_time": "2023-07-18T10:47:27.056Z"
   },
   {
    "duration": 0,
    "start_time": "2023-07-18T13:08:19.956Z"
   },
   {
    "duration": 0,
    "start_time": "2023-07-18T13:08:19.957Z"
   },
   {
    "duration": 3,
    "start_time": "2023-07-18T13:09:18.548Z"
   },
   {
    "duration": 791602,
    "start_time": "2023-07-18T13:09:25.966Z"
   },
   {
    "duration": 46,
    "start_time": "2023-07-18T13:26:04.530Z"
   },
   {
    "duration": 656,
    "start_time": "2023-07-18T13:26:42.329Z"
   },
   {
    "duration": 40,
    "start_time": "2023-07-18T13:26:43.740Z"
   },
   {
    "duration": 1331,
    "start_time": "2023-07-18T13:27:39.784Z"
   },
   {
    "duration": 245,
    "start_time": "2023-07-18T13:27:41.117Z"
   },
   {
    "duration": 307,
    "start_time": "2023-07-18T13:27:41.363Z"
   },
   {
    "duration": 416,
    "start_time": "2023-07-18T13:27:41.673Z"
   },
   {
    "duration": 130,
    "start_time": "2023-07-18T13:27:42.092Z"
   },
   {
    "duration": 2334,
    "start_time": "2023-07-18T13:27:42.224Z"
   },
   {
    "duration": 10,
    "start_time": "2023-07-18T13:27:44.559Z"
   },
   {
    "duration": 30,
    "start_time": "2023-07-18T13:27:44.570Z"
   },
   {
    "duration": 17,
    "start_time": "2023-07-18T13:27:44.602Z"
   },
   {
    "duration": 8,
    "start_time": "2023-07-18T13:27:44.621Z"
   },
   {
    "duration": 266,
    "start_time": "2023-07-18T13:27:44.631Z"
   },
   {
    "duration": 48,
    "start_time": "2023-07-18T13:27:44.899Z"
   },
   {
    "duration": 8,
    "start_time": "2023-07-18T13:27:44.949Z"
   },
   {
    "duration": 90,
    "start_time": "2023-07-18T13:27:44.958Z"
   },
   {
    "duration": 38,
    "start_time": "2023-07-18T13:27:45.049Z"
   },
   {
    "duration": 40,
    "start_time": "2023-07-18T13:27:45.089Z"
   },
   {
    "duration": 29,
    "start_time": "2023-07-18T13:27:45.130Z"
   },
   {
    "duration": 975413,
    "start_time": "2023-07-18T13:27:45.162Z"
   },
   {
    "duration": 7,
    "start_time": "2023-07-18T13:44:00.577Z"
   },
   {
    "duration": 57,
    "start_time": "2023-07-18T13:44:00.586Z"
   },
   {
    "duration": 22,
    "start_time": "2023-07-18T13:44:00.645Z"
   },
   {
    "duration": 507,
    "start_time": "2023-07-18T13:44:00.669Z"
   },
   {
    "duration": 4,
    "start_time": "2023-07-18T13:44:01.178Z"
   },
   {
    "duration": 122,
    "start_time": "2023-07-18T13:44:01.183Z"
   },
   {
    "duration": 14,
    "start_time": "2023-07-18T13:44:01.308Z"
   },
   {
    "duration": 43,
    "start_time": "2023-07-18T13:44:01.324Z"
   },
   {
    "duration": 52,
    "start_time": "2023-07-18T13:44:01.369Z"
   },
   {
    "duration": 6459,
    "start_time": "2023-07-18T13:44:01.426Z"
   },
   {
    "duration": 4,
    "start_time": "2023-07-18T13:44:07.887Z"
   },
   {
    "duration": 52,
    "start_time": "2023-07-18T13:44:07.893Z"
   },
   {
    "duration": 71977,
    "start_time": "2023-07-18T13:44:07.946Z"
   },
   {
    "duration": 166,
    "start_time": "2023-07-18T13:45:19.925Z"
   },
   {
    "duration": 0,
    "start_time": "2023-07-18T13:45:20.092Z"
   },
   {
    "duration": 0,
    "start_time": "2023-07-18T13:45:20.093Z"
   },
   {
    "duration": 0,
    "start_time": "2023-07-18T13:45:20.094Z"
   },
   {
    "duration": 0,
    "start_time": "2023-07-18T13:45:20.095Z"
   },
   {
    "duration": 0,
    "start_time": "2023-07-18T13:45:20.096Z"
   },
   {
    "duration": 0,
    "start_time": "2023-07-18T13:45:20.097Z"
   },
   {
    "duration": 0,
    "start_time": "2023-07-18T13:45:20.098Z"
   },
   {
    "duration": 0,
    "start_time": "2023-07-18T13:45:20.099Z"
   },
   {
    "duration": 0,
    "start_time": "2023-07-18T13:45:20.100Z"
   },
   {
    "duration": 0,
    "start_time": "2023-07-18T13:45:20.101Z"
   },
   {
    "duration": 67,
    "start_time": "2023-07-18T16:31:48.194Z"
   },
   {
    "duration": 423125,
    "start_time": "2023-07-18T16:31:49.635Z"
   },
   {
    "duration": 427258,
    "start_time": "2023-07-18T17:05:56.395Z"
   },
   {
    "duration": 9,
    "start_time": "2023-07-18T17:14:16.426Z"
   },
   {
    "duration": 158918,
    "start_time": "2023-07-18T17:14:30.443Z"
   },
   {
    "duration": 15,
    "start_time": "2023-07-18T17:23:01.695Z"
   },
   {
    "duration": 12,
    "start_time": "2023-07-18T17:24:02.767Z"
   },
   {
    "duration": 13,
    "start_time": "2023-07-18T17:24:55.485Z"
   },
   {
    "duration": 26,
    "start_time": "2023-07-18T17:25:06.664Z"
   },
   {
    "duration": 2415275,
    "start_time": "2023-07-18T17:25:08.961Z"
   },
   {
    "duration": 0,
    "start_time": "2023-07-18T18:05:24.238Z"
   },
   {
    "duration": 157560,
    "start_time": "2023-07-18T18:05:45.650Z"
   },
   {
    "duration": 2182,
    "start_time": "2023-07-20T12:12:35.416Z"
   },
   {
    "duration": 425,
    "start_time": "2023-07-20T12:12:38.289Z"
   },
   {
    "duration": 460,
    "start_time": "2023-07-20T12:12:40.932Z"
   },
   {
    "duration": 1441,
    "start_time": "2023-07-20T12:12:42.288Z"
   },
   {
    "duration": 51,
    "start_time": "2023-07-20T12:12:43.731Z"
   },
   {
    "duration": 2486,
    "start_time": "2023-07-20T12:12:46.898Z"
   },
   {
    "duration": 8,
    "start_time": "2023-07-20T12:12:50.064Z"
   },
   {
    "duration": 23,
    "start_time": "2023-07-20T12:13:21.171Z"
   },
   {
    "duration": 6,
    "start_time": "2023-07-20T12:13:32.761Z"
   },
   {
    "duration": 2,
    "start_time": "2023-07-20T12:13:36.905Z"
   },
   {
    "duration": 220,
    "start_time": "2023-07-20T12:13:38.289Z"
   },
   {
    "duration": 41,
    "start_time": "2023-07-20T12:13:39.249Z"
   },
   {
    "duration": 7,
    "start_time": "2023-07-20T12:13:42.135Z"
   },
   {
    "duration": 14,
    "start_time": "2023-07-20T12:13:47.560Z"
   },
   {
    "duration": 13,
    "start_time": "2023-07-20T12:13:56.265Z"
   },
   {
    "duration": 2,
    "start_time": "2023-07-20T12:13:57.844Z"
   },
   {
    "duration": 4,
    "start_time": "2023-07-20T12:13:59.218Z"
   },
   {
    "duration": 3,
    "start_time": "2023-07-20T12:14:06.818Z"
   },
   {
    "duration": 1075727,
    "start_time": "2023-07-20T12:14:15.632Z"
   },
   {
    "duration": 8,
    "start_time": "2023-07-20T12:36:21.205Z"
   },
   {
    "duration": 27,
    "start_time": "2023-07-20T12:36:27.904Z"
   },
   {
    "duration": 7,
    "start_time": "2023-07-20T12:36:28.570Z"
   },
   {
    "duration": 516,
    "start_time": "2023-07-20T12:36:29.339Z"
   },
   {
    "duration": 4,
    "start_time": "2023-07-20T12:36:30.152Z"
   },
   {
    "duration": 55,
    "start_time": "2023-07-20T12:36:30.803Z"
   },
   {
    "duration": 16,
    "start_time": "2023-07-20T12:36:31.499Z"
   },
   {
    "duration": 10,
    "start_time": "2023-07-20T12:36:32.163Z"
   },
   {
    "duration": 4,
    "start_time": "2023-07-20T12:36:35.210Z"
   },
   {
    "duration": 6251,
    "start_time": "2023-07-20T12:36:37.771Z"
   },
   {
    "duration": 3,
    "start_time": "2023-07-20T12:36:44.024Z"
   },
   {
    "duration": 3,
    "start_time": "2023-07-20T12:36:48.683Z"
   },
   {
    "duration": 83644,
    "start_time": "2023-07-20T12:36:50.090Z"
   },
   {
    "duration": 70,
    "start_time": "2023-07-20T14:01:30.366Z"
   },
   {
    "duration": 2,
    "start_time": "2023-07-20T20:06:06.159Z"
   },
   {
    "duration": 5,
    "start_time": "2023-07-20T20:06:25.373Z"
   },
   {
    "duration": 2,
    "start_time": "2023-07-20T20:06:52.478Z"
   },
   {
    "duration": 924786,
    "start_time": "2023-07-20T20:06:53.156Z"
   },
   {
    "duration": 2,
    "start_time": "2023-07-20T20:22:17.944Z"
   },
   {
    "duration": 11,
    "start_time": "2023-07-20T20:22:17.948Z"
   },
   {
    "duration": 3,
    "start_time": "2023-07-20T20:22:57.050Z"
   },
   {
    "duration": 2,
    "start_time": "2023-07-20T20:22:58.296Z"
   },
   {
    "duration": 3,
    "start_time": "2023-07-20T20:22:59.025Z"
   },
   {
    "duration": 3,
    "start_time": "2023-07-20T20:23:00.265Z"
   },
   {
    "duration": 260389,
    "start_time": "2023-07-20T20:23:01.890Z"
   },
   {
    "duration": 27,
    "start_time": "2023-07-20T20:27:22.281Z"
   },
   {
    "duration": 0,
    "start_time": "2023-07-20T20:27:22.309Z"
   },
   {
    "duration": 1260,
    "start_time": "2023-07-20T20:27:33.605Z"
   },
   {
    "duration": 234,
    "start_time": "2023-07-20T20:27:34.867Z"
   },
   {
    "duration": 251,
    "start_time": "2023-07-20T20:27:35.104Z"
   },
   {
    "duration": 81,
    "start_time": "2023-07-20T20:27:35.358Z"
   },
   {
    "duration": 133,
    "start_time": "2023-07-20T20:27:35.441Z"
   },
   {
    "duration": 825,
    "start_time": "2023-07-20T20:27:35.576Z"
   },
   {
    "duration": 8,
    "start_time": "2023-07-20T20:27:36.403Z"
   },
   {
    "duration": 26,
    "start_time": "2023-07-20T20:27:36.419Z"
   },
   {
    "duration": 31,
    "start_time": "2023-07-20T20:27:36.447Z"
   },
   {
    "duration": 95,
    "start_time": "2023-07-20T20:27:36.482Z"
   },
   {
    "duration": 2,
    "start_time": "2023-07-20T20:27:36.579Z"
   },
   {
    "duration": 252,
    "start_time": "2023-07-20T20:27:36.582Z"
   },
   {
    "duration": 47,
    "start_time": "2023-07-20T20:27:36.836Z"
   },
   {
    "duration": 26,
    "start_time": "2023-07-20T20:27:36.884Z"
   },
   {
    "duration": 33,
    "start_time": "2023-07-20T20:27:36.911Z"
   },
   {
    "duration": 16,
    "start_time": "2023-07-20T20:27:36.946Z"
   },
   {
    "duration": 10,
    "start_time": "2023-07-20T20:27:36.964Z"
   },
   {
    "duration": 12,
    "start_time": "2023-07-20T20:27:36.976Z"
   },
   {
    "duration": 9,
    "start_time": "2023-07-20T20:27:36.990Z"
   },
   {
    "duration": 979279,
    "start_time": "2023-07-20T20:27:37.000Z"
   },
   {
    "duration": 6,
    "start_time": "2023-07-20T20:43:56.280Z"
   },
   {
    "duration": 20,
    "start_time": "2023-07-20T20:43:56.288Z"
   },
   {
    "duration": 11,
    "start_time": "2023-07-20T20:43:56.309Z"
   },
   {
    "duration": 431,
    "start_time": "2023-07-20T20:43:56.321Z"
   },
   {
    "duration": 3,
    "start_time": "2023-07-20T20:43:56.753Z"
   },
   {
    "duration": 53,
    "start_time": "2023-07-20T20:43:56.757Z"
   },
   {
    "duration": 15,
    "start_time": "2023-07-20T20:43:56.811Z"
   },
   {
    "duration": 9,
    "start_time": "2023-07-20T20:43:56.829Z"
   },
   {
    "duration": 16,
    "start_time": "2023-07-20T20:43:56.839Z"
   },
   {
    "duration": 5003,
    "start_time": "2023-07-20T20:43:56.856Z"
   },
   {
    "duration": 3,
    "start_time": "2023-07-20T20:44:01.861Z"
   },
   {
    "duration": 35,
    "start_time": "2023-07-20T20:44:01.866Z"
   },
   {
    "duration": 85535,
    "start_time": "2023-07-20T20:44:01.903Z"
   },
   {
    "duration": 4,
    "start_time": "2023-07-20T20:45:27.439Z"
   },
   {
    "duration": 12,
    "start_time": "2023-07-20T20:45:27.444Z"
   },
   {
    "duration": 8,
    "start_time": "2023-07-20T20:45:27.457Z"
   },
   {
    "duration": 7,
    "start_time": "2023-07-20T20:45:27.466Z"
   },
   {
    "duration": 912150,
    "start_time": "2023-07-20T20:45:27.474Z"
   },
   {
    "duration": 4,
    "start_time": "2023-07-20T21:00:39.625Z"
   },
   {
    "duration": 21,
    "start_time": "2023-07-20T21:00:39.630Z"
   },
   {
    "duration": 559,
    "start_time": "2023-07-20T21:00:39.653Z"
   },
   {
    "duration": 20,
    "start_time": "2023-07-20T21:00:40.213Z"
   },
   {
    "duration": 131,
    "start_time": "2023-07-20T21:00:40.234Z"
   },
   {
    "duration": 38,
    "start_time": "2023-07-20T21:00:40.366Z"
   },
   {
    "duration": 468069,
    "start_time": "2023-07-20T21:00:40.405Z"
   },
   {
    "duration": 46,
    "start_time": "2023-07-20T21:08:28.476Z"
   },
   {
    "duration": 22,
    "start_time": "2023-07-20T21:08:28.524Z"
   },
   {
    "duration": 159447,
    "start_time": "2023-07-20T21:08:28.547Z"
   },
   {
    "duration": 25,
    "start_time": "2023-07-20T21:11:07.995Z"
   },
   {
    "duration": 256876,
    "start_time": "2023-07-20T21:11:08.022Z"
   },
   {
    "duration": 0,
    "start_time": "2023-07-20T21:15:24.900Z"
   },
   {
    "duration": 0,
    "start_time": "2023-07-20T21:15:24.901Z"
   },
   {
    "duration": 0,
    "start_time": "2023-07-20T21:15:24.902Z"
   },
   {
    "duration": 2,
    "start_time": "2023-07-20T21:15:39.533Z"
   },
   {
    "duration": 2,
    "start_time": "2023-07-20T21:15:46.099Z"
   },
   {
    "duration": 9,
    "start_time": "2023-07-20T21:15:47.975Z"
   },
   {
    "duration": 1332,
    "start_time": "2023-09-27T06:50:11.322Z"
   },
   {
    "duration": 399,
    "start_time": "2023-09-27T06:50:12.656Z"
   },
   {
    "duration": 327,
    "start_time": "2023-09-27T06:50:13.057Z"
   },
   {
    "duration": 975,
    "start_time": "2023-09-27T06:50:13.386Z"
   },
   {
    "duration": 66,
    "start_time": "2023-09-27T06:50:14.363Z"
   },
   {
    "duration": 2390,
    "start_time": "2023-09-27T06:50:14.431Z"
   },
   {
    "duration": 9,
    "start_time": "2023-09-27T06:50:16.823Z"
   },
   {
    "duration": 46,
    "start_time": "2023-09-27T06:50:16.834Z"
   },
   {
    "duration": 6,
    "start_time": "2023-09-27T06:50:16.882Z"
   },
   {
    "duration": 116,
    "start_time": "2023-09-27T06:50:16.890Z"
   },
   {
    "duration": 2,
    "start_time": "2023-09-27T06:50:17.008Z"
   },
   {
    "duration": 292,
    "start_time": "2023-09-27T06:50:17.013Z"
   },
   {
    "duration": 64,
    "start_time": "2023-09-27T06:50:17.307Z"
   },
   {
    "duration": 20,
    "start_time": "2023-09-27T06:50:17.374Z"
   },
   {
    "duration": 138,
    "start_time": "2023-09-27T06:50:17.395Z"
   },
   {
    "duration": 71,
    "start_time": "2023-09-27T06:50:17.534Z"
   },
   {
    "duration": 100,
    "start_time": "2023-09-27T06:50:17.607Z"
   },
   {
    "duration": 9,
    "start_time": "2023-09-27T06:50:17.709Z"
   },
   {
    "duration": 25,
    "start_time": "2023-09-27T06:50:17.719Z"
   },
   {
    "duration": 1116768,
    "start_time": "2023-09-27T06:50:17.746Z"
   },
   {
    "duration": 10,
    "start_time": "2023-09-27T07:08:54.516Z"
   },
   {
    "duration": 41,
    "start_time": "2023-09-27T07:08:54.527Z"
   },
   {
    "duration": 7,
    "start_time": "2023-09-27T07:08:54.570Z"
   },
   {
    "duration": 578,
    "start_time": "2023-09-27T07:08:54.579Z"
   },
   {
    "duration": 3,
    "start_time": "2023-09-27T07:08:55.158Z"
   },
   {
    "duration": 90,
    "start_time": "2023-09-27T07:08:55.163Z"
   },
   {
    "duration": 15,
    "start_time": "2023-09-27T07:08:55.255Z"
   },
   {
    "duration": 43,
    "start_time": "2023-09-27T07:08:55.272Z"
   },
   {
    "duration": 23,
    "start_time": "2023-09-27T07:08:55.317Z"
   },
   {
    "duration": 6054,
    "start_time": "2023-09-27T07:08:55.342Z"
   },
   {
    "duration": 3,
    "start_time": "2023-09-27T07:09:01.398Z"
   },
   {
    "duration": 60,
    "start_time": "2023-09-27T07:09:01.403Z"
   },
   {
    "duration": 94198,
    "start_time": "2023-09-27T07:09:01.465Z"
   },
   {
    "duration": 4,
    "start_time": "2023-09-27T07:10:35.665Z"
   },
   {
    "duration": 55,
    "start_time": "2023-09-27T07:10:35.670Z"
   },
   {
    "duration": 37,
    "start_time": "2023-09-27T07:10:35.727Z"
   },
   {
    "duration": 46,
    "start_time": "2023-09-27T07:10:35.766Z"
   },
   {
    "duration": 1072850,
    "start_time": "2023-09-27T07:10:35.814Z"
   },
   {
    "duration": 4,
    "start_time": "2023-09-27T07:28:28.666Z"
   },
   {
    "duration": 22,
    "start_time": "2023-09-27T07:28:28.671Z"
   },
   {
    "duration": 477,
    "start_time": "2023-09-27T07:28:28.696Z"
   },
   {
    "duration": 22,
    "start_time": "2023-09-27T07:28:29.175Z"
   },
   {
    "duration": 11,
    "start_time": "2023-09-27T07:28:29.198Z"
   },
   {
    "duration": 36,
    "start_time": "2023-09-27T07:28:29.210Z"
   },
   {
    "duration": 633649,
    "start_time": "2023-09-27T07:28:29.247Z"
   },
   {
    "duration": 6,
    "start_time": "2023-09-27T07:39:02.899Z"
   },
   {
    "duration": 60,
    "start_time": "2023-09-27T07:39:02.907Z"
   },
   {
    "duration": 204968,
    "start_time": "2023-09-27T07:39:02.969Z"
   },
   {
    "duration": 4,
    "start_time": "2023-09-27T07:42:27.939Z"
   },
   {
    "duration": 30,
    "start_time": "2023-09-27T07:42:27.945Z"
   },
   {
    "duration": 26,
    "start_time": "2023-09-27T07:42:27.976Z"
   },
   {
    "duration": 30,
    "start_time": "2023-09-27T07:42:28.004Z"
   },
   {
    "duration": 34,
    "start_time": "2023-09-27T07:42:28.036Z"
   }
  ],
  "kernelspec": {
   "display_name": "Python 3 (ipykernel)",
   "language": "python",
   "name": "python3"
  },
  "language_info": {
   "codemirror_mode": {
    "name": "ipython",
    "version": 3
   },
   "file_extension": ".py",
   "mimetype": "text/x-python",
   "name": "python",
   "nbconvert_exporter": "python",
   "pygments_lexer": "ipython3",
   "version": "3.9.5"
  },
  "toc": {
   "base_numbering": 1,
   "nav_menu": {},
   "number_sections": true,
   "sideBar": true,
   "skip_h1_title": true,
   "title_cell": "Содержание",
   "title_sidebar": "Contents",
   "toc_cell": true,
   "toc_position": {
    "height": "calc(100% - 180px)",
    "left": "10px",
    "top": "150px",
    "width": "302.391px"
   },
   "toc_section_display": true,
   "toc_window_display": false
  }
 },
 "nbformat": 4,
 "nbformat_minor": 2
}
